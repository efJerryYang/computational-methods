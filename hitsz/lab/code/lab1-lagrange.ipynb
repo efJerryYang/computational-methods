{
 "cells": [
  {
   "cell_type": "markdown",
   "metadata": {},
   "source": [
    "## 实验题目1 拉格朗日(Lagrange)插值"
   ]
  },
  {
   "cell_type": "markdown",
   "metadata": {},
   "source": [
    "### 代码实现"
   ]
  },
  {
   "cell_type": "code",
   "execution_count": 115,
   "metadata": {},
   "outputs": [],
   "source": [
    "using Printf\n",
    "using LinearAlgebra\n",
    "using Plots"
   ]
  },
  {
   "cell_type": "code",
   "execution_count": 116,
   "metadata": {},
   "outputs": [
    {
     "data": {
      "text/plain": [
       "lagrange (generic function with 2 methods)"
      ]
     },
     "execution_count": 116,
     "metadata": {},
     "output_type": "execute_result"
    }
   ],
   "source": [
    "# Lagrange Interpolation method\n",
    "function lagrange(xs, fxs, x)\n",
    "    # plot(xs,ys)\n",
    "    num = size(xs, 1)\n",
    "    y, i = 0.0, 1\n",
    "    while i <= num\n",
    "        li = 1.0\n",
    "        # for j in filter(x -> x != i, 1:num)  # much slower than continue\n",
    "        for j in 1:num\n",
    "            if j == i\n",
    "                continue\n",
    "            end\n",
    "            li *= (x - xs[j]) / (xs[i] - xs[j])\n",
    "        end\n",
    "        y += li * fxs[i]\n",
    "        i += 1\n",
    "    end\n",
    "    x, y\n",
    "end"
   ]
  },
  {
   "cell_type": "code",
   "execution_count": 118,
   "metadata": {},
   "outputs": [
    {
     "name": "stdout",
     "output_type": "stream",
     "text": [
      "  0.000592 seconds (1.34 k allocations: 73.648 KiB)\n"
     ]
    },
    {
     "data": {
      "text/plain": [
       "(7, 1.0)"
      ]
     },
     "execution_count": 118,
     "metadata": {},
     "output_type": "execute_result"
    }
   ],
   "source": [
    "xs = [0, 2, 3, 5, 6]\n",
    "ys = [1, 3, 2, 5, 6]\n",
    "# xs = [x for x in 1:1000]\n",
    "# ys = [y^2 for y in 1:1000]\n",
    "# 多项式插值法的弊端，当n过大会导致失真\n",
    "@time lagrange(xs, ys, 7)\n",
    "# Todo: 添加动态作图"
   ]
  },
  {
   "cell_type": "markdown",
   "metadata": {},
   "source": [
    "### 实验题目"
   ]
  }
 ],
 "metadata": {
  "kernelspec": {
   "display_name": "Julia 1.7.2",
   "language": "julia",
   "name": "julia-1.7"
  },
  "language_info": {
   "file_extension": ".jl",
   "mimetype": "application/julia",
   "name": "julia",
   "version": "1.7.2"
  },
  "orig_nbformat": 4
 },
 "nbformat": 4,
 "nbformat_minor": 2
}

{
 "cells": [
  {
   "cell_type": "markdown",
   "id": "da714b7e-8452-48af-80ad-3c9622af090b",
   "metadata": {},
   "source": [
    "## 实验题目5 高斯(Gauss)列主元消去法"
   ]
  },
  {
   "cell_type": "markdown",
   "id": "6e4f2c25-e844-4ee3-8a1a-17f2cdff4056",
   "metadata": {},
   "source": [
    "### 实验简介\n",
    "\n",
    "本实验为高斯列主元消去法，需要完成使用高斯消元法代码的编写，并对实验题目进行求解。\n",
    "\n",
    "本次实验过程中，主要为学习高斯消元法的代码写法，同时充分利用矩阵的初等行变换的特点，分别实现了高斯消元、显式消元和隐式消元的`Julia`代码，同时绘制了各写法求解时的时间消耗和求解矩阵阶数的关系图，注意所绘制图像横坐标为样本数而非阶数，每相邻两个样本的阶数之差为5。\n",
    "\n",
    "实验的目的为使用高斯列主元消元法求解线性方程组。\n",
    "\n",
    "该实验报告主要分为7个部分，大纲罗列如下：\n",
    "\n",
    "- 实验简介：即本部分的所有内容\n",
    "- **数学原理**：即高斯列主元消元法的数学问题定义和求解公式\n",
    "- **代码实现**：使用`Julia`语言，根据数学原理，编写实验代码\n",
    "- 测试代码：对于程序基本的正确性、性能的测试代码\n",
    "  - Test 1 - Correctnesss：使用随机生成的高阶矩阵对程序的正确性进行基本的检验，使用`lib solver`与编写的高斯消元结果向量之差的范数来衡量结果的精确程度。\n",
    "  - Test 2 - Performance：首先是对各算法求解高阶线性方程组的时间消耗进行统计，然后绘制出方程组求解时间随矩阵阶数变化的折线图，注意横坐标并非阶数而是样本序号，样本从1阶矩阵到4000阶矩阵，每两个连续样本阶数之差为5。\n",
    "- **实验题目**：实验指导书中所要求的求解的线性方程组，以矩阵形式给出，各题目均将输入矩阵打印到控制台以便于观察，这之后同时提供`lib solver`和`my gauss solver`的解，二者结果精确到小数点后6位完全一致，说明求解正确。\n",
    "  - **执行代码**：本部分是实验代码进行运行时封装的部分，将函数的调用细节隐藏在show_result()函数内部，便于直接从外部使用特定参数对函数进行调用。\n",
    "  - **问题1**：此题结果实验指导书中已给出，均为`[1, 1, 1, 1]`，用于对算法正确性进行检查。\n",
    "  - **问题2**：此题为线性方程组求解的问题，直接调用写好的求解函数`gauss()`即可。\n",
    "- 总结：因无思考题，此处对于本实验代码进行简单的总结，当前问题和后续的优化方向。\n",
    "- 参考资料：本次实验过程中查阅的参考资料"
   ]
  },
  {
   "cell_type": "markdown",
   "id": "63a80cff-e6e4-46bd-a236-2afbe319541f",
   "metadata": {},
   "source": [
    "### 数学原理\n",
    "\n",
    "给定方程组\n",
    "$$\n",
    "\\boldsymbol{Ax}=\\boldsymbol{b},\n",
    "$$\n",
    "其中,$\\boldsymbol{A}=\\left( a_{ij} \\right) _{n\\times n}$是非奇异阵,$\\boldsymbol{x}=\\left( x_1,x_2,\\cdots ,x_n \\right) ^T,\\boldsymbol{b}=\\left( b_1,b_2,\\cdots ,b_n \\right) ^T$.写成分量形式如下\n",
    "$$\n",
    "\\sum_{j=1}^n{a_{ij}x_j}=b_i,i=1,2,\\cdots ,n.\n",
    "$$\n",
    "为方便讨论，我们将方程组写成如下形式\n",
    "$$\n",
    "\\begin{cases}\n",
    "\ta_{11}x_1+a_{12}x_2+\\cdots a_{1n}x_n=a_{1,n+1}\\\\\n",
    "\ta_{21}x_1+a_{22}x_2+\\cdots a_{2n}x_n=a_{2,n+1}\\\\\n",
    "\t\\,\\,                  \\vdots\\\\\n",
    "\ta_{n1}x_n+a_{n2}x_2+\\cdots a_{nn}x_n=a_{n,n+1}\\\\\n",
    "\\end{cases}\n",
    "$$\n",
    "其中，记$a_{i,n+1}=b_{i},i=1,2,\\cdots,n.$\n",
    "\n",
    "第k次消元为先选择当前第k列最大元素所在的行，然后与第k行进行交换。即先选列主元(*pivoting*)，在代码中由封装的`pivoting!()`函数实现该功能，然后交换两行，代码中由`swaprows!()`函数实现。\n",
    "\n",
    "消元时，每次计算当前行首元素与接下来$n-k+1$行该列元素的比值的倒数$m_{ik}$，然后将此$n-k+1$行减去当前行（第k行）乘上所求比值，完成当次消元，即\n",
    "\n",
    "$$\n",
    "\\begin{aligned}\n",
    "m_{ik}&=a_{ik}^{\\left( k-1 \\right)}/a_{kk}^{\\left( k-1 \\right)},&i=k+1,k+2,\\cdots ,n.\n",
    "\\\\\n",
    "a_{ij}&=a_{ij}-m_{ik}\\cdot a_{kj}^{\\left( k-1 \\right)},&i=k+1,k+2,\\cdots ,n;&j=k+1,k+2,\\cdots ,n,n+1\n",
    "\\end{aligned}\n",
    "$$\n",
    "\n",
    "当消元完成之后，求得上三角矩阵，此后是回代过程，如下所示\n",
    "$$\n",
    "\\begin{cases}\n",
    "\tx_n=a_{n,n+1}^{\\left( n-1 \\right)}/a_{nn}^{\\left( n-1 \\right)},\\\\\n",
    "\tx_i=\\left[ a_{i,n+1}^{\\left( i-1 \\right)}-\\sum_{j=i+1}^n{a_{ij}^{\\left( i-1 \\right)}x_j} \\right] /a_{ii}^{\\left( i-1 \\right)},   i=1n-1,n-2,\\cdots ,2,1.\\\\\n",
    "\\end{cases}\n",
    "$$\n",
    "然后完成代码编写即可。"
   ]
  },
  {
   "cell_type": "markdown",
   "id": "4c9069cd-3ca9-4387-936b-890d97494a7a",
   "metadata": {},
   "source": [
    "### 代码实现\n",
    "\n",
    "首先导入所需要的包，`LinearAlgebra.jl`是使用线性代数工具的标准库，包含矩阵特征值求解，矩阵求逆，解线性方程组等内置函数，本例中用运算符`\\`求解线性方程组。"
   ]
  },
  {
   "cell_type": "code",
   "execution_count": 1,
   "id": "71ed8b76-fb09-4299-a056-c324c57be3f8",
   "metadata": {},
   "outputs": [],
   "source": [
    "using Printf\n",
    "using Plots\n",
    "using LinearAlgebra\n",
    "using PrettyTables\n",
    "using Statistics"
   ]
  },
  {
   "cell_type": "markdown",
   "id": "9a7640ea-6f93-45db-b513-4e5ee1c7cd23",
   "metadata": {},
   "source": [
    "#### swaprows"
   ]
  },
  {
   "cell_type": "code",
   "execution_count": 2,
   "id": "34030d63-6753-4642-91f9-ed97406f110e",
   "metadata": {},
   "outputs": [
    {
     "data": {
      "text/plain": [
       "swaprows! (generic function with 1 method)"
      ]
     },
     "execution_count": 2,
     "metadata": {},
     "output_type": "execute_result"
    }
   ],
   "source": [
    "function swaprows!(X::AbstractMatrix, i::Integer, j::Integer)\n",
    "    @inbounds for k = 1:size(X, 2)\n",
    "        X[i, k], X[j, k] = X[j, k], X[i, k]\n",
    "    end\n",
    "end"
   ]
  },
  {
   "cell_type": "markdown",
   "id": "db189b14-d615-4e5e-8307-5b1b9a84cc35",
   "metadata": {},
   "source": [
    "#### pivoting"
   ]
  },
  {
   "cell_type": "code",
   "execution_count": 3,
   "id": "668c647e-f290-41bf-9b4e-4a697c43e38b",
   "metadata": {},
   "outputs": [
    {
     "data": {
      "text/plain": [
       "pivoting! (generic function with 2 methods)"
      ]
     },
     "execution_count": 3,
     "metadata": {},
     "output_type": "execute_result"
    }
   ],
   "source": [
    "function pivoting!(A::Matrix{Float64}, k::Integer, n::Integer)\n",
    "    val, idx = findmax(A[k:n, k])\n",
    "    idx += k - 1  # index must add previous length that omitted by slice operator\n",
    "    return val, idx\n",
    "end\n",
    "function pivoting!(A::Matrix{Float64}, b::Vector{Float64}, k::Integer, n::Integer, implicit::Bool)\n",
    "    s = [maximum(A[i, k:n]) for i in k:n]\n",
    "    if 0 in s\n",
    "        println(\"Cannot solve a singular matrix!\")\n",
    "        return\n",
    "    end\n",
    "    if implicit\n",
    "        val, idx = findmax(A[k:n, k] ./ s[1:n-k+1])\n",
    "    else\n",
    "        A[k:n, k:n] = A[k:n, k:n] ./ s\n",
    "        b[k:n] = b[k:n] ./ s\n",
    "        val, idx = findmax(A[k:n, k])\n",
    "    end\n",
    "    idx += k - 1  # index must add previous length that omitted by slice operator\n",
    "    return val, idx\n",
    "end"
   ]
  },
  {
   "cell_type": "markdown",
   "id": "bb731bac-2733-4038-b022-ae2f0465a59d",
   "metadata": {},
   "source": [
    "#### gauss"
   ]
  },
  {
   "cell_type": "code",
   "execution_count": 4,
   "id": "90c12b14-4b41-4411-a2ab-1c5f493661dc",
   "metadata": {},
   "outputs": [
    {
     "data": {
      "text/plain": [
       "gauss (generic function with 1 method)"
      ]
     },
     "execution_count": 4,
     "metadata": {},
     "output_type": "execute_result"
    }
   ],
   "source": [
    "# Gauss列主元消去法\n",
    "function gauss(n, A::Matrix{Float64}, b::Vector{Float64})\n",
    "    for k = 1:n-1\n",
    "        # select pivot in columns\n",
    "        val, idx = pivoting!(A, k, n)\n",
    "        if val == 0\n",
    "            println(\"Cannot solve a singular matrix!\")\n",
    "            return\n",
    "        end\n",
    "        # swap rows\n",
    "        if idx != k\n",
    "            swaprows!(A, idx, k)\n",
    "            b[idx], b[k] = b[k], b[idx]\n",
    "        end\n",
    "        # elimination\n",
    "        for i = k+1:n\n",
    "            m = A[i, k] / A[k, k]\n",
    "            A[i, :] -= A[k, :] * m\n",
    "            b[i] -= b[k] * m\n",
    "        end\n",
    "    end\n",
    "    if A[n, n] == 0\n",
    "        println(\"Cannot solve a singular matrix!\")\n",
    "        return\n",
    "    end\n",
    "    x = similar(b, Float64)\n",
    "    x[n] = b[n] / A[n, n]\n",
    "    for k = n-1:-1:1  # the usage of reverse sequence\n",
    "        x[k] = (b[k] - dot(A[k, k+1:n], x[k+1:n])) / A[k, k]  # something really annoying \n",
    "    end\n",
    "    x\n",
    "end\n"
   ]
  },
  {
   "cell_type": "markdown",
   "id": "f97cbdfa-a1bd-48b4-8437-b2e64d3db515",
   "metadata": {},
   "source": [
    "#### explicit/implicit"
   ]
  },
  {
   "cell_type": "code",
   "execution_count": 5,
   "id": "977d9b57-4fb5-4cd3-8596-11d58ac9aed8",
   "metadata": {},
   "outputs": [
    {
     "data": {
      "text/plain": [
       "gauss (generic function with 2 methods)"
      ]
     },
     "execution_count": 5,
     "metadata": {},
     "output_type": "execute_result"
    }
   ],
   "source": [
    "# Gauss列主元消去法\n",
    "function gauss(n, A::Matrix{Float64}, b::Vector{Float64}, implicit::Bool)\n",
    "    for k = 1:n-1\n",
    "        # select pivot in columns\n",
    "        val, idx = pivoting!(A, b, k, n, implicit)\n",
    "        if val == 0\n",
    "            println(\"Cannot solve a singular matrix!\")\n",
    "            return\n",
    "        end\n",
    "        # swap rows\n",
    "        if idx != k\n",
    "            swaprows!(A, idx, k)\n",
    "            b[idx], b[k] = b[k], b[idx]\n",
    "        end\n",
    "        # elimination\n",
    "        for i = k+1:n\n",
    "            m = A[i, k] / A[k, k]\n",
    "            A[i, :] -= A[k, :] * m\n",
    "            b[i] -= b[k] * m\n",
    "        end\n",
    "    end\n",
    "    if A[n, n] == 0\n",
    "        println(\"Cannot solve a singular matrix!\")\n",
    "        return\n",
    "    end\n",
    "    x = similar(b, Float64)\n",
    "    x[n] = b[n] / A[n, n]\n",
    "    for k = n-1:-1:1  # the usage of reverse sequence\n",
    "        x[k] = (b[k] - dot(A[k, k+1:n], x[k+1:n])) / A[k, k]  # something really annoying \n",
    "    end\n",
    "    x\n",
    "end\n"
   ]
  },
  {
   "cell_type": "markdown",
   "id": "9726f849",
   "metadata": {},
   "source": [
    "### 测试代码\n",
    "\n",
    "本部分为基本的测试代码，用于对代码的正确性和性能进行初步的检查"
   ]
  },
  {
   "cell_type": "markdown",
   "id": "e6e0488b",
   "metadata": {},
   "source": [
    "#### Test 1 - Correctness\n",
    "\n",
    "使用随机生成的500阶矩阵对程序的正确性进行基本的检验，使用`lib solver`与三种`gauss solver`结果向量之差的范数来衡量结果的精确程度。\n",
    "\n",
    "使用的范数为2范数，计算范数的库函数为`norm()`，从计算结果来看，绝对误差大约在1e-10~1e-13数量级，可以认为结果相当的精确。\n"
   ]
  },
  {
   "cell_type": "code",
   "execution_count": 6,
   "id": "e24d40e1",
   "metadata": {},
   "outputs": [
    {
     "name": "stdout",
     "output_type": "stream",
     "text": [
      "[vector norm] absolute error: 1.779781e-12\n",
      "[vector norm] absolute error: 5.983915e-12\n",
      "[vector norm] absolute error: 3.740373e-12\n",
      "\n",
      "[vector norm] absolute error: 2.707323e-12\n",
      "[vector norm] absolute error: 6.508607e-12\n",
      "[vector norm] absolute error: 5.296513e-12\n",
      "\n",
      "[vector norm] absolute error: 2.272272e-12\n",
      "[vector norm] absolute error: 4.706284e-12\n",
      "[vector norm] absolute error: 4.289481e-12\n",
      "\n",
      "[vector norm] absolute error: 2.581938e-11\n",
      "[vector norm] absolute error: 1.179110e-11\n",
      "[vector norm] absolute error: 6.608919e-12\n",
      "\n",
      "[vector norm] absolute error: 6.797016e-12\n",
      "[vector norm] absolute error: 1.157560e-11\n",
      "[vector norm] absolute error: 2.105902e-11\n",
      "\n"
     ]
    }
   ],
   "source": [
    "# test random result of standard library \n",
    "# test pass\n",
    "for i in 1:5\n",
    "    M = rand(500, 500)\n",
    "    v = rand(500)\n",
    "    A, b = copy(M), copy(v)  # ? Todo: move this line into try block will extend compilation time\n",
    "    try\n",
    "        # default gauss\n",
    "        @printf(\"[vector norm] absolute error: %10.6e\\n\", norm(A \\ b - gauss(size(A, 1), A, b), 2))\n",
    "        # implicit=false\n",
    "        A, b = copy(M), copy(v) \n",
    "        @printf(\"[vector norm] absolute error: %10.6e\\n\", norm(A \\ b - gauss(size(A, 1), A, b, false), 2)) \n",
    "        # implicit=true\n",
    "        A, b = copy(M), copy(v)\n",
    "        @printf(\"[vector norm] absolute error: %10.6e\\n\", norm(A \\ b - gauss(size(A, 1), A, b, true), 2)) \n",
    "    catch SigularException\n",
    "        @printf(\"Cannot solve a singular matrix!\\n\")\n",
    "    end\n",
    "    println()\n",
    "end"
   ]
  },
  {
   "cell_type": "markdown",
   "id": "4a5cd7a8-4856-4561-966b-a04e055ea993",
   "metadata": {},
   "source": [
    "#### Test 2 - Performance \n",
    "\n",
    "首先是对各算法求解500阶线性方程组的时间消耗进行统计，初步得出求解效率的比较结果。然后绘制出方程组求解时间随矩阵阶数变化的折线图，注意横坐标并非阶数而是样本序号，样本从1阶矩阵到4000阶矩阵，每两个连续样本阶数之差为5。\n",
    "\n",
    "很明显可以看到，求解高阶矩阵的效率有：`lib solver` >> `my gsolver` > `g implicit` > `g explicit`，显然内置库对于求解的优化远远超出了本人直接写下的高斯消元函数。\n",
    "\n",
    "从内存分配上看到库函数仅有的`4 allocations`，明显大大的减少了内存分配所消耗的时间，而手写的高斯消元法中间存在较多的不连续且频繁的内存分配导致时间被大量的消耗。"
   ]
  },
  {
   "cell_type": "code",
   "execution_count": 7,
   "id": "e6df0a43-fd93-4448-b1d1-6b34b80738e6",
   "metadata": {},
   "outputs": [
    {
     "name": "stdout",
     "output_type": "stream",
     "text": [
      "lib solver:   0.009829 seconds (4 allocations: 1.915 MiB)\n",
      "my gsolver:   0.738466 seconds (500.50 k allocations: 1.936 GiB, 15.91% gc time)\n",
      "g explicit:   1.210435 seconds (630.65 k allocations: 2.891 GiB, 13.71% gc time)\n",
      "g implicit:   0.922749 seconds (628.74 k allocations: 2.268 GiB, 12.76% gc time)\n",
      "\n",
      "lib solver:   0.010037 seconds (4 allocations: 1.915 MiB)\n",
      "my gsolver:   0.703981 seconds (500.50 k allocations: 1.936 GiB, 14.03% gc time)\n",
      "g explicit:   1.219443 seconds (630.65 k allocations: 2.891 GiB, 13.59% gc time)\n",
      "g implicit:   0.921236 seconds (628.74 k allocations: 2.268 GiB, 12.88% gc time)\n",
      "\n",
      "lib solver:   0.009741 seconds (4 allocations: 1.915 MiB)\n",
      "my gsolver:   0.705588 seconds (500.50 k allocations: 1.936 GiB, 13.34% gc time)\n",
      "g explicit:   1.201793 seconds (630.65 k allocations: 2.891 GiB, 12.86% gc time)\n",
      "g implicit:   0.936341 seconds (628.74 k allocations: 2.268 GiB, 12.83% gc time)\n",
      "\n",
      "lib solver:   0.009751 seconds (4 allocations: 1.915 MiB)\n",
      "my gsolver:   0.709221 seconds (500.50 k allocations: 1.936 GiB, 13.65% gc time)\n",
      "g explicit:   1.194078 seconds (630.65 k allocations: 2.891 GiB, 13.66% gc time)\n",
      "g implicit:   0.924525 seconds (628.74 k allocations: 2.268 GiB, 11.92% gc time)\n",
      "\n",
      "lib solver:   0.008812 seconds (4 allocations: 1.915 MiB)\n",
      "my gsolver:   0.706725 seconds (500.50 k allocations: 1.936 GiB, 13.59% gc time)\n",
      "g explicit:   1.175311 seconds (630.65 k allocations: 2.891 GiB, 12.84% gc time)\n",
      "g implicit:   0.921059 seconds (628.74 k allocations: 2.268 GiB, 12.15% gc time)\n",
      "\n"
     ]
    }
   ],
   "source": [
    "# test random result of standard library \n",
    "# test pass\n",
    "for i in 1:5\n",
    "    M = rand(500, 500)\n",
    "    v = rand(500)\n",
    "    A, b = copy(M), copy(v)\n",
    "    try\n",
    "        @printf(\"lib solver: \")\n",
    "        @time A \\ b\n",
    "\n",
    "        @printf(\"my gsolver: \")\n",
    "        A, b = copy(M), copy(v)\n",
    "        @time gauss(size(A, 1), A, b)\n",
    "\n",
    "        @printf(\"g explicit: \")\n",
    "        A, b = copy(M), copy(v)\n",
    "        @time gauss(size(A, 1), A, b, false)  # implicit=false\n",
    "\n",
    "        @printf(\"g implicit: \")\n",
    "        A, b = copy(M), copy(v)\n",
    "        @time gauss(size(A, 1), A, b, true)  # implicit=true\n",
    "    catch SigularException\n",
    "        println(\"Cannot solve a singular matrix!\")\n",
    "    end\n",
    "    println()\n",
    "end"
   ]
  },
  {
   "cell_type": "markdown",
   "id": "06be84ce-1019-4ff9-b9e2-48e65e5e021a",
   "metadata": {},
   "source": [
    "接下来是绘制求解时间随矩阵阶数变化的折线图，横坐标是样本序号，样本从1阶矩阵到4000阶矩阵，每两个连续样本阶数之差为5。因本人手写的高斯消元效率过低，求解阶数大于500的矩阵耗时过长，故绘制图像时有所选择。时间单位为秒，包含了生成矩阵所消耗的时间和求解时间，生成矩阵耗时比库函数求解低一个数量级，故可不多作考虑。\n",
    "\n",
    "此处性能测试时间消耗过大，又因已经绘制了图像，故均作注释处理。"
   ]
  },
  {
   "cell_type": "code",
   "execution_count": 8,
   "id": "1e49bbf6-b694-47ee-98fc-2c0d42662f37",
   "metadata": {},
   "outputs": [
    {
     "data": {
      "image/svg+xml": "<?xml version=\"1.0\" encoding=\"utf-8\"?>\n<svg xmlns=\"http://www.w3.org/2000/svg\" xmlns:xlink=\"http://www.w3.org/1999/xlink\" width=\"600\" height=\"400\" viewBox=\"0 0 2400 1600\">\n<defs>\n  <clipPath id=\"clip400\">\n    <rect x=\"0\" y=\"0\" width=\"2400\" height=\"1600\"/>\n  </clipPath>\n</defs>\n<path clip-path=\"url(#clip400)\" d=\"\nM0 1600 L2400 1600 L2400 0 L0 0  Z\n  \" fill=\"#ffffff\" fill-rule=\"evenodd\" fill-opacity=\"1\"/>\n<defs>\n  <clipPath id=\"clip401\">\n    <rect x=\"480\" y=\"0\" width=\"1681\" height=\"1600\"/>\n  </clipPath>\n</defs>\n<path clip-path=\"url(#clip400)\" d=\"\nM156.598 1486.45 L1824.91 1486.45 L1824.91 47.2441 L156.598 47.2441  Z\n  \" fill=\"#ffffff\" fill-rule=\"evenodd\" fill-opacity=\"1\"/>\n<defs>\n  <clipPath id=\"clip402\">\n    <rect x=\"156\" y=\"47\" width=\"1669\" height=\"1440\"/>\n  </clipPath>\n</defs>\n<polyline clip-path=\"url(#clip402)\" style=\"stroke:#000000; stroke-linecap:butt; stroke-linejoin:round; stroke-width:2; stroke-opacity:0.1; fill:none\" points=\"\n  201.845,1486.45 201.845,47.2441 \n  \"/>\n<polyline clip-path=\"url(#clip402)\" style=\"stroke:#000000; stroke-linecap:butt; stroke-linejoin:round; stroke-width:2; stroke-opacity:0.1; fill:none\" points=\"\n  595.807,1486.45 595.807,47.2441 \n  \"/>\n<polyline clip-path=\"url(#clip402)\" style=\"stroke:#000000; stroke-linecap:butt; stroke-linejoin:round; stroke-width:2; stroke-opacity:0.1; fill:none\" points=\"\n  989.769,1486.45 989.769,47.2441 \n  \"/>\n<polyline clip-path=\"url(#clip402)\" style=\"stroke:#000000; stroke-linecap:butt; stroke-linejoin:round; stroke-width:2; stroke-opacity:0.1; fill:none\" points=\"\n  1383.73,1486.45 1383.73,47.2441 \n  \"/>\n<polyline clip-path=\"url(#clip402)\" style=\"stroke:#000000; stroke-linecap:butt; stroke-linejoin:round; stroke-width:2; stroke-opacity:0.1; fill:none\" points=\"\n  1777.69,1486.45 1777.69,47.2441 \n  \"/>\n<polyline clip-path=\"url(#clip400)\" style=\"stroke:#000000; stroke-linecap:butt; stroke-linejoin:round; stroke-width:4; stroke-opacity:1; fill:none\" points=\"\n  156.598,1486.45 1824.91,1486.45 \n  \"/>\n<polyline clip-path=\"url(#clip400)\" style=\"stroke:#000000; stroke-linecap:butt; stroke-linejoin:round; stroke-width:4; stroke-opacity:1; fill:none\" points=\"\n  201.845,1486.45 201.845,1467.55 \n  \"/>\n<polyline clip-path=\"url(#clip400)\" style=\"stroke:#000000; stroke-linecap:butt; stroke-linejoin:round; stroke-width:4; stroke-opacity:1; fill:none\" points=\"\n  595.807,1486.45 595.807,1467.55 \n  \"/>\n<polyline clip-path=\"url(#clip400)\" style=\"stroke:#000000; stroke-linecap:butt; stroke-linejoin:round; stroke-width:4; stroke-opacity:1; fill:none\" points=\"\n  989.769,1486.45 989.769,1467.55 \n  \"/>\n<polyline clip-path=\"url(#clip400)\" style=\"stroke:#000000; stroke-linecap:butt; stroke-linejoin:round; stroke-width:4; stroke-opacity:1; fill:none\" points=\"\n  1383.73,1486.45 1383.73,1467.55 \n  \"/>\n<polyline clip-path=\"url(#clip400)\" style=\"stroke:#000000; stroke-linecap:butt; stroke-linejoin:round; stroke-width:4; stroke-opacity:1; fill:none\" points=\"\n  1777.69,1486.45 1777.69,1467.55 \n  \"/>\n<path clip-path=\"url(#clip400)\" d=\"M201.845 1517.37 Q198.234 1517.37 196.405 1520.93 Q194.599 1524.47 194.599 1531.6 Q194.599 1538.71 196.405 1542.27 Q198.234 1545.82 201.845 1545.82 Q205.479 1545.82 207.285 1542.27 Q209.113 1538.71 209.113 1531.6 Q209.113 1524.47 207.285 1520.93 Q205.479 1517.37 201.845 1517.37 M201.845 1513.66 Q207.655 1513.66 210.71 1518.27 Q213.789 1522.85 213.789 1531.6 Q213.789 1540.33 210.71 1544.94 Q207.655 1549.52 201.845 1549.52 Q196.035 1549.52 192.956 1544.94 Q189.9 1540.33 189.9 1531.6 Q189.9 1522.85 192.956 1518.27 Q196.035 1513.66 201.845 1513.66 Z\" fill=\"#000000\" fill-rule=\"evenodd\" fill-opacity=\"1\" /><path clip-path=\"url(#clip400)\" d=\"M559.499 1544.91 L575.818 1544.91 L575.818 1548.85 L553.874 1548.85 L553.874 1544.91 Q556.536 1542.16 561.119 1537.53 Q565.726 1532.88 566.906 1531.53 Q569.152 1529.01 570.031 1527.27 Q570.934 1525.51 570.934 1523.82 Q570.934 1521.07 568.99 1519.33 Q567.069 1517.6 563.967 1517.6 Q561.768 1517.6 559.314 1518.36 Q556.883 1519.13 554.106 1520.68 L554.106 1515.95 Q556.93 1514.82 559.383 1514.24 Q561.837 1513.66 563.874 1513.66 Q569.244 1513.66 572.439 1516.35 Q575.633 1519.03 575.633 1523.52 Q575.633 1525.65 574.823 1527.57 Q574.036 1529.47 571.93 1532.07 Q571.351 1532.74 568.249 1535.95 Q565.147 1539.15 559.499 1544.91 Z\" fill=\"#000000\" fill-rule=\"evenodd\" fill-opacity=\"1\" /><path clip-path=\"url(#clip400)\" d=\"M595.633 1517.37 Q592.022 1517.37 590.193 1520.93 Q588.388 1524.47 588.388 1531.6 Q588.388 1538.71 590.193 1542.27 Q592.022 1545.82 595.633 1545.82 Q599.267 1545.82 601.073 1542.27 Q602.902 1538.71 602.902 1531.6 Q602.902 1524.47 601.073 1520.93 Q599.267 1517.37 595.633 1517.37 M595.633 1513.66 Q601.443 1513.66 604.499 1518.27 Q607.578 1522.85 607.578 1531.6 Q607.578 1540.33 604.499 1544.94 Q601.443 1549.52 595.633 1549.52 Q589.823 1549.52 586.744 1544.94 Q583.689 1540.33 583.689 1531.6 Q583.689 1522.85 586.744 1518.27 Q589.823 1513.66 595.633 1513.66 Z\" fill=\"#000000\" fill-rule=\"evenodd\" fill-opacity=\"1\" /><path clip-path=\"url(#clip400)\" d=\"M625.795 1517.37 Q622.184 1517.37 620.355 1520.93 Q618.55 1524.47 618.55 1531.6 Q618.55 1538.71 620.355 1542.27 Q622.184 1545.82 625.795 1545.82 Q629.429 1545.82 631.235 1542.27 Q633.064 1538.71 633.064 1531.6 Q633.064 1524.47 631.235 1520.93 Q629.429 1517.37 625.795 1517.37 M625.795 1513.66 Q631.605 1513.66 634.661 1518.27 Q637.739 1522.85 637.739 1531.6 Q637.739 1540.33 634.661 1544.94 Q631.605 1549.52 625.795 1549.52 Q619.985 1549.52 616.906 1544.94 Q613.851 1540.33 613.851 1531.6 Q613.851 1522.85 616.906 1518.27 Q619.985 1513.66 625.795 1513.66 Z\" fill=\"#000000\" fill-rule=\"evenodd\" fill-opacity=\"1\" /><path clip-path=\"url(#clip400)\" d=\"M962.859 1518.36 L951.054 1536.81 L962.859 1536.81 L962.859 1518.36 M961.632 1514.29 L967.512 1514.29 L967.512 1536.81 L972.443 1536.81 L972.443 1540.7 L967.512 1540.7 L967.512 1548.85 L962.859 1548.85 L962.859 1540.7 L947.257 1540.7 L947.257 1536.19 L961.632 1514.29 Z\" fill=\"#000000\" fill-rule=\"evenodd\" fill-opacity=\"1\" /><path clip-path=\"url(#clip400)\" d=\"M990.174 1517.37 Q986.563 1517.37 984.734 1520.93 Q982.929 1524.47 982.929 1531.6 Q982.929 1538.71 984.734 1542.27 Q986.563 1545.82 990.174 1545.82 Q993.808 1545.82 995.614 1542.27 Q997.442 1538.71 997.442 1531.6 Q997.442 1524.47 995.614 1520.93 Q993.808 1517.37 990.174 1517.37 M990.174 1513.66 Q995.984 1513.66 999.04 1518.27 Q1002.12 1522.85 1002.12 1531.6 Q1002.12 1540.33 999.04 1544.94 Q995.984 1549.52 990.174 1549.52 Q984.364 1549.52 981.285 1544.94 Q978.23 1540.33 978.23 1531.6 Q978.23 1522.85 981.285 1518.27 Q984.364 1513.66 990.174 1513.66 Z\" fill=\"#000000\" fill-rule=\"evenodd\" fill-opacity=\"1\" /><path clip-path=\"url(#clip400)\" d=\"M1020.34 1517.37 Q1016.72 1517.37 1014.9 1520.93 Q1013.09 1524.47 1013.09 1531.6 Q1013.09 1538.71 1014.9 1542.27 Q1016.72 1545.82 1020.34 1545.82 Q1023.97 1545.82 1025.78 1542.27 Q1027.6 1538.71 1027.6 1531.6 Q1027.6 1524.47 1025.78 1520.93 Q1023.97 1517.37 1020.34 1517.37 M1020.34 1513.66 Q1026.15 1513.66 1029.2 1518.27 Q1032.28 1522.85 1032.28 1531.6 Q1032.28 1540.33 1029.2 1544.94 Q1026.15 1549.52 1020.34 1549.52 Q1014.53 1549.52 1011.45 1544.94 Q1008.39 1540.33 1008.39 1531.6 Q1008.39 1522.85 1011.45 1518.27 Q1014.53 1513.66 1020.34 1513.66 Z\" fill=\"#000000\" fill-rule=\"evenodd\" fill-opacity=\"1\" /><path clip-path=\"url(#clip400)\" d=\"M1354.06 1529.7 Q1350.91 1529.7 1349.06 1531.86 Q1347.23 1534.01 1347.23 1537.76 Q1347.23 1541.49 1349.06 1543.66 Q1350.91 1545.82 1354.06 1545.82 Q1357.2 1545.82 1359.03 1543.66 Q1360.88 1541.49 1360.88 1537.76 Q1360.88 1534.01 1359.03 1531.86 Q1357.2 1529.7 1354.06 1529.7 M1363.34 1515.05 L1363.34 1519.31 Q1361.58 1518.48 1359.77 1518.04 Q1357.99 1517.6 1356.23 1517.6 Q1351.6 1517.6 1349.15 1520.72 Q1346.72 1523.85 1346.37 1530.17 Q1347.74 1528.15 1349.8 1527.09 Q1351.86 1526 1354.33 1526 Q1359.54 1526 1362.55 1529.17 Q1365.58 1532.32 1365.58 1537.76 Q1365.58 1543.08 1362.43 1546.3 Q1359.29 1549.52 1354.06 1549.52 Q1348.06 1549.52 1344.89 1544.94 Q1341.72 1540.33 1341.72 1531.6 Q1341.72 1523.41 1345.61 1518.55 Q1349.49 1513.66 1356.05 1513.66 Q1357.81 1513.66 1359.59 1514.01 Q1361.39 1514.36 1363.34 1515.05 Z\" fill=\"#000000\" fill-rule=\"evenodd\" fill-opacity=\"1\" /><path clip-path=\"url(#clip400)\" d=\"M1383.64 1517.37 Q1380.03 1517.37 1378.2 1520.93 Q1376.39 1524.47 1376.39 1531.6 Q1376.39 1538.71 1378.2 1542.27 Q1380.03 1545.82 1383.64 1545.82 Q1387.27 1545.82 1389.08 1542.27 Q1390.91 1538.71 1390.91 1531.6 Q1390.91 1524.47 1389.08 1520.93 Q1387.27 1517.37 1383.64 1517.37 M1383.64 1513.66 Q1389.45 1513.66 1392.5 1518.27 Q1395.58 1522.85 1395.58 1531.6 Q1395.58 1540.33 1392.5 1544.94 Q1389.45 1549.52 1383.64 1549.52 Q1377.83 1549.52 1374.75 1544.94 Q1371.69 1540.33 1371.69 1531.6 Q1371.69 1522.85 1374.75 1518.27 Q1377.83 1513.66 1383.64 1513.66 Z\" fill=\"#000000\" fill-rule=\"evenodd\" fill-opacity=\"1\" /><path clip-path=\"url(#clip400)\" d=\"M1413.8 1517.37 Q1410.19 1517.37 1408.36 1520.93 Q1406.55 1524.47 1406.55 1531.6 Q1406.55 1538.71 1408.36 1542.27 Q1410.19 1545.82 1413.8 1545.82 Q1417.43 1545.82 1419.24 1542.27 Q1421.07 1538.71 1421.07 1531.6 Q1421.07 1524.47 1419.24 1520.93 Q1417.43 1517.37 1413.8 1517.37 M1413.8 1513.66 Q1419.61 1513.66 1422.67 1518.27 Q1425.74 1522.85 1425.74 1531.6 Q1425.74 1540.33 1422.67 1544.94 Q1419.61 1549.52 1413.8 1549.52 Q1407.99 1549.52 1404.91 1544.94 Q1401.86 1540.33 1401.86 1531.6 Q1401.86 1522.85 1404.91 1518.27 Q1407.99 1513.66 1413.8 1513.66 Z\" fill=\"#000000\" fill-rule=\"evenodd\" fill-opacity=\"1\" /><path clip-path=\"url(#clip400)\" d=\"M1747.48 1532.44 Q1744.15 1532.44 1742.23 1534.22 Q1740.33 1536 1740.33 1539.13 Q1740.33 1542.25 1742.23 1544.03 Q1744.15 1545.82 1747.48 1545.82 Q1750.82 1545.82 1752.74 1544.03 Q1754.66 1542.23 1754.66 1539.13 Q1754.66 1536 1752.74 1534.22 Q1750.84 1532.44 1747.48 1532.44 M1742.81 1530.45 Q1739.8 1529.7 1738.11 1527.64 Q1736.44 1525.58 1736.44 1522.62 Q1736.44 1518.48 1739.38 1516.07 Q1742.35 1513.66 1747.48 1513.66 Q1752.65 1513.66 1755.59 1516.07 Q1758.53 1518.48 1758.53 1522.62 Q1758.53 1525.58 1756.84 1527.64 Q1755.17 1529.7 1752.18 1530.45 Q1755.56 1531.23 1757.44 1533.52 Q1759.34 1535.82 1759.34 1539.13 Q1759.34 1544.15 1756.26 1546.83 Q1753.2 1549.52 1747.48 1549.52 Q1741.77 1549.52 1738.69 1546.83 Q1735.63 1544.15 1735.63 1539.13 Q1735.63 1535.82 1737.53 1533.52 Q1739.43 1531.23 1742.81 1530.45 M1741.1 1523.06 Q1741.1 1525.75 1742.76 1527.25 Q1744.45 1528.76 1747.48 1528.76 Q1750.49 1528.76 1752.18 1527.25 Q1753.9 1525.75 1753.9 1523.06 Q1753.9 1520.38 1752.18 1518.87 Q1750.49 1517.37 1747.48 1517.37 Q1744.45 1517.37 1742.76 1518.87 Q1741.1 1520.38 1741.1 1523.06 Z\" fill=\"#000000\" fill-rule=\"evenodd\" fill-opacity=\"1\" /><path clip-path=\"url(#clip400)\" d=\"M1777.65 1517.37 Q1774.04 1517.37 1772.21 1520.93 Q1770.4 1524.47 1770.4 1531.6 Q1770.4 1538.71 1772.21 1542.27 Q1774.04 1545.82 1777.65 1545.82 Q1781.28 1545.82 1783.09 1542.27 Q1784.92 1538.71 1784.92 1531.6 Q1784.92 1524.47 1783.09 1520.93 Q1781.28 1517.37 1777.65 1517.37 M1777.65 1513.66 Q1783.46 1513.66 1786.51 1518.27 Q1789.59 1522.85 1789.59 1531.6 Q1789.59 1540.33 1786.51 1544.94 Q1783.46 1549.52 1777.65 1549.52 Q1771.84 1549.52 1768.76 1544.94 Q1765.7 1540.33 1765.7 1531.6 Q1765.7 1522.85 1768.76 1518.27 Q1771.84 1513.66 1777.65 1513.66 Z\" fill=\"#000000\" fill-rule=\"evenodd\" fill-opacity=\"1\" /><path clip-path=\"url(#clip400)\" d=\"M1807.81 1517.37 Q1804.2 1517.37 1802.37 1520.93 Q1800.56 1524.47 1800.56 1531.6 Q1800.56 1538.71 1802.37 1542.27 Q1804.2 1545.82 1807.81 1545.82 Q1811.44 1545.82 1813.25 1542.27 Q1815.08 1538.71 1815.08 1531.6 Q1815.08 1524.47 1813.25 1520.93 Q1811.44 1517.37 1807.81 1517.37 M1807.81 1513.66 Q1813.62 1513.66 1816.67 1518.27 Q1819.75 1522.85 1819.75 1531.6 Q1819.75 1540.33 1816.67 1544.94 Q1813.62 1549.52 1807.81 1549.52 Q1802 1549.52 1798.92 1544.94 Q1795.86 1540.33 1795.86 1531.6 Q1795.86 1522.85 1798.92 1518.27 Q1802 1513.66 1807.81 1513.66 Z\" fill=\"#000000\" fill-rule=\"evenodd\" fill-opacity=\"1\" /><polyline clip-path=\"url(#clip402)\" style=\"stroke:#000000; stroke-linecap:butt; stroke-linejoin:round; stroke-width:2; stroke-opacity:0.1; fill:none\" points=\"\n  156.598,1445.73 1824.91,1445.73 \n  \"/>\n<polyline clip-path=\"url(#clip402)\" style=\"stroke:#000000; stroke-linecap:butt; stroke-linejoin:round; stroke-width:2; stroke-opacity:0.1; fill:none\" points=\"\n  156.598,1178.59 1824.91,1178.59 \n  \"/>\n<polyline clip-path=\"url(#clip402)\" style=\"stroke:#000000; stroke-linecap:butt; stroke-linejoin:round; stroke-width:2; stroke-opacity:0.1; fill:none\" points=\"\n  156.598,911.447 1824.91,911.447 \n  \"/>\n<polyline clip-path=\"url(#clip402)\" style=\"stroke:#000000; stroke-linecap:butt; stroke-linejoin:round; stroke-width:2; stroke-opacity:0.1; fill:none\" points=\"\n  156.598,644.306 1824.91,644.306 \n  \"/>\n<polyline clip-path=\"url(#clip402)\" style=\"stroke:#000000; stroke-linecap:butt; stroke-linejoin:round; stroke-width:2; stroke-opacity:0.1; fill:none\" points=\"\n  156.598,377.166 1824.91,377.166 \n  \"/>\n<polyline clip-path=\"url(#clip402)\" style=\"stroke:#000000; stroke-linecap:butt; stroke-linejoin:round; stroke-width:2; stroke-opacity:0.1; fill:none\" points=\"\n  156.598,110.025 1824.91,110.025 \n  \"/>\n<polyline clip-path=\"url(#clip400)\" style=\"stroke:#000000; stroke-linecap:butt; stroke-linejoin:round; stroke-width:4; stroke-opacity:1; fill:none\" points=\"\n  156.598,1486.45 156.598,47.2441 \n  \"/>\n<polyline clip-path=\"url(#clip400)\" style=\"stroke:#000000; stroke-linecap:butt; stroke-linejoin:round; stroke-width:4; stroke-opacity:1; fill:none\" points=\"\n  156.598,1445.73 170.954,1445.73 \n  \"/>\n<polyline clip-path=\"url(#clip400)\" style=\"stroke:#000000; stroke-linecap:butt; stroke-linejoin:round; stroke-width:4; stroke-opacity:1; fill:none\" points=\"\n  156.598,1178.59 170.954,1178.59 \n  \"/>\n<polyline clip-path=\"url(#clip400)\" style=\"stroke:#000000; stroke-linecap:butt; stroke-linejoin:round; stroke-width:4; stroke-opacity:1; fill:none\" points=\"\n  156.598,911.447 170.954,911.447 \n  \"/>\n<polyline clip-path=\"url(#clip400)\" style=\"stroke:#000000; stroke-linecap:butt; stroke-linejoin:round; stroke-width:4; stroke-opacity:1; fill:none\" points=\"\n  156.598,644.306 170.954,644.306 \n  \"/>\n<polyline clip-path=\"url(#clip400)\" style=\"stroke:#000000; stroke-linecap:butt; stroke-linejoin:round; stroke-width:4; stroke-opacity:1; fill:none\" points=\"\n  156.598,377.166 170.954,377.166 \n  \"/>\n<polyline clip-path=\"url(#clip400)\" style=\"stroke:#000000; stroke-linecap:butt; stroke-linejoin:round; stroke-width:4; stroke-opacity:1; fill:none\" points=\"\n  156.598,110.025 170.954,110.025 \n  \"/>\n<path clip-path=\"url(#clip400)\" d=\"M63.4226 1431.53 Q59.8115 1431.53 57.9828 1435.09 Q56.1773 1438.63 56.1773 1445.76 Q56.1773 1452.87 57.9828 1456.43 Q59.8115 1459.98 63.4226 1459.98 Q67.0569 1459.98 68.8624 1456.43 Q70.6911 1452.87 70.6911 1445.76 Q70.6911 1438.63 68.8624 1435.09 Q67.0569 1431.53 63.4226 1431.53 M63.4226 1427.82 Q69.2328 1427.82 72.2883 1432.43 Q75.367 1437.01 75.367 1445.76 Q75.367 1454.49 72.2883 1459.1 Q69.2328 1463.68 63.4226 1463.68 Q57.6125 1463.68 54.5338 1459.1 Q51.4782 1454.49 51.4782 1445.76 Q51.4782 1437.01 54.5338 1432.43 Q57.6125 1427.82 63.4226 1427.82 Z\" fill=\"#000000\" fill-rule=\"evenodd\" fill-opacity=\"1\" /><path clip-path=\"url(#clip400)\" d=\"M83.5845 1457.13 L88.4688 1457.13 L88.4688 1463.01 L83.5845 1463.01 L83.5845 1457.13 Z\" fill=\"#000000\" fill-rule=\"evenodd\" fill-opacity=\"1\" /><path clip-path=\"url(#clip400)\" d=\"M108.654 1431.53 Q105.043 1431.53 103.214 1435.09 Q101.409 1438.63 101.409 1445.76 Q101.409 1452.87 103.214 1456.43 Q105.043 1459.98 108.654 1459.98 Q112.288 1459.98 114.094 1456.43 Q115.922 1452.87 115.922 1445.76 Q115.922 1438.63 114.094 1435.09 Q112.288 1431.53 108.654 1431.53 M108.654 1427.82 Q114.464 1427.82 117.52 1432.43 Q120.598 1437.01 120.598 1445.76 Q120.598 1454.49 117.52 1459.1 Q114.464 1463.68 108.654 1463.68 Q102.844 1463.68 99.765 1459.1 Q96.7095 1454.49 96.7095 1445.76 Q96.7095 1437.01 99.765 1432.43 Q102.844 1427.82 108.654 1427.82 Z\" fill=\"#000000\" fill-rule=\"evenodd\" fill-opacity=\"1\" /><path clip-path=\"url(#clip400)\" d=\"M64.6495 1164.39 Q61.0384 1164.39 59.2097 1167.95 Q57.4041 1171.49 57.4041 1178.62 Q57.4041 1185.73 59.2097 1189.29 Q61.0384 1192.83 64.6495 1192.83 Q68.2837 1192.83 70.0892 1189.29 Q71.9179 1185.73 71.9179 1178.62 Q71.9179 1171.49 70.0892 1167.95 Q68.2837 1164.39 64.6495 1164.39 M64.6495 1160.68 Q70.4596 1160.68 73.5152 1165.29 Q76.5938 1169.87 76.5938 1178.62 Q76.5938 1187.35 73.5152 1191.95 Q70.4596 1196.54 64.6495 1196.54 Q58.8393 1196.54 55.7606 1191.95 Q52.7051 1187.35 52.7051 1178.62 Q52.7051 1169.87 55.7606 1165.29 Q58.8393 1160.68 64.6495 1160.68 Z\" fill=\"#000000\" fill-rule=\"evenodd\" fill-opacity=\"1\" /><path clip-path=\"url(#clip400)\" d=\"M84.8114 1189.99 L89.6956 1189.99 L89.6956 1195.87 L84.8114 1195.87 L84.8114 1189.99 Z\" fill=\"#000000\" fill-rule=\"evenodd\" fill-opacity=\"1\" /><path clip-path=\"url(#clip400)\" d=\"M100.691 1191.93 L108.33 1191.93 L108.33 1165.57 L100.02 1167.23 L100.02 1162.97 L108.283 1161.31 L112.959 1161.31 L112.959 1191.93 L120.598 1191.93 L120.598 1195.87 L100.691 1195.87 L100.691 1191.93 Z\" fill=\"#000000\" fill-rule=\"evenodd\" fill-opacity=\"1\" /><path clip-path=\"url(#clip400)\" d=\"M65.0198 897.245 Q61.4087 897.245 59.58 900.81 Q57.7745 904.352 57.7745 911.481 Q57.7745 918.588 59.58 922.153 Q61.4087 925.694 65.0198 925.694 Q68.6541 925.694 70.4596 922.153 Q72.2883 918.588 72.2883 911.481 Q72.2883 904.352 70.4596 900.81 Q68.6541 897.245 65.0198 897.245 M65.0198 893.542 Q70.83 893.542 73.8855 898.148 Q76.9642 902.731 76.9642 911.481 Q76.9642 920.208 73.8855 924.815 Q70.83 929.398 65.0198 929.398 Q59.2097 929.398 56.131 924.815 Q53.0754 920.208 53.0754 911.481 Q53.0754 902.731 56.131 898.148 Q59.2097 893.542 65.0198 893.542 Z\" fill=\"#000000\" fill-rule=\"evenodd\" fill-opacity=\"1\" /><path clip-path=\"url(#clip400)\" d=\"M85.1818 922.847 L90.066 922.847 L90.066 928.727 L85.1818 928.727 L85.1818 922.847 Z\" fill=\"#000000\" fill-rule=\"evenodd\" fill-opacity=\"1\" /><path clip-path=\"url(#clip400)\" d=\"M104.279 924.791 L120.598 924.791 L120.598 928.727 L98.6539 928.727 L98.6539 924.791 Q101.316 922.037 105.899 917.407 Q110.506 912.754 111.686 911.412 Q113.932 908.889 114.811 907.153 Q115.714 905.393 115.714 903.704 Q115.714 900.949 113.77 899.213 Q111.848 897.477 108.746 897.477 Q106.547 897.477 104.094 898.241 Q101.663 899.005 98.8854 900.555 L98.8854 895.833 Q101.709 894.699 104.163 894.12 Q106.617 893.542 108.654 893.542 Q114.024 893.542 117.219 896.227 Q120.413 898.912 120.413 903.403 Q120.413 905.532 119.603 907.454 Q118.816 909.352 116.709 911.944 Q116.131 912.616 113.029 915.833 Q109.927 919.028 104.279 924.791 Z\" fill=\"#000000\" fill-rule=\"evenodd\" fill-opacity=\"1\" /><path clip-path=\"url(#clip400)\" d=\"M64.0708 630.105 Q60.4597 630.105 58.631 633.67 Q56.8254 637.211 56.8254 644.341 Q56.8254 651.447 58.631 655.012 Q60.4597 658.554 64.0708 658.554 Q67.705 658.554 69.5105 655.012 Q71.3392 651.447 71.3392 644.341 Q71.3392 637.211 69.5105 633.67 Q67.705 630.105 64.0708 630.105 M64.0708 626.401 Q69.8809 626.401 72.9365 631.008 Q76.0151 635.591 76.0151 644.341 Q76.0151 653.068 72.9365 657.674 Q69.8809 662.257 64.0708 662.257 Q58.2606 662.257 55.1819 657.674 Q52.1264 653.068 52.1264 644.341 Q52.1264 635.591 55.1819 631.008 Q58.2606 626.401 64.0708 626.401 Z\" fill=\"#000000\" fill-rule=\"evenodd\" fill-opacity=\"1\" /><path clip-path=\"url(#clip400)\" d=\"M84.2327 655.707 L89.1169 655.707 L89.1169 661.586 L84.2327 661.586 L84.2327 655.707 Z\" fill=\"#000000\" fill-rule=\"evenodd\" fill-opacity=\"1\" /><path clip-path=\"url(#clip400)\" d=\"M113.469 642.952 Q116.825 643.67 118.7 645.938 Q120.598 648.207 120.598 651.54 Q120.598 656.656 117.08 659.457 Q113.561 662.257 107.08 662.257 Q104.904 662.257 102.589 661.818 Q100.297 661.401 97.8437 660.544 L97.8437 656.031 Q99.7882 657.165 102.103 657.744 Q104.418 658.322 106.941 658.322 Q111.339 658.322 113.631 656.586 Q115.945 654.85 115.945 651.54 Q115.945 648.484 113.793 646.771 Q111.663 645.035 107.844 645.035 L103.816 645.035 L103.816 641.193 L108.029 641.193 Q111.478 641.193 113.307 639.827 Q115.135 638.438 115.135 635.846 Q115.135 633.184 113.237 631.771 Q111.362 630.336 107.844 630.336 Q105.922 630.336 103.723 630.753 Q101.524 631.17 98.8854 632.049 L98.8854 627.883 Q101.547 627.142 103.862 626.771 Q106.2 626.401 108.26 626.401 Q113.584 626.401 116.686 628.832 Q119.788 631.239 119.788 635.359 Q119.788 638.23 118.145 640.221 Q116.501 642.188 113.469 642.952 Z\" fill=\"#000000\" fill-rule=\"evenodd\" fill-opacity=\"1\" /><path clip-path=\"url(#clip400)\" d=\"M62.9365 362.964 Q59.3254 362.964 57.4967 366.529 Q55.6912 370.071 55.6912 377.2 Q55.6912 384.307 57.4967 387.872 Q59.3254 391.413 62.9365 391.413 Q66.5707 391.413 68.3763 387.872 Q70.205 384.307 70.205 377.2 Q70.205 370.071 68.3763 366.529 Q66.5707 362.964 62.9365 362.964 M62.9365 359.261 Q68.7467 359.261 71.8022 363.867 Q74.8809 368.45 74.8809 377.2 Q74.8809 385.927 71.8022 390.534 Q68.7467 395.117 62.9365 395.117 Q57.1264 395.117 54.0477 390.534 Q50.9921 385.927 50.9921 377.2 Q50.9921 368.45 54.0477 363.867 Q57.1264 359.261 62.9365 359.261 Z\" fill=\"#000000\" fill-rule=\"evenodd\" fill-opacity=\"1\" /><path clip-path=\"url(#clip400)\" d=\"M83.0984 388.566 L87.9827 388.566 L87.9827 394.446 L83.0984 394.446 L83.0984 388.566 Z\" fill=\"#000000\" fill-rule=\"evenodd\" fill-opacity=\"1\" /><path clip-path=\"url(#clip400)\" d=\"M111.015 363.96 L99.2095 382.409 L111.015 382.409 L111.015 363.96 M109.788 359.886 L115.668 359.886 L115.668 382.409 L120.598 382.409 L120.598 386.298 L115.668 386.298 L115.668 394.446 L111.015 394.446 L111.015 386.298 L95.4132 386.298 L95.4132 381.784 L109.788 359.886 Z\" fill=\"#000000\" fill-rule=\"evenodd\" fill-opacity=\"1\" /><path clip-path=\"url(#clip400)\" d=\"M64.418 95.8239 Q60.8069 95.8239 58.9782 99.3887 Q57.1726 102.93 57.1726 110.06 Q57.1726 117.166 58.9782 120.731 Q60.8069 124.273 64.418 124.273 Q68.0522 124.273 69.8578 120.731 Q71.6865 117.166 71.6865 110.06 Q71.6865 102.93 69.8578 99.3887 Q68.0522 95.8239 64.418 95.8239 M64.418 92.1203 Q70.2281 92.1203 73.2837 96.7267 Q76.3624 101.31 76.3624 110.06 Q76.3624 118.787 73.2837 123.393 Q70.2281 127.977 64.418 127.977 Q58.6078 127.977 55.5291 123.393 Q52.4736 118.787 52.4736 110.06 Q52.4736 101.31 55.5291 96.7267 Q58.6078 92.1203 64.418 92.1203 Z\" fill=\"#000000\" fill-rule=\"evenodd\" fill-opacity=\"1\" /><path clip-path=\"url(#clip400)\" d=\"M84.5799 121.426 L89.4641 121.426 L89.4641 127.305 L84.5799 127.305 L84.5799 121.426 Z\" fill=\"#000000\" fill-rule=\"evenodd\" fill-opacity=\"1\" /><path clip-path=\"url(#clip400)\" d=\"M99.6956 92.7452 L118.052 92.7452 L118.052 96.6804 L103.978 96.6804 L103.978 105.153 Q104.996 104.805 106.015 104.643 Q107.033 104.458 108.052 104.458 Q113.839 104.458 117.219 107.629 Q120.598 110.801 120.598 116.217 Q120.598 121.796 117.126 124.898 Q113.654 127.977 107.334 127.977 Q105.159 127.977 102.89 127.606 Q100.645 127.236 98.2372 126.495 L98.2372 121.796 Q100.321 122.93 102.543 123.486 Q104.765 124.041 107.242 124.041 Q111.246 124.041 113.584 121.935 Q115.922 119.828 115.922 116.217 Q115.922 112.606 113.584 110.5 Q111.246 108.393 107.242 108.393 Q105.367 108.393 103.492 108.81 Q101.64 109.227 99.6956 110.106 L99.6956 92.7452 Z\" fill=\"#000000\" fill-rule=\"evenodd\" fill-opacity=\"1\" /><polyline clip-path=\"url(#clip402)\" style=\"stroke:#009af9; stroke-linecap:butt; stroke-linejoin:round; stroke-width:4; stroke-opacity:1; fill:none\" points=\"\n  203.815,1445.72 205.784,1445.69 207.754,1445.72 209.724,1445.71 211.694,1444.82 213.664,1444.73 215.633,1444.5 217.603,1443.95 219.573,1444.34 221.543,1443.77 \n  223.513,1443.4 225.482,1443.46 227.452,1442.61 229.422,1442.53 231.392,1442.89 233.362,1442.72 235.332,1442.83 237.301,1443.11 239.271,1442.75 241.241,1442.57 \n  243.211,1442.2 245.181,1441.79 247.15,1441.74 249.12,1441.48 251.09,1441.31 253.06,1440.83 255.03,1440.89 256.999,1440.65 258.969,1440.22 260.939,1439.77 \n  262.909,1439.61 264.879,1439.33 266.849,1439.33 268.818,1439.94 270.788,1439.52 272.758,1439.55 274.728,1439.07 276.698,1438.3 278.667,1438.59 280.637,1438.26 \n  282.607,1438.15 284.577,1438.23 286.547,1437.63 288.516,1437.4 290.486,1437.74 292.456,1437.35 294.426,1436.63 296.396,1436.69 298.365,1436.53 300.335,1436.15 \n  302.305,1436.05 304.275,1435.59 306.245,1435.84 308.215,1435.14 310.184,1435.69 312.154,1435.02 314.124,1434.67 316.094,1434.51 318.064,1434.91 320.033,1434.02 \n  322.003,1433.88 323.973,1433.24 325.943,1433.83 327.913,1433.34 329.882,1433.94 331.852,1433.58 333.822,1431.89 335.792,1392.01 337.762,1430.91 339.731,1430.2 \n  341.701,1431.07 343.671,1431.16 345.641,1429.81 347.611,1429.79 349.581,1430.56 351.55,1430.81 353.52,1430.35 355.49,1430.54 357.46,1428.7 359.43,1429.82 \n  361.399,1428.91 363.369,1429.87 365.339,1430.34 367.309,1427.36 369.279,1428.24 371.248,1426.66 373.218,1427.7 375.188,1428.22 377.158,1427.5 379.128,1427.15 \n  381.097,1426.86 383.067,1426.89 385.037,1427.29 387.007,1427.5 388.977,1426.19 390.947,1425.03 392.916,1425.94 394.886,1426.37 396.856,1425.16 398.826,1426.96 \n  400.796,1424.66 402.765,1426.13 404.735,1392.34 406.705,1426.08 408.675,1424.96 410.645,1423.6 412.614,1423.16 414.584,1425.09 416.554,1423.05 418.524,1423.85 \n  420.494,1422.42 422.464,1423.33 424.433,1421.95 426.403,1423.32 428.373,1420.96 430.343,1419.57 432.313,1420.79 434.282,1420.38 436.252,1418.66 438.222,1420.28 \n  440.192,1421.49 442.162,1421.14 444.131,1385.58 446.101,1418.79 448.071,1416.12 450.041,1419.74 452.011,1419.29 453.98,1417.23 455.95,1417.48 457.92,1418.8 \n  459.89,1416.43 461.86,1417.54 463.83,1415.1 465.799,1411 467.769,1415.76 469.739,1415.82 471.709,1416.53 473.679,1392.67 475.648,1414.65 477.618,1410.48 \n  479.588,1412.98 481.558,1412.9 483.528,1415.39 485.497,1411.18 487.467,1410.76 489.437,1411.01 491.407,1407.71 493.377,1412.02 495.346,1413.11 497.316,1411.9 \n  499.286,1387.04 501.256,1409.11 503.226,1404.38 505.196,1407.51 507.165,1408.04 509.135,1408.01 511.105,1405.42 513.075,1406.05 515.045,1408.72 517.014,1407.07 \n  518.984,1408.5 520.954,1382.49 522.924,1406.8 524.894,1402.08 526.863,1403.29 528.833,1400.88 530.803,1401.65 532.773,1400.33 534.743,1399.54 536.713,1400 \n  538.682,1377.46 540.652,1393.07 542.622,1395.17 544.592,1399 546.562,1397.62 548.531,1400.75 550.501,1396.45 552.471,1398.1 554.441,1398.86 556.411,1375.83 \n  558.38,1396.25 560.35,1396.53 562.32,1395.45 564.29,1398.36 566.26,1398.46 568.229,1391.92 570.199,1394.08 572.169,1373.14 574.139,1394.06 576.109,1394.83 \n  578.079,1388.59 580.048,1391.65 582.018,1392.35 583.988,1388.89 585.958,1369.06 587.928,1394.22 589.897,1389.73 591.867,1387.94 593.837,1386.88 595.807,1388.38 \n  597.777,1389.3 599.746,1366.29 601.716,1384.27 603.686,1384.67 605.656,1386.72 607.626,1383.86 609.595,1380.86 611.565,1385.46 613.535,1361.82 615.505,1382.92 \n  617.475,1385.94 619.445,1379.82 621.414,1382.72 623.384,1380.46 625.354,1359.85 627.324,1377.5 629.294,1372.55 631.263,1380.02 633.233,1376.8 635.203,1372.98 \n  637.173,1350.16 639.143,1378.2 641.112,1375.9 643.082,1384.16 645.052,1374.79 647.022,1376.98 648.992,1346.86 650.961,1371.23 652.931,1366.83 654.901,1375.56 \n  656.871,1368.82 658.841,1345.07 660.811,1370.63 662.78,1370.55 664.75,1370.14 666.72,1369.96 668.69,1340.97 670.66,1368.81 672.629,1359.79 674.599,1365.71 \n  676.569,1369.93 678.539,1239.86 680.509,1362.31 682.478,1357.49 684.448,1359.86 686.418,1351.27 688.388,936.443 690.358,1336.21 692.328,1342.12 694.297,1356.51 \n  696.267,1363.04 698.237,1046.94 700.207,1349.37 702.177,1346.92 704.146,1357.78 706.116,1354.45 708.086,1326.58 710.056,1346.91 712.026,1337.84 713.995,1350 \n  715.965,1350.88 717.935,1328.9 719.905,1356.1 721.875,1335.43 723.844,1344.59 725.814,1327.98 727.784,1337.42 729.754,1351.17 731.724,1323.79 733.694,1342.77 \n  735.663,1324.6 737.633,1345.55 739.603,1333.68 741.573,1335.65 743.543,1340.05 745.512,1327.09 747.482,1329.32 749.452,1327.13 751.422,1335.23 753.392,1320.1 \n  755.361,1331.33 757.331,1334.26 759.301,1307.69 761.271,1320.61 763.241,1319.42 765.21,1323.31 767.18,1307.21 769.15,1321.12 771.12,1307.4 773.09,1326.4 \n  775.06,1312.3 777.029,1316.97 778.999,1300.57 780.969,1318.46 782.939,1313.75 784.909,1317.31 786.878,1288.82 788.848,1313.22 790.818,1301.05 792.788,1319.37 \n  794.758,1299.73 796.727,1305.06 798.697,1299.08 800.667,1309.25 802.637,1293.85 804.607,1306.43 806.576,1293.21 808.546,1309.8 810.516,1291.03 812.486,1301.92 \n  814.456,1304.86 816.426,1290.32 818.395,1307.11 820.365,1290.52 822.335,1300.16 824.305,1300.95 826.275,1290.96 828.244,1300.53 830.214,1272 832.184,1288.17 \n  834.154,1298.06 836.124,1280.41 838.093,1291.69 840.063,1267.65 842.033,1287.48 844.003,1290.11 845.973,1276.3 847.943,1290.51 849.912,1251.77 851.882,1289.61 \n  853.852,1292.49 855.822,1273.24 857.792,1289.3 859.761,1272.98 861.731,1275.86 863.701,1283.65 865.671,1266.06 867.641,1280.69 869.61,1274.72 871.58,1261.5 \n  873.55,1285.05 875.52,1268.21 877.49,1276.66 879.459,1253.81 881.429,1274.32 883.399,1283.19 885.369,1256.51 887.339,1266.22 889.309,1270.73 891.278,1255.2 \n  893.248,1266.16 895.218,1267.87 897.188,1252.31 899.158,1265.23 901.127,1266.65 903.097,1242.42 905.067,1248.37 907.037,1254.11 909.007,1233.64 910.976,1258.66 \n  912.946,1265.98 914.916,1239.02 916.886,1245.65 918.856,1255.11 920.825,1237.28 922.795,1229.52 924.765,1247.48 926.735,1220.11 928.705,1230.66 930.675,1244.26 \n  932.644,1225.59 934.614,1231.14 936.584,1260.09 938.554,1227.07 940.524,1238.96 942.493,1243.97 944.463,1218.16 946.433,1230.77 948.403,1232.85 950.373,1219.54 \n  952.342,1233.35 954.312,1232.13 956.282,1204.6 958.252,1206.42 960.222,1236.69 962.191,1198.85 964.161,1207.57 966.131,1227.93 968.101,1195.11 970.071,1214.18 \n  972.041,1215.15 974.01,1183.68 975.98,1212.89 977.95,1205.35 979.92,1173.61 981.89,1212.4 983.859,1214.11 985.829,1198.29 987.799,1197.34 989.769,1195.76 \n  991.739,1215.13 993.708,1181.3 995.678,1191.06 997.648,1194.53 999.618,1212.81 1001.59,1177.92 1003.56,1210.44 1005.53,1195.64 1007.5,1202.59 1009.47,1178.04 \n  1011.44,1180.15 1013.41,1163.99 1015.38,1193.51 1017.35,1158.36 1019.32,1184 1021.29,1167.65 1023.26,1190.07 1025.23,1159.06 1027.2,1161.03 1029.17,1169.38 \n  1031.13,1188.69 1033.1,1157.07 1035.07,1162.91 1037.04,1159.6 1039.01,1180.88 1040.98,1145.7 1042.95,1186.52 1044.92,1160.87 1046.89,1156.64 1048.86,1112.19 \n  1050.83,1135.6 1052.8,1135.56 1054.77,1145.22 1056.74,1129.83 1058.71,1125.55 1060.68,1161.08 1062.65,1166.49 1064.62,1133.04 1066.59,1145.87 1068.56,1151.49 \n  1070.53,1150.27 1072.5,1128.1 1074.47,1133.69 1076.44,1126.45 1078.41,1160.52 1080.38,1111.4 1082.35,1127.96 1084.32,1124.79 1086.29,1152.15 1088.26,1121.7 \n  1090.23,1121.9 1092.2,1104.03 1094.17,1145.23 1096.14,1101.88 1098.11,1110.64 1100.08,1113.93 1102.05,1124.09 1104.02,1094.6 1105.99,1113.94 1107.96,1115.57 \n  1109.93,1131.22 1111.9,1074.66 1113.87,1117.78 1115.84,1107.41 1117.81,1103.4 1119.78,1077.56 1121.75,1092.31 1123.72,1077.27 1125.69,1122.25 1127.66,1061.05 \n  1129.63,1090.18 1131.6,1080.93 1133.56,1105.83 1135.53,1073.8 1137.5,1086.75 1139.47,1082.17 1141.44,1130.98 1143.41,1071.98 1145.38,1068.67 1147.35,1073.4 \n  1149.32,1097.45 1151.29,1040.06 1153.26,1049.49 1155.23,1079.2 1157.2,1085.77 1159.17,1044.07 1161.14,1063 1163.11,1054.87 1165.08,1055.99 1167.05,1058.2 \n  1169.02,1064.44 1170.99,1056.62 1172.96,1054.67 1174.93,1053.57 1176.9,1038.64 1178.87,1033.7 1180.84,1029.11 1182.81,1045.94 1184.78,1037.12 1186.75,1035.91 \n  1188.72,1011.68 1190.69,1036.49 1192.66,1012.77 1194.63,1047.85 1196.6,1028.51 1198.57,1020.65 1200.54,1020.47 1202.51,1032.62 1204.48,1009.45 1206.45,1034.84 \n  1208.42,1023.72 1210.39,1023.73 1212.36,994.65 1214.33,1009.62 1216.3,1018.34 1218.27,994.569 1220.24,1030.3 1222.21,1002.82 1224.18,992.958 1226.15,986.531 \n  1228.12,1001.8 1230.09,995.452 1232.06,1001.04 1234.03,997.392 1236,965.22 1237.96,994.637 1239.93,984.723 1241.9,992.608 1243.87,991.661 1245.84,978.388 \n  1247.81,983.109 1249.78,984.463 1251.75,970.275 1253.72,982.679 1255.69,952.103 1257.66,967.102 1259.63,956.854 1261.6,959.84 1263.57,944.877 1265.54,987.519 \n  1267.51,950.399 1269.48,949.391 1271.45,949.198 1273.42,930.681 1275.39,975.422 1277.36,947.126 1279.33,940.43 1281.3,941.677 1283.27,947.892 1285.24,934.204 \n  1287.21,959.941 1289.18,871.276 1291.15,842.395 1293.12,553.08 1295.09,665.017 1297.06,918.825 1299.03,922.151 1301,925.989 1302.97,929.695 1304.94,905.779 \n  1306.91,908.443 1308.88,912.365 1310.85,912.409 1312.82,907.212 1314.79,905.316 1316.76,893.612 1318.73,890.73 1320.7,910.665 1322.67,915.959 1324.64,907.708 \n  1326.61,866.092 1328.58,885.841 1330.55,825.89 1332.52,850.262 1334.49,829.041 1336.46,876.563 1338.43,876.255 1340.4,851.983 1342.36,894.144 1344.33,884.905 \n  1346.3,874.01 1348.27,836.714 1350.24,846.058 1352.21,826.146 1354.18,801.416 1356.15,819.073 1358.12,837.104 1360.09,804.152 1362.06,777.397 1364.03,811.981 \n  1366,738.427 1367.97,706.64 1369.94,810.949 1371.91,775.232 1373.88,824.685 1375.85,817.725 1377.82,771.744 1379.79,827.341 1381.76,811.665 1383.73,845.053 \n  1385.7,819.42 1387.67,819.084 1389.64,826.381 1391.61,748.621 1393.58,779.167 1395.55,774.733 1397.52,742.321 1399.49,764.676 1401.46,804.184 1403.43,802.164 \n  1405.4,778.179 1407.37,771.97 1409.34,774.686 1411.31,726.787 1413.28,703.977 1415.25,782.478 1417.22,780.136 1419.19,726.242 1421.16,763.223 1423.13,744.292 \n  1425.1,739.888 1427.07,712.027 1429.04,722.512 1431.01,772.96 1432.98,726.271 1434.95,714.418 1436.92,751.352 1438.89,732.728 1440.86,733.921 1442.83,706.44 \n  1444.79,742.309 1446.76,715.656 1448.73,693.238 1450.7,732.625 1452.67,733.704 1454.64,706.303 1456.61,625.819 1458.58,702.465 1460.55,671.786 1462.52,702.553 \n  1464.49,669.836 1466.46,709.835 1468.43,734.841 1470.4,709.101 1472.37,728.582 1474.34,710.184 1476.31,713.642 1478.28,692.482 1480.25,733.552 1482.22,661.457 \n  1484.19,692.016 1486.16,682.4 1488.13,689.848 1490.1,668.543 1492.07,686.225 1494.04,677.128 1496.01,694.344 1497.98,681.08 1499.95,655.413 1501.92,707.98 \n  1503.89,673.685 1505.86,673.601 1507.83,698.207 1509.8,668.647 1511.77,638.755 1513.74,661.353 1515.71,656.798 1517.68,647.543 1519.65,651.696 1521.62,681.377 \n  1523.59,594.083 1525.56,564.263 1527.53,577.552 1529.5,607.046 1531.47,622.241 1533.44,649.427 1535.41,641.879 1537.38,634.069 1539.35,626.464 1541.32,650.063 \n  1543.29,622.358 1545.26,585.87 1547.23,635.485 1549.19,622.225 1551.16,595.776 1553.13,594.232 1555.1,602.527 1557.07,584.511 1559.04,609.986 1561.01,574.873 \n  1562.98,579.139 1564.95,570.03 1566.92,595.213 1568.89,599.781 1570.86,609.729 1572.83,572.867 1574.8,558.388 1576.77,562.397 1578.74,584.999 1580.71,593.378 \n  1582.68,564.082 1584.65,604.947 1586.62,548.612 1588.59,518.42 1590.56,555.852 1592.53,558.559 1594.5,552.392 1596.47,572.818 1598.44,537.21 1600.41,507.394 \n  1602.38,594.613 1604.35,410.957 1606.32,424.344 1608.29,494.556 1610.26,499.348 1612.23,529.466 1614.2,481.915 1616.17,429.017 1618.14,450.279 1620.11,490.366 \n  1622.08,445.796 1624.05,490.995 1626.02,493.375 1627.99,499.486 1629.96,460.138 1631.93,381.656 1633.9,437.07 1635.87,399.734 1637.84,387.127 1639.81,394.484 \n  1641.78,410.14 1643.75,468.108 1645.72,346.718 1647.69,352.729 1649.66,366.234 1651.63,361.775 1653.59,306.126 1655.56,333.162 1657.53,305.566 1659.5,367.357 \n  1661.47,326.627 1663.44,368.371 1665.41,367.131 1667.38,320.786 1669.35,340.963 1671.32,303.817 1673.29,325.919 1675.26,298.637 1677.23,348.044 1679.2,315.918 \n  1681.17,285.989 1683.14,381.178 1685.11,279.21 1687.08,309.338 1689.05,301.47 1691.02,205.132 1692.99,245.157 1694.96,242.382 1696.93,391.743 1698.9,372.681 \n  1700.87,419.388 1702.84,401.647 1704.81,352.512 1706.78,407.088 1708.75,345.331 1710.72,389.364 1712.69,335.027 1714.66,334.201 1716.63,304.582 1718.6,268.769 \n  1720.57,305.429 1722.54,279.081 1724.51,311.259 1726.48,263.235 1728.45,320.723 1730.42,293.406 1732.39,226.587 1734.36,287.399 1736.33,283.371 1738.3,263.846 \n  1740.27,232.639 1742.24,268.391 1744.21,248.83 1746.18,244.582 1748.15,258.827 1750.12,241.363 1752.09,279.461 1754.06,226.15 1756.02,217.013 1757.99,203.528 \n  1759.96,280.022 1761.93,187.241 1763.9,225.254 1765.87,87.9763 1767.84,205.307 1769.81,228.43 1771.78,160.99 1773.75,195.147 1775.72,210.175 1777.69,196.402 \n  \n  \"/>\n<path clip-path=\"url(#clip400)\" d=\"\nM1898.11 198.898 L2352.76 198.898 L2352.76 95.2176 L1898.11 95.2176  Z\n  \" fill=\"#ffffff\" fill-rule=\"evenodd\" fill-opacity=\"1\"/>\n<polyline clip-path=\"url(#clip400)\" style=\"stroke:#000000; stroke-linecap:butt; stroke-linejoin:round; stroke-width:4; stroke-opacity:1; fill:none\" points=\"\n  1898.11,198.898 2352.76,198.898 2352.76,95.2176 1898.11,95.2176 1898.11,198.898 \n  \"/>\n<polyline clip-path=\"url(#clip400)\" style=\"stroke:#009af9; stroke-linecap:butt; stroke-linejoin:round; stroke-width:4; stroke-opacity:1; fill:none\" points=\"\n  1922.52,147.058 2068.93,147.058 \n  \"/>\n<path clip-path=\"url(#clip400)\" d=\"M2093.33 128.319 L2097.59 128.319 L2097.59 164.338 L2093.33 164.338 L2093.33 128.319 Z\" fill=\"#000000\" fill-rule=\"evenodd\" fill-opacity=\"1\" /><path clip-path=\"url(#clip400)\" d=\"M2106.5 138.412 L2110.76 138.412 L2110.76 164.338 L2106.5 164.338 L2106.5 138.412 M2106.5 128.319 L2110.76 128.319 L2110.76 133.713 L2106.5 133.713 L2106.5 128.319 Z\" fill=\"#000000\" fill-rule=\"evenodd\" fill-opacity=\"1\" /><path clip-path=\"url(#clip400)\" d=\"M2138.28 151.398 Q2138.28 146.699 2136.34 144.037 Q2134.42 141.352 2131.04 141.352 Q2127.66 141.352 2125.71 144.037 Q2123.79 146.699 2123.79 151.398 Q2123.79 156.097 2125.71 158.782 Q2127.66 161.444 2131.04 161.444 Q2134.42 161.444 2136.34 158.782 Q2138.28 156.097 2138.28 151.398 M2123.79 142.347 Q2125.13 140.032 2127.17 138.921 Q2129.23 137.787 2132.08 137.787 Q2136.8 137.787 2139.74 141.537 Q2142.7 145.287 2142.7 151.398 Q2142.7 157.509 2139.74 161.259 Q2136.8 165.009 2132.08 165.009 Q2129.23 165.009 2127.17 163.898 Q2125.13 162.763 2123.79 160.449 L2123.79 164.338 L2119.51 164.338 L2119.51 128.319 L2123.79 128.319 L2123.79 142.347 Z\" fill=\"#000000\" fill-rule=\"evenodd\" fill-opacity=\"1\" /><path clip-path=\"url(#clip400)\" d=\"M2181.36 139.176 L2181.36 143.203 Q2179.55 142.277 2177.61 141.815 Q2175.67 141.352 2173.58 141.352 Q2170.41 141.352 2168.81 142.324 Q2167.24 143.296 2167.24 145.24 Q2167.24 146.722 2168.37 147.578 Q2169.51 148.412 2172.93 149.176 L2174.39 149.5 Q2178.93 150.472 2180.83 152.254 Q2182.75 154.014 2182.75 157.185 Q2182.75 160.796 2179.88 162.902 Q2177.03 165.009 2172.03 165.009 Q2169.95 165.009 2167.68 164.592 Q2165.43 164.199 2162.93 163.388 L2162.93 158.99 Q2165.3 160.217 2167.59 160.842 Q2169.88 161.444 2172.12 161.444 Q2175.13 161.444 2176.75 160.426 Q2178.37 159.384 2178.37 157.509 Q2178.37 155.773 2177.19 154.847 Q2176.04 153.921 2172.08 153.064 L2170.6 152.717 Q2166.64 151.884 2164.88 150.171 Q2163.12 148.435 2163.12 145.426 Q2163.12 141.768 2165.71 139.778 Q2168.3 137.787 2173.07 137.787 Q2175.43 137.787 2177.52 138.134 Q2179.6 138.481 2181.36 139.176 Z\" fill=\"#000000\" fill-rule=\"evenodd\" fill-opacity=\"1\" /><path clip-path=\"url(#clip400)\" d=\"M2199.58 141.398 Q2196.15 141.398 2194.16 144.083 Q2192.17 146.745 2192.17 151.398 Q2192.17 156.051 2194.14 158.736 Q2196.13 161.398 2199.58 161.398 Q2202.98 161.398 2204.97 158.713 Q2206.96 156.027 2206.96 151.398 Q2206.96 146.791 2204.97 144.106 Q2202.98 141.398 2199.58 141.398 M2199.58 137.787 Q2205.13 137.787 2208.3 141.398 Q2211.48 145.009 2211.48 151.398 Q2211.48 157.764 2208.3 161.398 Q2205.13 165.009 2199.58 165.009 Q2194 165.009 2190.83 161.398 Q2187.68 157.764 2187.68 151.398 Q2187.68 145.009 2190.83 141.398 Q2194 137.787 2199.58 137.787 Z\" fill=\"#000000\" fill-rule=\"evenodd\" fill-opacity=\"1\" /><path clip-path=\"url(#clip400)\" d=\"M2218.54 128.319 L2222.8 128.319 L2222.8 164.338 L2218.54 164.338 L2218.54 128.319 Z\" fill=\"#000000\" fill-rule=\"evenodd\" fill-opacity=\"1\" /><path clip-path=\"url(#clip400)\" d=\"M2228.65 138.412 L2233.17 138.412 L2241.27 160.171 L2249.37 138.412 L2253.88 138.412 L2244.16 164.338 L2238.37 164.338 L2228.65 138.412 Z\" fill=\"#000000\" fill-rule=\"evenodd\" fill-opacity=\"1\" /><path clip-path=\"url(#clip400)\" d=\"M2281.94 150.31 L2281.94 152.393 L2262.36 152.393 Q2262.63 156.791 2264.99 159.106 Q2267.38 161.398 2271.61 161.398 Q2274.07 161.398 2276.36 160.796 Q2278.67 160.194 2280.94 158.99 L2280.94 163.018 Q2278.65 163.99 2276.24 164.5 Q2273.84 165.009 2271.36 165.009 Q2265.16 165.009 2261.52 161.398 Q2257.91 157.787 2257.91 151.629 Q2257.91 145.264 2261.34 141.537 Q2264.79 137.787 2270.62 137.787 Q2275.85 137.787 2278.88 141.166 Q2281.94 144.523 2281.94 150.31 M2277.68 149.06 Q2277.63 145.565 2275.71 143.481 Q2273.81 141.398 2270.67 141.398 Q2267.1 141.398 2264.95 143.412 Q2262.82 145.426 2262.49 149.083 L2277.68 149.06 Z\" fill=\"#000000\" fill-rule=\"evenodd\" fill-opacity=\"1\" /><path clip-path=\"url(#clip400)\" d=\"M2303.95 142.393 Q2303.23 141.977 2302.38 141.791 Q2301.55 141.583 2300.53 141.583 Q2296.92 141.583 2294.97 143.944 Q2293.05 146.282 2293.05 150.68 L2293.05 164.338 L2288.77 164.338 L2288.77 138.412 L2293.05 138.412 L2293.05 142.44 Q2294.39 140.078 2296.55 138.944 Q2298.7 137.787 2301.78 137.787 Q2302.22 137.787 2302.75 137.856 Q2303.28 137.903 2303.93 138.018 L2303.95 142.393 Z\" fill=\"#000000\" fill-rule=\"evenodd\" fill-opacity=\"1\" /></svg>\n"
     },
     "execution_count": 8,
     "metadata": {},
     "output_type": "execute_result"
    }
   ],
   "source": [
    "# iter = 1:5:4000\n",
    "# x = [@elapsed(rand(i,i)\\rand(i)) for i = iter]\n",
    "# plot(x, label=\"lib solver\", legend=:outertopright)"
   ]
  },
  {
   "cell_type": "markdown",
   "id": "d4ad98ee-f57c-42d5-89a4-1fa15336b159",
   "metadata": {},
   "source": [
    "该图中可以见得本人手写的高斯消元耗时远远超出了库函数解法，仅在阶数低于50（横坐标16附近）时大致能和`lib solver`耗时相当。"
   ]
  },
  {
   "cell_type": "code",
   "execution_count": 9,
   "id": "62df269d-90d2-4838-801e-18b5c18a80c1",
   "metadata": {},
   "outputs": [
    {
     "data": {
      "image/svg+xml": "<?xml version=\"1.0\" encoding=\"utf-8\"?>\n<svg xmlns=\"http://www.w3.org/2000/svg\" xmlns:xlink=\"http://www.w3.org/1999/xlink\" width=\"600\" height=\"400\" viewBox=\"0 0 2400 1600\">\n<defs>\n  <clipPath id=\"clip440\">\n    <rect x=\"0\" y=\"0\" width=\"2400\" height=\"1600\"/>\n  </clipPath>\n</defs>\n<path clip-path=\"url(#clip440)\" d=\"\nM0 1600 L2400 1600 L2400 0 L0 0  Z\n  \" fill=\"#ffffff\" fill-rule=\"evenodd\" fill-opacity=\"1\"/>\n<defs>\n  <clipPath id=\"clip441\">\n    <rect x=\"480\" y=\"0\" width=\"1681\" height=\"1600\"/>\n  </clipPath>\n</defs>\n<path clip-path=\"url(#clip440)\" d=\"\nM216.436 1486.45 L1833.55 1486.45 L1833.55 47.2441 L216.436 47.2441  Z\n  \" fill=\"#ffffff\" fill-rule=\"evenodd\" fill-opacity=\"1\"/>\n<defs>\n  <clipPath id=\"clip442\">\n    <rect x=\"216\" y=\"47\" width=\"1618\" height=\"1440\"/>\n  </clipPath>\n</defs>\n<polyline clip-path=\"url(#clip442)\" style=\"stroke:#000000; stroke-linecap:butt; stroke-linejoin:round; stroke-width:2; stroke-opacity:0.1; fill:none\" points=\"\n  246.793,1486.45 246.793,47.2441 \n  \"/>\n<polyline clip-path=\"url(#clip442)\" style=\"stroke:#000000; stroke-linecap:butt; stroke-linejoin:round; stroke-width:2; stroke-opacity:0.1; fill:none\" points=\"\n  632.041,1486.45 632.041,47.2441 \n  \"/>\n<polyline clip-path=\"url(#clip442)\" style=\"stroke:#000000; stroke-linecap:butt; stroke-linejoin:round; stroke-width:2; stroke-opacity:0.1; fill:none\" points=\"\n  1017.29,1486.45 1017.29,47.2441 \n  \"/>\n<polyline clip-path=\"url(#clip442)\" style=\"stroke:#000000; stroke-linecap:butt; stroke-linejoin:round; stroke-width:2; stroke-opacity:0.1; fill:none\" points=\"\n  1402.54,1486.45 1402.54,47.2441 \n  \"/>\n<polyline clip-path=\"url(#clip442)\" style=\"stroke:#000000; stroke-linecap:butt; stroke-linejoin:round; stroke-width:2; stroke-opacity:0.1; fill:none\" points=\"\n  1787.79,1486.45 1787.79,47.2441 \n  \"/>\n<polyline clip-path=\"url(#clip440)\" style=\"stroke:#000000; stroke-linecap:butt; stroke-linejoin:round; stroke-width:4; stroke-opacity:1; fill:none\" points=\"\n  216.436,1486.45 1833.55,1486.45 \n  \"/>\n<polyline clip-path=\"url(#clip440)\" style=\"stroke:#000000; stroke-linecap:butt; stroke-linejoin:round; stroke-width:4; stroke-opacity:1; fill:none\" points=\"\n  246.793,1486.45 246.793,1467.55 \n  \"/>\n<polyline clip-path=\"url(#clip440)\" style=\"stroke:#000000; stroke-linecap:butt; stroke-linejoin:round; stroke-width:4; stroke-opacity:1; fill:none\" points=\"\n  632.041,1486.45 632.041,1467.55 \n  \"/>\n<polyline clip-path=\"url(#clip440)\" style=\"stroke:#000000; stroke-linecap:butt; stroke-linejoin:round; stroke-width:4; stroke-opacity:1; fill:none\" points=\"\n  1017.29,1486.45 1017.29,1467.55 \n  \"/>\n<polyline clip-path=\"url(#clip440)\" style=\"stroke:#000000; stroke-linecap:butt; stroke-linejoin:round; stroke-width:4; stroke-opacity:1; fill:none\" points=\"\n  1402.54,1486.45 1402.54,1467.55 \n  \"/>\n<polyline clip-path=\"url(#clip440)\" style=\"stroke:#000000; stroke-linecap:butt; stroke-linejoin:round; stroke-width:4; stroke-opacity:1; fill:none\" points=\"\n  1787.79,1486.45 1787.79,1467.55 \n  \"/>\n<path clip-path=\"url(#clip440)\" d=\"M246.793 1517.37 Q243.182 1517.37 241.354 1520.93 Q239.548 1524.47 239.548 1531.6 Q239.548 1538.71 241.354 1542.27 Q243.182 1545.82 246.793 1545.82 Q250.428 1545.82 252.233 1542.27 Q254.062 1538.71 254.062 1531.6 Q254.062 1524.47 252.233 1520.93 Q250.428 1517.37 246.793 1517.37 M246.793 1513.66 Q252.604 1513.66 255.659 1518.27 Q258.738 1522.85 258.738 1531.6 Q258.738 1540.33 255.659 1544.94 Q252.604 1549.52 246.793 1549.52 Q240.983 1549.52 237.905 1544.94 Q234.849 1540.33 234.849 1531.6 Q234.849 1522.85 237.905 1518.27 Q240.983 1513.66 246.793 1513.66 Z\" fill=\"#000000\" fill-rule=\"evenodd\" fill-opacity=\"1\" /><path clip-path=\"url(#clip440)\" d=\"M611.312 1544.91 L627.632 1544.91 L627.632 1548.85 L605.687 1548.85 L605.687 1544.91 Q608.349 1542.16 612.933 1537.53 Q617.539 1532.88 618.72 1531.53 Q620.965 1529.01 621.845 1527.27 Q622.747 1525.51 622.747 1523.82 Q622.747 1521.07 620.803 1519.33 Q618.882 1517.6 615.78 1517.6 Q613.581 1517.6 611.127 1518.36 Q608.697 1519.13 605.919 1520.68 L605.919 1515.95 Q608.743 1514.82 611.197 1514.24 Q613.65 1513.66 615.687 1513.66 Q621.058 1513.66 624.252 1516.35 Q627.446 1519.03 627.446 1523.52 Q627.446 1525.65 626.636 1527.57 Q625.849 1529.47 623.743 1532.07 Q623.164 1532.74 620.062 1535.95 Q616.96 1539.15 611.312 1544.91 Z\" fill=\"#000000\" fill-rule=\"evenodd\" fill-opacity=\"1\" /><path clip-path=\"url(#clip440)\" d=\"M637.493 1514.29 L655.849 1514.29 L655.849 1518.22 L641.775 1518.22 L641.775 1526.7 Q642.794 1526.35 643.812 1526.19 Q644.831 1526 645.849 1526 Q651.636 1526 655.016 1529.17 Q658.395 1532.34 658.395 1537.76 Q658.395 1543.34 654.923 1546.44 Q651.451 1549.52 645.132 1549.52 Q642.956 1549.52 640.687 1549.15 Q638.442 1548.78 636.034 1548.04 L636.034 1543.34 Q638.118 1544.47 640.34 1545.03 Q642.562 1545.58 645.039 1545.58 Q649.044 1545.58 651.381 1543.48 Q653.719 1541.37 653.719 1537.76 Q653.719 1534.15 651.381 1532.04 Q649.044 1529.94 645.039 1529.94 Q643.164 1529.94 641.289 1530.35 Q639.437 1530.77 637.493 1531.65 L637.493 1514.29 Z\" fill=\"#000000\" fill-rule=\"evenodd\" fill-opacity=\"1\" /><path clip-path=\"url(#clip440)\" d=\"M991.988 1514.29 L1010.34 1514.29 L1010.34 1518.22 L996.271 1518.22 L996.271 1526.7 Q997.289 1526.35 998.308 1526.19 Q999.326 1526 1000.34 1526 Q1006.13 1526 1009.51 1529.17 Q1012.89 1532.34 1012.89 1537.76 Q1012.89 1543.34 1009.42 1546.44 Q1005.95 1549.52 999.627 1549.52 Q997.451 1549.52 995.183 1549.15 Q992.937 1548.78 990.53 1548.04 L990.53 1543.34 Q992.613 1544.47 994.836 1545.03 Q997.058 1545.58 999.535 1545.58 Q1003.54 1545.58 1005.88 1543.48 Q1008.22 1541.37 1008.22 1537.76 Q1008.22 1534.15 1005.88 1532.04 Q1003.54 1529.94 999.535 1529.94 Q997.66 1529.94 995.785 1530.35 Q993.933 1530.77 991.988 1531.65 L991.988 1514.29 Z\" fill=\"#000000\" fill-rule=\"evenodd\" fill-opacity=\"1\" /><path clip-path=\"url(#clip440)\" d=\"M1032.1 1517.37 Q1028.49 1517.37 1026.66 1520.93 Q1024.86 1524.47 1024.86 1531.6 Q1024.86 1538.71 1026.66 1542.27 Q1028.49 1545.82 1032.1 1545.82 Q1035.74 1545.82 1037.54 1542.27 Q1039.37 1538.71 1039.37 1531.6 Q1039.37 1524.47 1037.54 1520.93 Q1035.74 1517.37 1032.1 1517.37 M1032.1 1513.66 Q1037.91 1513.66 1040.97 1518.27 Q1044.05 1522.85 1044.05 1531.6 Q1044.05 1540.33 1040.97 1544.94 Q1037.91 1549.52 1032.1 1549.52 Q1026.29 1549.52 1023.22 1544.94 Q1020.16 1540.33 1020.16 1531.6 Q1020.16 1522.85 1023.22 1518.27 Q1026.29 1513.66 1032.1 1513.66 Z\" fill=\"#000000\" fill-rule=\"evenodd\" fill-opacity=\"1\" /><path clip-path=\"url(#clip440)\" d=\"M1376.39 1514.29 L1398.61 1514.29 L1398.61 1516.28 L1386.07 1548.85 L1381.18 1548.85 L1392.99 1518.22 L1376.39 1518.22 L1376.39 1514.29 Z\" fill=\"#000000\" fill-rule=\"evenodd\" fill-opacity=\"1\" /><path clip-path=\"url(#clip440)\" d=\"M1407.78 1514.29 L1426.14 1514.29 L1426.14 1518.22 L1412.06 1518.22 L1412.06 1526.7 Q1413.08 1526.35 1414.1 1526.19 Q1415.12 1526 1416.14 1526 Q1421.92 1526 1425.3 1529.17 Q1428.68 1532.34 1428.68 1537.76 Q1428.68 1543.34 1425.21 1546.44 Q1421.74 1549.52 1415.42 1549.52 Q1413.24 1549.52 1410.97 1549.15 Q1408.73 1548.78 1406.32 1548.04 L1406.32 1543.34 Q1408.41 1544.47 1410.63 1545.03 Q1412.85 1545.58 1415.33 1545.58 Q1419.33 1545.58 1421.67 1543.48 Q1424.01 1541.37 1424.01 1537.76 Q1424.01 1534.15 1421.67 1532.04 Q1419.33 1529.94 1415.33 1529.94 Q1413.45 1529.94 1411.58 1530.35 Q1409.72 1530.77 1407.78 1531.65 L1407.78 1514.29 Z\" fill=\"#000000\" fill-rule=\"evenodd\" fill-opacity=\"1\" /><path clip-path=\"url(#clip440)\" d=\"M1747.39 1544.91 L1755.03 1544.91 L1755.03 1518.55 L1746.72 1520.21 L1746.72 1515.95 L1754.98 1514.29 L1759.66 1514.29 L1759.66 1544.91 L1767.3 1544.91 L1767.3 1548.85 L1747.39 1548.85 L1747.39 1544.91 Z\" fill=\"#000000\" fill-rule=\"evenodd\" fill-opacity=\"1\" /><path clip-path=\"url(#clip440)\" d=\"M1786.74 1517.37 Q1783.13 1517.37 1781.3 1520.93 Q1779.5 1524.47 1779.5 1531.6 Q1779.5 1538.71 1781.3 1542.27 Q1783.13 1545.82 1786.74 1545.82 Q1790.38 1545.82 1792.18 1542.27 Q1794.01 1538.71 1794.01 1531.6 Q1794.01 1524.47 1792.18 1520.93 Q1790.38 1517.37 1786.74 1517.37 M1786.74 1513.66 Q1792.55 1513.66 1795.61 1518.27 Q1798.69 1522.85 1798.69 1531.6 Q1798.69 1540.33 1795.61 1544.94 Q1792.55 1549.52 1786.74 1549.52 Q1780.93 1549.52 1777.85 1544.94 Q1774.8 1540.33 1774.8 1531.6 Q1774.8 1522.85 1777.85 1518.27 Q1780.93 1513.66 1786.74 1513.66 Z\" fill=\"#000000\" fill-rule=\"evenodd\" fill-opacity=\"1\" /><path clip-path=\"url(#clip440)\" d=\"M1816.91 1517.37 Q1813.29 1517.37 1811.47 1520.93 Q1809.66 1524.47 1809.66 1531.6 Q1809.66 1538.71 1811.47 1542.27 Q1813.29 1545.82 1816.91 1545.82 Q1820.54 1545.82 1822.35 1542.27 Q1824.17 1538.71 1824.17 1531.6 Q1824.17 1524.47 1822.35 1520.93 Q1820.54 1517.37 1816.91 1517.37 M1816.91 1513.66 Q1822.72 1513.66 1825.77 1518.27 Q1828.85 1522.85 1828.85 1531.6 Q1828.85 1540.33 1825.77 1544.94 Q1822.72 1549.52 1816.91 1549.52 Q1811.1 1549.52 1808.02 1544.94 Q1804.96 1540.33 1804.96 1531.6 Q1804.96 1522.85 1808.02 1518.27 Q1811.1 1513.66 1816.91 1513.66 Z\" fill=\"#000000\" fill-rule=\"evenodd\" fill-opacity=\"1\" /><polyline clip-path=\"url(#clip442)\" style=\"stroke:#000000; stroke-linecap:butt; stroke-linejoin:round; stroke-width:2; stroke-opacity:0.1; fill:none\" points=\"\n  216.436,1446.05 1833.55,1446.05 \n  \"/>\n<polyline clip-path=\"url(#clip442)\" style=\"stroke:#000000; stroke-linecap:butt; stroke-linejoin:round; stroke-width:2; stroke-opacity:0.1; fill:none\" points=\"\n  216.436,1049.21 1833.55,1049.21 \n  \"/>\n<polyline clip-path=\"url(#clip442)\" style=\"stroke:#000000; stroke-linecap:butt; stroke-linejoin:round; stroke-width:2; stroke-opacity:0.1; fill:none\" points=\"\n  216.436,652.374 1833.55,652.374 \n  \"/>\n<polyline clip-path=\"url(#clip442)\" style=\"stroke:#000000; stroke-linecap:butt; stroke-linejoin:round; stroke-width:2; stroke-opacity:0.1; fill:none\" points=\"\n  216.436,255.537 1833.55,255.537 \n  \"/>\n<polyline clip-path=\"url(#clip440)\" style=\"stroke:#000000; stroke-linecap:butt; stroke-linejoin:round; stroke-width:4; stroke-opacity:1; fill:none\" points=\"\n  216.436,1486.45 216.436,47.2441 \n  \"/>\n<polyline clip-path=\"url(#clip440)\" style=\"stroke:#000000; stroke-linecap:butt; stroke-linejoin:round; stroke-width:4; stroke-opacity:1; fill:none\" points=\"\n  216.436,1446.05 230.741,1446.05 \n  \"/>\n<polyline clip-path=\"url(#clip440)\" style=\"stroke:#000000; stroke-linecap:butt; stroke-linejoin:round; stroke-width:4; stroke-opacity:1; fill:none\" points=\"\n  216.436,1049.21 230.741,1049.21 \n  \"/>\n<polyline clip-path=\"url(#clip440)\" style=\"stroke:#000000; stroke-linecap:butt; stroke-linejoin:round; stroke-width:4; stroke-opacity:1; fill:none\" points=\"\n  216.436,652.374 230.741,652.374 \n  \"/>\n<polyline clip-path=\"url(#clip440)\" style=\"stroke:#000000; stroke-linecap:butt; stroke-linejoin:round; stroke-width:4; stroke-opacity:1; fill:none\" points=\"\n  216.436,255.537 230.741,255.537 \n  \"/>\n<path clip-path=\"url(#clip440)\" d=\"M62.9365 1431.85 Q59.3254 1431.85 57.4967 1435.41 Q55.6912 1438.95 55.6912 1446.08 Q55.6912 1453.19 57.4967 1456.75 Q59.3254 1460.3 62.9365 1460.3 Q66.5707 1460.3 68.3763 1456.75 Q70.205 1453.19 70.205 1446.08 Q70.205 1438.95 68.3763 1435.41 Q66.5707 1431.85 62.9365 1431.85 M62.9365 1428.14 Q68.7467 1428.14 71.8022 1432.75 Q74.8809 1437.33 74.8809 1446.08 Q74.8809 1454.81 71.8022 1459.42 Q68.7467 1464 62.9365 1464 Q57.1264 1464 54.0477 1459.42 Q50.9921 1454.81 50.9921 1446.08 Q50.9921 1437.33 54.0477 1432.75 Q57.1264 1428.14 62.9365 1428.14 Z\" fill=\"#000000\" fill-rule=\"evenodd\" fill-opacity=\"1\" /><path clip-path=\"url(#clip440)\" d=\"M83.0984 1457.45 L87.9827 1457.45 L87.9827 1463.33 L83.0984 1463.33 L83.0984 1457.45 Z\" fill=\"#000000\" fill-rule=\"evenodd\" fill-opacity=\"1\" /><path clip-path=\"url(#clip440)\" d=\"M108.168 1431.85 Q104.557 1431.85 102.728 1435.41 Q100.922 1438.95 100.922 1446.08 Q100.922 1453.19 102.728 1456.75 Q104.557 1460.3 108.168 1460.3 Q111.802 1460.3 113.608 1456.75 Q115.436 1453.19 115.436 1446.08 Q115.436 1438.95 113.608 1435.41 Q111.802 1431.85 108.168 1431.85 M108.168 1428.14 Q113.978 1428.14 117.033 1432.75 Q120.112 1437.33 120.112 1446.08 Q120.112 1454.81 117.033 1459.42 Q113.978 1464 108.168 1464 Q102.358 1464 99.2789 1459.42 Q96.2234 1454.81 96.2234 1446.08 Q96.2234 1437.33 99.2789 1432.75 Q102.358 1428.14 108.168 1428.14 Z\" fill=\"#000000\" fill-rule=\"evenodd\" fill-opacity=\"1\" /><path clip-path=\"url(#clip440)\" d=\"M138.33 1431.85 Q134.719 1431.85 132.89 1435.41 Q131.084 1438.95 131.084 1446.08 Q131.084 1453.19 132.89 1456.75 Q134.719 1460.3 138.33 1460.3 Q141.964 1460.3 143.769 1456.75 Q145.598 1453.19 145.598 1446.08 Q145.598 1438.95 143.769 1435.41 Q141.964 1431.85 138.33 1431.85 M138.33 1428.14 Q144.14 1428.14 147.195 1432.75 Q150.274 1437.33 150.274 1446.08 Q150.274 1454.81 147.195 1459.42 Q144.14 1464 138.33 1464 Q132.519 1464 129.441 1459.42 Q126.385 1454.81 126.385 1446.08 Q126.385 1437.33 129.441 1432.75 Q132.519 1428.14 138.33 1428.14 Z\" fill=\"#000000\" fill-rule=\"evenodd\" fill-opacity=\"1\" /><path clip-path=\"url(#clip440)\" d=\"M168.491 1431.85 Q164.88 1431.85 163.052 1435.41 Q161.246 1438.95 161.246 1446.08 Q161.246 1453.19 163.052 1456.75 Q164.88 1460.3 168.491 1460.3 Q172.126 1460.3 173.931 1456.75 Q175.76 1453.19 175.76 1446.08 Q175.76 1438.95 173.931 1435.41 Q172.126 1431.85 168.491 1431.85 M168.491 1428.14 Q174.302 1428.14 177.357 1432.75 Q180.436 1437.33 180.436 1446.08 Q180.436 1454.81 177.357 1459.42 Q174.302 1464 168.491 1464 Q162.681 1464 159.603 1459.42 Q156.547 1454.81 156.547 1446.08 Q156.547 1437.33 159.603 1432.75 Q162.681 1428.14 168.491 1428.14 Z\" fill=\"#000000\" fill-rule=\"evenodd\" fill-opacity=\"1\" /><path clip-path=\"url(#clip440)\" d=\"M63.9319 1035.01 Q60.3208 1035.01 58.4921 1038.58 Q56.6865 1042.12 56.6865 1049.25 Q56.6865 1056.35 58.4921 1059.92 Q60.3208 1063.46 63.9319 1063.46 Q67.5661 1063.46 69.3717 1059.92 Q71.2004 1056.35 71.2004 1049.25 Q71.2004 1042.12 69.3717 1038.58 Q67.5661 1035.01 63.9319 1035.01 M63.9319 1031.31 Q69.742 1031.31 72.7976 1035.91 Q75.8763 1040.5 75.8763 1049.25 Q75.8763 1057.97 72.7976 1062.58 Q69.742 1067.16 63.9319 1067.16 Q58.1217 1067.16 55.043 1062.58 Q51.9875 1057.97 51.9875 1049.25 Q51.9875 1040.5 55.043 1035.91 Q58.1217 1031.31 63.9319 1031.31 Z\" fill=\"#000000\" fill-rule=\"evenodd\" fill-opacity=\"1\" /><path clip-path=\"url(#clip440)\" d=\"M84.0938 1060.61 L88.978 1060.61 L88.978 1066.49 L84.0938 1066.49 L84.0938 1060.61 Z\" fill=\"#000000\" fill-rule=\"evenodd\" fill-opacity=\"1\" /><path clip-path=\"url(#clip440)\" d=\"M109.163 1035.01 Q105.552 1035.01 103.723 1038.58 Q101.918 1042.12 101.918 1049.25 Q101.918 1056.35 103.723 1059.92 Q105.552 1063.46 109.163 1063.46 Q112.797 1063.46 114.603 1059.92 Q116.432 1056.35 116.432 1049.25 Q116.432 1042.12 114.603 1038.58 Q112.797 1035.01 109.163 1035.01 M109.163 1031.31 Q114.973 1031.31 118.029 1035.91 Q121.107 1040.5 121.107 1049.25 Q121.107 1057.97 118.029 1062.58 Q114.973 1067.16 109.163 1067.16 Q103.353 1067.16 100.274 1062.58 Q97.2187 1057.97 97.2187 1049.25 Q97.2187 1040.5 100.274 1035.91 Q103.353 1031.31 109.163 1031.31 Z\" fill=\"#000000\" fill-rule=\"evenodd\" fill-opacity=\"1\" /><path clip-path=\"url(#clip440)\" d=\"M139.325 1035.01 Q135.714 1035.01 133.885 1038.58 Q132.08 1042.12 132.08 1049.25 Q132.08 1056.35 133.885 1059.92 Q135.714 1063.46 139.325 1063.46 Q142.959 1063.46 144.765 1059.92 Q146.593 1056.35 146.593 1049.25 Q146.593 1042.12 144.765 1038.58 Q142.959 1035.01 139.325 1035.01 M139.325 1031.31 Q145.135 1031.31 148.191 1035.91 Q151.269 1040.5 151.269 1049.25 Q151.269 1057.97 148.191 1062.58 Q145.135 1067.16 139.325 1067.16 Q133.515 1067.16 130.436 1062.58 Q127.381 1057.97 127.381 1049.25 Q127.381 1040.5 130.436 1035.91 Q133.515 1031.31 139.325 1031.31 Z\" fill=\"#000000\" fill-rule=\"evenodd\" fill-opacity=\"1\" /><path clip-path=\"url(#clip440)\" d=\"M159.533 1031.93 L177.89 1031.93 L177.89 1035.87 L163.816 1035.87 L163.816 1044.34 Q164.834 1043.99 165.853 1043.83 Q166.871 1043.64 167.89 1043.64 Q173.677 1043.64 177.056 1046.82 Q180.436 1049.99 180.436 1055.4 Q180.436 1060.98 176.964 1064.08 Q173.491 1067.16 167.172 1067.16 Q164.996 1067.16 162.728 1066.79 Q160.482 1066.42 158.075 1065.68 L158.075 1060.98 Q160.158 1062.12 162.38 1062.67 Q164.603 1063.23 167.079 1063.23 Q171.084 1063.23 173.422 1061.12 Q175.76 1059.01 175.76 1055.4 Q175.76 1051.79 173.422 1049.69 Q171.084 1047.58 167.079 1047.58 Q165.204 1047.58 163.329 1048 Q161.478 1048.41 159.533 1049.29 L159.533 1031.93 Z\" fill=\"#000000\" fill-rule=\"evenodd\" fill-opacity=\"1\" /><path clip-path=\"url(#clip440)\" d=\"M62.9365 638.173 Q59.3254 638.173 57.4967 641.738 Q55.6912 645.279 55.6912 652.409 Q55.6912 659.515 57.4967 663.08 Q59.3254 666.622 62.9365 666.622 Q66.5707 666.622 68.3763 663.08 Q70.205 659.515 70.205 652.409 Q70.205 645.279 68.3763 641.738 Q66.5707 638.173 62.9365 638.173 M62.9365 634.469 Q68.7467 634.469 71.8022 639.076 Q74.8809 643.659 74.8809 652.409 Q74.8809 661.136 71.8022 665.742 Q68.7467 670.326 62.9365 670.326 Q57.1264 670.326 54.0477 665.742 Q50.9921 661.136 50.9921 652.409 Q50.9921 643.659 54.0477 639.076 Q57.1264 634.469 62.9365 634.469 Z\" fill=\"#000000\" fill-rule=\"evenodd\" fill-opacity=\"1\" /><path clip-path=\"url(#clip440)\" d=\"M83.0984 663.775 L87.9827 663.775 L87.9827 669.654 L83.0984 669.654 L83.0984 663.775 Z\" fill=\"#000000\" fill-rule=\"evenodd\" fill-opacity=\"1\" /><path clip-path=\"url(#clip440)\" d=\"M108.168 638.173 Q104.557 638.173 102.728 641.738 Q100.922 645.279 100.922 652.409 Q100.922 659.515 102.728 663.08 Q104.557 666.622 108.168 666.622 Q111.802 666.622 113.608 663.08 Q115.436 659.515 115.436 652.409 Q115.436 645.279 113.608 641.738 Q111.802 638.173 108.168 638.173 M108.168 634.469 Q113.978 634.469 117.033 639.076 Q120.112 643.659 120.112 652.409 Q120.112 661.136 117.033 665.742 Q113.978 670.326 108.168 670.326 Q102.358 670.326 99.2789 665.742 Q96.2234 661.136 96.2234 652.409 Q96.2234 643.659 99.2789 639.076 Q102.358 634.469 108.168 634.469 Z\" fill=\"#000000\" fill-rule=\"evenodd\" fill-opacity=\"1\" /><path clip-path=\"url(#clip440)\" d=\"M129.14 665.719 L136.779 665.719 L136.779 639.354 L128.469 641.02 L128.469 636.761 L136.732 635.094 L141.408 635.094 L141.408 665.719 L149.047 665.719 L149.047 669.654 L129.14 669.654 L129.14 665.719 Z\" fill=\"#000000\" fill-rule=\"evenodd\" fill-opacity=\"1\" /><path clip-path=\"url(#clip440)\" d=\"M168.491 638.173 Q164.88 638.173 163.052 641.738 Q161.246 645.279 161.246 652.409 Q161.246 659.515 163.052 663.08 Q164.88 666.622 168.491 666.622 Q172.126 666.622 173.931 663.08 Q175.76 659.515 175.76 652.409 Q175.76 645.279 173.931 641.738 Q172.126 638.173 168.491 638.173 M168.491 634.469 Q174.302 634.469 177.357 639.076 Q180.436 643.659 180.436 652.409 Q180.436 661.136 177.357 665.742 Q174.302 670.326 168.491 670.326 Q162.681 670.326 159.603 665.742 Q156.547 661.136 156.547 652.409 Q156.547 643.659 159.603 639.076 Q162.681 634.469 168.491 634.469 Z\" fill=\"#000000\" fill-rule=\"evenodd\" fill-opacity=\"1\" /><path clip-path=\"url(#clip440)\" d=\"M63.9319 241.336 Q60.3208 241.336 58.4921 244.9 Q56.6865 248.442 56.6865 255.572 Q56.6865 262.678 58.4921 266.243 Q60.3208 269.785 63.9319 269.785 Q67.5661 269.785 69.3717 266.243 Q71.2004 262.678 71.2004 255.572 Q71.2004 248.442 69.3717 244.9 Q67.5661 241.336 63.9319 241.336 M63.9319 237.632 Q69.742 237.632 72.7976 242.238 Q75.8763 246.822 75.8763 255.572 Q75.8763 264.298 72.7976 268.905 Q69.742 273.488 63.9319 273.488 Q58.1217 273.488 55.043 268.905 Q51.9875 264.298 51.9875 255.572 Q51.9875 246.822 55.043 242.238 Q58.1217 237.632 63.9319 237.632 Z\" fill=\"#000000\" fill-rule=\"evenodd\" fill-opacity=\"1\" /><path clip-path=\"url(#clip440)\" d=\"M84.0938 266.937 L88.978 266.937 L88.978 272.817 L84.0938 272.817 L84.0938 266.937 Z\" fill=\"#000000\" fill-rule=\"evenodd\" fill-opacity=\"1\" /><path clip-path=\"url(#clip440)\" d=\"M109.163 241.336 Q105.552 241.336 103.723 244.9 Q101.918 248.442 101.918 255.572 Q101.918 262.678 103.723 266.243 Q105.552 269.785 109.163 269.785 Q112.797 269.785 114.603 266.243 Q116.432 262.678 116.432 255.572 Q116.432 248.442 114.603 244.9 Q112.797 241.336 109.163 241.336 M109.163 237.632 Q114.973 237.632 118.029 242.238 Q121.107 246.822 121.107 255.572 Q121.107 264.298 118.029 268.905 Q114.973 273.488 109.163 273.488 Q103.353 273.488 100.274 268.905 Q97.2187 264.298 97.2187 255.572 Q97.2187 246.822 100.274 242.238 Q103.353 237.632 109.163 237.632 Z\" fill=\"#000000\" fill-rule=\"evenodd\" fill-opacity=\"1\" /><path clip-path=\"url(#clip440)\" d=\"M130.135 268.882 L137.774 268.882 L137.774 242.516 L129.464 244.183 L129.464 239.924 L137.728 238.257 L142.404 238.257 L142.404 268.882 L150.043 268.882 L150.043 272.817 L130.135 272.817 L130.135 268.882 Z\" fill=\"#000000\" fill-rule=\"evenodd\" fill-opacity=\"1\" /><path clip-path=\"url(#clip440)\" d=\"M159.533 238.257 L177.89 238.257 L177.89 242.192 L163.816 242.192 L163.816 250.664 Q164.834 250.317 165.853 250.155 Q166.871 249.97 167.89 249.97 Q173.677 249.97 177.056 253.141 Q180.436 256.312 180.436 261.729 Q180.436 267.308 176.964 270.409 Q173.491 273.488 167.172 273.488 Q164.996 273.488 162.728 273.118 Q160.482 272.747 158.075 272.007 L158.075 267.308 Q160.158 268.442 162.38 268.997 Q164.603 269.553 167.079 269.553 Q171.084 269.553 173.422 267.447 Q175.76 265.34 175.76 261.729 Q175.76 258.118 173.422 256.011 Q171.084 253.905 167.079 253.905 Q165.204 253.905 163.329 254.322 Q161.478 254.738 159.533 255.618 L159.533 238.257 Z\" fill=\"#000000\" fill-rule=\"evenodd\" fill-opacity=\"1\" /><polyline clip-path=\"url(#clip442)\" style=\"stroke:#009af9; stroke-linecap:butt; stroke-linejoin:round; stroke-width:4; stroke-opacity:1; fill:none\" points=\"\n  262.203,1445.72 277.613,1445 293.023,1445.64 308.433,1445.49 323.843,1422.45 339.253,1426.78 354.663,1416.96 370.073,1404.18 385.483,1403.48 400.893,1382.93 \n  416.302,1375.53 431.712,1387.33 447.122,1378.96 462.532,1369.08 477.942,1356.44 493.352,1355.36 508.762,1359.24 524.172,1359.98 539.582,1351.21 554.992,1350.16 \n  570.402,1337.47 585.812,1336.13 601.221,1319.2 616.631,1316.35 632.041,1306.43 647.451,1298.58 662.861,1292.43 678.271,1287.76 693.681,1281.82 709.091,1276.27 \n  724.501,1260.88 739.911,1252.4 755.321,1241.3 770.731,1264.15 786.14,1252.78 801.55,1250.84 816.96,1228.51 832.37,1232.16 847.78,1213.73 863.19,1221.54 \n  878.6,1202.69 894.01,87.9763 909.42,1164.05 924.83,1196.73 940.24,1200.19 955.65,1198.55 971.059,1186.61 986.469,1146.53 1001.88,1162.49 1017.29,1149.36 \n  1032.7,1132.29 1048.11,1124.78 1063.52,1094.99 1078.93,1113.01 1094.34,1102.22 1109.75,1105.72 1125.16,1081.71 1140.57,1098.42 1155.98,1103.25 1171.39,1074.25 \n  1186.8,1058.7 1202.21,1087.11 1217.62,1067.94 1233.03,1093.9 1248.44,1052.96 1263.85,1014.37 1279.26,1040.73 1294.67,1003.29 1310.08,1029.03 1325.49,1044.52 \n  1340.9,1032.07 1356.31,1010.68 1371.72,1002.07 1387.13,963.487 1402.54,1002.1 1417.95,1029.77 1433.36,494.362 1448.77,976.773 1464.18,1001.08 1479.59,967.447 \n  1495,1007.38 1510.41,959.645 1525.82,919.001 1541.23,928.51 1556.64,981.059 1572.05,963.828 1587.46,934.875 1602.87,918.954 1618.28,945.653 1633.69,906.358 \n  1649.1,890.802 1664.51,924.787 1679.92,896.905 1695.33,881.024 1710.74,111.064 1726.15,830.776 1741.56,885.175 1756.97,895.969 1772.38,860.595 1787.79,905.096 \n  \n  \"/>\n<path clip-path=\"url(#clip440)\" d=\"\nM1904.76 198.898 L2352.76 198.898 L2352.76 95.2176 L1904.76 95.2176  Z\n  \" fill=\"#ffffff\" fill-rule=\"evenodd\" fill-opacity=\"1\"/>\n<polyline clip-path=\"url(#clip440)\" style=\"stroke:#000000; stroke-linecap:butt; stroke-linejoin:round; stroke-width:4; stroke-opacity:1; fill:none\" points=\"\n  1904.76,198.898 2352.76,198.898 2352.76,95.2176 1904.76,95.2176 1904.76,198.898 \n  \"/>\n<polyline clip-path=\"url(#clip440)\" style=\"stroke:#009af9; stroke-linecap:butt; stroke-linejoin:round; stroke-width:4; stroke-opacity:1; fill:none\" points=\"\n  1928.5,147.058 2070.92,147.058 \n  \"/>\n<path clip-path=\"url(#clip440)\" d=\"M2094.66 128.319 L2098.92 128.319 L2098.92 164.338 L2094.66 164.338 L2094.66 128.319 Z\" fill=\"#000000\" fill-rule=\"evenodd\" fill-opacity=\"1\" /><path clip-path=\"url(#clip440)\" d=\"M2107.83 138.412 L2112.09 138.412 L2112.09 164.338 L2107.83 164.338 L2107.83 138.412 M2107.83 128.319 L2112.09 128.319 L2112.09 133.713 L2107.83 133.713 L2107.83 128.319 Z\" fill=\"#000000\" fill-rule=\"evenodd\" fill-opacity=\"1\" /><path clip-path=\"url(#clip440)\" d=\"M2139.61 151.398 Q2139.61 146.699 2137.67 144.037 Q2135.75 141.352 2132.37 141.352 Q2128.99 141.352 2127.04 144.037 Q2125.12 146.699 2125.12 151.398 Q2125.12 156.097 2127.04 158.782 Q2128.99 161.444 2132.37 161.444 Q2135.75 161.444 2137.67 158.782 Q2139.61 156.097 2139.61 151.398 M2125.12 142.347 Q2126.46 140.032 2128.5 138.921 Q2130.56 137.787 2133.41 137.787 Q2138.13 137.787 2141.07 141.537 Q2144.03 145.287 2144.03 151.398 Q2144.03 157.509 2141.07 161.259 Q2138.13 165.009 2133.41 165.009 Q2130.56 165.009 2128.5 163.898 Q2126.46 162.763 2125.12 160.449 L2125.12 164.338 L2120.84 164.338 L2120.84 128.319 L2125.12 128.319 L2125.12 142.347 Z\" fill=\"#000000\" fill-rule=\"evenodd\" fill-opacity=\"1\" /><path clip-path=\"url(#clip440)\" d=\"M2182.69 139.176 L2182.69 143.203 Q2180.88 142.277 2178.94 141.815 Q2177 141.352 2174.91 141.352 Q2171.74 141.352 2170.14 142.324 Q2168.57 143.296 2168.57 145.24 Q2168.57 146.722 2169.7 147.578 Q2170.84 148.412 2174.26 149.176 L2175.72 149.5 Q2180.26 150.472 2182.16 152.254 Q2184.08 154.014 2184.08 157.185 Q2184.08 160.796 2181.21 162.902 Q2178.36 165.009 2173.36 165.009 Q2171.28 165.009 2169.01 164.592 Q2166.76 164.199 2164.26 163.388 L2164.26 158.99 Q2166.63 160.217 2168.92 160.842 Q2171.21 161.444 2173.45 161.444 Q2176.46 161.444 2178.08 160.426 Q2179.7 159.384 2179.7 157.509 Q2179.7 155.773 2178.52 154.847 Q2177.37 153.921 2173.41 153.064 L2171.93 152.717 Q2167.97 151.884 2166.21 150.171 Q2164.45 148.435 2164.45 145.426 Q2164.45 141.768 2167.04 139.778 Q2169.63 137.787 2174.4 137.787 Q2176.76 137.787 2178.85 138.134 Q2180.93 138.481 2182.69 139.176 Z\" fill=\"#000000\" fill-rule=\"evenodd\" fill-opacity=\"1\" /><path clip-path=\"url(#clip440)\" d=\"M2200.91 141.398 Q2197.48 141.398 2195.49 144.083 Q2193.5 146.745 2193.5 151.398 Q2193.5 156.051 2195.47 158.736 Q2197.46 161.398 2200.91 161.398 Q2204.31 161.398 2206.3 158.713 Q2208.29 156.027 2208.29 151.398 Q2208.29 146.791 2206.3 144.106 Q2204.31 141.398 2200.91 141.398 M2200.91 137.787 Q2206.46 137.787 2209.63 141.398 Q2212.81 145.009 2212.81 151.398 Q2212.81 157.764 2209.63 161.398 Q2206.46 165.009 2200.91 165.009 Q2195.33 165.009 2192.16 161.398 Q2189.01 157.764 2189.01 151.398 Q2189.01 145.009 2192.16 141.398 Q2195.33 137.787 2200.91 137.787 Z\" fill=\"#000000\" fill-rule=\"evenodd\" fill-opacity=\"1\" /><path clip-path=\"url(#clip440)\" d=\"M2219.87 128.319 L2224.13 128.319 L2224.13 164.338 L2219.87 164.338 L2219.87 128.319 Z\" fill=\"#000000\" fill-rule=\"evenodd\" fill-opacity=\"1\" /><path clip-path=\"url(#clip440)\" d=\"M2229.98 138.412 L2234.5 138.412 L2242.6 160.171 L2250.7 138.412 L2255.21 138.412 L2245.49 164.338 L2239.7 164.338 L2229.98 138.412 Z\" fill=\"#000000\" fill-rule=\"evenodd\" fill-opacity=\"1\" /><path clip-path=\"url(#clip440)\" d=\"M2283.27 150.31 L2283.27 152.393 L2263.69 152.393 Q2263.96 156.791 2266.32 159.106 Q2268.71 161.398 2272.94 161.398 Q2275.4 161.398 2277.69 160.796 Q2280 160.194 2282.27 158.99 L2282.27 163.018 Q2279.98 163.99 2277.57 164.5 Q2275.17 165.009 2272.69 165.009 Q2266.49 165.009 2262.85 161.398 Q2259.24 157.787 2259.24 151.629 Q2259.24 145.264 2262.67 141.537 Q2266.12 137.787 2271.95 137.787 Q2277.18 137.787 2280.21 141.166 Q2283.27 144.523 2283.27 150.31 M2279.01 149.06 Q2278.96 145.565 2277.04 143.481 Q2275.14 141.398 2272 141.398 Q2268.43 141.398 2266.28 143.412 Q2264.15 145.426 2263.82 149.083 L2279.01 149.06 Z\" fill=\"#000000\" fill-rule=\"evenodd\" fill-opacity=\"1\" /><path clip-path=\"url(#clip440)\" d=\"M2305.28 142.393 Q2304.56 141.977 2303.71 141.791 Q2302.87 141.583 2301.86 141.583 Q2298.25 141.583 2296.3 143.944 Q2294.38 146.282 2294.38 150.68 L2294.38 164.338 L2290.1 164.338 L2290.1 138.412 L2294.38 138.412 L2294.38 142.44 Q2295.72 140.078 2297.87 138.944 Q2300.03 137.787 2303.11 137.787 Q2303.55 137.787 2304.08 137.856 Q2304.61 137.903 2305.26 138.018 L2305.28 142.393 Z\" fill=\"#000000\" fill-rule=\"evenodd\" fill-opacity=\"1\" /></svg>\n"
     },
     "metadata": {},
     "output_type": "display_data"
    },
    {
     "data": {
      "image/svg+xml": "<?xml version=\"1.0\" encoding=\"utf-8\"?>\n<svg xmlns=\"http://www.w3.org/2000/svg\" xmlns:xlink=\"http://www.w3.org/1999/xlink\" width=\"600\" height=\"400\" viewBox=\"0 0 2400 1600\">\n<defs>\n  <clipPath id=\"clip480\">\n    <rect x=\"0\" y=\"0\" width=\"2400\" height=\"1600\"/>\n  </clipPath>\n</defs>\n<path clip-path=\"url(#clip480)\" d=\"\nM0 1600 L2400 1600 L2400 0 L0 0  Z\n  \" fill=\"#ffffff\" fill-rule=\"evenodd\" fill-opacity=\"1\"/>\n<defs>\n  <clipPath id=\"clip481\">\n    <rect x=\"480\" y=\"0\" width=\"1681\" height=\"1600\"/>\n  </clipPath>\n</defs>\n<path clip-path=\"url(#clip480)\" d=\"\nM156.598 1486.45 L1776.85 1486.45 L1776.85 47.2441 L156.598 47.2441  Z\n  \" fill=\"#ffffff\" fill-rule=\"evenodd\" fill-opacity=\"1\"/>\n<defs>\n  <clipPath id=\"clip482\">\n    <rect x=\"156\" y=\"47\" width=\"1621\" height=\"1440\"/>\n  </clipPath>\n</defs>\n<polyline clip-path=\"url(#clip482)\" style=\"stroke:#000000; stroke-linecap:butt; stroke-linejoin:round; stroke-width:2; stroke-opacity:0.1; fill:none\" points=\"\n  187.015,1486.45 187.015,47.2441 \n  \"/>\n<polyline clip-path=\"url(#clip482)\" style=\"stroke:#000000; stroke-linecap:butt; stroke-linejoin:round; stroke-width:2; stroke-opacity:0.1; fill:none\" points=\"\n  573.01,1486.45 573.01,47.2441 \n  \"/>\n<polyline clip-path=\"url(#clip482)\" style=\"stroke:#000000; stroke-linecap:butt; stroke-linejoin:round; stroke-width:2; stroke-opacity:0.1; fill:none\" points=\"\n  959.006,1486.45 959.006,47.2441 \n  \"/>\n<polyline clip-path=\"url(#clip482)\" style=\"stroke:#000000; stroke-linecap:butt; stroke-linejoin:round; stroke-width:2; stroke-opacity:0.1; fill:none\" points=\"\n  1345,1486.45 1345,47.2441 \n  \"/>\n<polyline clip-path=\"url(#clip482)\" style=\"stroke:#000000; stroke-linecap:butt; stroke-linejoin:round; stroke-width:2; stroke-opacity:0.1; fill:none\" points=\"\n  1731,1486.45 1731,47.2441 \n  \"/>\n<polyline clip-path=\"url(#clip480)\" style=\"stroke:#000000; stroke-linecap:butt; stroke-linejoin:round; stroke-width:4; stroke-opacity:1; fill:none\" points=\"\n  156.598,1486.45 1776.85,1486.45 \n  \"/>\n<polyline clip-path=\"url(#clip480)\" style=\"stroke:#000000; stroke-linecap:butt; stroke-linejoin:round; stroke-width:4; stroke-opacity:1; fill:none\" points=\"\n  187.015,1486.45 187.015,1467.55 \n  \"/>\n<polyline clip-path=\"url(#clip480)\" style=\"stroke:#000000; stroke-linecap:butt; stroke-linejoin:round; stroke-width:4; stroke-opacity:1; fill:none\" points=\"\n  573.01,1486.45 573.01,1467.55 \n  \"/>\n<polyline clip-path=\"url(#clip480)\" style=\"stroke:#000000; stroke-linecap:butt; stroke-linejoin:round; stroke-width:4; stroke-opacity:1; fill:none\" points=\"\n  959.006,1486.45 959.006,1467.55 \n  \"/>\n<polyline clip-path=\"url(#clip480)\" style=\"stroke:#000000; stroke-linecap:butt; stroke-linejoin:round; stroke-width:4; stroke-opacity:1; fill:none\" points=\"\n  1345,1486.45 1345,1467.55 \n  \"/>\n<polyline clip-path=\"url(#clip480)\" style=\"stroke:#000000; stroke-linecap:butt; stroke-linejoin:round; stroke-width:4; stroke-opacity:1; fill:none\" points=\"\n  1731,1486.45 1731,1467.55 \n  \"/>\n<path clip-path=\"url(#clip480)\" d=\"M187.015 1517.37 Q183.404 1517.37 181.575 1520.93 Q179.769 1524.47 179.769 1531.6 Q179.769 1538.71 181.575 1542.27 Q183.404 1545.82 187.015 1545.82 Q190.649 1545.82 192.454 1542.27 Q194.283 1538.71 194.283 1531.6 Q194.283 1524.47 192.454 1520.93 Q190.649 1517.37 187.015 1517.37 M187.015 1513.66 Q192.825 1513.66 195.88 1518.27 Q198.959 1522.85 198.959 1531.6 Q198.959 1540.33 195.88 1544.94 Q192.825 1549.52 187.015 1549.52 Q181.205 1549.52 178.126 1544.94 Q175.07 1540.33 175.07 1531.6 Q175.07 1522.85 178.126 1518.27 Q181.205 1513.66 187.015 1513.66 Z\" fill=\"#000000\" fill-rule=\"evenodd\" fill-opacity=\"1\" /><path clip-path=\"url(#clip480)\" d=\"M552.281 1544.91 L568.601 1544.91 L568.601 1548.85 L546.656 1548.85 L546.656 1544.91 Q549.318 1542.16 553.902 1537.53 Q558.508 1532.88 559.689 1531.53 Q561.934 1529.01 562.814 1527.27 Q563.717 1525.51 563.717 1523.82 Q563.717 1521.07 561.772 1519.33 Q559.851 1517.6 556.749 1517.6 Q554.55 1517.6 552.096 1518.36 Q549.666 1519.13 546.888 1520.68 L546.888 1515.95 Q549.712 1514.82 552.166 1514.24 Q554.619 1513.66 556.656 1513.66 Q562.027 1513.66 565.221 1516.35 Q568.416 1519.03 568.416 1523.52 Q568.416 1525.65 567.605 1527.57 Q566.818 1529.47 564.712 1532.07 Q564.133 1532.74 561.031 1535.95 Q557.93 1539.15 552.281 1544.91 Z\" fill=\"#000000\" fill-rule=\"evenodd\" fill-opacity=\"1\" /><path clip-path=\"url(#clip480)\" d=\"M578.462 1514.29 L596.818 1514.29 L596.818 1518.22 L582.744 1518.22 L582.744 1526.7 Q583.763 1526.35 584.781 1526.19 Q585.8 1526 586.818 1526 Q592.605 1526 595.985 1529.17 Q599.364 1532.34 599.364 1537.76 Q599.364 1543.34 595.892 1546.44 Q592.42 1549.52 586.101 1549.52 Q583.925 1549.52 581.656 1549.15 Q579.411 1548.78 577.003 1548.04 L577.003 1543.34 Q579.087 1544.47 581.309 1545.03 Q583.531 1545.58 586.008 1545.58 Q590.013 1545.58 592.351 1543.48 Q594.689 1541.37 594.689 1537.76 Q594.689 1534.15 592.351 1532.04 Q590.013 1529.94 586.008 1529.94 Q584.133 1529.94 582.258 1530.35 Q580.406 1530.77 578.462 1531.65 L578.462 1514.29 Z\" fill=\"#000000\" fill-rule=\"evenodd\" fill-opacity=\"1\" /><path clip-path=\"url(#clip480)\" d=\"M933.705 1514.29 L952.062 1514.29 L952.062 1518.22 L937.988 1518.22 L937.988 1526.7 Q939.006 1526.35 940.025 1526.19 Q941.043 1526 942.062 1526 Q947.849 1526 951.228 1529.17 Q954.608 1532.34 954.608 1537.76 Q954.608 1543.34 951.136 1546.44 Q947.664 1549.52 941.344 1549.52 Q939.168 1549.52 936.9 1549.15 Q934.654 1548.78 932.247 1548.04 L932.247 1543.34 Q934.33 1544.47 936.553 1545.03 Q938.775 1545.58 941.252 1545.58 Q945.256 1545.58 947.594 1543.48 Q949.932 1541.37 949.932 1537.76 Q949.932 1534.15 947.594 1532.04 Q945.256 1529.94 941.252 1529.94 Q939.377 1529.94 937.502 1530.35 Q935.65 1530.77 933.705 1531.65 L933.705 1514.29 Z\" fill=\"#000000\" fill-rule=\"evenodd\" fill-opacity=\"1\" /><path clip-path=\"url(#clip480)\" d=\"M973.821 1517.37 Q970.21 1517.37 968.381 1520.93 Q966.576 1524.47 966.576 1531.6 Q966.576 1538.71 968.381 1542.27 Q970.21 1545.82 973.821 1545.82 Q977.455 1545.82 979.261 1542.27 Q981.089 1538.71 981.089 1531.6 Q981.089 1524.47 979.261 1520.93 Q977.455 1517.37 973.821 1517.37 M973.821 1513.66 Q979.631 1513.66 982.687 1518.27 Q985.765 1522.85 985.765 1531.6 Q985.765 1540.33 982.687 1544.94 Q979.631 1549.52 973.821 1549.52 Q968.011 1549.52 964.932 1544.94 Q961.877 1540.33 961.877 1531.6 Q961.877 1522.85 964.932 1518.27 Q968.011 1513.66 973.821 1513.66 Z\" fill=\"#000000\" fill-rule=\"evenodd\" fill-opacity=\"1\" /><path clip-path=\"url(#clip480)\" d=\"M1318.86 1514.29 L1341.08 1514.29 L1341.08 1516.28 L1328.53 1548.85 L1323.65 1548.85 L1335.45 1518.22 L1318.86 1518.22 L1318.86 1514.29 Z\" fill=\"#000000\" fill-rule=\"evenodd\" fill-opacity=\"1\" /><path clip-path=\"url(#clip480)\" d=\"M1350.24 1514.29 L1368.6 1514.29 L1368.6 1518.22 L1354.53 1518.22 L1354.53 1526.7 Q1355.55 1526.35 1356.56 1526.19 Q1357.58 1526 1358.6 1526 Q1364.39 1526 1367.77 1529.17 Q1371.15 1532.34 1371.15 1537.76 Q1371.15 1543.34 1367.68 1546.44 Q1364.2 1549.52 1357.88 1549.52 Q1355.71 1549.52 1353.44 1549.15 Q1351.19 1548.78 1348.79 1548.04 L1348.79 1543.34 Q1350.87 1544.47 1353.09 1545.03 Q1355.31 1545.58 1357.79 1545.58 Q1361.8 1545.58 1364.13 1543.48 Q1366.47 1541.37 1366.47 1537.76 Q1366.47 1534.15 1364.13 1532.04 Q1361.8 1529.94 1357.79 1529.94 Q1355.92 1529.94 1354.04 1530.35 Q1352.19 1530.77 1350.24 1531.65 L1350.24 1514.29 Z\" fill=\"#000000\" fill-rule=\"evenodd\" fill-opacity=\"1\" /><path clip-path=\"url(#clip480)\" d=\"M1690.6 1544.91 L1698.24 1544.91 L1698.24 1518.55 L1689.93 1520.21 L1689.93 1515.95 L1698.2 1514.29 L1702.87 1514.29 L1702.87 1544.91 L1710.51 1544.91 L1710.51 1548.85 L1690.6 1548.85 L1690.6 1544.91 Z\" fill=\"#000000\" fill-rule=\"evenodd\" fill-opacity=\"1\" /><path clip-path=\"url(#clip480)\" d=\"M1729.96 1517.37 Q1726.34 1517.37 1724.52 1520.93 Q1722.71 1524.47 1722.71 1531.6 Q1722.71 1538.71 1724.52 1542.27 Q1726.34 1545.82 1729.96 1545.82 Q1733.59 1545.82 1735.4 1542.27 Q1737.22 1538.71 1737.22 1531.6 Q1737.22 1524.47 1735.4 1520.93 Q1733.59 1517.37 1729.96 1517.37 M1729.96 1513.66 Q1735.77 1513.66 1738.82 1518.27 Q1741.9 1522.85 1741.9 1531.6 Q1741.9 1540.33 1738.82 1544.94 Q1735.77 1549.52 1729.96 1549.52 Q1724.15 1549.52 1721.07 1544.94 Q1718.01 1540.33 1718.01 1531.6 Q1718.01 1522.85 1721.07 1518.27 Q1724.15 1513.66 1729.96 1513.66 Z\" fill=\"#000000\" fill-rule=\"evenodd\" fill-opacity=\"1\" /><path clip-path=\"url(#clip480)\" d=\"M1760.12 1517.37 Q1756.51 1517.37 1754.68 1520.93 Q1752.87 1524.47 1752.87 1531.6 Q1752.87 1538.71 1754.68 1542.27 Q1756.51 1545.82 1760.12 1545.82 Q1763.75 1545.82 1765.56 1542.27 Q1767.39 1538.71 1767.39 1531.6 Q1767.39 1524.47 1765.56 1520.93 Q1763.75 1517.37 1760.12 1517.37 M1760.12 1513.66 Q1765.93 1513.66 1768.98 1518.27 Q1772.06 1522.85 1772.06 1531.6 Q1772.06 1540.33 1768.98 1544.94 Q1765.93 1549.52 1760.12 1549.52 Q1754.31 1549.52 1751.23 1544.94 Q1748.17 1540.33 1748.17 1531.6 Q1748.17 1522.85 1751.23 1518.27 Q1754.31 1513.66 1760.12 1513.66 Z\" fill=\"#000000\" fill-rule=\"evenodd\" fill-opacity=\"1\" /><polyline clip-path=\"url(#clip482)\" style=\"stroke:#000000; stroke-linecap:butt; stroke-linejoin:round; stroke-width:2; stroke-opacity:0.1; fill:none\" points=\"\n  156.598,1445.72 1776.85,1445.72 \n  \"/>\n<polyline clip-path=\"url(#clip482)\" style=\"stroke:#000000; stroke-linecap:butt; stroke-linejoin:round; stroke-width:2; stroke-opacity:0.1; fill:none\" points=\"\n  156.598,1224.06 1776.85,1224.06 \n  \"/>\n<polyline clip-path=\"url(#clip482)\" style=\"stroke:#000000; stroke-linecap:butt; stroke-linejoin:round; stroke-width:2; stroke-opacity:0.1; fill:none\" points=\"\n  156.598,1002.4 1776.85,1002.4 \n  \"/>\n<polyline clip-path=\"url(#clip482)\" style=\"stroke:#000000; stroke-linecap:butt; stroke-linejoin:round; stroke-width:2; stroke-opacity:0.1; fill:none\" points=\"\n  156.598,780.736 1776.85,780.736 \n  \"/>\n<polyline clip-path=\"url(#clip482)\" style=\"stroke:#000000; stroke-linecap:butt; stroke-linejoin:round; stroke-width:2; stroke-opacity:0.1; fill:none\" points=\"\n  156.598,559.075 1776.85,559.075 \n  \"/>\n<polyline clip-path=\"url(#clip482)\" style=\"stroke:#000000; stroke-linecap:butt; stroke-linejoin:round; stroke-width:2; stroke-opacity:0.1; fill:none\" points=\"\n  156.598,337.414 1776.85,337.414 \n  \"/>\n<polyline clip-path=\"url(#clip482)\" style=\"stroke:#000000; stroke-linecap:butt; stroke-linejoin:round; stroke-width:2; stroke-opacity:0.1; fill:none\" points=\"\n  156.598,115.753 1776.85,115.753 \n  \"/>\n<polyline clip-path=\"url(#clip480)\" style=\"stroke:#000000; stroke-linecap:butt; stroke-linejoin:round; stroke-width:4; stroke-opacity:1; fill:none\" points=\"\n  156.598,1486.45 156.598,47.2441 \n  \"/>\n<polyline clip-path=\"url(#clip480)\" style=\"stroke:#000000; stroke-linecap:butt; stroke-linejoin:round; stroke-width:4; stroke-opacity:1; fill:none\" points=\"\n  156.598,1445.72 170.54,1445.72 \n  \"/>\n<polyline clip-path=\"url(#clip480)\" style=\"stroke:#000000; stroke-linecap:butt; stroke-linejoin:round; stroke-width:4; stroke-opacity:1; fill:none\" points=\"\n  156.598,1224.06 170.54,1224.06 \n  \"/>\n<polyline clip-path=\"url(#clip480)\" style=\"stroke:#000000; stroke-linecap:butt; stroke-linejoin:round; stroke-width:4; stroke-opacity:1; fill:none\" points=\"\n  156.598,1002.4 170.54,1002.4 \n  \"/>\n<polyline clip-path=\"url(#clip480)\" style=\"stroke:#000000; stroke-linecap:butt; stroke-linejoin:round; stroke-width:4; stroke-opacity:1; fill:none\" points=\"\n  156.598,780.736 170.54,780.736 \n  \"/>\n<polyline clip-path=\"url(#clip480)\" style=\"stroke:#000000; stroke-linecap:butt; stroke-linejoin:round; stroke-width:4; stroke-opacity:1; fill:none\" points=\"\n  156.598,559.075 170.54,559.075 \n  \"/>\n<polyline clip-path=\"url(#clip480)\" style=\"stroke:#000000; stroke-linecap:butt; stroke-linejoin:round; stroke-width:4; stroke-opacity:1; fill:none\" points=\"\n  156.598,337.414 170.54,337.414 \n  \"/>\n<polyline clip-path=\"url(#clip480)\" style=\"stroke:#000000; stroke-linecap:butt; stroke-linejoin:round; stroke-width:4; stroke-opacity:1; fill:none\" points=\"\n  156.598,115.753 170.54,115.753 \n  \"/>\n<path clip-path=\"url(#clip480)\" d=\"M63.4226 1431.52 Q59.8115 1431.52 57.9828 1435.08 Q56.1773 1438.62 56.1773 1445.75 Q56.1773 1452.86 57.9828 1456.42 Q59.8115 1459.97 63.4226 1459.97 Q67.0569 1459.97 68.8624 1456.42 Q70.6911 1452.86 70.6911 1445.75 Q70.6911 1438.62 68.8624 1435.08 Q67.0569 1431.52 63.4226 1431.52 M63.4226 1427.81 Q69.2328 1427.81 72.2883 1432.42 Q75.367 1437 75.367 1445.75 Q75.367 1454.48 72.2883 1459.09 Q69.2328 1463.67 63.4226 1463.67 Q57.6125 1463.67 54.5338 1459.09 Q51.4782 1454.48 51.4782 1445.75 Q51.4782 1437 54.5338 1432.42 Q57.6125 1427.81 63.4226 1427.81 Z\" fill=\"#000000\" fill-rule=\"evenodd\" fill-opacity=\"1\" /><path clip-path=\"url(#clip480)\" d=\"M83.5845 1457.12 L88.4688 1457.12 L88.4688 1463 L83.5845 1463 L83.5845 1457.12 Z\" fill=\"#000000\" fill-rule=\"evenodd\" fill-opacity=\"1\" /><path clip-path=\"url(#clip480)\" d=\"M108.654 1431.52 Q105.043 1431.52 103.214 1435.08 Q101.409 1438.62 101.409 1445.75 Q101.409 1452.86 103.214 1456.42 Q105.043 1459.97 108.654 1459.97 Q112.288 1459.97 114.094 1456.42 Q115.922 1452.86 115.922 1445.75 Q115.922 1438.62 114.094 1435.08 Q112.288 1431.52 108.654 1431.52 M108.654 1427.81 Q114.464 1427.81 117.52 1432.42 Q120.598 1437 120.598 1445.75 Q120.598 1454.48 117.52 1459.09 Q114.464 1463.67 108.654 1463.67 Q102.844 1463.67 99.765 1459.09 Q96.7095 1454.48 96.7095 1445.75 Q96.7095 1437 99.765 1432.42 Q102.844 1427.81 108.654 1427.81 Z\" fill=\"#000000\" fill-rule=\"evenodd\" fill-opacity=\"1\" /><path clip-path=\"url(#clip480)\" d=\"M65.0198 1209.86 Q61.4087 1209.86 59.58 1213.42 Q57.7745 1216.96 57.7745 1224.09 Q57.7745 1231.2 59.58 1234.76 Q61.4087 1238.31 65.0198 1238.31 Q68.6541 1238.31 70.4596 1234.76 Q72.2883 1231.2 72.2883 1224.09 Q72.2883 1216.96 70.4596 1213.42 Q68.6541 1209.86 65.0198 1209.86 M65.0198 1206.15 Q70.83 1206.15 73.8855 1210.76 Q76.9642 1215.34 76.9642 1224.09 Q76.9642 1232.82 73.8855 1237.43 Q70.83 1242.01 65.0198 1242.01 Q59.2097 1242.01 56.131 1237.43 Q53.0754 1232.82 53.0754 1224.09 Q53.0754 1215.34 56.131 1210.76 Q59.2097 1206.15 65.0198 1206.15 Z\" fill=\"#000000\" fill-rule=\"evenodd\" fill-opacity=\"1\" /><path clip-path=\"url(#clip480)\" d=\"M85.1818 1235.46 L90.066 1235.46 L90.066 1241.34 L85.1818 1241.34 L85.1818 1235.46 Z\" fill=\"#000000\" fill-rule=\"evenodd\" fill-opacity=\"1\" /><path clip-path=\"url(#clip480)\" d=\"M104.279 1237.4 L120.598 1237.4 L120.598 1241.34 L98.6539 1241.34 L98.6539 1237.4 Q101.316 1234.65 105.899 1230.02 Q110.506 1225.37 111.686 1224.02 Q113.932 1221.5 114.811 1219.76 Q115.714 1218 115.714 1216.31 Q115.714 1213.56 113.77 1211.82 Q111.848 1210.09 108.746 1210.09 Q106.547 1210.09 104.094 1210.85 Q101.663 1211.62 98.8854 1213.17 L98.8854 1208.44 Q101.709 1207.31 104.163 1206.73 Q106.617 1206.15 108.654 1206.15 Q114.024 1206.15 117.219 1208.84 Q120.413 1211.52 120.413 1216.01 Q120.413 1218.14 119.603 1220.06 Q118.816 1221.96 116.709 1224.56 Q116.131 1225.23 113.029 1228.44 Q109.927 1231.64 104.279 1237.4 Z\" fill=\"#000000\" fill-rule=\"evenodd\" fill-opacity=\"1\" /><path clip-path=\"url(#clip480)\" d=\"M62.9365 988.196 Q59.3254 988.196 57.4967 991.761 Q55.6912 995.302 55.6912 1002.43 Q55.6912 1009.54 57.4967 1013.1 Q59.3254 1016.64 62.9365 1016.64 Q66.5707 1016.64 68.3763 1013.1 Q70.205 1009.54 70.205 1002.43 Q70.205 995.302 68.3763 991.761 Q66.5707 988.196 62.9365 988.196 M62.9365 984.492 Q68.7467 984.492 71.8022 989.098 Q74.8809 993.682 74.8809 1002.43 Q74.8809 1011.16 71.8022 1015.77 Q68.7467 1020.35 62.9365 1020.35 Q57.1264 1020.35 54.0477 1015.77 Q50.9921 1011.16 50.9921 1002.43 Q50.9921 993.682 54.0477 989.098 Q57.1264 984.492 62.9365 984.492 Z\" fill=\"#000000\" fill-rule=\"evenodd\" fill-opacity=\"1\" /><path clip-path=\"url(#clip480)\" d=\"M83.0984 1013.8 L87.9827 1013.8 L87.9827 1019.68 L83.0984 1019.68 L83.0984 1013.8 Z\" fill=\"#000000\" fill-rule=\"evenodd\" fill-opacity=\"1\" /><path clip-path=\"url(#clip480)\" d=\"M111.015 989.191 L99.2095 1007.64 L111.015 1007.64 L111.015 989.191 M109.788 985.117 L115.668 985.117 L115.668 1007.64 L120.598 1007.64 L120.598 1011.53 L115.668 1011.53 L115.668 1019.68 L111.015 1019.68 L111.015 1011.53 L95.4132 1011.53 L95.4132 1007.02 L109.788 985.117 Z\" fill=\"#000000\" fill-rule=\"evenodd\" fill-opacity=\"1\" /><path clip-path=\"url(#clip480)\" d=\"M63.2606 766.535 Q59.6495 766.535 57.8208 770.1 Q56.0152 773.641 56.0152 780.771 Q56.0152 787.877 57.8208 791.442 Q59.6495 794.984 63.2606 794.984 Q66.8948 794.984 68.7004 791.442 Q70.5291 787.877 70.5291 780.771 Q70.5291 773.641 68.7004 770.1 Q66.8948 766.535 63.2606 766.535 M63.2606 762.831 Q69.0707 762.831 72.1263 767.438 Q75.205 772.021 75.205 780.771 Q75.205 789.498 72.1263 794.104 Q69.0707 798.687 63.2606 798.687 Q57.4504 798.687 54.3717 794.104 Q51.3162 789.498 51.3162 780.771 Q51.3162 772.021 54.3717 767.438 Q57.4504 762.831 63.2606 762.831 Z\" fill=\"#000000\" fill-rule=\"evenodd\" fill-opacity=\"1\" /><path clip-path=\"url(#clip480)\" d=\"M83.4225 792.136 L88.3067 792.136 L88.3067 798.016 L83.4225 798.016 L83.4225 792.136 Z\" fill=\"#000000\" fill-rule=\"evenodd\" fill-opacity=\"1\" /><path clip-path=\"url(#clip480)\" d=\"M109.071 778.873 Q105.922 778.873 104.071 781.025 Q102.242 783.178 102.242 786.928 Q102.242 790.655 104.071 792.831 Q105.922 794.984 109.071 794.984 Q112.219 794.984 114.047 792.831 Q115.899 790.655 115.899 786.928 Q115.899 783.178 114.047 781.025 Q112.219 778.873 109.071 778.873 M118.353 764.22 L118.353 768.479 Q116.594 767.646 114.788 767.206 Q113.006 766.766 111.246 766.766 Q106.617 766.766 104.163 769.891 Q101.733 773.016 101.385 779.336 Q102.751 777.322 104.811 776.257 Q106.871 775.169 109.348 775.169 Q114.557 775.169 117.566 778.34 Q120.598 781.488 120.598 786.928 Q120.598 792.252 117.45 795.47 Q114.302 798.687 109.071 798.687 Q103.075 798.687 99.9039 794.104 Q96.7326 789.498 96.7326 780.771 Q96.7326 772.576 100.621 767.715 Q104.51 762.831 111.061 762.831 Q112.82 762.831 114.603 763.178 Q116.408 763.526 118.353 764.22 Z\" fill=\"#000000\" fill-rule=\"evenodd\" fill-opacity=\"1\" /><path clip-path=\"url(#clip480)\" d=\"M63.5152 544.874 Q59.9041 544.874 58.0754 548.439 Q56.2699 551.98 56.2699 559.11 Q56.2699 566.216 58.0754 569.781 Q59.9041 573.323 63.5152 573.323 Q67.1494 573.323 68.955 569.781 Q70.7837 566.216 70.7837 559.11 Q70.7837 551.98 68.955 548.439 Q67.1494 544.874 63.5152 544.874 M63.5152 541.17 Q69.3254 541.17 72.3809 545.777 Q75.4596 550.36 75.4596 559.11 Q75.4596 567.837 72.3809 572.443 Q69.3254 577.026 63.5152 577.026 Q57.7051 577.026 54.6264 572.443 Q51.5708 567.837 51.5708 559.11 Q51.5708 550.36 54.6264 545.777 Q57.7051 541.17 63.5152 541.17 Z\" fill=\"#000000\" fill-rule=\"evenodd\" fill-opacity=\"1\" /><path clip-path=\"url(#clip480)\" d=\"M83.6771 570.476 L88.5614 570.476 L88.5614 576.355 L83.6771 576.355 L83.6771 570.476 Z\" fill=\"#000000\" fill-rule=\"evenodd\" fill-opacity=\"1\" /><path clip-path=\"url(#clip480)\" d=\"M108.746 559.943 Q105.413 559.943 103.492 561.726 Q101.594 563.508 101.594 566.633 Q101.594 569.758 103.492 571.54 Q105.413 573.323 108.746 573.323 Q112.08 573.323 114.001 571.54 Q115.922 569.735 115.922 566.633 Q115.922 563.508 114.001 561.726 Q112.103 559.943 108.746 559.943 M104.071 557.952 Q101.061 557.212 99.3715 555.152 Q97.7048 553.091 97.7048 550.128 Q97.7048 545.985 100.645 543.578 Q103.608 541.17 108.746 541.17 Q113.908 541.17 116.848 543.578 Q119.788 545.985 119.788 550.128 Q119.788 553.091 118.098 555.152 Q116.432 557.212 113.445 557.952 Q116.825 558.74 118.7 561.031 Q120.598 563.323 120.598 566.633 Q120.598 571.656 117.52 574.341 Q114.464 577.026 108.746 577.026 Q103.029 577.026 99.9502 574.341 Q96.8947 571.656 96.8947 566.633 Q96.8947 563.323 98.7928 561.031 Q100.691 558.74 104.071 557.952 M102.358 550.568 Q102.358 553.253 104.024 554.758 Q105.714 556.263 108.746 556.263 Q111.756 556.263 113.445 554.758 Q115.158 553.253 115.158 550.568 Q115.158 547.883 113.445 546.378 Q111.756 544.874 108.746 544.874 Q105.714 544.874 104.024 546.378 Q102.358 547.883 102.358 550.568 Z\" fill=\"#000000\" fill-rule=\"evenodd\" fill-opacity=\"1\" /><path clip-path=\"url(#clip480)\" d=\"M54.2328 350.759 L61.8717 350.759 L61.8717 324.393 L53.5616 326.06 L53.5616 321.801 L61.8254 320.134 L66.5013 320.134 L66.5013 350.759 L74.1402 350.759 L74.1402 354.694 L54.2328 354.694 L54.2328 350.759 Z\" fill=\"#000000\" fill-rule=\"evenodd\" fill-opacity=\"1\" /><path clip-path=\"url(#clip480)\" d=\"M83.5845 348.815 L88.4688 348.815 L88.4688 354.694 L83.5845 354.694 L83.5845 348.815 Z\" fill=\"#000000\" fill-rule=\"evenodd\" fill-opacity=\"1\" /><path clip-path=\"url(#clip480)\" d=\"M108.654 323.213 Q105.043 323.213 103.214 326.778 Q101.409 330.319 101.409 337.449 Q101.409 344.555 103.214 348.12 Q105.043 351.662 108.654 351.662 Q112.288 351.662 114.094 348.12 Q115.922 344.555 115.922 337.449 Q115.922 330.319 114.094 326.778 Q112.288 323.213 108.654 323.213 M108.654 319.509 Q114.464 319.509 117.52 324.116 Q120.598 328.699 120.598 337.449 Q120.598 346.176 117.52 350.782 Q114.464 355.366 108.654 355.366 Q102.844 355.366 99.765 350.782 Q96.7095 346.176 96.7095 337.449 Q96.7095 328.699 99.765 324.116 Q102.844 319.509 108.654 319.509 Z\" fill=\"#000000\" fill-rule=\"evenodd\" fill-opacity=\"1\" /><path clip-path=\"url(#clip480)\" d=\"M55.8301 129.098 L63.4689 129.098 L63.4689 102.733 L55.1588 104.399 L55.1588 100.14 L63.4226 98.4733 L68.0985 98.4733 L68.0985 129.098 L75.7374 129.098 L75.7374 133.033 L55.8301 133.033 L55.8301 129.098 Z\" fill=\"#000000\" fill-rule=\"evenodd\" fill-opacity=\"1\" /><path clip-path=\"url(#clip480)\" d=\"M85.1818 127.154 L90.066 127.154 L90.066 133.033 L85.1818 133.033 L85.1818 127.154 Z\" fill=\"#000000\" fill-rule=\"evenodd\" fill-opacity=\"1\" /><path clip-path=\"url(#clip480)\" d=\"M104.279 129.098 L120.598 129.098 L120.598 133.033 L98.6539 133.033 L98.6539 129.098 Q101.316 126.343 105.899 121.714 Q110.506 117.061 111.686 115.719 Q113.932 113.195 114.811 111.459 Q115.714 109.7 115.714 108.01 Q115.714 105.256 113.77 103.52 Q111.848 101.783 108.746 101.783 Q106.547 101.783 104.094 102.547 Q101.663 103.311 98.8854 104.862 L98.8854 100.14 Q101.709 99.0057 104.163 98.427 Q106.617 97.8483 108.654 97.8483 Q114.024 97.8483 117.219 100.533 Q120.413 103.219 120.413 107.709 Q120.413 109.839 119.603 111.76 Q118.816 113.658 116.709 116.251 Q116.131 116.922 113.029 120.14 Q109.927 123.334 104.279 129.098 Z\" fill=\"#000000\" fill-rule=\"evenodd\" fill-opacity=\"1\" /><polyline clip-path=\"url(#clip482)\" style=\"stroke:#009af9; stroke-linecap:butt; stroke-linejoin:round; stroke-width:4; stroke-opacity:1; fill:none\" points=\"\n  202.455,1445.71 217.894,1445.7 233.334,1445.71 248.774,1445.71 264.214,1445.39 279.654,1445.45 295.094,1445.31 310.533,1445.13 325.973,1445.12 341.413,1444.84 \n  356.853,1444.73 372.293,1444.9 387.732,1444.78 403.172,1444.64 418.612,1444.47 434.052,1444.45 449.492,1444.51 464.932,1444.52 480.371,1444.39 495.811,1444.38 \n  511.251,1444.2 526.691,1444.18 542.131,1443.95 557.571,1443.91 573.01,1443.77 588.45,1443.66 603.89,1443.57 619.33,1443.51 634.77,1443.43 650.21,1443.35 \n  665.649,1443.13 681.089,1443.01 696.529,1442.86 711.969,1443.18 727.409,1443.02 742.849,1442.99 758.288,1442.68 773.728,1442.73 789.168,1442.47 804.608,1442.58 \n  820.048,1442.32 835.488,1426.75 850.927,1441.78 866.367,1442.24 881.807,1442.29 897.247,1442.26 912.687,1442.1 928.127,1441.54 943.566,1441.76 959.006,1441.58 \n  974.446,1441.34 989.886,1441.23 1005.33,1440.82 1020.77,1441.07 1036.21,1440.92 1051.65,1440.97 1067.08,1440.63 1082.52,1440.86 1097.96,1440.93 1113.4,1440.53 \n  1128.84,1440.31 1144.28,1440.71 1159.72,1440.44 1175.16,1440.8 1190.6,1440.23 1206.04,1439.69 1221.48,1440.06 1236.92,1439.54 1252.36,1439.9 1267.8,1440.11 \n  1283.24,1439.94 1298.68,1439.64 1314.12,1439.52 1329.56,1438.98 1345,1439.52 1360.44,1439.91 1375.88,1432.43 1391.32,1439.17 1406.76,1439.51 1422.2,1439.04 \n  1437.64,1439.59 1453.08,1438.93 1468.52,1438.36 1483.96,1438.49 1499.4,1439.23 1514.84,1438.99 1530.28,1438.58 1545.72,1438.36 1561.16,1438.73 1576.6,1438.18 \n  1592.04,1437.97 1607.48,1438.44 1622.92,1438.05 1638.36,1437.83 1653.8,1427.08 1669.24,1437.13 1684.68,1437.89 1700.12,1438.04 1715.56,1437.54 1731,1438.16 \n  \n  \"/>\n<polyline clip-path=\"url(#clip482)\" style=\"stroke:#e26f46; stroke-linecap:butt; stroke-linejoin:round; stroke-width:4; stroke-opacity:1; fill:none\" points=\"\n  202.455,1445.72 217.894,1445.71 233.334,1445.71 248.774,1445.67 264.214,1445.66 279.654,1445.63 295.094,1445.58 310.533,1445.29 325.973,1445.44 341.413,1444.97 \n  356.853,1431.47 372.293,1444.16 387.732,1443.8 403.172,1442.97 418.612,1442.72 434.052,1442.16 449.492,1440.94 464.932,1429.48 480.371,1439.47 495.811,1437.76 \n  511.251,1436.83 526.691,1425.71 542.131,1433.64 557.571,1427.05 573.01,1424.64 588.45,1428.79 603.89,1420.03 619.33,1418.21 634.77,1415.63 650.21,1413.23 \n  665.649,1410.41 681.089,1402.42 696.529,1406.09 711.969,1395.2 727.409,1398.11 742.849,1389.83 758.288,1383.59 773.728,1368.72 789.168,1365.26 804.608,1354.55 \n  820.048,1332.54 835.488,1329.67 850.927,1344.35 866.367,1347.47 881.807,1327.2 897.247,1324.88 912.687,1317.63 928.127,1286.44 943.566,1282.48 959.006,1257.55 \n  974.446,1329.26 989.886,1307.23 1005.33,1338.39 1020.77,1316.91 1036.21,1319.56 1051.65,1316.76 1067.08,1304.72 1082.52,1296.81 1097.96,1290.15 1113.4,1287.76 \n  1128.84,1251.75 1144.28,1254.59 1159.72,1245.66 1175.16,1244.33 1190.6,1234.8 1206.04,1216.62 1221.48,1203.31 1236.92,1218.7 1252.36,1158.94 1267.8,1186.39 \n  1283.24,1150.45 1298.68,1176.73 1314.12,1116.17 1329.56,1126.86 1345,1101.68 1360.44,1123.51 1375.88,1041.3 1391.32,1061.52 1406.76,1013.23 1422.2,1018.86 \n  1437.64,948.245 1453.08,952.083 1468.52,911.033 1483.96,987.339 1499.4,889.11 1514.84,891.421 1530.28,822.554 1545.72,854.61 1561.16,786.22 1576.6,829.797 \n  1592.04,773.111 1607.48,820.336 1622.92,673.496 1638.36,621.449 1653.8,687.652 1669.24,696.943 1684.68,571.859 1700.12,658.363 1715.56,533.111 1731,671.091 \n  \n  \"/>\n<polyline clip-path=\"url(#clip482)\" style=\"stroke:#3da44d; stroke-linecap:butt; stroke-linejoin:round; stroke-width:4; stroke-opacity:1; fill:none\" points=\"\n  202.455,1445.72 217.894,1445.7 233.334,1445.69 248.774,1445.64 264.214,1445.61 279.654,1445.53 295.094,1445.42 310.533,1445.13 325.973,1445.06 341.413,1444.22 \n  356.853,1443.66 372.293,1442.84 387.732,1441.47 403.172,1441.29 418.612,1440.22 434.052,1439.59 449.492,1438.02 464.932,1424.69 480.371,1435 495.811,1432.2 \n  511.251,1430.37 526.691,1417.48 542.131,1424.93 557.571,1411.49 573.01,1418.67 588.45,1409.75 603.89,1402.99 619.33,1401.79 634.77,1403.72 650.21,1396.22 \n  665.649,1380.43 681.089,1384.08 696.529,1379.66 711.969,1365.01 727.409,1364.78 742.849,1352.12 758.288,1337.7 773.728,1332.35 789.168,1327.57 804.608,1319.94 \n  820.048,1301.6 835.488,1294.09 850.927,1287.57 866.367,1281.87 881.807,1249.87 897.247,1233.99 912.687,1217 928.127,1215.26 943.566,1219.02 959.006,1194.66 \n  974.446,1253.95 989.886,1220.74 1005.33,1248.84 1020.77,1230.28 1036.21,1195.93 1051.65,1210.96 1067.08,1190.87 1082.52,1185.16 1097.96,1176.62 1113.4,1183.98 \n  1128.84,1141.61 1144.28,1117.37 1159.72,1119.95 1175.16,1093.73 1190.6,1069.58 1206.04,1068.59 1221.48,1051.37 1236.92,1029.66 1252.36,1015.67 1267.8,1023.5 \n  1283.24,1000.26 1298.68,1007.12 1314.12,960.469 1329.56,950.958 1345,935.192 1360.44,948.568 1375.88,882.784 1391.32,881.662 1406.76,849.932 1422.2,840.591 \n  1437.64,617.892 1453.08,789.708 1468.52,709.847 1483.96,768.916 1499.4,666.181 1514.84,647.584 1530.28,600.967 1545.72,667.092 1561.16,572.505 1576.6,568.205 \n  1592.04,429.765 1607.48,534.644 1622.92,336.945 1638.36,372.352 1653.8,306.332 1669.24,322.202 1684.68,87.9763 1700.12,188.684 1715.56,115.003 1731,255.151 \n  \n  \"/>\n<polyline clip-path=\"url(#clip482)\" style=\"stroke:#c271d2; stroke-linecap:butt; stroke-linejoin:round; stroke-width:4; stroke-opacity:1; fill:none\" points=\"\n  202.455,1445.71 217.894,1445.69 233.334,1445.69 248.774,1445.66 264.214,1445.55 279.654,1445.49 295.094,1445.4 310.533,1445.06 325.973,1444.96 341.413,1444.33 \n  356.853,1443.95 372.293,1443.46 387.732,1442.62 403.172,1442.06 418.612,1441.16 434.052,1440.42 449.492,1430.65 464.932,1438.03 480.371,1435.71 495.811,1434.11 \n  511.251,1423.7 526.691,1430.76 542.131,1426.97 557.571,1418.11 573.01,1416.3 588.45,1421.29 603.89,1411.11 619.33,1407.49 634.77,1404.51 650.21,1407.93 \n  665.649,1392.06 681.089,1393.41 696.529,1389.09 711.969,1383.8 727.409,1372.87 742.849,1369.33 758.288,1370.91 773.728,1359.95 789.168,1347.17 804.608,1347.91 \n  820.048,1336.07 835.488,1327.03 850.927,1319.87 866.367,1309.99 881.807,1296.48 897.247,1282.33 912.687,1279.45 928.127,1268.59 943.566,1263.75 959.006,1251.17 \n  974.446,1305.01 989.886,1269.1 1005.33,1291.41 1020.77,1284.76 1036.21,1276.73 1051.65,1279.37 1067.08,1255.88 1082.52,1249.26 1097.96,1247.29 1113.4,1248.31 \n  1128.84,1217.62 1144.28,1219.63 1159.72,1195.79 1175.16,1180.53 1190.6,1169.13 1206.04,1165.03 1221.48,1129.26 1236.92,1148.87 1252.36,1123.42 1267.8,1107.71 \n  1283.24,1102.55 1298.68,1097.45 1314.12,1054.68 1329.56,1057.63 1345,1046.17 1360.44,1051.09 1375.88,994.778 1391.32,982.219 1406.76,942.861 1422.2,936.669 \n  1437.64,876.632 1453.08,919.175 1468.52,859.632 1483.96,908.313 1499.4,815.787 1514.84,833.186 1530.28,774.361 1545.72,804.629 1561.16,723.985 1576.6,728.954 \n  1592.04,639.087 1607.48,745.646 1622.92,616.245 1638.36,637.349 1653.8,591.246 1669.24,574.05 1684.68,519.76 1700.12,497.503 1715.56,389.115 1731,505.056 \n  \n  \"/>\n<path clip-path=\"url(#clip480)\" d=\"\nM1850.06 354.418 L2352.76 354.418 L2352.76 95.2176 L1850.06 95.2176  Z\n  \" fill=\"#ffffff\" fill-rule=\"evenodd\" fill-opacity=\"1\"/>\n<polyline clip-path=\"url(#clip480)\" style=\"stroke:#000000; stroke-linecap:butt; stroke-linejoin:round; stroke-width:4; stroke-opacity:1; fill:none\" points=\"\n  1850.06,354.418 2352.76,354.418 2352.76,95.2176 1850.06,95.2176 1850.06,354.418 \n  \"/>\n<polyline clip-path=\"url(#clip480)\" style=\"stroke:#009af9; stroke-linecap:butt; stroke-linejoin:round; stroke-width:4; stroke-opacity:1; fill:none\" points=\"\n  1874.46,147.058 2020.87,147.058 \n  \"/>\n<path clip-path=\"url(#clip480)\" d=\"M2045.27 128.319 L2049.53 128.319 L2049.53 164.338 L2045.27 164.338 L2045.27 128.319 Z\" fill=\"#000000\" fill-rule=\"evenodd\" fill-opacity=\"1\" /><path clip-path=\"url(#clip480)\" d=\"M2058.44 138.412 L2062.7 138.412 L2062.7 164.338 L2058.44 164.338 L2058.44 138.412 M2058.44 128.319 L2062.7 128.319 L2062.7 133.713 L2058.44 133.713 L2058.44 128.319 Z\" fill=\"#000000\" fill-rule=\"evenodd\" fill-opacity=\"1\" /><path clip-path=\"url(#clip480)\" d=\"M2090.23 151.398 Q2090.23 146.699 2088.28 144.037 Q2086.36 141.352 2082.98 141.352 Q2079.6 141.352 2077.66 144.037 Q2075.74 146.699 2075.74 151.398 Q2075.74 156.097 2077.66 158.782 Q2079.6 161.444 2082.98 161.444 Q2086.36 161.444 2088.28 158.782 Q2090.23 156.097 2090.23 151.398 M2075.74 142.347 Q2077.08 140.032 2079.12 138.921 Q2081.18 137.787 2084.02 137.787 Q2088.75 137.787 2091.69 141.537 Q2094.65 145.287 2094.65 151.398 Q2094.65 157.509 2091.69 161.259 Q2088.75 165.009 2084.02 165.009 Q2081.18 165.009 2079.12 163.898 Q2077.08 162.763 2075.74 160.449 L2075.74 164.338 L2071.45 164.338 L2071.45 128.319 L2075.74 128.319 L2075.74 142.347 Z\" fill=\"#000000\" fill-rule=\"evenodd\" fill-opacity=\"1\" /><path clip-path=\"url(#clip480)\" d=\"M2133.31 139.176 L2133.31 143.203 Q2131.5 142.277 2129.56 141.815 Q2127.61 141.352 2125.53 141.352 Q2122.36 141.352 2120.76 142.324 Q2119.18 143.296 2119.18 145.24 Q2119.18 146.722 2120.32 147.578 Q2121.45 148.412 2124.88 149.176 L2126.34 149.5 Q2130.87 150.472 2132.77 152.254 Q2134.69 154.014 2134.69 157.185 Q2134.69 160.796 2131.82 162.902 Q2128.98 165.009 2123.98 165.009 Q2121.89 165.009 2119.62 164.592 Q2117.38 164.199 2114.88 163.388 L2114.88 158.99 Q2117.24 160.217 2119.53 160.842 Q2121.82 161.444 2124.07 161.444 Q2127.08 161.444 2128.7 160.426 Q2130.32 159.384 2130.32 157.509 Q2130.32 155.773 2129.14 154.847 Q2127.98 153.921 2124.02 153.064 L2122.54 152.717 Q2118.58 151.884 2116.82 150.171 Q2115.06 148.435 2115.06 145.426 Q2115.06 141.768 2117.66 139.778 Q2120.25 137.787 2125.02 137.787 Q2127.38 137.787 2129.46 138.134 Q2131.55 138.481 2133.31 139.176 Z\" fill=\"#000000\" fill-rule=\"evenodd\" fill-opacity=\"1\" /><path clip-path=\"url(#clip480)\" d=\"M2151.52 141.398 Q2148.1 141.398 2146.11 144.083 Q2144.12 146.745 2144.12 151.398 Q2144.12 156.051 2146.08 158.736 Q2148.07 161.398 2151.52 161.398 Q2154.93 161.398 2156.92 158.713 Q2158.91 156.027 2158.91 151.398 Q2158.91 146.791 2156.92 144.106 Q2154.93 141.398 2151.52 141.398 M2151.52 137.787 Q2157.08 137.787 2160.25 141.398 Q2163.42 145.009 2163.42 151.398 Q2163.42 157.764 2160.25 161.398 Q2157.08 165.009 2151.52 165.009 Q2145.94 165.009 2142.77 161.398 Q2139.62 157.764 2139.62 151.398 Q2139.62 145.009 2142.77 141.398 Q2145.94 137.787 2151.52 137.787 Z\" fill=\"#000000\" fill-rule=\"evenodd\" fill-opacity=\"1\" /><path clip-path=\"url(#clip480)\" d=\"M2170.48 128.319 L2174.74 128.319 L2174.74 164.338 L2170.48 164.338 L2170.48 128.319 Z\" fill=\"#000000\" fill-rule=\"evenodd\" fill-opacity=\"1\" /><path clip-path=\"url(#clip480)\" d=\"M2180.6 138.412 L2185.11 138.412 L2193.21 160.171 L2201.31 138.412 L2205.83 138.412 L2196.11 164.338 L2190.32 164.338 L2180.6 138.412 Z\" fill=\"#000000\" fill-rule=\"evenodd\" fill-opacity=\"1\" /><path clip-path=\"url(#clip480)\" d=\"M2233.88 150.31 L2233.88 152.393 L2214.3 152.393 Q2214.58 156.791 2216.94 159.106 Q2219.32 161.398 2223.56 161.398 Q2226.01 161.398 2228.3 160.796 Q2230.62 160.194 2232.89 158.99 L2232.89 163.018 Q2230.6 163.99 2228.19 164.5 Q2225.78 165.009 2223.3 165.009 Q2217.1 165.009 2213.47 161.398 Q2209.86 157.787 2209.86 151.629 Q2209.86 145.264 2213.28 141.537 Q2216.73 137.787 2222.56 137.787 Q2227.8 137.787 2230.83 141.166 Q2233.88 144.523 2233.88 150.31 M2229.62 149.06 Q2229.58 145.565 2227.66 143.481 Q2225.76 141.398 2222.61 141.398 Q2219.05 141.398 2216.89 143.412 Q2214.76 145.426 2214.44 149.083 L2229.62 149.06 Z\" fill=\"#000000\" fill-rule=\"evenodd\" fill-opacity=\"1\" /><path clip-path=\"url(#clip480)\" d=\"M2255.9 142.393 Q2255.18 141.977 2254.32 141.791 Q2253.49 141.583 2252.47 141.583 Q2248.86 141.583 2246.92 143.944 Q2244.99 146.282 2244.99 150.68 L2244.99 164.338 L2240.71 164.338 L2240.71 138.412 L2244.99 138.412 L2244.99 142.44 Q2246.34 140.078 2248.49 138.944 Q2250.64 137.787 2253.72 137.787 Q2254.16 137.787 2254.69 137.856 Q2255.23 137.903 2255.87 138.018 L2255.9 142.393 Z\" fill=\"#000000\" fill-rule=\"evenodd\" fill-opacity=\"1\" /><polyline clip-path=\"url(#clip480)\" style=\"stroke:#e26f46; stroke-linecap:butt; stroke-linejoin:round; stroke-width:4; stroke-opacity:1; fill:none\" points=\"\n  1874.46,198.898 2020.87,198.898 \n  \"/>\n<path clip-path=\"url(#clip480)\" d=\"M2065.62 195.229 Q2067.22 192.358 2069.44 190.993 Q2071.66 189.627 2074.67 189.627 Q2078.72 189.627 2080.92 192.474 Q2083.12 195.298 2083.12 200.529 L2083.12 216.178 L2078.84 216.178 L2078.84 200.668 Q2078.84 196.942 2077.52 195.136 Q2076.2 193.33 2073.49 193.33 Q2070.18 193.33 2068.26 195.53 Q2066.34 197.729 2066.34 201.525 L2066.34 216.178 L2062.06 216.178 L2062.06 200.668 Q2062.06 196.918 2060.74 195.136 Q2059.42 193.33 2056.66 193.33 Q2053.4 193.33 2051.48 195.553 Q2049.56 197.752 2049.56 201.525 L2049.56 216.178 L2045.27 216.178 L2045.27 190.252 L2049.56 190.252 L2049.56 194.28 Q2051.01 191.895 2053.05 190.761 Q2055.09 189.627 2057.89 189.627 Q2060.71 189.627 2062.68 191.062 Q2064.67 192.497 2065.62 195.229 Z\" fill=\"#000000\" fill-rule=\"evenodd\" fill-opacity=\"1\" /><path clip-path=\"url(#clip480)\" d=\"M2102.4 218.585 Q2100.6 223.215 2098.88 224.627 Q2097.17 226.039 2094.3 226.039 L2090.9 226.039 L2090.9 222.474 L2093.4 222.474 Q2095.16 222.474 2096.13 221.64 Q2097.1 220.807 2098.28 217.705 L2099.05 215.761 L2088.56 190.252 L2093.07 190.252 L2101.18 210.529 L2109.28 190.252 L2113.79 190.252 L2102.4 218.585 Z\" fill=\"#000000\" fill-rule=\"evenodd\" fill-opacity=\"1\" /><path clip-path=\"url(#clip480)\" d=\"M2151.8 202.914 Q2151.8 198.284 2149.88 195.738 Q2147.98 193.192 2144.53 193.192 Q2141.11 193.192 2139.18 195.738 Q2137.29 198.284 2137.29 202.914 Q2137.29 207.52 2139.18 210.066 Q2141.11 212.613 2144.53 212.613 Q2147.98 212.613 2149.88 210.066 Q2151.8 207.52 2151.8 202.914 M2156.06 212.96 Q2156.06 219.58 2153.12 222.798 Q2150.18 226.039 2144.12 226.039 Q2141.87 226.039 2139.88 225.691 Q2137.89 225.367 2136.01 224.673 L2136.01 220.529 Q2137.89 221.548 2139.72 222.034 Q2141.55 222.52 2143.44 222.52 Q2147.63 222.52 2149.72 220.321 Q2151.8 218.145 2151.8 213.724 L2151.8 211.617 Q2150.48 213.909 2148.42 215.043 Q2146.36 216.178 2143.49 216.178 Q2138.72 216.178 2135.81 212.543 Q2132.89 208.909 2132.89 202.914 Q2132.89 196.895 2135.81 193.261 Q2138.72 189.627 2143.49 189.627 Q2146.36 189.627 2148.42 190.761 Q2150.48 191.895 2151.8 194.187 L2151.8 190.252 L2156.06 190.252 L2156.06 212.96 Z\" fill=\"#000000\" fill-rule=\"evenodd\" fill-opacity=\"1\" /><path clip-path=\"url(#clip480)\" d=\"M2181.36 191.016 L2181.36 195.043 Q2179.55 194.117 2177.61 193.655 Q2175.67 193.192 2173.58 193.192 Q2170.41 193.192 2168.81 194.164 Q2167.24 195.136 2167.24 197.08 Q2167.24 198.562 2168.37 199.418 Q2169.51 200.252 2172.93 201.016 L2174.39 201.34 Q2178.93 202.312 2180.83 204.094 Q2182.75 205.854 2182.75 209.025 Q2182.75 212.636 2179.88 214.742 Q2177.03 216.849 2172.03 216.849 Q2169.95 216.849 2167.68 216.432 Q2165.43 216.039 2162.93 215.228 L2162.93 210.83 Q2165.3 212.057 2167.59 212.682 Q2169.88 213.284 2172.12 213.284 Q2175.13 213.284 2176.75 212.266 Q2178.37 211.224 2178.37 209.349 Q2178.37 207.613 2177.19 206.687 Q2176.04 205.761 2172.08 204.904 L2170.6 204.557 Q2166.64 203.724 2164.88 202.011 Q2163.12 200.275 2163.12 197.266 Q2163.12 193.608 2165.71 191.618 Q2168.3 189.627 2173.07 189.627 Q2175.43 189.627 2177.52 189.974 Q2179.6 190.321 2181.36 191.016 Z\" fill=\"#000000\" fill-rule=\"evenodd\" fill-opacity=\"1\" /><path clip-path=\"url(#clip480)\" d=\"M2199.58 193.238 Q2196.15 193.238 2194.16 195.923 Q2192.17 198.585 2192.17 203.238 Q2192.17 207.891 2194.14 210.576 Q2196.13 213.238 2199.58 213.238 Q2202.98 213.238 2204.97 210.553 Q2206.96 207.867 2206.96 203.238 Q2206.96 198.631 2204.97 195.946 Q2202.98 193.238 2199.58 193.238 M2199.58 189.627 Q2205.13 189.627 2208.3 193.238 Q2211.48 196.849 2211.48 203.238 Q2211.48 209.604 2208.3 213.238 Q2205.13 216.849 2199.58 216.849 Q2194 216.849 2190.83 213.238 Q2187.68 209.604 2187.68 203.238 Q2187.68 196.849 2190.83 193.238 Q2194 189.627 2199.58 189.627 Z\" fill=\"#000000\" fill-rule=\"evenodd\" fill-opacity=\"1\" /><path clip-path=\"url(#clip480)\" d=\"M2218.54 180.159 L2222.8 180.159 L2222.8 216.178 L2218.54 216.178 L2218.54 180.159 Z\" fill=\"#000000\" fill-rule=\"evenodd\" fill-opacity=\"1\" /><path clip-path=\"url(#clip480)\" d=\"M2228.65 190.252 L2233.17 190.252 L2241.27 212.011 L2249.37 190.252 L2253.88 190.252 L2244.16 216.178 L2238.37 216.178 L2228.65 190.252 Z\" fill=\"#000000\" fill-rule=\"evenodd\" fill-opacity=\"1\" /><path clip-path=\"url(#clip480)\" d=\"M2281.94 202.15 L2281.94 204.233 L2262.36 204.233 Q2262.63 208.631 2264.99 210.946 Q2267.38 213.238 2271.61 213.238 Q2274.07 213.238 2276.36 212.636 Q2278.67 212.034 2280.94 210.83 L2280.94 214.858 Q2278.65 215.83 2276.24 216.34 Q2273.84 216.849 2271.36 216.849 Q2265.16 216.849 2261.52 213.238 Q2257.91 209.627 2257.91 203.469 Q2257.91 197.104 2261.34 193.377 Q2264.79 189.627 2270.62 189.627 Q2275.85 189.627 2278.88 193.006 Q2281.94 196.363 2281.94 202.15 M2277.68 200.9 Q2277.63 197.405 2275.71 195.321 Q2273.81 193.238 2270.67 193.238 Q2267.1 193.238 2264.95 195.252 Q2262.82 197.266 2262.49 200.923 L2277.68 200.9 Z\" fill=\"#000000\" fill-rule=\"evenodd\" fill-opacity=\"1\" /><path clip-path=\"url(#clip480)\" d=\"M2303.95 194.233 Q2303.23 193.817 2302.38 193.631 Q2301.55 193.423 2300.53 193.423 Q2296.92 193.423 2294.97 195.784 Q2293.05 198.122 2293.05 202.52 L2293.05 216.178 L2288.77 216.178 L2288.77 190.252 L2293.05 190.252 L2293.05 194.28 Q2294.39 191.918 2296.55 190.784 Q2298.7 189.627 2301.78 189.627 Q2302.22 189.627 2302.75 189.696 Q2303.28 189.743 2303.93 189.858 L2303.95 194.233 Z\" fill=\"#000000\" fill-rule=\"evenodd\" fill-opacity=\"1\" /><polyline clip-path=\"url(#clip480)\" style=\"stroke:#3da44d; stroke-linecap:butt; stroke-linejoin:round; stroke-width:4; stroke-opacity:1; fill:none\" points=\"\n  1874.46,250.738 2020.87,250.738 \n  \"/>\n<path clip-path=\"url(#clip480)\" d=\"M2064.19 254.754 Q2064.19 250.124 2062.26 247.578 Q2060.37 245.032 2056.92 245.032 Q2053.49 245.032 2051.57 247.578 Q2049.67 250.124 2049.67 254.754 Q2049.67 259.36 2051.57 261.906 Q2053.49 264.453 2056.92 264.453 Q2060.37 264.453 2062.26 261.906 Q2064.19 259.36 2064.19 254.754 M2068.44 264.8 Q2068.44 271.42 2065.5 274.638 Q2062.56 277.879 2056.5 277.879 Q2054.25 277.879 2052.26 277.531 Q2050.27 277.207 2048.4 276.513 L2048.4 272.369 Q2050.27 273.388 2052.1 273.874 Q2053.93 274.36 2055.83 274.36 Q2060.02 274.36 2062.1 272.161 Q2064.19 269.985 2064.19 265.564 L2064.19 263.457 Q2062.87 265.749 2060.81 266.883 Q2058.75 268.018 2055.88 268.018 Q2051.11 268.018 2048.19 264.383 Q2045.27 260.749 2045.27 254.754 Q2045.27 248.735 2048.19 245.101 Q2051.11 241.467 2055.88 241.467 Q2058.75 241.467 2060.81 242.601 Q2062.87 243.735 2064.19 246.027 L2064.19 242.092 L2068.44 242.092 L2068.44 264.8 Z\" fill=\"#000000\" fill-rule=\"evenodd\" fill-opacity=\"1\" /><path clip-path=\"url(#clip480)\" d=\"M2114.46 253.99 L2114.46 256.073 L2094.88 256.073 Q2095.16 260.471 2097.52 262.786 Q2099.9 265.078 2104.14 265.078 Q2106.59 265.078 2108.88 264.476 Q2111.2 263.874 2113.47 262.67 L2113.47 266.698 Q2111.18 267.67 2108.77 268.18 Q2106.36 268.689 2103.88 268.689 Q2097.68 268.689 2094.05 265.078 Q2090.44 261.467 2090.44 255.309 Q2090.44 248.944 2093.86 245.217 Q2097.31 241.467 2103.14 241.467 Q2108.37 241.467 2111.41 244.846 Q2114.46 248.203 2114.46 253.99 M2110.2 252.74 Q2110.16 249.245 2108.24 247.161 Q2106.34 245.078 2103.19 245.078 Q2099.62 245.078 2097.47 247.092 Q2095.34 249.106 2095.02 252.763 L2110.2 252.74 Z\" fill=\"#000000\" fill-rule=\"evenodd\" fill-opacity=\"1\" /><path clip-path=\"url(#clip480)\" d=\"M2142.17 242.092 L2132.8 254.707 L2142.66 268.018 L2137.63 268.018 L2130.09 257.832 L2122.54 268.018 L2117.52 268.018 L2127.59 254.453 L2118.37 242.092 L2123.4 242.092 L2130.27 251.328 L2137.15 242.092 L2142.17 242.092 Z\" fill=\"#000000\" fill-rule=\"evenodd\" fill-opacity=\"1\" /><path clip-path=\"url(#clip480)\" d=\"M2152.8 264.129 L2152.8 277.879 L2148.51 277.879 L2148.51 242.092 L2152.8 242.092 L2152.8 246.027 Q2154.14 243.712 2156.18 242.601 Q2158.24 241.467 2161.08 241.467 Q2165.8 241.467 2168.74 245.217 Q2171.71 248.967 2171.71 255.078 Q2171.71 261.189 2168.74 264.939 Q2165.8 268.689 2161.08 268.689 Q2158.24 268.689 2156.18 267.578 Q2154.14 266.443 2152.8 264.129 M2167.29 255.078 Q2167.29 250.379 2165.34 247.717 Q2163.42 245.032 2160.04 245.032 Q2156.66 245.032 2154.72 247.717 Q2152.8 250.379 2152.8 255.078 Q2152.8 259.777 2154.72 262.462 Q2156.66 265.124 2160.04 265.124 Q2163.42 265.124 2165.34 262.462 Q2167.29 259.777 2167.29 255.078 Z\" fill=\"#000000\" fill-rule=\"evenodd\" fill-opacity=\"1\" /><path clip-path=\"url(#clip480)\" d=\"M2178.77 231.999 L2183.03 231.999 L2183.03 268.018 L2178.77 268.018 L2178.77 231.999 Z\" fill=\"#000000\" fill-rule=\"evenodd\" fill-opacity=\"1\" /><path clip-path=\"url(#clip480)\" d=\"M2191.94 242.092 L2196.2 242.092 L2196.2 268.018 L2191.94 268.018 L2191.94 242.092 M2191.94 231.999 L2196.2 231.999 L2196.2 237.393 L2191.94 237.393 L2191.94 231.999 Z\" fill=\"#000000\" fill-rule=\"evenodd\" fill-opacity=\"1\" /><path clip-path=\"url(#clip480)\" d=\"M2223.77 243.087 L2223.77 247.069 Q2221.96 246.073 2220.13 245.587 Q2218.33 245.078 2216.48 245.078 Q2212.33 245.078 2210.04 247.717 Q2207.75 250.332 2207.75 255.078 Q2207.75 259.823 2210.04 262.462 Q2212.33 265.078 2216.48 265.078 Q2218.33 265.078 2220.13 264.592 Q2221.96 264.082 2223.77 263.087 L2223.77 267.022 Q2221.99 267.856 2220.06 268.272 Q2218.17 268.689 2216.01 268.689 Q2210.16 268.689 2206.71 265.008 Q2203.26 261.328 2203.26 255.078 Q2203.26 248.735 2206.73 245.101 Q2210.23 241.467 2216.29 241.467 Q2218.26 241.467 2220.13 241.883 Q2222.01 242.277 2223.77 243.087 Z\" fill=\"#000000\" fill-rule=\"evenodd\" fill-opacity=\"1\" /><path clip-path=\"url(#clip480)\" d=\"M2231.18 242.092 L2235.43 242.092 L2235.43 268.018 L2231.18 268.018 L2231.18 242.092 M2231.18 231.999 L2235.43 231.999 L2235.43 237.393 L2231.18 237.393 L2231.18 231.999 Z\" fill=\"#000000\" fill-rule=\"evenodd\" fill-opacity=\"1\" /><path clip-path=\"url(#clip480)\" d=\"M2248.56 234.731 L2248.56 242.092 L2257.33 242.092 L2257.33 245.402 L2248.56 245.402 L2248.56 259.476 Q2248.56 262.647 2249.42 263.55 Q2250.3 264.453 2252.96 264.453 L2257.33 264.453 L2257.33 268.018 L2252.96 268.018 Q2248.03 268.018 2246.15 266.189 Q2244.28 264.337 2244.28 259.476 L2244.28 245.402 L2241.15 245.402 L2241.15 242.092 L2244.28 242.092 L2244.28 234.731 L2248.56 234.731 Z\" fill=\"#000000\" fill-rule=\"evenodd\" fill-opacity=\"1\" /><polyline clip-path=\"url(#clip480)\" style=\"stroke:#c271d2; stroke-linecap:butt; stroke-linejoin:round; stroke-width:4; stroke-opacity:1; fill:none\" points=\"\n  1874.46,302.578 2020.87,302.578 \n  \"/>\n<path clip-path=\"url(#clip480)\" d=\"M2064.19 306.594 Q2064.19 301.964 2062.26 299.418 Q2060.37 296.872 2056.92 296.872 Q2053.49 296.872 2051.57 299.418 Q2049.67 301.964 2049.67 306.594 Q2049.67 311.2 2051.57 313.746 Q2053.49 316.293 2056.92 316.293 Q2060.37 316.293 2062.26 313.746 Q2064.19 311.2 2064.19 306.594 M2068.44 316.64 Q2068.44 323.26 2065.5 326.478 Q2062.56 329.719 2056.5 329.719 Q2054.25 329.719 2052.26 329.371 Q2050.27 329.047 2048.4 328.353 L2048.4 324.209 Q2050.27 325.228 2052.1 325.714 Q2053.93 326.2 2055.83 326.2 Q2060.02 326.2 2062.1 324.001 Q2064.19 321.825 2064.19 317.404 L2064.19 315.297 Q2062.87 317.589 2060.81 318.723 Q2058.75 319.858 2055.88 319.858 Q2051.11 319.858 2048.19 316.223 Q2045.27 312.589 2045.27 306.594 Q2045.27 300.575 2048.19 296.941 Q2051.11 293.307 2055.88 293.307 Q2058.75 293.307 2060.81 294.441 Q2062.87 295.575 2064.19 297.867 L2064.19 293.932 L2068.44 293.932 L2068.44 316.64 Z\" fill=\"#000000\" fill-rule=\"evenodd\" fill-opacity=\"1\" /><path clip-path=\"url(#clip480)\" d=\"M2092.29 293.932 L2096.55 293.932 L2096.55 319.858 L2092.29 319.858 L2092.29 293.932 M2092.29 283.839 L2096.55 283.839 L2096.55 289.233 L2092.29 289.233 L2092.29 283.839 Z\" fill=\"#000000\" fill-rule=\"evenodd\" fill-opacity=\"1\" /><path clip-path=\"url(#clip480)\" d=\"M2125.64 298.909 Q2127.24 296.038 2129.46 294.673 Q2131.68 293.307 2134.69 293.307 Q2138.74 293.307 2140.94 296.154 Q2143.14 298.978 2143.14 304.209 L2143.14 319.858 L2138.86 319.858 L2138.86 304.348 Q2138.86 300.622 2137.54 298.816 Q2136.22 297.01 2133.51 297.01 Q2130.2 297.01 2128.28 299.21 Q2126.36 301.409 2126.36 305.205 L2126.36 319.858 L2122.08 319.858 L2122.08 304.348 Q2122.08 300.598 2120.76 298.816 Q2119.44 297.01 2116.68 297.01 Q2113.42 297.01 2111.5 299.233 Q2109.58 301.432 2109.58 305.205 L2109.58 319.858 L2105.3 319.858 L2105.3 293.932 L2109.58 293.932 L2109.58 297.96 Q2111.04 295.575 2113.07 294.441 Q2115.11 293.307 2117.91 293.307 Q2120.74 293.307 2122.7 294.742 Q2124.69 296.177 2125.64 298.909 Z\" fill=\"#000000\" fill-rule=\"evenodd\" fill-opacity=\"1\" /><path clip-path=\"url(#clip480)\" d=\"M2155.76 315.969 L2155.76 329.719 L2151.48 329.719 L2151.48 293.932 L2155.76 293.932 L2155.76 297.867 Q2157.1 295.552 2159.14 294.441 Q2161.2 293.307 2164.05 293.307 Q2168.77 293.307 2171.71 297.057 Q2174.67 300.807 2174.67 306.918 Q2174.67 313.029 2171.71 316.779 Q2168.77 320.529 2164.05 320.529 Q2161.2 320.529 2159.14 319.418 Q2157.1 318.283 2155.76 315.969 M2170.25 306.918 Q2170.25 302.219 2168.3 299.557 Q2166.38 296.872 2163 296.872 Q2159.62 296.872 2157.68 299.557 Q2155.76 302.219 2155.76 306.918 Q2155.76 311.617 2157.68 314.302 Q2159.62 316.964 2163 316.964 Q2166.38 316.964 2168.3 314.302 Q2170.25 311.617 2170.25 306.918 Z\" fill=\"#000000\" fill-rule=\"evenodd\" fill-opacity=\"1\" /><path clip-path=\"url(#clip480)\" d=\"M2181.73 283.839 L2185.99 283.839 L2185.99 319.858 L2181.73 319.858 L2181.73 283.839 Z\" fill=\"#000000\" fill-rule=\"evenodd\" fill-opacity=\"1\" /><path clip-path=\"url(#clip480)\" d=\"M2194.9 293.932 L2199.16 293.932 L2199.16 319.858 L2194.9 319.858 L2194.9 293.932 M2194.9 283.839 L2199.16 283.839 L2199.16 289.233 L2194.9 289.233 L2194.9 283.839 Z\" fill=\"#000000\" fill-rule=\"evenodd\" fill-opacity=\"1\" /><path clip-path=\"url(#clip480)\" d=\"M2226.73 294.927 L2226.73 298.909 Q2224.93 297.913 2223.1 297.427 Q2221.29 296.918 2219.44 296.918 Q2215.3 296.918 2213 299.557 Q2210.71 302.172 2210.71 306.918 Q2210.71 311.663 2213 314.302 Q2215.3 316.918 2219.44 316.918 Q2221.29 316.918 2223.1 316.432 Q2224.93 315.922 2226.73 314.927 L2226.73 318.862 Q2224.95 319.696 2223.03 320.112 Q2221.13 320.529 2218.98 320.529 Q2213.12 320.529 2209.67 316.848 Q2206.22 313.168 2206.22 306.918 Q2206.22 300.575 2209.69 296.941 Q2213.19 293.307 2219.25 293.307 Q2221.22 293.307 2223.1 293.723 Q2224.97 294.117 2226.73 294.927 Z\" fill=\"#000000\" fill-rule=\"evenodd\" fill-opacity=\"1\" /><path clip-path=\"url(#clip480)\" d=\"M2234.14 293.932 L2238.4 293.932 L2238.4 319.858 L2234.14 319.858 L2234.14 293.932 M2234.14 283.839 L2238.4 283.839 L2238.4 289.233 L2234.14 289.233 L2234.14 283.839 Z\" fill=\"#000000\" fill-rule=\"evenodd\" fill-opacity=\"1\" /><path clip-path=\"url(#clip480)\" d=\"M2251.52 286.571 L2251.52 293.932 L2260.3 293.932 L2260.3 297.242 L2251.52 297.242 L2251.52 311.316 Q2251.52 314.487 2252.38 315.39 Q2253.26 316.293 2255.92 316.293 L2260.3 316.293 L2260.3 319.858 L2255.92 319.858 Q2250.99 319.858 2249.11 318.029 Q2247.24 316.177 2247.24 311.316 L2247.24 297.242 L2244.11 297.242 L2244.11 293.932 L2247.24 293.932 L2247.24 286.571 L2251.52 286.571 Z\" fill=\"#000000\" fill-rule=\"evenodd\" fill-opacity=\"1\" /></svg>\n"
     },
     "execution_count": 9,
     "metadata": {},
     "output_type": "execute_result"
    }
   ],
   "source": [
    "# iter = 1:5:500\n",
    "# x = [@elapsed(rand(i,i)\\rand(i)) for i = iter]\n",
    "# display(plot(x, label=\"lib solver\", legend=:outertopright))\n",
    "# x = [@elapsed(gauss(i, rand(i,i), rand(i))) for i = iter]\n",
    "# plot!(x, label=\"my gsolver\")\n",
    "# x = [@elapsed(gauss(i, rand(i,i), rand(i), false)) for i = iter]\n",
    "# plot!(x, label=\"g explicit\")\n",
    "# x = [@elapsed(gauss(i, rand(i,i), rand(i), true)) for i = iter]\n",
    "# plot!(x, label=\"g implicit\")"
   ]
  },
  {
   "cell_type": "markdown",
   "id": "40e47349",
   "metadata": {},
   "source": [
    "### 实验题目\n",
    "\n",
    "实验指导书中所要求的求解的线性方程组，均以矩阵形式给出，各题目均将输入矩阵打印到控制台以便于观察，这之后同时提供`lib solver`和`my gauss solver`的解，二者结果精确到小数点后6位完全一致，说明求解正确。\n",
    "\n",
    "本部分在阶数较小的时候，意外的看到手写的`my gauss solver`效率高于`lib solver`，尽管如此，从上图曲线变化很明显可以注意到`lib solver`求解效率的稳定性。"
   ]
  },
  {
   "cell_type": "markdown",
   "id": "cf34a297-c80a-445e-ae44-1a57998b45c9",
   "metadata": {},
   "source": [
    "#### 执行代码\n",
    "\n",
    "本部分是实验代码进行运行时封装的部分，将函数的调用细节隐藏在show_result()函数内部，便于直接从外部使用特定参数对函数进行调用。"
   ]
  },
  {
   "cell_type": "code",
   "execution_count": 10,
   "id": "6e51684f",
   "metadata": {},
   "outputs": [
    {
     "data": {
      "text/plain": [
       "show_result (generic function with 1 method)"
      ]
     },
     "execution_count": 10,
     "metadata": {},
     "output_type": "execute_result"
    }
   ],
   "source": [
    "function show_result(A, b)\n",
    "    n = size(A, 1)\n",
    "    A = Float64.(A)\n",
    "    b = Float64.(b)\n",
    "    \n",
    "    println(\"input matrix: [A | b]\")\n",
    "    data=[A repeat([|], inner=(n, 1)) b]\n",
    "    pretty_table(\n",
    "        data;\n",
    "        header_crayon=crayon\"bold\",\n",
    "        tf = tf_matrix,\n",
    "        noheader=true,\n",
    "        formatters=ft_printf(\"%11.8f\"))\n",
    "    \n",
    "    println(\"lib solver result:\")\n",
    "    pretty_table(\n",
    "        @time A \\ b;\n",
    "        header_crayon=crayon\"bold\",\n",
    "        tf = tf_matrix,\n",
    "        noheader=true,\n",
    "        formatters=ft_printf(\"%11.8f\"))\n",
    "    \n",
    "    println(\"my gauss solver result:\")\n",
    "    pretty_table(\n",
    "        @time gauss(n, A, b);\n",
    "        header_crayon=crayon\"bold\",\n",
    "        tf = tf_matrix,\n",
    "        noheader=true,\n",
    "        formatters=ft_printf(\"%11.8f\"))\n",
    "    # display(@time gauss(n, A, b, false))  # implicit=false\n",
    "    # display(@time gauss(n, A, b, true))  # implicit=true\n",
    "end"
   ]
  },
  {
   "cell_type": "markdown",
   "id": "05a35566",
   "metadata": {},
   "source": [
    "#### 问题 1"
   ]
  },
  {
   "cell_type": "markdown",
   "id": "a79ef323-bd1f-4f1f-b634-4de24dfd17fd",
   "metadata": {},
   "source": [
    "##### 1.1"
   ]
  },
  {
   "cell_type": "code",
   "execution_count": 11,
   "id": "da17c9a0",
   "metadata": {},
   "outputs": [
    {
     "name": "stdout",
     "output_type": "stream",
     "text": [
      "input matrix: [A | b]\n",
      "┌                                                                    ┐\n",
      "│  0.40960000   0.12340000   0.36780000   0.29430000  |   1.19510000 │\n",
      "│  0.22460000   0.38720000   0.40150000   0.11290000  |   1.12620000 │\n",
      "│  0.36450000   0.19200000   0.37810000   0.06430000  |   0.99890000 │\n",
      "│  0.17840000   0.40020000   0.27860000   0.39270000  |   1.24990000 │\n",
      "└                                                                    ┘\n",
      "lib solver result:\n",
      "  0.000011 seconds (3 allocations: 384 bytes)\n",
      "┌             ┐\n",
      "│  1.00000000 │\n",
      "│  1.00000000 │\n",
      "│  1.00000000 │\n",
      "│  1.00000000 │\n",
      "└             ┘\n",
      "my gauss solver result:\n",
      "  0.000006 seconds (34 allocations: 3.031 KiB)\n",
      "┌             ┐\n",
      "│  1.00000000 │\n",
      "│  1.00000000 │\n",
      "│  1.00000000 │\n",
      "│  1.00000000 │\n",
      "└             ┘\n"
     ]
    }
   ],
   "source": [
    "A = [0.4096 0.1234 0.3678 0.2943\n",
    "     0.2246 0.3872 0.4015 0.1129\n",
    "     0.3645 0.1920 0.3781 0.0643\n",
    "     0.1784 0.4002 0.2786 0.3927]\n",
    "b = [1.1951; 1.1262; 0.9989; 1.2499]\n",
    "show_result(A, b)"
   ]
  },
  {
   "cell_type": "markdown",
   "id": "977f2176-92b0-4e21-be0e-46eb1a228e23",
   "metadata": {},
   "source": [
    "##### 1.2"
   ]
  },
  {
   "cell_type": "code",
   "execution_count": 12,
   "id": "c725653c",
   "metadata": {},
   "outputs": [
    {
     "name": "stdout",
     "output_type": "stream",
     "text": [
      "input matrix: [A | b]\n",
      "┌                                                                         ┐\n",
      "│ 136.01000000   90.86000000    0.00000000    0.00000000  |  226.87000000 │\n",
      "│  90.86000000   98.81000000  -67.59000000    0.00000000  |  122.08000000 │\n",
      "│   0.00000000  -67.59000000  132.01000000   46.26000000  |  110.68000000 │\n",
      "│   0.00000000    0.00000000   46.26000000  177.17000000  |  223.43000000 │\n",
      "└                                                                         ┘\n",
      "lib solver result:\n",
      "  0.000010 seconds (3 allocations: 384 bytes)\n",
      "┌             ┐\n",
      "│  1.00000000 │\n",
      "│  1.00000000 │\n",
      "│  1.00000000 │\n",
      "│  1.00000000 │\n",
      "└             ┘\n",
      "my gauss solver result:\n",
      "  0.000006 seconds (34 allocations: 3.031 KiB)\n",
      "┌             ┐\n",
      "│  1.00000000 │\n",
      "│  1.00000000 │\n",
      "│  1.00000000 │\n",
      "│  1.00000000 │\n",
      "└             ┘\n"
     ]
    }
   ],
   "source": [
    "A = [136.01  90.860       0       0\n",
    "     90.860  98.810 -67.590       0\n",
    "          0 -67.590  132.01  46.260\n",
    "          0       0  46.260  177.17]\n",
    "b = [226.87; 122.08; 110.68; 223.43]\n",
    "show_result(A, b)"
   ]
  },
  {
   "cell_type": "markdown",
   "id": "439560ec-fc20-4da3-bfb7-9d59e460efd4",
   "metadata": {},
   "source": [
    "##### 1.3"
   ]
  },
  {
   "cell_type": "code",
   "execution_count": 13,
   "id": "4181d48e",
   "metadata": {},
   "outputs": [
    {
     "name": "stdout",
     "output_type": "stream",
     "text": [
      "input matrix: [A | b]\n",
      "┌                                                                    ┐\n",
      "│  1.00000000   0.50000000   0.33333333   0.25000000  |   2.08333333 │\n",
      "│  0.50000000   0.33333333   0.25000000   0.20000000  |   1.28333333 │\n",
      "│  0.33333333   0.25000000   0.20000000   0.16666667  |   0.95000000 │\n",
      "│  0.25000000   0.20000000   0.16666667   0.14285714  |   0.75952381 │\n",
      "└                                                                    ┘\n",
      "lib solver result:\n",
      "  0.000015 seconds (3 allocations: 384 bytes)\n",
      "┌             ┐\n",
      "│  1.00000000 │\n",
      "│  1.00000000 │\n",
      "│  1.00000000 │\n",
      "│  1.00000000 │\n",
      "└             ┘\n",
      "my gauss solver result:\n",
      "  0.000010 seconds (34 allocations: 3.031 KiB)\n",
      "┌             ┐\n",
      "│  1.00000000 │\n",
      "│  1.00000000 │\n",
      "│  1.00000000 │\n",
      "│  1.00000000 │\n",
      "└             ┘\n"
     ]
    }
   ],
   "source": [
    "A = [  1 1/2 1/3 1/4\n",
    "     1/2 1/3 1/4 1/5\n",
    "     1/3 1/4 1/5 1/6\n",
    "     1/4 1/5 1/6 1/7]\n",
    "b = [25 / 12; 77 / 60; 57 / 60; 319 / 420]\n",
    "show_result(A, b)"
   ]
  },
  {
   "cell_type": "markdown",
   "id": "8274eb7f-a869-43f1-87a4-e79924adfd70",
   "metadata": {},
   "source": [
    "##### 1.4"
   ]
  },
  {
   "cell_type": "code",
   "execution_count": 14,
   "id": "3feff7ee",
   "metadata": {},
   "outputs": [
    {
     "name": "stdout",
     "output_type": "stream",
     "text": [
      "input matrix: [A | b]\n",
      "┌                                                                    ┐\n",
      "│ 10.00000000   7.00000000   8.00000000   7.00000000  |  32.00000000 │\n",
      "│  7.00000000   5.00000000   6.00000000   5.00000000  |  23.00000000 │\n",
      "│  8.00000000   6.00000000  10.00000000   9.00000000  |  33.00000000 │\n",
      "│  7.00000000   5.00000000   9.00000000  10.00000000  |  31.00000000 │\n",
      "└                                                                    ┘\n",
      "lib solver result:\n",
      "  0.000010 seconds (3 allocations: 384 bytes)\n",
      "┌             ┐\n",
      "│  1.00000000 │\n",
      "│  1.00000000 │\n",
      "│  1.00000000 │\n",
      "│  1.00000000 │\n",
      "└             ┘\n",
      "my gauss solver result:\n",
      "  0.000006 seconds (34 allocations: 3.031 KiB)\n",
      "┌             ┐\n",
      "│  1.00000000 │\n",
      "│  1.00000000 │\n",
      "│  1.00000000 │\n",
      "│  1.00000000 │\n",
      "└             ┘\n"
     ]
    }
   ],
   "source": [
    "A = [10  7  8  7\n",
    "      7  5  6  5\n",
    "      8  6 10  9\n",
    "      7  5  9 10]\n",
    "b = [32; 23; 33; 31]\n",
    "show_result(A, b)"
   ]
  },
  {
   "cell_type": "markdown",
   "id": "283d4b01",
   "metadata": {},
   "source": [
    "#### 问题 2\n"
   ]
  },
  {
   "cell_type": "markdown",
   "id": "d131880a-53a1-4fbe-a62d-b9306739fd90",
   "metadata": {},
   "source": [
    "##### 2.1"
   ]
  },
  {
   "cell_type": "code",
   "execution_count": 15,
   "id": "da56f246",
   "metadata": {},
   "outputs": [
    {
     "name": "stdout",
     "output_type": "stream",
     "text": [
      "input matrix: [A | b]\n",
      "┌                                                                           ┐\n",
      "│ 197.00000000  305.00000000  -206.00000000  -804.00000000  |  136.00000000 │\n",
      "│  46.80000000   71.30000000   -47.40000000    52.00000000  |   11.70000000 │\n",
      "│  88.60000000   76.40000000   -10.80000000   802.00000000  |   25.10000000 │\n",
      "│   1.45000000    5.90000000     6.13000000    36.50000000  |    6.60000000 │\n",
      "└                                                                           ┘\n",
      "lib solver result:\n",
      "  0.000009 seconds (3 allocations: 384 bytes)\n",
      "┌             ┐\n",
      "│  0.95367911 │\n",
      "│  0.32095685 │\n",
      "│  1.07870808 │\n",
      "│ -0.09010851 │\n",
      "└             ┘\n",
      "my gauss solver result:\n",
      "  0.000009 seconds (34 allocations: 3.031 KiB)\n",
      "┌             ┐\n",
      "│  0.95367911 │\n",
      "│  0.32095685 │\n",
      "│  1.07870808 │\n",
      "│ -0.09010851 │\n",
      "└             ┘\n"
     ]
    }
   ],
   "source": [
    "A = [ 197   305  -206  -804\n",
    "     46.8  71.3 -47.4  52.0\n",
    "     88.6  76.4 -10.8  802\n",
    "     1.45  5.90  6.13  36.5]\n",
    "b = [136; 11.7; 25.1;  6.60]\n",
    "show_result(A, b)"
   ]
  },
  {
   "cell_type": "markdown",
   "id": "9938b3d7-6329-4a25-8536-863542be4d20",
   "metadata": {},
   "source": [
    "##### 2.2"
   ]
  },
  {
   "cell_type": "code",
   "execution_count": 16,
   "id": "64c2b67c",
   "metadata": {},
   "outputs": [
    {
     "name": "stdout",
     "output_type": "stream",
     "text": [
      "input matrix: [A | b]\n",
      "┌                                                                    ┐\n",
      "│  0.53980000   0.71610000  -0.55540000  -0.29820000  |   0.20580000 │\n",
      "│  0.52570000   0.69240000   0.35650000  -0.62550000  |  -0.05030000 │\n",
      "│  0.64650000  -0.81870000  -0.18720000   0.12910000  |   0.10700000 │\n",
      "│  0.58140000   0.94000000  -0.77790000  -0.40420000  |   0.18590000 │\n",
      "└                                                                    ┘\n",
      "lib solver result:\n",
      "  0.000053 seconds (3 allocations: 384 bytes)\n",
      "┌             ┐\n",
      "│  0.51617730 │\n",
      "│  0.41521947 │\n",
      "│  0.10996610 │\n",
      "│  1.03653922 │\n",
      "└             ┘\n",
      "my gauss solver result:\n",
      "  0.000009 seconds (34 allocations: 3.031 KiB)\n",
      "┌             ┐\n",
      "│  0.51617730 │\n",
      "│  0.41521947 │\n",
      "│  0.10996610 │\n",
      "│  1.03653922 │\n",
      "└             ┘\n"
     ]
    }
   ],
   "source": [
    "A = [0.5398  0.7161 -0.5554 -0.2982\n",
    "     0.5257  0.6924  0.3565 -0.6255\n",
    "     0.6465 -0.8187 -0.1872  0.1291\n",
    "     0.5814  0.9400 -0.7779 -0.4042]\n",
    "b = [0.2058; -0.0503; 0.1070; 0.1859]\n",
    "show_result(A, b)"
   ]
  },
  {
   "cell_type": "markdown",
   "id": "460f6c71-3c54-4af1-9922-cf399a2190a1",
   "metadata": {},
   "source": [
    "##### 2.3"
   ]
  },
  {
   "cell_type": "code",
   "execution_count": 17,
   "id": "f0da8769",
   "metadata": {},
   "outputs": [
    {
     "name": "stdout",
     "output_type": "stream",
     "text": [
      "input matrix: [A | b]\n",
      "┌                                                       ┐\n",
      "│ 10.00000000   1.00000000   2.00000000  |  13.00000000 │\n",
      "│  1.00000000  10.00000000   2.00000000  |  13.00000000 │\n",
      "│  1.00000000   1.00000000   5.00000000  |   7.00000000 │\n",
      "└                                                       ┘\n",
      "lib solver result:\n",
      "  0.000009 seconds (3 allocations: 288 bytes)\n",
      "┌             ┐\n",
      "│  1.00000000 │\n",
      "│  1.00000000 │\n",
      "│  1.00000000 │\n",
      "└             ┘\n",
      "my gauss solver result:\n",
      "  0.000003 seconds (19 allocations: 1.453 KiB)\n",
      "┌             ┐\n",
      "│  1.00000000 │\n",
      "│  1.00000000 │\n",
      "│  1.00000000 │\n",
      "└             ┘\n"
     ]
    }
   ],
   "source": [
    "A = [10  1  2\n",
    "      1 10  2\n",
    "      1  1  5]\n",
    "b = [13; 13; 7]\n",
    "show_result(A, b)"
   ]
  },
  {
   "cell_type": "markdown",
   "id": "49415858-40e3-4625-848e-0d95c21dcf90",
   "metadata": {},
   "source": [
    "##### 2.4"
   ]
  },
  {
   "cell_type": "code",
   "execution_count": 18,
   "id": "583ed506",
   "metadata": {},
   "outputs": [
    {
     "name": "stdout",
     "output_type": "stream",
     "text": [
      "input matrix: [A | b]\n",
      "┌                                                       ┐\n",
      "│  4.00000000  -2.00000000  -4.00000000  |  -2.00000000 │\n",
      "│ -2.00000000  17.00000000  10.00000000  |  25.00000000 │\n",
      "│ -4.00000000  10.00000000   9.00000000  |  15.00000000 │\n",
      "└                                                       ┘\n",
      "lib solver result:\n",
      "  0.000010 seconds (3 allocations: 288 bytes)\n",
      "┌             ┐\n",
      "│  1.00000000 │\n",
      "│  1.00000000 │\n",
      "│  1.00000000 │\n",
      "└             ┘\n",
      "my gauss solver result:\n",
      "  0.000004 seconds (19 allocations: 1.453 KiB)\n",
      "┌             ┐\n",
      "│  1.00000000 │\n",
      "│  1.00000000 │\n",
      "│  1.00000000 │\n",
      "└             ┘\n"
     ]
    }
   ],
   "source": [
    "A = [4 -2 -4\n",
    "    -2 17 10\n",
    "    -4 10  9]\n",
    "b = [-2; 25; 15]\n",
    "show_result(A, b)"
   ]
  },
  {
   "cell_type": "markdown",
   "id": "3ad2baf0",
   "metadata": {
    "jp-MarkdownHeadingCollapsed": true,
    "tags": []
   },
   "source": [
    "### 总结\n",
    "\n",
    "本实验为高斯列主元消元法的实现，以及运用所写代码完成问题的求解，同时熟悉了`Julia`语言的一些内置函数，以提高代码运行效率的细节用法，例如：\n",
    " - 使用`findmax()`同时获取向量最大元素及其下标，\n",
    " - 使用`@inbounds`宏减少不必要的边界检查，以节约时间\n",
    " - 使用`similar()`返回内容任意形状相同的矩阵或者向量\n",
    " - 使用`norm()`和`opnorm()`分别计算向量和矩阵的范数\n",
    " - 使用`@elapsed`宏获取对应代码运行的时间数值\n",
    "\n",
    "本次实验代码随能正确完成任务，且在矩阵阶数较低时有高于库函数的运行效率，但较为零散和频繁的内存分配是的函数在处理高阶矩阵时的时间效率远远低于库函数解法。主要的优化方向为分辨出代码中不必要的内存分配部分，但由于当前`Julia`几乎就是默认使用引用传递，不存在`python`语言中的内存消耗问题，优化可能还需要参考编译出的汇编代码，可在函数前加`@code_native`宏来查看。\n",
    "\n",
    "这是本实验课的最后一个实验，虽然并非最后完成的实验，但在实验报告的整理过程中，通过之前实验完成过程中学习的`PrettyTables.jl`库重写了`show_result()`函数以获得更好的结果呈现方式。\n",
    "\n",
    "通过这半学期的练习，对于`Julia`语言各个领域库的使用有了基本的了解，方便了日后的深入使用。"
   ]
  },
  {
   "cell_type": "markdown",
   "id": "610f64cd-cd4f-4e95-9c15-819dd90a9a8b",
   "metadata": {
    "tags": []
   },
   "source": [
    "### 参考资料\n",
    "\n",
    "1. julia swapcols fast https://stackoverflow.com/questions/58667332/is-there-a-way-to-swap-columns-in-o1-in-julia\n",
    "2. julia \\_swapcol fast https://discourse.julialang.org/t/swap-cols-rows-of-a-matrix/47904/9\n",
    "3. julia pivoting https://stackoverflow.com/questions/45396685/what-does-an-exclamation-mark-mean-after-the-name-of-a-function\n",
    "4. julia pivoting https://people.richland.edu/james/lecture/m116/matrices/pivot.html\n",
    "5. julia similar https://stackoverflow.com/questions/62142717/julia-quick-way-to-initialise-an-empty-array-thats-the-same-size-as-another\n",
    "6. moving average pseudocode https://stackoverflow.com/questions/28820904/how-to-efficiently-compute-average-on-the-fly-moving-average\n",
    "7. julia repeat method https://www.geeksforgeeks.org/creating-array-with-repeated-elements-in-julia-repeat-method/\n",
    "8. julia repeat usage http://www.jlhub.com/julia/manual/en/function/repeat\n",
    "9. moving average https://stackoverflow.com/questions/12636613/how-to-calculate-moving-average-without-keeping-the-count-and-data-total\n",
    "9. 《数值分析原理》吴勃英 46-48\n",
    "10. 《计算方法实验指导》实验题目 5 高斯(Gauss)列主元消去法"
   ]
  }
 ],
 "metadata": {
  "kernelspec": {
   "display_name": "Julia 1.7.0",
   "language": "julia",
   "name": "julia-1.7"
  },
  "language_info": {
   "file_extension": ".jl",
   "mimetype": "application/julia",
   "name": "julia",
   "version": "1.7.2"
  }
 },
 "nbformat": 4,
 "nbformat_minor": 5
}

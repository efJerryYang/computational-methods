{
 "cells": [
  {
   "cell_type": "markdown",
   "id": "da714b7e-8452-48af-80ad-3c9622af090b",
   "metadata": {},
   "source": [
    "## 实验题目5 高斯(Gauss)列主元消去法"
   ]
  },
  {
   "cell_type": "markdown",
   "id": "4c9069cd-3ca9-4387-936b-890d97494a7a",
   "metadata": {},
   "source": [
    "### 代码实现"
   ]
  },
  {
   "cell_type": "code",
   "execution_count": 33,
   "id": "71ed8b76-fb09-4299-a056-c324c57be3f8",
   "metadata": {},
   "outputs": [],
   "source": [
    "using Printf\n",
    "using LinearAlgebra"
   ]
  },
  {
   "cell_type": "code",
   "execution_count": 34,
   "id": "e314ab40-0a3a-4d19-b59f-9fb7fcebe682",
   "metadata": {},
   "outputs": [
    {
     "data": {
      "text/plain": [
       "_swapcol! (generic function with 1 method)"
      ]
     },
     "execution_count": 34,
     "metadata": {},
     "output_type": "execute_result"
    }
   ],
   "source": [
    "# from: https://stackoverflow.com/questions/58667332/is-there-a-way-to-swap-columns-in-o1-in-julia\n",
    "function swapcols!(X::AbstractMatrix, i::Integer, j::Integer)\n",
    "    @inbounds for k = 1:size(X, 1)\n",
    "        X[k, i], X[k, j] = X[k, j], X[k, i]\n",
    "    end\n",
    "end\n",
    "# from: https://discourse.julialang.org/t/swap-cols-rows-of-a-matrix/47904/9\n",
    "function _swapcol!(x, i, j)\n",
    "    for k in axes(x, 1)  # <- give dimension as input to axes function\n",
    "        x[k, i], x[k, j] = x[k, j], x[k, i]\n",
    "    end\n",
    "end"
   ]
  },
  {
   "cell_type": "code",
   "execution_count": 35,
   "id": "34030d63-6753-4642-91f9-ed97406f110e",
   "metadata": {},
   "outputs": [
    {
     "data": {
      "text/plain": [
       "swaprows! (generic function with 1 method)"
      ]
     },
     "execution_count": 35,
     "metadata": {},
     "output_type": "execute_result"
    }
   ],
   "source": [
    "function swaprows!(X::AbstractMatrix, i::Integer, j::Integer)\n",
    "    @inbounds for k = 1:size(X, 2)\n",
    "        X[i, k], X[j, k] = X[j, k], X[i, k]\n",
    "    end\n",
    "end"
   ]
  },
  {
   "cell_type": "code",
   "execution_count": 36,
   "id": "08ebecb9",
   "metadata": {},
   "outputs": [
    {
     "data": {
      "text/plain": [
       "pivoting! (generic function with 2 methods)"
      ]
     },
     "execution_count": 36,
     "metadata": {},
     "output_type": "execute_result"
    }
   ],
   "source": [
    "# https://stackoverflow.com/questions/45396685/what-does-an-exclamation-mark-mean-after-the-name-of-a-function\n",
    "# https://people.richland.edu/james/lecture/m116/matrices/pivot.html\n",
    "function pivoting!(A::Matrix{Float64}, k::Integer, n::Integer)\n",
    "    val, idx = findmax(A[k:n, k])\n",
    "    idx += k - 1  # index must add previous length that omitted by slice operator\n",
    "    return val, idx\n",
    "end\n",
    "function pivoting!(A::Matrix{Float64}, b::Vector{Float64}, k::Integer, n::Integer, implicit::Bool)\n",
    "    s = [maximum(A[i, k:n]) for i in k:n]\n",
    "    if 0 in s\n",
    "        println(\"Cannot solve a singular matrix!\")\n",
    "        return\n",
    "    end\n",
    "    if implicit\n",
    "        val, idx = findmax(A[k:n, k] ./ s[1:n-k+1])\n",
    "    else\n",
    "        A[k:n, k:n] = A[k:n, k:n] ./ s\n",
    "        b[k:n] = b[k:n] ./ s\n",
    "        val, idx = findmax(A[k:n, k])\n",
    "    end\n",
    "    idx += k - 1  # index must add previous length that omitted by slice operator\n",
    "    return val, idx\n",
    "end"
   ]
  },
  {
   "cell_type": "code",
   "execution_count": 37,
   "id": "90c12b14-4b41-4411-a2ab-1c5f493661dc",
   "metadata": {},
   "outputs": [
    {
     "data": {
      "text/plain": [
       "gauss (generic function with 2 methods)"
      ]
     },
     "execution_count": 37,
     "metadata": {},
     "output_type": "execute_result"
    }
   ],
   "source": [
    "# Gauss列主元消去法\n",
    "# Todo: modify it using . operator\n",
    "function gauss(n, A::Matrix{Float64}, b::Vector{Float64})\n",
    "    for k = 1:n-1\n",
    "        # select pivot in columns\n",
    "        val, idx = pivoting!(A, k, n)\n",
    "        if val == 0\n",
    "            println(\"Cannot solve a singular matrix!\")\n",
    "            return\n",
    "        end\n",
    "        # swap rows\n",
    "        if idx != k\n",
    "            swaprows!(A, idx, k)\n",
    "            b[idx], b[k] = b[k], b[idx]\n",
    "        end\n",
    "        # elimination\n",
    "        for i = k+1:n\n",
    "            m = A[i, k] / A[k, k]\n",
    "            A[i, :] -= A[k, :] * m\n",
    "            b[i] -= b[k] * m\n",
    "        end\n",
    "    end\n",
    "    if A[n, n] == 0\n",
    "        println(\"Cannot solve a singular matrix!\")\n",
    "        return\n",
    "    end\n",
    "    # https://stackoverflow.com/questions/62142717/julia-quick-way-to-initialise-an-empty-array-thats-the-same-size-as-another\n",
    "    x = similar(b, Float64)\n",
    "    x[n] = b[n] / A[n, n]\n",
    "    for k = n-1:-1:1  # the usage of reverse sequence\n",
    "        x[k] = (b[k] - dot(A[k, k+1:n], x[k+1:n])) / A[k, k]  # something really annoying \n",
    "    end\n",
    "    x\n",
    "end\n"
   ]
  },
  {
   "cell_type": "code",
   "execution_count": 38,
   "id": "977d9b57-4fb5-4cd3-8596-11d58ac9aed8",
   "metadata": {},
   "outputs": [
    {
     "data": {
      "text/plain": [
       "gauss (generic function with 2 methods)"
      ]
     },
     "execution_count": 38,
     "metadata": {},
     "output_type": "execute_result"
    }
   ],
   "source": [
    "# Gauss列主元消去法\n",
    "# Todo: modify it using . operator\n",
    "function gauss(n, A::Matrix{Float64}, b::Vector{Float64}, implicit::Bool)\n",
    "    for k = 1:n-1\n",
    "        # select pivot in columns\n",
    "        val, idx = pivoting!(A, b, k, n, implicit)\n",
    "        if val == 0\n",
    "            println(\"Cannot solve a singular matrix!\")\n",
    "            return\n",
    "        end\n",
    "        # swap rows\n",
    "        if idx != k\n",
    "            swaprows!(A, idx, k)\n",
    "            b[idx], b[k] = b[k], b[idx]\n",
    "        end\n",
    "        # elimination\n",
    "        for i = k+1:n\n",
    "            m = A[i, k] / A[k, k]\n",
    "            A[i, :] -= A[k, :] * m\n",
    "            b[i] -= b[k] * m\n",
    "        end\n",
    "    end\n",
    "    if A[n, n] == 0\n",
    "        println(\"Cannot solve a singular matrix!\")\n",
    "        return\n",
    "    end\n",
    "    # https://stackoverflow.com/questions/62142717/julia-quick-way-to-initialise-an-empty-array-thats-the-same-size-as-another\n",
    "    x = similar(b, Float64)\n",
    "    x[n] = b[n] / A[n, n]\n",
    "    for k = n-1:-1:1  # the usage of reverse sequence\n",
    "        x[k] = (b[k] - dot(A[k, k+1:n], x[k+1:n])) / A[k, k]  # something really annoying \n",
    "    end\n",
    "    x\n",
    "end\n"
   ]
  },
  {
   "cell_type": "markdown",
   "id": "9726f849",
   "metadata": {},
   "source": [
    "### 测试代码"
   ]
  },
  {
   "cell_type": "markdown",
   "id": "e6e0488b",
   "metadata": {},
   "source": [
    "#### Test 1 - Correctness"
   ]
  },
  {
   "cell_type": "code",
   "execution_count": 46,
   "id": "e24d40e1",
   "metadata": {},
   "outputs": [
    {
     "name": "stdout",
     "output_type": "stream",
     "text": [
      "8.425059100878904e-13\t  0.165326 seconds (180.31 k allocations: 439.810 MiB, 17.78% gc time)\n",
      "3.4350627540995605e-12\t  0.208177 seconds (227.26 k allocations: 515.581 MiB, 15.69% gc time)\n",
      "1.507283366551913e-12\t  0.242366 seconds (228.37 k allocations: 653.650 MiB, 14.92% gc time)\n",
      "\n",
      "2.6375399335317267e-12\t  0.168019 seconds (180.32 k allocations: 439.810 MiB, 18.44% gc time)\n",
      "7.094038267623084e-13\t  0.220397 seconds (227.26 k allocations: 515.581 MiB, 16.62% gc time)\n",
      "6.9047956070794795e-12\t  0.251966 seconds (228.37 k allocations: 653.650 MiB, 15.47% gc time)\n",
      "\n",
      "5.941176607300328e-13\t  0.181817 seconds (180.31 k allocations: 439.810 MiB, 17.66% gc time)\n",
      "3.5664035006884525e-13\t  0.244468 seconds (227.26 k allocations: 515.581 MiB, 14.90% gc time)\n",
      "9.296910460489593e-13\t  0.246992 seconds (228.37 k allocations: 653.650 MiB, 14.85% gc time)\n",
      "\n",
      "1.5634026966848953e-11\t  0.160013 seconds (180.32 k allocations: 439.810 MiB, 18.44% gc time)\n",
      "2.3075886211457332e-12\t  0.224174 seconds (227.26 k allocations: 515.581 MiB, 15.41% gc time)\n",
      "1.1553496602926557e-12\t  0.243035 seconds (228.37 k allocations: 653.650 MiB, 14.86% gc time)\n",
      "\n",
      "1.2672375299776057e-12\t  0.163598 seconds (180.31 k allocations: 439.810 MiB, 18.07% gc time)\n",
      "2.3859933224623843e-12\t  0.212587 seconds (227.26 k allocations: 515.581 MiB, 15.98% gc time)\n",
      "1.4035551297492354e-12\t  0.260413 seconds (228.37 k allocations: 653.650 MiB, 14.31% gc time)\n",
      "\n"
     ]
    }
   ],
   "source": [
    "# test random result of standard library \n",
    "# test pass\n",
    "for i in 1:5\n",
    "    M = rand(300, 300)\n",
    "    v = rand(300)\n",
    "    A, b = copy(M), copy(v)\n",
    "    try\n",
    "        @time print(\"$(norm(A \\ b - gauss(size(A, 1), A, b), 2))\\t\")\n",
    "\n",
    "        A, b = copy(M), copy(v)\n",
    "        @time print(\"$(norm(A \\ b - gauss(size(A, 1), A, b, true), 2))\\t\")\n",
    "\n",
    "        A, b = copy(M), copy(v)\n",
    "        @time print(\"$(norm(A \\ b - gauss(size(A, 1), A, b, false), 2))\\t\")\n",
    "    catch SigularException\n",
    "        println(\"Cannot solve a singular matrix!\")\n",
    "    end\n",
    "    println()\n",
    "end"
   ]
  },
  {
   "cell_type": "markdown",
   "id": "4a5cd7a8-4856-4561-966b-a04e055ea993",
   "metadata": {},
   "source": [
    "#### Test 2 - Performance "
   ]
  },
  {
   "cell_type": "code",
   "execution_count": 43,
   "id": "e6df0a43-fd93-4448-b1d1-6b34b80738e6",
   "metadata": {},
   "outputs": [
    {
     "name": "stdout",
     "output_type": "stream",
     "text": [
      "  0.006502 seconds (4 allocations: 708.172 KiB)\n",
      "  0.182775 seconds (180.30 k allocations: 439.115 MiB, 21.88% gc time)\n",
      "  0.239597 seconds (227.24 k allocations: 514.886 MiB, 18.46% gc time)\n",
      "  0.275982 seconds (228.35 k allocations: 652.955 MiB, 16.01% gc time)\n",
      "\n",
      "  0.006066 seconds (4 allocations: 708.172 KiB)\n",
      "  0.182836 seconds (180.30 k allocations: 439.115 MiB, 20.52% gc time)\n",
      "  0.229287 seconds (227.24 k allocations: 514.886 MiB, 18.00% gc time)\n",
      "  0.267037 seconds (228.35 k allocations: 652.955 MiB, 16.77% gc time)\n",
      "\n",
      "  0.007162 seconds (4 allocations: 708.172 KiB)\n",
      "  0.285603 seconds (180.30 k allocations: 439.115 MiB, 43.31% gc time)\n",
      "  0.211279 seconds (227.24 k allocations: 514.886 MiB, 16.37% gc time)\n",
      "  0.241856 seconds (228.35 k allocations: 652.955 MiB, 15.15% gc time)\n",
      "\n",
      "  0.007173 seconds (4 allocations: 708.172 KiB)\n",
      "  0.170964 seconds (180.30 k allocations: 439.115 MiB, 19.40% gc time)\n",
      "  0.215837 seconds (227.24 k allocations: 514.886 MiB, 17.98% gc time)\n",
      "  0.257109 seconds (228.35 k allocations: 652.955 MiB, 15.72% gc time)\n",
      "\n",
      "  0.005983 seconds (4 allocations: 708.172 KiB)\n",
      "  0.176782 seconds (180.30 k allocations: 439.115 MiB, 18.64% gc time)\n",
      "  0.194065 seconds (227.24 k allocations: 514.886 MiB, 16.35% gc time)\n",
      "  0.241403 seconds (228.35 k allocations: 652.955 MiB, 15.84% gc time)\n",
      "\n"
     ]
    }
   ],
   "source": [
    "# test random result of standard library \n",
    "# test pass\n",
    "for i in 1:5\n",
    "    M = rand(300, 300)\n",
    "    v = rand(300)\n",
    "    A, b = copy(M), copy(v)\n",
    "    try\n",
    "        @time A \\ b\n",
    "\n",
    "        A, b = copy(M), copy(v)\n",
    "        @time gauss(size(A, 1), A, b)\n",
    "\n",
    "        A, b = copy(M), copy(v)\n",
    "        @time gauss(size(A, 1), A, b, true)\n",
    "\n",
    "        A, b = copy(M), copy(v)\n",
    "        @time gauss(size(A, 1), A, b, false)\n",
    "    catch SigularException\n",
    "        println(\"Cannot solve a singular matrix!\")\n",
    "    end\n",
    "    println()\n",
    "end"
   ]
  },
  {
   "cell_type": "markdown",
   "id": "d62360d1",
   "metadata": {},
   "source": [
    "#### Test 3 - Special Matrix\n",
    "\n",
    "Bug: 处理上三角矩阵计算有异常\n",
    "\n",
    "Todo: 应当增加对于特殊矩阵的测试，待测试列表同Julia Special Matrix:\n",
    "\n",
    "- [ ] Symmetric\n",
    "- [ ] Hermitian\n",
    "- [ ] UpperTriangular\n",
    "- [ ] UnitUpperTriangular\n",
    "- [ ] LowerTriangular\n",
    "- [ ] UnitLowerTriangular\n",
    "- [ ] UpperHessenberg\n",
    "- [ ] Tridiagonal\n",
    "- [ ] SymTridiagonal\n",
    "- [ ] Bidiagonal\n",
    "- [ ] Diagonal\n",
    "- [ ] UniformScaling\n"
   ]
  },
  {
   "cell_type": "markdown",
   "id": "40e47349",
   "metadata": {},
   "source": [
    "### 实验题目"
   ]
  },
  {
   "cell_type": "markdown",
   "id": "05a35566",
   "metadata": {},
   "source": [
    "#### 问题 1"
   ]
  },
  {
   "cell_type": "code",
   "execution_count": 66,
   "id": "da17c9a0",
   "metadata": {},
   "outputs": [
    {
     "data": {
      "text/plain": [
       "4-element Vector{Float64}:\n",
       " 1.0000000000000169\n",
       " 1.0000000000000142\n",
       " 0.9999999999999768\n",
       " 0.9999999999999994"
      ]
     },
     "metadata": {},
     "output_type": "display_data"
    },
    {
     "data": {
      "text/plain": [
       "4-element Vector{Float64}:\n",
       " -1.3477154991442357\n",
       " -1.0691119494363102\n",
       "  4.308734864083523\n",
       "  0.9999999999999994"
      ]
     },
     "metadata": {},
     "output_type": "display_data"
    },
    {
     "name": "stdout",
     "output_type": "stream",
     "text": [
      "  0.000023 seconds (61 allocations: 4.781 KiB)\n",
      "  0.000013 seconds (34 allocations: 3.031 KiB)\n"
     ]
    }
   ],
   "source": [
    "A = [0.4096 0.1234 0.3678 0.2943\n",
    "    0.2246 0.3872 0.4015 0.1129\n",
    "    0.3645 0.1920 0.3781 0.0643\n",
    "    0.1784 0.4002 0.2786 0.3927]\n",
    "b = [1.1951; 1.1262; 0.9989; 1.2499]\n",
    "# @time A \\ b\n",
    "# @time display(gauss(4, A, b))\n",
    "display(@time gauss(4, A, b,true))\n",
    "display(@time gauss(4, A, b))"
   ]
  }
 ],
 "metadata": {
  "kernelspec": {
   "display_name": "Julia 1.7.2",
   "language": "julia",
   "name": "julia-1.7"
  },
  "language_info": {
   "file_extension": ".jl",
   "mimetype": "application/julia",
   "name": "julia",
   "version": "1.7.2"
  }
 },
 "nbformat": 4,
 "nbformat_minor": 5
}

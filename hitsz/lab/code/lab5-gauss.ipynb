{
 "cells": [
  {
   "cell_type": "markdown",
   "id": "da714b7e-8452-48af-80ad-3c9622af090b",
   "metadata": {},
   "source": [
    "## 实验题目5 高斯(Gauss)列主元消去法"
   ]
  },
  {
   "cell_type": "markdown",
   "id": "4c9069cd-3ca9-4387-936b-890d97494a7a",
   "metadata": {},
   "source": [
    "### 代码实现"
   ]
  },
  {
   "cell_type": "code",
   "execution_count": 14,
   "id": "71ed8b76-fb09-4299-a056-c324c57be3f8",
   "metadata": {},
   "outputs": [],
   "source": [
    "using Printf\n",
    "using LinearAlgebra"
   ]
  },
  {
   "cell_type": "code",
   "execution_count": 15,
   "id": "e314ab40-0a3a-4d19-b59f-9fb7fcebe682",
   "metadata": {},
   "outputs": [
    {
     "data": {
      "text/plain": [
       "_swapcol! (generic function with 1 method)"
      ]
     },
     "execution_count": 15,
     "metadata": {},
     "output_type": "execute_result"
    }
   ],
   "source": [
    "# from: https://stackoverflow.com/questions/58667332/is-there-a-way-to-swap-columns-in-o1-in-julia\n",
    "function swapcols!(X::AbstractMatrix, i::Integer, j::Integer)\n",
    "    @inbounds for k = 1:size(X, 1)\n",
    "        X[k, i], X[k, j] = X[k, j], X[k, i]\n",
    "    end\n",
    "end\n",
    "# from: https://discourse.julialang.org/t/swap-cols-rows-of-a-matrix/47904/9\n",
    "function _swapcol!(x, i, j)\n",
    "    for k in axes(x, 1)  # <- give dimension as input to axes function\n",
    "        x[k, i], x[k, j] = x[k, j], x[k, i]\n",
    "    end\n",
    "end"
   ]
  },
  {
   "cell_type": "code",
   "execution_count": 16,
   "id": "34030d63-6753-4642-91f9-ed97406f110e",
   "metadata": {},
   "outputs": [
    {
     "data": {
      "text/plain": [
       "swaprows! (generic function with 1 method)"
      ]
     },
     "execution_count": 16,
     "metadata": {},
     "output_type": "execute_result"
    }
   ],
   "source": [
    "function swaprows!(X::AbstractMatrix, i::Integer, j::Integer)\n",
    "    @inbounds for k = 1:size(X, 2)\n",
    "        X[i, k], X[j, k] = X[j, k], X[i, k]\n",
    "    end\n",
    "end"
   ]
  },
  {
   "cell_type": "code",
   "execution_count": 17,
   "id": "08ebecb9",
   "metadata": {},
   "outputs": [
    {
     "data": {
      "text/plain": [
       "pivoting! (generic function with 2 methods)"
      ]
     },
     "execution_count": 17,
     "metadata": {},
     "output_type": "execute_result"
    }
   ],
   "source": [
    "# https://stackoverflow.com/questions/45396685/what-does-an-exclamation-mark-mean-after-the-name-of-a-function\n",
    "# https://people.richland.edu/james/lecture/m116/matrices/pivot.html\n",
    "function pivoting!(A::Matrix{Float64}, k::Integer, n::Integer)\n",
    "    val, idx = findmax(A[k:n, k])\n",
    "    idx += k - 1  # index must add previous length that omitted by slice operator\n",
    "    return val, idx\n",
    "end\n",
    "function pivoting!(A::Matrix{Float64}, b::Vector{Float64}, k::Integer, n::Integer, implicit::Bool)\n",
    "    s = [maximum(A[i, k:n]) for i in k:n]\n",
    "    if 0 in s\n",
    "        println(\"Cannot solve a singular matrix!\")\n",
    "        return\n",
    "    end\n",
    "    if implicit\n",
    "        val, idx = findmax(A[k:n, k] ./ s[1:n-k+1])\n",
    "    else\n",
    "        A[k:n, k:n] = A[k:n, k:n] ./ s\n",
    "        b[k:n] = b[k:n] ./ s\n",
    "        val, idx = findmax(A[k:n, k])\n",
    "    end\n",
    "    idx += k - 1  # index must add previous length that omitted by slice operator\n",
    "    return val, idx\n",
    "end"
   ]
  },
  {
   "cell_type": "code",
   "execution_count": 18,
   "id": "90c12b14-4b41-4411-a2ab-1c5f493661dc",
   "metadata": {},
   "outputs": [
    {
     "data": {
      "text/plain": [
       "gauss (generic function with 2 methods)"
      ]
     },
     "execution_count": 18,
     "metadata": {},
     "output_type": "execute_result"
    }
   ],
   "source": [
    "# Gauss列主元消去法\n",
    "# Todo: modify it using . operator\n",
    "function gauss(n, A::Matrix{Float64}, b::Vector{Float64})\n",
    "    for k = 1:n-1\n",
    "        # select pivot in columns\n",
    "        val, idx = pivoting!(A, k, n)\n",
    "        if val == 0\n",
    "            println(\"Cannot solve a singular matrix!\")\n",
    "            return\n",
    "        end\n",
    "        # swap rows\n",
    "        if idx != k\n",
    "            swaprows!(A, idx, k)\n",
    "            b[idx], b[k] = b[k], b[idx]\n",
    "        end\n",
    "        # elimination\n",
    "        for i = k+1:n\n",
    "            m = A[i, k] / A[k, k]\n",
    "            A[i, :] -= A[k, :] * m\n",
    "            b[i] -= b[k] * m\n",
    "        end\n",
    "    end\n",
    "    if A[n, n] == 0\n",
    "        println(\"Cannot solve a singular matrix!\")\n",
    "        return\n",
    "    end\n",
    "    # https://stackoverflow.com/questions/62142717/julia-quick-way-to-initialise-an-empty-array-thats-the-same-size-as-another\n",
    "    x = similar(b, Float64)\n",
    "    x[n] = b[n] / A[n, n]\n",
    "    for k = n-1:-1:1  # the usage of reverse sequence\n",
    "        x[k] = (b[k] - dot(A[k, k+1:n], x[k+1:n])) / A[k, k]  # something really annoying \n",
    "    end\n",
    "    x\n",
    "end\n"
   ]
  },
  {
   "cell_type": "code",
   "execution_count": 19,
   "id": "977d9b57-4fb5-4cd3-8596-11d58ac9aed8",
   "metadata": {},
   "outputs": [
    {
     "data": {
      "text/plain": [
       "gauss (generic function with 2 methods)"
      ]
     },
     "execution_count": 19,
     "metadata": {},
     "output_type": "execute_result"
    }
   ],
   "source": [
    "# Gauss列主元消去法\n",
    "# Todo: modify it using . operator\n",
    "function gauss(n, A::Matrix{Float64}, b::Vector{Float64}, implicit::Bool)\n",
    "    for k = 1:n-1\n",
    "        # select pivot in columns\n",
    "        val, idx = pivoting!(A, b, k, n, implicit)\n",
    "        if val == 0\n",
    "            println(\"Cannot solve a singular matrix!\")\n",
    "            return\n",
    "        end\n",
    "        # swap rows\n",
    "        if idx != k\n",
    "            swaprows!(A, idx, k)\n",
    "            b[idx], b[k] = b[k], b[idx]\n",
    "        end\n",
    "        # elimination\n",
    "        for i = k+1:n\n",
    "            m = A[i, k] / A[k, k]\n",
    "            A[i, :] -= A[k, :] * m\n",
    "            b[i] -= b[k] * m\n",
    "        end\n",
    "    end\n",
    "    if A[n, n] == 0\n",
    "        println(\"Cannot solve a singular matrix!\")\n",
    "        return\n",
    "    end\n",
    "    # https://stackoverflow.com/questions/62142717/julia-quick-way-to-initialise-an-empty-array-thats-the-same-size-as-another\n",
    "    x = similar(b, Float64)\n",
    "    x[n] = b[n] / A[n, n]\n",
    "    for k = n-1:-1:1  # the usage of reverse sequence\n",
    "        x[k] = (b[k] - dot(A[k, k+1:n], x[k+1:n])) / A[k, k]  # something really annoying \n",
    "    end\n",
    "    x\n",
    "end\n"
   ]
  },
  {
   "cell_type": "markdown",
   "id": "9726f849",
   "metadata": {},
   "source": [
    "### 测试代码"
   ]
  },
  {
   "cell_type": "markdown",
   "id": "e6e0488b",
   "metadata": {},
   "source": [
    "#### Test 1 - Correctness"
   ]
  },
  {
   "cell_type": "code",
   "execution_count": 20,
   "id": "e24d40e1",
   "metadata": {},
   "outputs": [
    {
     "name": "stdout",
     "output_type": "stream",
     "text": [
      "7.752479958016059e-13\t  0.265031 seconds (278.71 k allocations: 444.834 MiB, 14.57% gc time, 33.30% compilation time)\n",
      "1.1145404110647254e-12\t  0.483150 seconds (475.90 k allocations: 665.128 MiB, 9.47% gc time, 49.14% compilation time)\n",
      "1.0210768573374815e-12\t  0.200953 seconds (227.26 k allocations: 515.581 MiB, 14.85% gc time)\n",
      "\n",
      "9.631909466330227e-13\t  0.175793 seconds (180.32 k allocations: 439.810 MiB, 19.48% gc time)\n",
      "3.07457768214801e-12\t  0.249279 seconds (228.37 k allocations: 653.650 MiB, 14.65% gc time)\n",
      "6.075281220387006e-13\t  0.210097 seconds (227.26 k allocations: 515.581 MiB, 15.76% gc time)\n",
      "\n",
      "6.409575290167652e-13\t  0.167338 seconds (180.31 k allocations: 439.810 MiB, 19.32% gc time)\n",
      "6.068388728680604e-13\t  0.246014 seconds (228.37 k allocations: 653.650 MiB, 15.93% gc time)\n",
      "5.560220148718667e-13\t  0.208162 seconds (227.26 k allocations: 515.581 MiB, 16.21% gc time)\n",
      "\n",
      "2.036047614058848e-12\t  0.163557 seconds (180.32 k allocations: 439.810 MiB, 18.22% gc time)\n",
      "1.057883431708034e-12\t  0.423267 seconds (228.37 k allocations: 653.650 MiB, 45.16% gc time)\n",
      "1.43242668442565e-12\t  0.201109 seconds (227.26 k allocations: 515.581 MiB, 15.62% gc time)\n",
      "\n",
      "1.8415935230251007e-12\t  0.158726 seconds (180.31 k allocations: 439.810 MiB, 18.31% gc time)\n",
      "3.6377200356460172e-12\t  0.232061 seconds (228.37 k allocations: 653.650 MiB, 14.56% gc time)\n",
      "5.354379456860136e-12\t  0.212278 seconds (227.26 k allocations: 515.581 MiB, 16.80% gc time)\n",
      "\n"
     ]
    }
   ],
   "source": [
    "# test random result of standard library \n",
    "# test pass\n",
    "for i in 1:5\n",
    "    M = rand(300, 300)\n",
    "    v = rand(300)\n",
    "    A, b = copy(M), copy(v)  # ? Todo: move this line into try block will extend compilation time\n",
    "    try\n",
    "        @time print(\"$(norm(A \\ b - gauss(size(A, 1), A, b), 2))\\t\")\n",
    "\n",
    "        A, b = copy(M), copy(v)\n",
    "        @time print(\"$(norm(A \\ b - gauss(size(A, 1), A, b, false), 2))\\t\")  # implicit=false\n",
    "\n",
    "        A, b = copy(M), copy(v)\n",
    "        @time print(\"$(norm(A \\ b - gauss(size(A, 1), A, b, true), 2))\\t\")  # implicit=true\n",
    "    catch SigularException\n",
    "        println(\"Cannot solve a singular matrix!\")\n",
    "    end\n",
    "    println()\n",
    "end"
   ]
  },
  {
   "cell_type": "markdown",
   "id": "4a5cd7a8-4856-4561-966b-a04e055ea993",
   "metadata": {},
   "source": [
    "#### Test 2 - Performance "
   ]
  },
  {
   "cell_type": "code",
   "execution_count": 21,
   "id": "e6df0a43-fd93-4448-b1d1-6b34b80738e6",
   "metadata": {},
   "outputs": [
    {
     "name": "stdout",
     "output_type": "stream",
     "text": [
      "  0.006690 seconds (4 allocations: 708.172 KiB)\n",
      "  0.151358 seconds (180.30 k allocations: 439.115 MiB, 20.04% gc time)\n",
      "  0.225297 seconds (228.35 k allocations: 652.955 MiB, 14.67% gc time)\n",
      "  0.194098 seconds (227.24 k allocations: 514.886 MiB, 16.01% gc time)\n",
      "\n",
      "  0.006360 seconds (4 allocations: 708.172 KiB)\n",
      "  0.158756 seconds (180.30 k allocations: 439.115 MiB, 19.66% gc time)\n",
      "  0.226957 seconds (228.35 k allocations: 652.955 MiB, 14.67% gc time)\n",
      "  0.191497 seconds (227.24 k allocations: 514.886 MiB, 16.97% gc time)\n",
      "\n",
      "  0.006032 seconds (4 allocations: 708.172 KiB)\n",
      "  0.146730 seconds (180.30 k allocations: 439.115 MiB, 19.31% gc time)\n",
      "  0.240973 seconds (228.35 k allocations: 652.955 MiB, 15.11% gc time)\n",
      "  0.192015 seconds (227.24 k allocations: 514.886 MiB, 14.79% gc time)\n",
      "\n",
      "  0.005928 seconds (4 allocations: 708.172 KiB)\n",
      "  0.154796 seconds (180.30 k allocations: 439.115 MiB, 18.57% gc time)\n",
      "  0.227572 seconds (228.35 k allocations: 652.955 MiB, 14.03% gc time)\n",
      "  0.206883 seconds (227.24 k allocations: 514.886 MiB, 16.64% gc time)\n",
      "\n",
      "  0.006082 seconds (4 allocations: 708.172 KiB)\n",
      "  0.156907 seconds (180.30 k allocations: 439.115 MiB, 18.06% gc time)\n",
      "  0.232543 seconds (228.35 k allocations: 652.955 MiB, 14.85% gc time)\n",
      "  0.201234 seconds (227.24 k allocations: 514.886 MiB, 16.26% gc time)\n",
      "\n"
     ]
    }
   ],
   "source": [
    "# test random result of standard library \n",
    "# test pass\n",
    "for i in 1:5\n",
    "    M = rand(300, 300)\n",
    "    v = rand(300)\n",
    "    A, b = copy(M), copy(v)\n",
    "    try\n",
    "        @time A \\ b\n",
    "\n",
    "        A, b = copy(M), copy(v)\n",
    "        @time gauss(size(A, 1), A, b)\n",
    "\n",
    "        A, b = copy(M), copy(v)\n",
    "        @time gauss(size(A, 1), A, b, false)  # implicit=false\n",
    "\n",
    "        A, b = copy(M), copy(v)\n",
    "        @time gauss(size(A, 1), A, b, true)  # implicit=true\n",
    "    catch SigularException\n",
    "        println(\"Cannot solve a singular matrix!\")\n",
    "    end\n",
    "    println()\n",
    "end"
   ]
  },
  {
   "cell_type": "markdown",
   "id": "d62360d1",
   "metadata": {},
   "source": [
    "#### Test 3 - Special Matrix\n",
    "\n",
    "Bug: 处理上三角矩阵计算有异常\n",
    "\n",
    "Todo: 应当增加对于特殊矩阵的测试，待测试列表同Julia Special Matrix:\n",
    "\n",
    "- [ ] Symmetric\n",
    "- [ ] Hermitian\n",
    "- [ ] UpperTriangular\n",
    "- [ ] UnitUpperTriangular\n",
    "- [ ] LowerTriangular\n",
    "- [ ] UnitLowerTriangular\n",
    "- [ ] UpperHessenberg\n",
    "- [ ] Tridiagonal\n",
    "- [ ] SymTridiagonal\n",
    "- [ ] Bidiagonal\n",
    "- [ ] Diagonal\n",
    "- [ ] UniformScaling\n",
    "\n",
    "基本语法为 `M = SpecialMatrix(rand(300,300))`"
   ]
  },
  {
   "cell_type": "markdown",
   "id": "40e47349",
   "metadata": {},
   "source": [
    "### 实验题目"
   ]
  },
  {
   "cell_type": "markdown",
   "id": "05a35566",
   "metadata": {},
   "source": [
    "#### 问题 1"
   ]
  },
  {
   "cell_type": "code",
   "execution_count": 22,
   "id": "da17c9a0",
   "metadata": {},
   "outputs": [
    {
     "data": {
      "text/plain": [
       "4-element Vector{Float64}:\n",
       " 0.9999999999999994\n",
       " 1.0\n",
       " 1.0000000000000004\n",
       " 1.0000000000000002"
      ]
     },
     "metadata": {},
     "output_type": "display_data"
    },
    {
     "data": {
      "text/plain": [
       "4-element Vector{Float64}:\n",
       " 1.0000000000000027\n",
       " 1.0000000000000018\n",
       " 0.9999999999999971\n",
       " 0.9999999999999992"
      ]
     },
     "metadata": {},
     "output_type": "display_data"
    },
    {
     "name": "stdout",
     "output_type": "stream",
     "text": [
      "  0.000015 seconds (3 allocations: 384 bytes)\n",
      "  0.000008 seconds (34 allocations: 3.031 KiB)\n"
     ]
    }
   ],
   "source": [
    "A = [0.4096 0.1234 0.3678 0.2943\n",
    "    0.2246 0.3872 0.4015 0.1129\n",
    "    0.3645 0.1920 0.3781 0.0643\n",
    "    0.1784 0.4002 0.2786 0.3927]\n",
    "b = [1.1951; 1.1262; 0.9989; 1.2499]\n",
    "display(@time A \\ b)\n",
    "display(@time gauss(4, A, b))\n",
    "# display(@time gauss(4, A, b, false))  # implicit=false\n",
    "# display(@time gauss(4, A, b, true))  # implicit=true"
   ]
  },
  {
   "cell_type": "code",
   "execution_count": 23,
   "id": "c725653c",
   "metadata": {},
   "outputs": [
    {
     "data": {
      "text/plain": [
       "4-element Vector{Float64}:\n",
       " 1.0000000000000704\n",
       " 0.9999999999998946\n",
       " 0.9999999999999408\n",
       " 1.0000000000000155"
      ]
     },
     "metadata": {},
     "output_type": "display_data"
    },
    {
     "data": {
      "text/plain": [
       "4-element Vector{Float64}:\n",
       " 1.000000000000133\n",
       " 0.9999999999998009\n",
       " 0.999999999999888\n",
       " 1.0000000000000293"
      ]
     },
     "metadata": {},
     "output_type": "display_data"
    },
    {
     "name": "stdout",
     "output_type": "stream",
     "text": [
      "  0.000020 seconds (3 allocations: 384 bytes)\n",
      "  0.000010 seconds (34 allocations: 3.031 KiB)\n"
     ]
    }
   ],
   "source": [
    "A = [136.01 90.860 0 0\n",
    "    90.860 98.810 -67.590 0\n",
    "    0 -67.590 132.01 46.260\n",
    "    0 0 46.260 177.17]\n",
    "b = [226.87; 122.08; 110.68; 223.43]\n",
    "display(@time A \\ b)\n",
    "display(@time gauss(4, A, b))\n",
    "# display(@time gauss(4, A, b, false))  # implicit=false\n",
    "# display(@time gauss(4, A, b, true))  # implicit=true"
   ]
  },
  {
   "cell_type": "code",
   "execution_count": 26,
   "id": "4181d48e",
   "metadata": {},
   "outputs": [
    {
     "data": {
      "text/plain": [
       "4-element Vector{Float64}:\n",
       " 0.9999999999999779\n",
       " 1.000000000000241\n",
       " 0.9999999999994366\n",
       " 1.0000000000003588"
      ]
     },
     "metadata": {},
     "output_type": "display_data"
    },
    {
     "data": {
      "text/plain": [
       "4-element Vector{Float64}:\n",
       " 0.9999999999999927\n",
       " 1.0000000000000688\n",
       " 0.9999999999998556\n",
       " 1.0000000000000846"
      ]
     },
     "metadata": {},
     "output_type": "display_data"
    },
    {
     "name": "stdout",
     "output_type": "stream",
     "text": [
      "  0.000015 seconds (3 allocations: 384 bytes)\n",
      "  0.000008 seconds (34 allocations: 3.031 KiB)\n"
     ]
    }
   ],
   "source": [
    "A = [1 1/2 1/3 1/4\n",
    "     1/2 1/3 1/4 1/5\n",
    "     1/3 1/4 1/5 1/6\n",
    "     1/4 1/5 1/6 1/7]\n",
    "b = [25 / 12; 77 / 60; 57 / 60; 319 / 420]\n",
    "display(@time A \\ b)\n",
    "display(@time gauss(4, A, b))\n",
    "# display(@time gauss(4, A, b, false))  # implicit=false\n",
    "# display(@time gauss(4, A, b, true))  # implicit=true"
   ]
  },
  {
   "cell_type": "code",
   "execution_count": 27,
   "id": "3feff7ee",
   "metadata": {},
   "outputs": [
    {
     "data": {
      "text/plain": [
       "4-element Vector{Float64}:\n",
       " 1.000000000000083\n",
       " 0.9999999999998619\n",
       " 1.000000000000035\n",
       " 0.999999999999979"
      ]
     },
     "metadata": {},
     "output_type": "display_data"
    },
    {
     "data": {
      "text/plain": [
       "4-element Vector{Float64}:\n",
       " 1.0\n",
       " 1.0\n",
       " 1.0\n",
       " 1.0"
      ]
     },
     "metadata": {},
     "output_type": "display_data"
    },
    {
     "name": "stdout",
     "output_type": "stream",
     "text": [
      "  0.000016 seconds (3 allocations: 384 bytes)\n",
      "  0.000013 seconds (34 allocations: 3.031 KiB)\n"
     ]
    }
   ],
   "source": [
    "A = Float64.([10 7 8 7\n",
    "    7 5 6 5\n",
    "    8 6 10 9\n",
    "    7 5 9 10])\n",
    "b = Float64.([32; 23; 33; 31])\n",
    "display(@time A \\ b)\n",
    "display(@time gauss(4, A, b))\n",
    "# display(@time gauss(4, A, b, false))  # implicit=false\n",
    "# display(@time gauss(4, A, b, true))  # implicit=true"
   ]
  }
 ],
 "metadata": {
  "kernelspec": {
   "display_name": "Julia 1.7.2",
   "language": "julia",
   "name": "julia-1.7"
  },
  "language_info": {
   "file_extension": ".jl",
   "mimetype": "application/julia",
   "name": "julia",
   "version": "1.7.2"
  }
 },
 "nbformat": 4,
 "nbformat_minor": 5
}

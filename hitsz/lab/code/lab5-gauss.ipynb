{
 "cells": [
  {
   "cell_type": "markdown",
   "id": "da714b7e-8452-48af-80ad-3c9622af090b",
   "metadata": {},
   "source": [
    "## 实验题目5 高斯(Gauss)列主元消去法"
   ]
  },
  {
   "cell_type": "code",
   "execution_count": 67,
   "id": "71ed8b76-fb09-4299-a056-c324c57be3f8",
   "metadata": {},
   "outputs": [],
   "source": [
    "using Printf\n",
    "using LinearAlgebra"
   ]
  },
  {
   "cell_type": "code",
   "execution_count": 68,
   "id": "e314ab40-0a3a-4d19-b59f-9fb7fcebe682",
   "metadata": {},
   "outputs": [
    {
     "data": {
      "text/plain": [
       "_swapcol! (generic function with 1 method)"
      ]
     },
     "execution_count": 68,
     "metadata": {},
     "output_type": "execute_result"
    }
   ],
   "source": [
    "# from: https://stackoverflow.com/questions/58667332/is-there-a-way-to-swap-columns-in-o1-in-julia\n",
    "function swapcols!(X::AbstractMatrix, i::Integer, j::Integer)\n",
    "    @inbounds for k = 1:size(X,1)\n",
    "        X[k,i], X[k,j] = X[k,j], X[k,i]\n",
    "    end\n",
    "end\n",
    "# from: https://discourse.julialang.org/t/swap-cols-rows-of-a-matrix/47904/9\n",
    "function _swapcol!(x,i,j)\n",
    "    for k in axes(x, 1)  # <- give dimension as input to axes function\n",
    "        x[k, i], x[k, j] = x[k, j], x[k, i]\n",
    "    end\n",
    "end"
   ]
  },
  {
   "cell_type": "code",
   "execution_count": 69,
   "id": "34030d63-6753-4642-91f9-ed97406f110e",
   "metadata": {},
   "outputs": [
    {
     "data": {
      "text/plain": [
       "swaprows! (generic function with 1 method)"
      ]
     },
     "execution_count": 69,
     "metadata": {},
     "output_type": "execute_result"
    }
   ],
   "source": [
    "    function swaprows!(X::AbstractMatrix, i::Integer, j::Integer)\n",
    "        @inbounds for k = 1:size(X,2)\n",
    "            X[i,k], X[j,k] = X[j,k], X[i,k]\n",
    "        end\n",
    "    end"
   ]
  },
  {
   "cell_type": "code",
   "execution_count": 70,
   "id": "90c12b14-4b41-4411-a2ab-1c5f493661dc",
   "metadata": {},
   "outputs": [
    {
     "data": {
      "text/plain": [
       "gauss (generic function with 1 method)"
      ]
     },
     "execution_count": 70,
     "metadata": {},
     "output_type": "execute_result"
    }
   ],
   "source": [
    "# Gauss列主元消去法\n",
    "# Todo: modify it using . operator\n",
    "##\n",
    "# 1.0  2.0  3.0  0.123\n",
    "# 2.0  4.0  5.0  0.834\n",
    "# 3.0  5.0  6.0  0.348\n",
    "##\n",
    "function gauss(n, A::Matrix{Float64}, b::Vector{Float64})\n",
    "    for k = 1:n-1\n",
    "        val, idx = findmax(A[k:n, k])\n",
    "        idx += k - 1\n",
    "        # val, idx = findmax(A[:, k]) # hey, see here, that caused error\n",
    "        display(\"val=$val, idx=$idx\")\n",
    "        if val == 0\n",
    "            @printf(\"Cannot solve a singular matrix!\")\n",
    "            return\n",
    "        end\n",
    "        if idx != k\n",
    "            swaprows!(A, idx, k)\n",
    "            b[idx], b[k] = b[k], b[idx]\n",
    "        end\n",
    "        display(\"after swaprows:\")\n",
    "        display([A b])\n",
    "        for i = k+1:n\n",
    "            m = A[i, k] / A[k, k]\n",
    "            A[i, :] -= A[k, :] * m\n",
    "            b[i] -= b[k] * m\n",
    "        end\n",
    "        display(\"after elimination:\")\n",
    "        display([A b])\n",
    "    end\n",
    "    display([A b])\n",
    "    if A[n, n] == 0\n",
    "        @printf(\"Cannot solve a singular matrix!\")\n",
    "    end\n",
    "    # https://stackoverflow.com/questions/62142717/julia-quick-way-to-initialise-an-empty-array-thats-the-same-size-as-another\n",
    "    x = similar(b, Float64)\n",
    "    # println(b)\n",
    "    x[n] = b[n] / A[n, n]\n",
    "    for k = n-1:1\n",
    "        x[k] = (b[k] - A[k, k+1:n] * x[k+1:n]) / A[k, k]\n",
    "    end\n",
    "    display(x)\n",
    "end\n"
   ]
  },
  {
   "cell_type": "code",
   "execution_count": 71,
   "id": "52326825-79ad-4b6f-a81f-b8be6765a86b",
   "metadata": {},
   "outputs": [
    {
     "data": {
      "text/plain": [
       "3-element Vector{Float64}:\n",
       " -1.6829999999999983\n",
       "  1.784999999999999\n",
       " -0.588"
      ]
     },
     "execution_count": 71,
     "metadata": {},
     "output_type": "execute_result"
    }
   ],
   "source": [
    "A = [1 2 3;2 4 5;3 5.0 6]\n",
    "b = [0.123; 0.834; 0.348]\n",
    "A\\b"
   ]
  },
  {
   "cell_type": "code",
   "execution_count": 72,
   "id": "62ed11e5-daf3-414f-b611-e0221cf0003a",
   "metadata": {},
   "outputs": [
    {
     "data": {
      "text/plain": [
       "3×4 Matrix{Float64}:\n",
       " 1.0  2.0  3.0  0.123\n",
       " 2.0  4.0  5.0  0.834\n",
       " 3.0  5.0  6.0  0.348"
      ]
     },
     "metadata": {},
     "output_type": "display_data"
    },
    {
     "data": {
      "text/plain": [
       "\"val=3.0, idx=3\""
      ]
     },
     "metadata": {},
     "output_type": "display_data"
    },
    {
     "data": {
      "text/plain": [
       "\"after swaprows:\""
      ]
     },
     "metadata": {},
     "output_type": "display_data"
    },
    {
     "data": {
      "text/plain": [
       "3×4 Matrix{Float64}:\n",
       " 3.0  5.0  6.0  0.348\n",
       " 2.0  4.0  5.0  0.834\n",
       " 1.0  2.0  3.0  0.123"
      ]
     },
     "metadata": {},
     "output_type": "display_data"
    },
    {
     "data": {
      "text/plain": [
       "\"after elimination:\""
      ]
     },
     "metadata": {},
     "output_type": "display_data"
    },
    {
     "data": {
      "text/plain": [
       "3×4 Matrix{Float64}:\n",
       " 3.0  5.0       6.0  0.348\n",
       " 0.0  0.666667  1.0  0.602\n",
       " 0.0  0.333333  1.0  0.007"
      ]
     },
     "metadata": {},
     "output_type": "display_data"
    },
    {
     "data": {
      "text/plain": [
       "\"val=0.666666666666667, idx=2\""
      ]
     },
     "metadata": {},
     "output_type": "display_data"
    },
    {
     "data": {
      "text/plain": [
       "\"after swaprows:\""
      ]
     },
     "metadata": {},
     "output_type": "display_data"
    },
    {
     "data": {
      "text/plain": [
       "3×4 Matrix{Float64}:\n",
       " 3.0  5.0       6.0  0.348\n",
       " 0.0  0.666667  1.0  0.602\n",
       " 0.0  0.333333  1.0  0.007"
      ]
     },
     "metadata": {},
     "output_type": "display_data"
    },
    {
     "data": {
      "text/plain": [
       "\"after elimination:\""
      ]
     },
     "metadata": {},
     "output_type": "display_data"
    },
    {
     "data": {
      "text/plain": [
       "3×4 Matrix{Float64}:\n",
       " 3.0  5.0       6.0   0.348\n",
       " 0.0  0.666667  1.0   0.602\n",
       " 0.0  0.0       0.5  -0.294"
      ]
     },
     "metadata": {},
     "output_type": "display_data"
    },
    {
     "data": {
      "text/plain": [
       "3×4 Matrix{Float64}:\n",
       " 3.0  5.0       6.0   0.348\n",
       " 0.0  0.666667  1.0   0.602\n",
       " 0.0  0.0       0.5  -0.294"
      ]
     },
     "metadata": {},
     "output_type": "display_data"
    },
    {
     "data": {
      "text/plain": [
       "3-element Vector{Float64}:\n",
       "  9.0532233e-316\n",
       "  9.0548162e-316\n",
       " -0.588"
      ]
     },
     "metadata": {},
     "output_type": "display_data"
    }
   ],
   "source": [
    "display([A b])\n",
    "gauss(3,A,b)"
   ]
  },
  {
   "cell_type": "code",
   "execution_count": null,
   "id": "7ec68395",
   "metadata": {},
   "outputs": [],
   "source": []
  },
  {
   "cell_type": "code",
   "execution_count": null,
   "id": "54a1d1fe",
   "metadata": {},
   "outputs": [],
   "source": []
  }
 ],
 "metadata": {
  "kernelspec": {
   "display_name": "Julia 1.7.2",
   "language": "julia",
   "name": "julia-1.7"
  },
  "language_info": {
   "file_extension": ".jl",
   "mimetype": "application/julia",
   "name": "julia",
   "version": "1.7.2"
  }
 },
 "nbformat": 4,
 "nbformat_minor": 5
}

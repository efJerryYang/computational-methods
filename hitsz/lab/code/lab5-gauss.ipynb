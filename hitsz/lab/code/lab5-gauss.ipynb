{
 "cells": [
  {
   "cell_type": "markdown",
   "id": "da714b7e-8452-48af-80ad-3c9622af090b",
   "metadata": {},
   "source": [
    "## 实验题目5 高斯(Gauss)列主元消去法"
   ]
  },
  {
   "cell_type": "markdown",
   "id": "4c9069cd-3ca9-4387-936b-890d97494a7a",
   "metadata": {},
   "source": [
    "### 代码实现"
   ]
  },
  {
   "cell_type": "code",
   "execution_count": 52,
   "id": "71ed8b76-fb09-4299-a056-c324c57be3f8",
   "metadata": {},
   "outputs": [],
   "source": [
    "using Printf\n",
    "using LinearAlgebra"
   ]
  },
  {
   "cell_type": "code",
   "execution_count": 53,
   "id": "e314ab40-0a3a-4d19-b59f-9fb7fcebe682",
   "metadata": {},
   "outputs": [
    {
     "data": {
      "text/plain": [
       "_swapcol! (generic function with 1 method)"
      ]
     },
     "execution_count": 53,
     "metadata": {},
     "output_type": "execute_result"
    }
   ],
   "source": [
    "# from: https://stackoverflow.com/questions/58667332/is-there-a-way-to-swap-columns-in-o1-in-julia\n",
    "function swapcols!(X::AbstractMatrix, i::Integer, j::Integer)\n",
    "    @inbounds for k = 1:size(X, 1)\n",
    "        X[k, i], X[k, j] = X[k, j], X[k, i]\n",
    "    end\n",
    "end\n",
    "# from: https://discourse.julialang.org/t/swap-cols-rows-of-a-matrix/47904/9\n",
    "function _swapcol!(x, i, j)\n",
    "    for k in axes(x, 1)  # <- give dimension as input to axes function\n",
    "        x[k, i], x[k, j] = x[k, j], x[k, i]\n",
    "    end\n",
    "end"
   ]
  },
  {
   "cell_type": "code",
   "execution_count": 54,
   "id": "34030d63-6753-4642-91f9-ed97406f110e",
   "metadata": {},
   "outputs": [
    {
     "data": {
      "text/plain": [
       "swaprows! (generic function with 1 method)"
      ]
     },
     "execution_count": 54,
     "metadata": {},
     "output_type": "execute_result"
    }
   ],
   "source": [
    "function swaprows!(X::AbstractMatrix, i::Integer, j::Integer)\n",
    "    @inbounds for k = 1:size(X, 2)\n",
    "        X[i, k], X[j, k] = X[j, k], X[i, k]\n",
    "    end\n",
    "end"
   ]
  },
  {
   "cell_type": "code",
   "execution_count": 38,
   "id": "08ebecb9",
   "metadata": {},
   "outputs": [
    {
     "data": {
      "text/plain": [
       "pivoting! (generic function with 2 methods)"
      ]
     },
     "execution_count": 38,
     "metadata": {},
     "output_type": "execute_result"
    }
   ],
   "source": [
    "# https://stackoverflow.com/questions/45396685/what-does-an-exclamation-mark-mean-after-the-name-of-a-function\n",
    "# https://people.richland.edu/james/lecture/m116/matrices/pivot.html\n",
    "function pivoting!(A::Matrix{Float64}, k::Integer, n::Integer)\n",
    "    val, idx = findmax(A[k:n, k])\n",
    "    idx += k - 1  # index must add previous length that omitted by slice operator\n",
    "    return val, idx\n",
    "end\n",
    "function pivoting!(A::Matrix{Float64}, b::Vector{Float64}, k::Integer, n::Integer, implicit::Bool)\n",
    "    s = [maximum(A[i, k:n]) for i in k:n]\n",
    "    if 0 in s\n",
    "        println(\"Cannot solve a singular matrix!\")\n",
    "        return\n",
    "    end\n",
    "    if implicit\n",
    "        val, idx = findmax(A[k:n, k] ./ s[1:n-k+1])\n",
    "    else\n",
    "        A[k:n, k:n] = A[k:n, k:n] ./ s\n",
    "        b[k:n] = b[k:n] ./ s\n",
    "        val, idx = findmax(A[k:n, k])\n",
    "    end\n",
    "    idx += k - 1  # index must add previous length that omitted by slice operator\n",
    "    return val, idx\n",
    "end"
   ]
  },
  {
   "cell_type": "code",
   "execution_count": 39,
   "id": "90c12b14-4b41-4411-a2ab-1c5f493661dc",
   "metadata": {},
   "outputs": [
    {
     "data": {
      "text/plain": [
       "gauss (generic function with 2 methods)"
      ]
     },
     "execution_count": 39,
     "metadata": {},
     "output_type": "execute_result"
    }
   ],
   "source": [
    "# Gauss列主元消去法\n",
    "# Todo: modify it using . operator\n",
    "function gauss(n, A::Matrix{Float64}, b::Vector{Float64})\n",
    "    for k = 1:n-1\n",
    "        # select pivot in columns\n",
    "        val, idx = pivoting!(A, k, n)\n",
    "        if val == 0\n",
    "            println(\"Cannot solve a singular matrix!\")\n",
    "            return\n",
    "        end\n",
    "        # swap rows\n",
    "        if idx != k\n",
    "            swaprows!(A, idx, k)\n",
    "            b[idx], b[k] = b[k], b[idx]\n",
    "        end\n",
    "        # elimination\n",
    "        for i = k+1:n\n",
    "            m = A[i, k] / A[k, k]\n",
    "            A[i, :] -= A[k, :] * m\n",
    "            b[i] -= b[k] * m\n",
    "        end\n",
    "    end\n",
    "    if A[n, n] == 0\n",
    "        println(\"Cannot solve a singular matrix!\")\n",
    "        return\n",
    "    end\n",
    "    # https://stackoverflow.com/questions/62142717/julia-quick-way-to-initialise-an-empty-array-thats-the-same-size-as-another\n",
    "    x = similar(b, Float64)\n",
    "    x[n] = b[n] / A[n, n]\n",
    "    for k = n-1:-1:1  # the usage of reverse sequence\n",
    "        x[k] = (b[k] - dot(A[k, k+1:n], x[k+1:n])) / A[k, k]  # something really annoying \n",
    "    end\n",
    "    x\n",
    "end\n"
   ]
  },
  {
   "cell_type": "code",
   "execution_count": 40,
   "id": "977d9b57-4fb5-4cd3-8596-11d58ac9aed8",
   "metadata": {},
   "outputs": [
    {
     "data": {
      "text/plain": [
       "gauss (generic function with 2 methods)"
      ]
     },
     "execution_count": 40,
     "metadata": {},
     "output_type": "execute_result"
    }
   ],
   "source": [
    "# Gauss列主元消去法\n",
    "# Todo: modify it using . operator\n",
    "function gauss(n, A::Matrix{Float64}, b::Vector{Float64}, implicit::Bool)\n",
    "    for k = 1:n-1\n",
    "        # select pivot in columns\n",
    "        val, idx = pivoting!(A, b, k, n, implicit)\n",
    "        if val == 0\n",
    "            println(\"Cannot solve a singular matrix!\")\n",
    "            return\n",
    "        end\n",
    "        # swap rows\n",
    "        if idx != k\n",
    "            swaprows!(A, idx, k)\n",
    "            b[idx], b[k] = b[k], b[idx]\n",
    "        end\n",
    "        # elimination\n",
    "        for i = k+1:n\n",
    "            m = A[i, k] / A[k, k]\n",
    "            A[i, :] -= A[k, :] * m\n",
    "            b[i] -= b[k] * m\n",
    "        end\n",
    "    end\n",
    "    if A[n, n] == 0\n",
    "        println(\"Cannot solve a singular matrix!\")\n",
    "        return\n",
    "    end\n",
    "    # https://stackoverflow.com/questions/62142717/julia-quick-way-to-initialise-an-empty-array-thats-the-same-size-as-another\n",
    "    x = similar(b, Float64)\n",
    "    x[n] = b[n] / A[n, n]\n",
    "    for k = n-1:-1:1  # the usage of reverse sequence\n",
    "        x[k] = (b[k] - dot(A[k, k+1:n], x[k+1:n])) / A[k, k]  # something really annoying \n",
    "    end\n",
    "    x\n",
    "end\n"
   ]
  },
  {
   "cell_type": "markdown",
   "id": "9726f849",
   "metadata": {},
   "source": [
    "### 测试代码"
   ]
  },
  {
   "cell_type": "markdown",
   "id": "e6e0488b",
   "metadata": {},
   "source": [
    "#### Test 1 - Correctness"
   ]
  },
  {
   "cell_type": "code",
   "execution_count": 41,
   "id": "e24d40e1",
   "metadata": {},
   "outputs": [
    {
     "name": "stdout",
     "output_type": "stream",
     "text": [
      "2.8281740611858e-12\t  0.295141 seconds (278.71 k allocations: 444.834 MiB, 14.61% gc time, 30.41% compilation time)\n",
      "4.782896955922785e-12\t  0.501933 seconds (475.89 k allocations: 665.128 MiB, 9.27% gc time, 45.35% compilation time)\n",
      "5.720845805998083e-12\t  0.218088 seconds (227.26 k allocations: 515.581 MiB, 16.66% gc time)\n",
      "\n",
      "2.3354279136562663e-12\t  0.180857 seconds (180.32 k allocations: 439.810 MiB, 20.17% gc time)\n",
      "1.6125177530901793e-12\t  0.251025 seconds (228.37 k allocations: 653.650 MiB, 14.51% gc time)\n",
      "1.856438976949474e-12\t  0.210468 seconds (227.26 k allocations: 515.581 MiB, 15.03% gc time)\n",
      "\n",
      "3.09930350176426e-13\t  0.171433 seconds (180.31 k allocations: 439.810 MiB, 19.88% gc time)\n",
      "8.071857916413724e-13\t  0.247746 seconds (228.37 k allocations: 653.650 MiB, 15.02% gc time)\n",
      "4.661842581414546e-13\t  0.224890 seconds (227.26 k allocations: 515.581 MiB, 16.62% gc time)\n",
      "\n",
      "2.518748932052571e-11\t  0.163011 seconds (180.32 k allocations: 439.810 MiB, 16.64% gc time)\n",
      "3.713289494153919e-11\t  0.241752 seconds (228.37 k allocations: 653.650 MiB, 14.19% gc time)\n",
      "7.23006161390338e-12\t  0.206059 seconds (227.26 k allocations: 515.581 MiB, 16.85% gc time)\n",
      "\n",
      "1.2202484784855648e-10\t  0.164374 seconds (180.32 k allocations: 439.810 MiB, 17.89% gc time)\n",
      "1.1177283402499059e-10\t  0.241702 seconds (228.37 k allocations: 653.650 MiB, 14.63% gc time)\n",
      "5.7794641368721205e-11\t  0.218114 seconds (227.26 k allocations: 515.581 MiB, 16.51% gc time)\n",
      "\n"
     ]
    }
   ],
   "source": [
    "# test random result of standard library \n",
    "# test pass\n",
    "for i in 1:5\n",
    "    M = rand(300, 300)\n",
    "    v = rand(300)\n",
    "    A, b = copy(M), copy(v)  # ? Todo: move this line into try block will extend compilation time\n",
    "    try\n",
    "        @time print(\"$(norm(A \\ b - gauss(size(A, 1), A, b), 2))\\t\")\n",
    "\n",
    "        A, b = copy(M), copy(v)\n",
    "        @time print(\"$(norm(A \\ b - gauss(size(A, 1), A, b, false), 2))\\t\")  # implicit=false\n",
    "\n",
    "        A, b = copy(M), copy(v)\n",
    "        @time print(\"$(norm(A \\ b - gauss(size(A, 1), A, b, true), 2))\\t\")  # implicit=true\n",
    "    catch SigularException\n",
    "        println(\"Cannot solve a singular matrix!\")\n",
    "    end\n",
    "    println()\n",
    "end"
   ]
  },
  {
   "cell_type": "markdown",
   "id": "4a5cd7a8-4856-4561-966b-a04e055ea993",
   "metadata": {},
   "source": [
    "#### Test 2 - Performance "
   ]
  },
  {
   "cell_type": "code",
   "execution_count": 42,
   "id": "e6df0a43-fd93-4448-b1d1-6b34b80738e6",
   "metadata": {},
   "outputs": [
    {
     "name": "stdout",
     "output_type": "stream",
     "text": [
      "  0.006609 seconds (4 allocations: 708.172 KiB)\n",
      "  0.268369 seconds (180.30 k allocations: 439.115 MiB, 47.00% gc time)\n",
      "  0.237161 seconds (228.35 k allocations: 652.955 MiB, 14.16% gc time)\n",
      "  0.197425 seconds (227.24 k allocations: 514.886 MiB, 16.45% gc time)\n",
      "\n",
      "  0.006551 seconds (4 allocations: 708.172 KiB)\n",
      "  0.153308 seconds (180.30 k allocations: 439.115 MiB, 19.59% gc time)\n",
      "  0.230643 seconds (228.35 k allocations: 652.955 MiB, 15.49% gc time)\n",
      "  0.194755 seconds (227.24 k allocations: 514.886 MiB, 16.90% gc time)\n",
      "\n",
      "  0.006740 seconds (4 allocations: 708.172 KiB)\n",
      "  0.150562 seconds (180.30 k allocations: 439.115 MiB, 19.09% gc time)\n",
      "  0.238698 seconds (228.35 k allocations: 652.955 MiB, 16.29% gc time)\n",
      "  0.195409 seconds (227.24 k allocations: 514.886 MiB, 17.16% gc time)\n",
      "\n",
      "  0.007101 seconds (4 allocations: 708.172 KiB)\n",
      "  0.151517 seconds (180.30 k allocations: 439.115 MiB, 19.12% gc time)\n",
      "  0.228757 seconds (228.35 k allocations: 652.955 MiB, 15.45% gc time)\n",
      "  0.195236 seconds (227.24 k allocations: 514.886 MiB, 17.33% gc time)\n",
      "\n",
      "  0.005894 seconds (4 allocations: 708.172 KiB)\n",
      "  0.150537 seconds (180.30 k allocations: 439.115 MiB, 19.25% gc time)\n",
      "  0.227018 seconds (228.35 k allocations: 652.955 MiB, 15.33% gc time)\n",
      "  0.192991 seconds (227.24 k allocations: 514.886 MiB, 16.35% gc time)\n",
      "\n"
     ]
    }
   ],
   "source": [
    "# test random result of standard library \n",
    "# test pass\n",
    "for i in 1:5\n",
    "    M = rand(300, 300)\n",
    "    v = rand(300)\n",
    "    A, b = copy(M), copy(v)\n",
    "    try\n",
    "        @time A \\ b\n",
    "\n",
    "        A, b = copy(M), copy(v)\n",
    "        @time gauss(size(A, 1), A, b)\n",
    "\n",
    "        A, b = copy(M), copy(v)\n",
    "        @time gauss(size(A, 1), A, b, false)  # implicit=false\n",
    "\n",
    "        A, b = copy(M), copy(v)\n",
    "        @time gauss(size(A, 1), A, b, true)  # implicit=true\n",
    "    catch SigularException\n",
    "        println(\"Cannot solve a singular matrix!\")\n",
    "    end\n",
    "    println()\n",
    "end"
   ]
  },
  {
   "cell_type": "markdown",
   "id": "d62360d1",
   "metadata": {},
   "source": [
    "#### Test 3 - Special Matrix\n",
    "\n",
    "Bug: 处理上三角矩阵计算有异常\n",
    "\n",
    "Todo: 应当增加对于特殊矩阵的测试，待测试列表同Julia Special Matrix:\n",
    "\n",
    "- [ ] Symmetric\n",
    "- [ ] Hermitian\n",
    "- [ ] UpperTriangular\n",
    "- [ ] UnitUpperTriangular\n",
    "- [ ] LowerTriangular\n",
    "- [ ] UnitLowerTriangular\n",
    "- [ ] UpperHessenberg\n",
    "- [ ] Tridiagonal\n",
    "- [ ] SymTridiagonal\n",
    "- [ ] Bidiagonal\n",
    "- [ ] Diagonal\n",
    "- [ ] UniformScaling\n",
    "\n",
    "基本语法为 `M = SpecialMatrix(rand(300,300))`"
   ]
  },
  {
   "cell_type": "markdown",
   "id": "40e47349",
   "metadata": {},
   "source": [
    "### 实验题目"
   ]
  },
  {
   "cell_type": "markdown",
   "id": "05a35566",
   "metadata": {},
   "source": [
    "#### 问题 1"
   ]
  },
  {
   "cell_type": "code",
   "execution_count": 43,
   "id": "6e51684f",
   "metadata": {},
   "outputs": [
    {
     "data": {
      "text/plain": [
       "show_result (generic function with 1 method)"
      ]
     },
     "execution_count": 43,
     "metadata": {},
     "output_type": "execute_result"
    }
   ],
   "source": [
    "function show_result(A, b)\n",
    "    n = size(A, 1)\n",
    "    A = Float64.(A)\n",
    "    b = Float64.(b)\n",
    "    display(\"input matrix:\")\n",
    "    # https://www.geeksforgeeks.org/creating-array-with-repeated-elements-in-julia-repeat-method/\n",
    "    # http://www.jlhub.com/julia/manual/en/function/repeat\n",
    "    display([A repeat([|], inner=(n, 1)) b])\n",
    "    display(\"result by standard library:\")\n",
    "    display(@time A \\ b)\n",
    "    display(\"result by my gauss method:\")\n",
    "    display(@time gauss(n, A, b))\n",
    "    # display(@time gauss(n, A, b, false))  # implicit=false\n",
    "    # display(@time gauss(n, A, b, true))  # implicit=true\n",
    "end"
   ]
  },
  {
   "cell_type": "code",
   "execution_count": 44,
   "id": "da17c9a0",
   "metadata": {},
   "outputs": [
    {
     "data": {
      "text/plain": [
       "\"input matrix:\""
      ]
     },
     "metadata": {},
     "output_type": "display_data"
    },
    {
     "data": {
      "text/plain": [
       "4×6 Matrix{Any}:\n",
       " 0.4096  0.1234  0.3678  0.2943  |  1.1951\n",
       " 0.2246  0.3872  0.4015  0.1129  |  1.1262\n",
       " 0.3645  0.192   0.3781  0.0643  |  0.9989\n",
       " 0.1784  0.4002  0.2786  0.3927  |  1.2499"
      ]
     },
     "metadata": {},
     "output_type": "display_data"
    },
    {
     "data": {
      "text/plain": [
       "\"result by standard library:\""
      ]
     },
     "metadata": {},
     "output_type": "display_data"
    },
    {
     "data": {
      "text/plain": [
       "4-element Vector{Float64}:\n",
       " 0.9999999999999994\n",
       " 1.0\n",
       " 1.0000000000000004\n",
       " 1.0000000000000002"
      ]
     },
     "metadata": {},
     "output_type": "display_data"
    },
    {
     "data": {
      "text/plain": [
       "\"result by my gauss method:\""
      ]
     },
     "metadata": {},
     "output_type": "display_data"
    },
    {
     "data": {
      "text/plain": [
       "4-element Vector{Float64}:\n",
       " 1.0000000000000027\n",
       " 1.0000000000000018\n",
       " 0.9999999999999971\n",
       " 0.9999999999999992"
      ]
     },
     "metadata": {},
     "output_type": "display_data"
    },
    {
     "name": "stdout",
     "output_type": "stream",
     "text": [
      "  0.000012 seconds (3 allocations: 384 bytes)\n",
      "  0.000008 seconds (34 allocations: 3.031 KiB)\n"
     ]
    }
   ],
   "source": [
    "A = [0.4096 0.1234 0.3678 0.2943\n",
    "    0.2246 0.3872 0.4015 0.1129\n",
    "    0.3645 0.1920 0.3781 0.0643\n",
    "    0.1784 0.4002 0.2786 0.3927]\n",
    "b = [1.1951; 1.1262; 0.9989; 1.2499]\n",
    "show_result(A, b)"
   ]
  },
  {
   "cell_type": "code",
   "execution_count": 45,
   "id": "c725653c",
   "metadata": {},
   "outputs": [
    {
     "data": {
      "text/plain": [
       "\"input matrix:\""
      ]
     },
     "metadata": {},
     "output_type": "display_data"
    },
    {
     "data": {
      "text/plain": [
       "4×6 Matrix{Any}:\n",
       " 136.01   90.86    0.0     0.0   |  226.87\n",
       "  90.86   98.81  -67.59    0.0   |  122.08\n",
       "   0.0   -67.59  132.01   46.26  |  110.68\n",
       "   0.0     0.0    46.26  177.17  |  223.43"
      ]
     },
     "metadata": {},
     "output_type": "display_data"
    },
    {
     "data": {
      "text/plain": [
       "\"result by standard library:\""
      ]
     },
     "metadata": {},
     "output_type": "display_data"
    },
    {
     "data": {
      "text/plain": [
       "4-element Vector{Float64}:\n",
       " 1.0000000000000704\n",
       " 0.9999999999998946\n",
       " 0.9999999999999408\n",
       " 1.0000000000000155"
      ]
     },
     "metadata": {},
     "output_type": "display_data"
    },
    {
     "data": {
      "text/plain": [
       "\"result by my gauss method:\""
      ]
     },
     "metadata": {},
     "output_type": "display_data"
    },
    {
     "data": {
      "text/plain": [
       "4-element Vector{Float64}:\n",
       " 1.000000000000133\n",
       " 0.9999999999998009\n",
       " 0.999999999999888\n",
       " 1.0000000000000293"
      ]
     },
     "metadata": {},
     "output_type": "display_data"
    },
    {
     "name": "stdout",
     "output_type": "stream",
     "text": [
      "  0.000016 seconds (3 allocations: 384 bytes)\n",
      "  0.000006 seconds (34 allocations: 3.031 KiB)\n"
     ]
    }
   ],
   "source": [
    "A = [136.01 90.860 0 0\n",
    "    90.860 98.810 -67.590 0\n",
    "    0 -67.590 132.01 46.260\n",
    "    0 0 46.260 177.17]\n",
    "b = [226.87; 122.08; 110.68; 223.43]\n",
    "show_result(A, b)"
   ]
  },
  {
   "cell_type": "code",
   "execution_count": 46,
   "id": "4181d48e",
   "metadata": {},
   "outputs": [
    {
     "data": {
      "text/plain": [
       "\"input matrix:\""
      ]
     },
     "metadata": {},
     "output_type": "display_data"
    },
    {
     "data": {
      "text/plain": [
       "4×6 Matrix{Any}:\n",
       " 1.0       0.5       0.333333  0.25      |  2.08333\n",
       " 0.5       0.333333  0.25      0.2       |  1.28333\n",
       " 0.333333  0.25      0.2       0.166667  |  0.95\n",
       " 0.25      0.2       0.166667  0.142857  |  0.759524"
      ]
     },
     "metadata": {},
     "output_type": "display_data"
    },
    {
     "data": {
      "text/plain": [
       "\"result by standard library:\""
      ]
     },
     "metadata": {},
     "output_type": "display_data"
    },
    {
     "data": {
      "text/plain": [
       "4-element Vector{Float64}:\n",
       " 0.9999999999999779\n",
       " 1.000000000000241\n",
       " 0.9999999999994366\n",
       " 1.0000000000003588"
      ]
     },
     "metadata": {},
     "output_type": "display_data"
    },
    {
     "data": {
      "text/plain": [
       "\"result by my gauss method:\""
      ]
     },
     "metadata": {},
     "output_type": "display_data"
    },
    {
     "data": {
      "text/plain": [
       "4-element Vector{Float64}:\n",
       " 0.9999999999999927\n",
       " 1.0000000000000688\n",
       " 0.9999999999998556\n",
       " 1.0000000000000846"
      ]
     },
     "metadata": {},
     "output_type": "display_data"
    },
    {
     "name": "stdout",
     "output_type": "stream",
     "text": [
      "  0.000015 seconds (3 allocations: 384 bytes)\n",
      "  0.000008 seconds (34 allocations: 3.031 KiB)\n"
     ]
    }
   ],
   "source": [
    "A = [1 1/2 1/3 1/4\n",
    "     1/2 1/3 1/4 1/5\n",
    "     1/3 1/4 1/5 1/6\n",
    "     1/4 1/5 1/6 1/7]\n",
    "b = [25 / 12; 77 / 60; 57 / 60; 319 / 420]\n",
    "show_result(A, b)"
   ]
  },
  {
   "cell_type": "code",
   "execution_count": 47,
   "id": "3feff7ee",
   "metadata": {},
   "outputs": [
    {
     "data": {
      "text/plain": [
       "\"input matrix:\""
      ]
     },
     "metadata": {},
     "output_type": "display_data"
    },
    {
     "data": {
      "text/plain": [
       "4×6 Matrix{Any}:\n",
       " 10.0  7.0   8.0   7.0  |  32.0\n",
       "  7.0  5.0   6.0   5.0  |  23.0\n",
       "  8.0  6.0  10.0   9.0  |  33.0\n",
       "  7.0  5.0   9.0  10.0  |  31.0"
      ]
     },
     "metadata": {},
     "output_type": "display_data"
    },
    {
     "data": {
      "text/plain": [
       "\"result by standard library:\""
      ]
     },
     "metadata": {},
     "output_type": "display_data"
    },
    {
     "data": {
      "text/plain": [
       "4-element Vector{Float64}:\n",
       " 1.000000000000083\n",
       " 0.9999999999998619\n",
       " 1.000000000000035\n",
       " 0.999999999999979"
      ]
     },
     "metadata": {},
     "output_type": "display_data"
    },
    {
     "data": {
      "text/plain": [
       "\"result by my gauss method:\""
      ]
     },
     "metadata": {},
     "output_type": "display_data"
    },
    {
     "data": {
      "text/plain": [
       "4-element Vector{Float64}:\n",
       " 1.0\n",
       " 1.0\n",
       " 1.0\n",
       " 1.0"
      ]
     },
     "metadata": {},
     "output_type": "display_data"
    },
    {
     "name": "stdout",
     "output_type": "stream",
     "text": [
      "  0.000018 seconds (3 allocations: 384 bytes)\n",
      "  0.000006 seconds (34 allocations: 3.031 KiB)\n"
     ]
    }
   ],
   "source": [
    "A = [10 7 8 7\n",
    "    7 5 6 5\n",
    "    8 6 10 9\n",
    "    7 5 9 10]\n",
    "b = [32; 23; 33; 31]\n",
    "show_result(A, b)"
   ]
  },
  {
   "cell_type": "markdown",
   "id": "283d4b01",
   "metadata": {},
   "source": [
    "#### 问题 2\n"
   ]
  },
  {
   "cell_type": "code",
   "execution_count": 48,
   "id": "da56f246",
   "metadata": {},
   "outputs": [
    {
     "data": {
      "text/plain": [
       "\"input matrix:\""
      ]
     },
     "metadata": {},
     "output_type": "display_data"
    },
    {
     "data": {
      "text/plain": [
       "4×6 Matrix{Any}:\n",
       " 197.0   305.0  -206.0   -804.0  |  136.0\n",
       "  46.8    71.3   -47.4     52.0  |   11.7\n",
       "  88.6    76.4   -10.8    802.0  |   25.1\n",
       "   1.45    5.9     6.13    36.5  |    6.6"
      ]
     },
     "metadata": {},
     "output_type": "display_data"
    },
    {
     "data": {
      "text/plain": [
       "\"result by standard library:\""
      ]
     },
     "metadata": {},
     "output_type": "display_data"
    },
    {
     "data": {
      "text/plain": [
       "4-element Vector{Float64}:\n",
       "  0.9536791069017718\n",
       "  0.32095684552110354\n",
       "  1.0787080757932384\n",
       " -0.09010850953957893"
      ]
     },
     "metadata": {},
     "output_type": "display_data"
    },
    {
     "data": {
      "text/plain": [
       "\"result by my gauss method:\""
      ]
     },
     "metadata": {},
     "output_type": "display_data"
    },
    {
     "data": {
      "text/plain": [
       "4-element Vector{Float64}:\n",
       "  0.9536791069017717\n",
       "  0.3209568455211036\n",
       "  1.0787080757932384\n",
       " -0.09010850953957895"
      ]
     },
     "metadata": {},
     "output_type": "display_data"
    },
    {
     "name": "stdout",
     "output_type": "stream",
     "text": [
      "  0.000019 seconds (3 allocations: 384 bytes)\n",
      "  0.000010 seconds (34 allocations: 3.031 KiB)\n"
     ]
    }
   ],
   "source": [
    "A = [197 305 -206 -804\n",
    "     46.8 71.3 -47.4 52.0\n",
    "     88.6 76.4 -10.8 802\n",
    "     1.45 5.90 6.13 36.5]\n",
    "b = [136; 11.7; 25.1; 6.60]\n",
    "show_result(A, b)"
   ]
  },
  {
   "cell_type": "code",
   "execution_count": 49,
   "id": "64c2b67c",
   "metadata": {},
   "outputs": [
    {
     "data": {
      "text/plain": [
       "\"input matrix:\""
      ]
     },
     "metadata": {},
     "output_type": "display_data"
    },
    {
     "data": {
      "text/plain": [
       "4×6 Matrix{Any}:\n",
       " 0.5398   0.7161  -0.5554  -0.2982  |   0.2058\n",
       " 0.5257   0.6924   0.3565  -0.6255  |  -0.0503\n",
       " 0.6465  -0.8187  -0.1872   0.1291  |   0.107\n",
       " 0.5814   0.94    -0.7779  -0.4042  |   0.1859"
      ]
     },
     "metadata": {},
     "output_type": "display_data"
    },
    {
     "data": {
      "text/plain": [
       "\"result by standard library:\""
      ]
     },
     "metadata": {},
     "output_type": "display_data"
    },
    {
     "data": {
      "text/plain": [
       "4-element Vector{Float64}:\n",
       " 0.5161772979585422\n",
       " 0.4152194728301359\n",
       " 0.10996610286788958\n",
       " 1.0365392233362019"
      ]
     },
     "metadata": {},
     "output_type": "display_data"
    },
    {
     "data": {
      "text/plain": [
       "\"result by my gauss method:\""
      ]
     },
     "metadata": {},
     "output_type": "display_data"
    },
    {
     "data": {
      "text/plain": [
       "4-element Vector{Float64}:\n",
       " 0.5161772979585416\n",
       " 0.41521947283013527\n",
       " 0.10996610286788916\n",
       " 1.0365392233362005"
      ]
     },
     "metadata": {},
     "output_type": "display_data"
    },
    {
     "name": "stdout",
     "output_type": "stream",
     "text": [
      "  0.000012 seconds (3 allocations: 384 bytes)\n",
      "  0.000014 seconds (34 allocations: 3.031 KiB)\n"
     ]
    }
   ],
   "source": [
    "A = [0.5398 0.7161 -0.5554 -0.2982\n",
    "    0.5257 0.6924 0.3565 -0.6255\n",
    "    0.6465 -0.8187 -0.1872 0.1291\n",
    "    0.5814 0.9400 -0.7779 -0.4042]\n",
    "b = [0.2058; -0.0503; 0.1070; 0.1859]\n",
    "show_result(A, b)"
   ]
  },
  {
   "cell_type": "code",
   "execution_count": 50,
   "id": "f0da8769",
   "metadata": {},
   "outputs": [
    {
     "data": {
      "text/plain": [
       "\"input matrix:\""
      ]
     },
     "metadata": {},
     "output_type": "display_data"
    },
    {
     "data": {
      "text/plain": [
       "3×5 Matrix{Any}:\n",
       " 10.0   1.0  2.0  |  13.0\n",
       "  1.0  10.0  2.0  |  13.0\n",
       "  1.0   1.0  5.0  |   7.0"
      ]
     },
     "metadata": {},
     "output_type": "display_data"
    },
    {
     "data": {
      "text/plain": [
       "\"result by standard library:\""
      ]
     },
     "metadata": {},
     "output_type": "display_data"
    },
    {
     "data": {
      "text/plain": [
       "3-element Vector{Float64}:\n",
       " 1.0\n",
       " 0.9999999999999998\n",
       " 1.0"
      ]
     },
     "metadata": {},
     "output_type": "display_data"
    },
    {
     "data": {
      "text/plain": [
       "\"result by my gauss method:\""
      ]
     },
     "metadata": {},
     "output_type": "display_data"
    },
    {
     "data": {
      "text/plain": [
       "3-element Vector{Float64}:\n",
       " 1.0\n",
       " 0.9999999999999998\n",
       " 1.0000000000000002"
      ]
     },
     "metadata": {},
     "output_type": "display_data"
    },
    {
     "name": "stdout",
     "output_type": "stream",
     "text": [
      "  0.000014 seconds (3 allocations: 288 bytes)\n",
      "  0.000006 seconds (19 allocations: 1.453 KiB)\n"
     ]
    }
   ],
   "source": [
    "A = [10 1 2\n",
    "    1 10 2\n",
    "    1 1 5]\n",
    "b = [13; 13; 7]\n",
    "show_result(A, b)"
   ]
  },
  {
   "cell_type": "code",
   "execution_count": 51,
   "id": "583ed506",
   "metadata": {},
   "outputs": [
    {
     "data": {
      "text/plain": [
       "\"input matrix:\""
      ]
     },
     "metadata": {},
     "output_type": "display_data"
    },
    {
     "data": {
      "text/plain": [
       "3×5 Matrix{Any}:\n",
       "  4.0  -2.0  -4.0  |  -2.0\n",
       " -2.0  17.0  10.0  |  25.0\n",
       " -4.0  10.0   9.0  |  15.0"
      ]
     },
     "metadata": {},
     "output_type": "display_data"
    },
    {
     "data": {
      "text/plain": [
       "\"result by standard library:\""
      ]
     },
     "metadata": {},
     "output_type": "display_data"
    },
    {
     "data": {
      "text/plain": [
       "3-element Vector{Float64}:\n",
       " 1.0\n",
       " 1.0\n",
       " 1.0"
      ]
     },
     "metadata": {},
     "output_type": "display_data"
    },
    {
     "data": {
      "text/plain": [
       "\"result by my gauss method:\""
      ]
     },
     "metadata": {},
     "output_type": "display_data"
    },
    {
     "data": {
      "text/plain": [
       "3-element Vector{Float64}:\n",
       " 1.0\n",
       " 1.0\n",
       " 1.0"
      ]
     },
     "metadata": {},
     "output_type": "display_data"
    },
    {
     "name": "stdout",
     "output_type": "stream",
     "text": [
      "  0.000014 seconds (3 allocations: 288 bytes)\n",
      "  0.000007 seconds (19 allocations: 1.453 KiB)\n"
     ]
    }
   ],
   "source": [
    "A = [4 -2 -4\n",
    "    -2 17 10\n",
    "    -4 10 9]\n",
    "b = [-2; 25; 15]\n",
    "show_result(A, b)"
   ]
  },
  {
   "cell_type": "markdown",
   "id": "3ad2baf0",
   "metadata": {},
   "source": [
    "### 总结\n",
    "\n",
    "Todo: 直接法效率评价，写一个迭代法来算，用于比较效率，库函数使用的方法\n",
    "\n",
    "Todo: 参考资料链接放在文末\n",
    "\n",
    "Todo: 特殊矩阵的测试代码，剩余bug修复"
   ]
  }
 ],
 "metadata": {
  "kernelspec": {
   "display_name": "Julia 1.7.2",
   "language": "julia",
   "name": "julia-1.7"
  },
  "language_info": {
   "file_extension": ".jl",
   "mimetype": "application/julia",
   "name": "julia",
   "version": "1.7.2"
  }
 },
 "nbformat": 4,
 "nbformat_minor": 5
}

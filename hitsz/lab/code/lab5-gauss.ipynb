{
 "cells": [
  {
   "cell_type": "markdown",
   "id": "da714b7e-8452-48af-80ad-3c9622af090b",
   "metadata": {},
   "source": [
    "## 实验题目5 高斯(Gauss)列主元消去法"
   ]
  },
  {
   "cell_type": "markdown",
   "id": "4c9069cd-3ca9-4387-936b-890d97494a7a",
   "metadata": {},
   "source": [
    "### 代码实现"
   ]
  },
  {
   "cell_type": "code",
   "execution_count": 99,
   "id": "71ed8b76-fb09-4299-a056-c324c57be3f8",
   "metadata": {},
   "outputs": [],
   "source": [
    "using Printf\n",
    "using LinearAlgebra"
   ]
  },
  {
   "cell_type": "code",
   "execution_count": 100,
   "id": "e314ab40-0a3a-4d19-b59f-9fb7fcebe682",
   "metadata": {},
   "outputs": [
    {
     "data": {
      "text/plain": [
       "_swapcol! (generic function with 1 method)"
      ]
     },
     "execution_count": 100,
     "metadata": {},
     "output_type": "execute_result"
    }
   ],
   "source": [
    "# from: https://stackoverflow.com/questions/58667332/is-there-a-way-to-swap-columns-in-o1-in-julia\n",
    "function swapcols!(X::AbstractMatrix, i::Integer, j::Integer)\n",
    "    @inbounds for k = 1:size(X, 1)\n",
    "        X[k, i], X[k, j] = X[k, j], X[k, i]\n",
    "    end\n",
    "end\n",
    "# from: https://discourse.julialang.org/t/swap-cols-rows-of-a-matrix/47904/9\n",
    "function _swapcol!(x, i, j)\n",
    "    for k in axes(x, 1)  # <- give dimension as input to axes function\n",
    "        x[k, i], x[k, j] = x[k, j], x[k, i]\n",
    "    end\n",
    "end"
   ]
  },
  {
   "cell_type": "code",
   "execution_count": 101,
   "id": "34030d63-6753-4642-91f9-ed97406f110e",
   "metadata": {},
   "outputs": [
    {
     "data": {
      "text/plain": [
       "swaprows! (generic function with 1 method)"
      ]
     },
     "execution_count": 101,
     "metadata": {},
     "output_type": "execute_result"
    }
   ],
   "source": [
    "function swaprows!(X::AbstractMatrix, i::Integer, j::Integer)\n",
    "    @inbounds for k = 1:size(X, 2)\n",
    "        X[i, k], X[j, k] = X[j, k], X[i, k]\n",
    "    end\n",
    "end"
   ]
  },
  {
   "cell_type": "code",
   "execution_count": 102,
   "id": "08ebecb9",
   "metadata": {},
   "outputs": [
    {
     "data": {
      "text/plain": [
       "pivoting! (generic function with 4 methods)"
      ]
     },
     "execution_count": 102,
     "metadata": {},
     "output_type": "execute_result"
    }
   ],
   "source": [
    "# https://stackoverflow.com/questions/45396685/what-does-an-exclamation-mark-mean-after-the-name-of-a-function\n",
    "# https://people.richland.edu/james/lecture/m116/matrices/pivot.html\n",
    "function pivoting!(A::Matrix{Float64}, k::Integer, n::Integer)\n",
    "    val, idx = findmax(A[k:n, k])\n",
    "    idx += k - 1  # index must add previous length that omitted by slice operator\n",
    "    return val, idx\n",
    "end\n",
    "function pivoting!(A::Matrix{Float64}, b::Vector{Float64}, k::Integer, n::Integer, implicit::Bool)\n",
    "    s = [maximum(A[i, k:n]) for i in k:n]\n",
    "    if 0 in s\n",
    "        println(\"Cannot solve a singular matrix!\")\n",
    "        return\n",
    "    end\n",
    "    if implicit\n",
    "        val, idx = findmax(A[k:n, k] ./ s[1:n-k+1])\n",
    "    else\n",
    "        A[k:n, k:n] = A[k:n, k:n] ./ s\n",
    "        b[k:n] = b[k:n] ./ s\n",
    "        val, idx = findmax(A[k:n, k])\n",
    "    end\n",
    "    idx += k - 1  # index must add previous length that omitted by slice operator\n",
    "    return val, idx\n",
    "end"
   ]
  },
  {
   "cell_type": "code",
   "execution_count": 103,
   "id": "90c12b14-4b41-4411-a2ab-1c5f493661dc",
   "metadata": {},
   "outputs": [
    {
     "data": {
      "text/plain": [
       "gauss (generic function with 2 methods)"
      ]
     },
     "execution_count": 103,
     "metadata": {},
     "output_type": "execute_result"
    }
   ],
   "source": [
    "# Gauss列主元消去法\n",
    "# Todo: modify it using . operator\n",
    "function gauss(n, A::Matrix{Float64}, b::Vector{Float64})\n",
    "    for k = 1:n-1\n",
    "        # select pivot in columns\n",
    "        val, idx = pivoting!(A, k, n)\n",
    "        if val == 0\n",
    "            println(\"Cannot solve a singular matrix!\")\n",
    "            return\n",
    "        end\n",
    "        # swap rows\n",
    "        if idx != k\n",
    "            swaprows!(A, idx, k)\n",
    "            b[idx], b[k] = b[k], b[idx]\n",
    "        end\n",
    "        # elimination\n",
    "        for i = k+1:n\n",
    "            m = A[i, k] / A[k, k]\n",
    "            A[i, :] -= A[k, :] * m\n",
    "            b[i] -= b[k] * m\n",
    "        end\n",
    "    end\n",
    "    if A[n, n] == 0\n",
    "        println(\"Cannot solve a singular matrix!\")\n",
    "        return\n",
    "    end\n",
    "    # https://stackoverflow.com/questions/62142717/julia-quick-way-to-initialise-an-empty-array-thats-the-same-size-as-another\n",
    "    x = similar(b, Float64)\n",
    "    x[n] = b[n] / A[n, n]\n",
    "    for k = n-1:-1:1  # the usage of reverse sequence\n",
    "        x[k] = (b[k] - dot(A[k, k+1:n], x[k+1:n])) / A[k, k]  # something really annoying \n",
    "    end\n",
    "    x\n",
    "end\n"
   ]
  },
  {
   "cell_type": "code",
   "execution_count": 104,
   "id": "977d9b57-4fb5-4cd3-8596-11d58ac9aed8",
   "metadata": {},
   "outputs": [
    {
     "data": {
      "text/plain": [
       "gauss (generic function with 2 methods)"
      ]
     },
     "execution_count": 104,
     "metadata": {},
     "output_type": "execute_result"
    }
   ],
   "source": [
    "# Gauss列主元消去法\n",
    "# Todo: modify it using . operator\n",
    "function gauss(n, A::Matrix{Float64}, b::Vector{Float64}, implicit::Bool)\n",
    "    for k = 1:n-1\n",
    "        # select pivot in columns\n",
    "        val, idx = pivoting!(A, b, k, n, implicit)\n",
    "        if val == 0\n",
    "            println(\"Cannot solve a singular matrix!\")\n",
    "            return\n",
    "        end\n",
    "        # swap rows\n",
    "        if idx != k\n",
    "            swaprows!(A, idx, k)\n",
    "            b[idx], b[k] = b[k], b[idx]\n",
    "        end\n",
    "        # elimination\n",
    "        for i = k+1:n\n",
    "            m = A[i, k] / A[k, k]\n",
    "            A[i, :] -= A[k, :] * m\n",
    "            b[i] -= b[k] * m\n",
    "        end\n",
    "    end\n",
    "    if A[n, n] == 0\n",
    "        println(\"Cannot solve a singular matrix!\")\n",
    "        return\n",
    "    end\n",
    "    # https://stackoverflow.com/questions/62142717/julia-quick-way-to-initialise-an-empty-array-thats-the-same-size-as-another\n",
    "    x = similar(b, Float64)\n",
    "    x[n] = b[n] / A[n, n]\n",
    "    for k = n-1:-1:1  # the usage of reverse sequence\n",
    "        x[k] = (b[k] - dot(A[k, k+1:n], x[k+1:n])) / A[k, k]  # something really annoying \n",
    "    end\n",
    "    x\n",
    "end\n"
   ]
  },
  {
   "cell_type": "markdown",
   "id": "e6e0488b",
   "metadata": {},
   "source": [
    "### Random Test 1"
   ]
  },
  {
   "cell_type": "code",
   "execution_count": 106,
   "id": "e24d40e1",
   "metadata": {},
   "outputs": [
    {
     "ename": "LoadError",
     "evalue": "UndefVarError: Null not defined",
     "output_type": "error",
     "traceback": [
      "UndefVarError: Null not defined",
      "",
      "Stacktrace:",
      " [1] top-level scope",
      "   @ .\\In[106]:8",
      " [2] eval",
      "   @ .\\boot.jl:373 [inlined]",
      " [3] include_string(mapexpr::typeof(REPL.softscope), mod::Module, code::String, filename::String)",
      "   @ Base .\\loading.jl:1196"
     ]
    }
   ],
   "source": [
    "# test random result of standard library \n",
    "# test pass\n",
    "for i in 1:100\n",
    "    A = rand(4, 4)\n",
    "    b = rand(4)\n",
    "    # display(norm(A \\ b - gauss(size(A, 1), A, b), 2))\n",
    "    # display(norm(A \\ b - gauss(size(A, 1), A, b,true), 2))\n",
    "    display(norm(A \\ b - gauss(size(A, 1), A, b, Null), 2))\n",
    "    # display(norm(A \\ b - gauss_explicit(size(A, 1), A, b),2))\n",
    "    # display(norm(A \\ b - gauss_implicit(size(A, 1), A, b),2))\n",
    "    # display([A \\ b  gauss_explicit(size(A, 1), A, b)])\n",
    "\n",
    "end\n",
    "\n",
    "# A = [0.1 0.1; 2.3 2.3]\n",
    "# b = [1.0, 3]\n",
    "# try\n",
    "#     A \\ b\n",
    "# catch SigularException\n",
    "#     println(\"Cannot solve a singular matrix!\")\n",
    "# end"
   ]
  },
  {
   "cell_type": "code",
   "execution_count": null,
   "id": "4a5cd7a8-4856-4561-966b-a04e055ea993",
   "metadata": {},
   "outputs": [],
   "source": []
  },
  {
   "cell_type": "code",
   "execution_count": null,
   "id": "e6df0a43-fd93-4448-b1d1-6b34b80738e6",
   "metadata": {},
   "outputs": [],
   "source": []
  }
 ],
 "metadata": {
  "kernelspec": {
   "display_name": "Julia 1.7.2",
   "language": "julia",
   "name": "julia-1.7"
  },
  "language_info": {
   "file_extension": ".jl",
   "mimetype": "application/julia",
   "name": "julia",
   "version": "1.7.2"
  }
 },
 "nbformat": 4,
 "nbformat_minor": 5
}

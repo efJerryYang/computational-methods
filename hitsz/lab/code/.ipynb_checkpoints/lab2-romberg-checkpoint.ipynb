{
 "cells": [
  {
   "cell_type": "markdown",
   "metadata": {},
   "source": [
    "## 实验题目2 龙贝格(Romberg)积分法"
   ]
  },
  {
   "cell_type": "markdown",
   "metadata": {},
   "source": [
    "### 代码实现"
   ]
  },
  {
   "cell_type": "code",
   "execution_count": 42,
   "metadata": {},
   "outputs": [],
   "source": [
    "using Printf\n",
    "using Plots\n",
    "using SymPy"
   ]
  },
  {
   "cell_type": "code",
   "execution_count": 43,
   "metadata": {},
   "outputs": [
    {
     "data": {
      "text/plain": [
       "romberg (generic function with 1 method)"
      ]
     },
     "execution_count": 43,
     "metadata": {},
     "output_type": "execute_result"
    }
   ],
   "source": [
    "function romberg(f::Function, xlim, iternum, ϵ)\n",
    "    a, b = xlim\n",
    "    n = iternum\n",
    "\n",
    "    m = 1\n",
    "    h = b - a\n",
    "    T1 = 1 / 2 * h * (f(a) + f(b))\n",
    "    # @printf(\"\\nT:%16.9f\", T1)\n",
    "    @printf(\"%11s%16s%16s%16s\", \"T\",\"S\",\"C\",\"R\")\n",
    "    @printf(\"\\n%16.9f\", T1)\n",
    "\n",
    "    T2, C1, C2, S1, S2, R1, R2 = zeros(7)\n",
    "    for i = 1:n\n",
    "        ii = 2^(i - 1)\n",
    "        tmpsum = 0.0\n",
    "        for k = 1:ii\n",
    "            tmpsum += f(a + (k - 1 / 2) * h)\n",
    "        end\n",
    "        T2 = 1 / 2 * T1 + 1 / 2 * h * tmpsum\n",
    "        # @printf(\"\\nT:%16.9f\", T2)\n",
    "        @printf(\"\\n%16.9f\", T2)\n",
    "\n",
    "        S2 = 1 / 3 * (4T2 - T1)\n",
    "        # @printf(\"\\tS:%16.9f\", S2)\n",
    "        @printf(\"%16.9f\", S2)\n",
    "\n",
    "        if m > 1\n",
    "            C2 = 1 / 15 * (16S2 - S1)\n",
    "            # @printf(\"\\tC:%16.9f\", C2)\n",
    "            @printf(\"%16.9f\", C2)\n",
    "        end\n",
    "\n",
    "        if m > 2\n",
    "            R2 = 1 / 63 * (64C2 - C1)\n",
    "            # @printf(\"\\tR:%16.9f\", R2)\n",
    "            @printf(\"%16.9f\", R2)\n",
    "        end\n",
    "        if m > 3\n",
    "            tol = abs(R2 - R1)\n",
    "            if tol < ϵ\n",
    "                println(\"\\nAccuracy requirement satisfied.\\n\")\n",
    "                return\n",
    "            end\n",
    "        end\n",
    "        R1, C1, S1, T1 = R2, C2, S2, T2\n",
    "        h /= 2\n",
    "        m += 1\n",
    "    end\n",
    "    m\n",
    "end\n"
   ]
  },
  {
   "cell_type": "markdown",
   "metadata": {},
   "source": [
    "### 测试代码"
   ]
  },
  {
   "cell_type": "markdown",
   "metadata": {},
   "source": [
    "#### Test 1 - Simple"
   ]
  },
  {
   "cell_type": "code",
   "execution_count": 48,
   "metadata": {},
   "outputs": [
    {
     "name": "stdout",
     "output_type": "stream",
     "text": [
      "          T               S               C               R\n",
      "     1.333333333\n",
      "     1.166666667     1.111111111\n",
      "     1.116666667     1.100000000     1.099259259\n",
      "     1.103210678     1.098725349     1.098640372     1.098630548\n",
      "     1.099767702     1.098620043     1.098613022     1.098612588\n",
      "     1.098901515     1.098612786     1.098612303     1.098612291\n",
      "Accuracy requirement satisfied.\n",
      "\n"
     ]
    }
   ],
   "source": [
    "f(x) = x^2 * exp(x)\n",
    "f(x) = 1/x\n",
    "ϵ = 1e-6\n",
    "xlim = 1, 3\n",
    "\n",
    "romberg(f,xlim,10,ϵ)"
   ]
  },
  {
   "cell_type": "code",
   "execution_count": 45,
   "metadata": {},
   "outputs": [],
   "source": [
    "# # compute definite integration\n",
    "# @syms x y z\n",
    "# f = 1 / x\n",
    "# @time integrate(f, (x, 1, 3)) |> float"
   ]
  },
  {
   "cell_type": "code",
   "execution_count": 46,
   "metadata": {},
   "outputs": [],
   "source": [
    "# f = 1 / (1 + x^4)\n",
    "# @time integrate(f, (x, 1, 3)) |> float"
   ]
  },
  {
   "cell_type": "markdown",
   "metadata": {},
   "source": [
    "### 实验题目"
   ]
  },
  {
   "cell_type": "markdown",
   "metadata": {},
   "source": [
    "#### 问题 1"
   ]
  },
  {
   "cell_type": "code",
   "execution_count": 47,
   "metadata": {},
   "outputs": [
    {
     "name": "stdout",
     "output_type": "stream",
     "text": [
      "f(x) = x^2 * exp(x)\n",
      "          T               S               C               R\n",
      "     1.359140914\n",
      "     0.885660616     0.727833850\n",
      "     0.760596332     0.718908238     0.718313197\n",
      "     0.728890177     0.718321459     0.718282340     0.718281850\n",
      "     0.720935779     0.718284313     0.718281837     0.718281829\n",
      "Accuracy requirement satisfied.\n",
      "\n",
      "f(x) = exp(x)sin(x)\n",
      "          T               S               C               R\n",
      "     5.121826420\n",
      "     9.279762907    10.665741736\n",
      "    10.520554284    10.934151409    10.952045388\n",
      "    10.842043468    10.949206529    10.950210203    10.950181074\n",
      "    10.923093890    10.950110697    10.950170975    10.950170352\n",
      "    10.943398421    10.950166598    10.950170325    10.950170315\n",
      "Accuracy requirement satisfied.\n",
      "\n",
      "f(x) = 4 / (1 + x^2)\n",
      "          T               S               C               R\n",
      "     3.000000000\n",
      "     3.100000000     3.133333333\n",
      "     3.131176471     3.141568627     3.142117647\n",
      "     3.138988494     3.141592502     3.141594094     3.141585784\n",
      "     3.140941612     3.141592651     3.141592661     3.141592638\n",
      "     3.141429893     3.141592654     3.141592654     3.141592654\n",
      "Accuracy requirement satisfied.\n",
      "\n",
      "f(x) = 1 / (x + 1)\n",
      "          T               S               C               R\n",
      "     0.750000000\n",
      "     0.708333333     0.694444444\n",
      "     0.697023810     0.693253968     0.693174603\n",
      "     0.694121850     0.693154531     0.693147901     0.693147478\n",
      "     0.693391202     0.693147653     0.693147194     0.693147183\n",
      "Accuracy requirement satisfied.\n",
      "\n"
     ]
    }
   ],
   "source": [
    "iter_num = 30\n",
    "\n",
    "\n",
    "f(x) = x^2 * exp(x)\n",
    "ϵ = 1e-6\n",
    "xlim = 0, 1\n",
    "println(\"f(x) = x^2 * exp(x)\")\n",
    "romberg(f, xlim, iter_num, ϵ)\n",
    "\n",
    "f(x) = exp(x)sin(x)\n",
    "ϵ = 1e-6\n",
    "xlim = 1, 3\n",
    "println(\"f(x) = exp(x)sin(x)\")\n",
    "romberg(f, xlim, iter_num, ϵ)\n",
    "\n",
    "\n",
    "f(x) = 4 / (1 + x^2)\n",
    "ϵ = 1e-6\n",
    "xlim = 0, 1\n",
    "println(\"f(x) = 4 / (1 + x^2)\")\n",
    "romberg(f, xlim, iter_num, ϵ)\n",
    "\n",
    "f(x) = 1 / (x + 1)\n",
    "ϵ = 1e-6\n",
    "xlim = 0, 1\n",
    "println(\"f(x) = 1 / (x + 1)\")\n",
    "romberg(f, xlim, iter_num, ϵ)"
   ]
  },
  {
   "cell_type": "markdown",
   "metadata": {},
   "source": [
    "### 思考题"
   ]
  },
  {
   "cell_type": "markdown",
   "metadata": {},
   "source": [
    "1. 略\n",
    "\n",
    "2. 在实验 1 中二分次数和精度的关系如何？\n",
    "\n",
    "   二分次数越多所求的精度越高，通常预设较大的二分次数来确保计算结果有足够的精度，同时也设定早停需要满足的精度要求，避免达到所需精度之后继续计算导致增加的运算量\n",
    "\n",
    "3. 略\n",
    "\n",
    "4. 略"
   ]
  },
  {
   "cell_type": "markdown",
   "metadata": {
    "jp-MarkdownHeadingCollapsed": true,
    "tags": []
   },
   "source": [
    "### 参考资料\n",
    "\n",
    "julia 数值积分 https://blog.csdn.net/m0_37816922/article/details/103475445\n",
    "\n",
    "julia SymPy.jl https://github.com/JuliaPy/SymPy.jl\n",
    "\n",
    "SymPy.jl example https://docs.juliahub.com/SymPy/KzewI/1.0.29/introduction/\n",
    "\n",
    "SymPy.jl assumption https://docs.sympy.org/dev/modules/core.html#module-sympy.core.assumptions\n",
    "\n",
    "julia calculus https://docs.juliahub.com/CalculusWithJulia/AZHbv/0.0.16/\n"
   ]
  }
 ],
 "metadata": {
  "kernelspec": {
   "display_name": "Julia 1.7.2",
   "language": "julia",
   "name": "julia-1.7"
  },
  "language_info": {
   "file_extension": ".jl",
   "mimetype": "application/julia",
   "name": "julia",
   "version": "1.7.2"
  }
 },
 "nbformat": 4,
 "nbformat_minor": 4
}

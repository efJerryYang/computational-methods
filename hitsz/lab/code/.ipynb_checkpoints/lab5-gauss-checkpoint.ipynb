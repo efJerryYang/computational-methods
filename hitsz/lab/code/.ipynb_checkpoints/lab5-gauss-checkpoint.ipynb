{
 "cells": [
  {
   "cell_type": "markdown",
   "id": "da714b7e-8452-48af-80ad-3c9622af090b",
   "metadata": {},
   "source": [
    "## 实验题目5 高斯(Gauss)列主元消去法"
   ]
  },
  {
   "cell_type": "code",
   "execution_count": 8,
   "id": "71ed8b76-fb09-4299-a056-c324c57be3f8",
   "metadata": {},
   "outputs": [],
   "source": [
    "using Printf\n",
    "using LinearAlgebra"
   ]
  },
  {
   "cell_type": "code",
   "execution_count": null,
   "id": "e314ab40-0a3a-4d19-b59f-9fb7fcebe682",
   "metadata": {},
   "outputs": [],
   "source": [
    "# from: https://stackoverflow.com/questions/58667332/is-there-a-way-to-swap-columns-in-o1-in-julia\n",
    "function swapcols!(X::AbstractMatrix, i::Integer, j::Integer)\n",
    "    @inbounds for k = 1:size(X,1)\n",
    "        X[k,i], X[k,j] = X[k,j], X[k,i]\n",
    "    end\n",
    "end\n",
    "# from: https://discourse.julialang.org/t/swap-cols-rows-of-a-matrix/47904/9\n",
    "function _swapcol!(x,i,j)\n",
    "    for k in axes(x, 1)  # <- give dimension as input to axes function\n",
    "        x[k, i], x[k, j] = x[k, j], x[k, i]\n",
    "    end\n",
    "end"
   ]
  },
  {
   "cell_type": "code",
   "execution_count": 7,
   "id": "34030d63-6753-4642-91f9-ed97406f110e",
   "metadata": {},
   "outputs": [
    {
     "data": {
      "text/plain": [
       "swaprows! (generic function with 1 method)"
      ]
     },
     "execution_count": 7,
     "metadata": {},
     "output_type": "execute_result"
    }
   ],
   "source": [
    "    function swaprows!(X::AbstractMatrix, i::Integer, j::Integer)\n",
    "        @inbounds for k = 1:size(X,2)\n",
    "            X[i,k], X[j,k] = X[j,k], X[i,k]\n",
    "        end\n",
    "    end"
   ]
  },
  {
   "cell_type": "code",
   "execution_count": 13,
   "id": "90c12b14-4b41-4411-a2ab-1c5f493661dc",
   "metadata": {},
   "outputs": [
    {
     "data": {
      "text/plain": [
       "gauss (generic function with 3 methods)"
      ]
     },
     "execution_count": 13,
     "metadata": {},
     "output_type": "execute_result"
    }
   ],
   "source": [
    "# Gauss列主元消去法\n",
    "# Todo: modify it using . operator\n",
    "function gauss(n,A::Matrix{Float64},b::Vector{Float64})\n",
    "    for k = 1:n-1\n",
    "        val, idx = findmax(A[:,k]) \n",
    "        if val == 0\n",
    "            @printf(\"Cannot solve a singular matrix!\")\n",
    "            return\n",
    "        end\n",
    "        if idx != k\n",
    "            swaprows!(A,idx,k)\n",
    "        end\n",
    "        for i = k+1:n\n",
    "            m = A[i,k]/A[k,k]\n",
    "            A[i,:] -= A[k,:] * m\n",
    "            b[i] -= b[k] * m\n",
    "        end\n",
    "    end\n",
    "    if A[n,n] == 0\n",
    "        @printf(\"Cannot solve a singular matrix!\")\n",
    "    end\n",
    "    # https://stackoverflow.com/questions/62142717/julia-quick-way-to-initialise-an-empty-array-thats-the-same-size-as-another\n",
    "    x = similar(b,Float64) \n",
    "    x[n] = b[n]/A[n,n]\n",
    "    for k= n-1:1\n",
    "        x[k]=(b[k] - A[k,k+1:n]*x[k+1:n]) / A[k,k]\n",
    "    end\n",
    "    println(x)\n",
    "end\n",
    "        "
   ]
  },
  {
   "cell_type": "code",
   "execution_count": 11,
   "id": "52326825-79ad-4b6f-a81f-b8be6765a86b",
   "metadata": {},
   "outputs": [
    {
     "data": {
      "text/plain": [
       "3×1 Matrix{Float64}:\n",
       " -1.6829999999999983\n",
       "  1.784999999999999\n",
       " -0.588"
      ]
     },
     "execution_count": 11,
     "metadata": {},
     "output_type": "execute_result"
    }
   ],
   "source": [
    "A = [1 2 3;2 4 5;3 5 6]\n",
    "b = [0.123 0.834 0.348]'\n",
    "A\\b"
   ]
  },
  {
   "cell_type": "code",
   "execution_count": 12,
   "id": "62ed11e5-daf3-414f-b611-e0221cf0003a",
   "metadata": {},
   "outputs": [
    {
     "ename": "LoadError",
     "evalue": "InexactError: Int64(0.666666666666667)",
     "output_type": "error",
     "traceback": [
      "InexactError: Int64(0.666666666666667)",
      "",
      "Stacktrace:",
      "  [1] Int64",
      "    @ .\\float.jl:812 [inlined]",
      "  [2] convert",
      "    @ .\\number.jl:7 [inlined]",
      "  [3] setindex!",
      "    @ .\\array.jl:905 [inlined]",
      "  [4] macro expansion",
      "    @ .\\multidimensional.jl:910 [inlined]",
      "  [5] macro expansion",
      "    @ .\\cartesian.jl:64 [inlined]",
      "  [6] _unsafe_setindex!(::IndexLinear, ::Matrix{Int64}, ::Vector{Float64}, ::Int64, ::Base.Slice{Base.OneTo{Int64}})",
      "    @ Base .\\multidimensional.jl:905",
      "  [7] _setindex!",
      "    @ .\\multidimensional.jl:894 [inlined]",
      "  [8] setindex!",
      "    @ .\\abstractarray.jl:1315 [inlined]",
      "  [9] gauss(n::Int64, A::Matrix{Int64}, b::Adjoint{Float64, Matrix{Float64}})",
      "    @ Main .\\In[2]:16",
      " [10] top-level scope",
      "    @ In[12]:1",
      " [11] eval",
      "    @ .\\boot.jl:373 [inlined]",
      " [12] include_string(mapexpr::typeof(REPL.softscope), mod::Module, code::String, filename::String)",
      "    @ Base .\\loading.jl:1196"
     ]
    }
   ],
   "source": [
    "gauss(3,A,b)"
   ]
  }
 ],
 "metadata": {
  "kernelspec": {
   "display_name": "Julia 1.7.2",
   "language": "julia",
   "name": "julia-1.7"
  },
  "language_info": {
   "file_extension": ".jl",
   "mimetype": "application/julia",
   "name": "julia",
   "version": "1.7.2"
  }
 },
 "nbformat": 4,
 "nbformat_minor": 5
}

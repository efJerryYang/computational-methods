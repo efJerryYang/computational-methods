{
 "cells": [
  {
   "cell_type": "markdown",
   "id": "da714b7e-8452-48af-80ad-3c9622af090b",
   "metadata": {},
   "source": [
    "## 实验题目5 高斯(Gauss)列主元消去法"
   ]
  },
  {
   "cell_type": "markdown",
   "id": "4c9069cd-3ca9-4387-936b-890d97494a7a",
   "metadata": {},
   "source": [
    "### 代码实现"
   ]
  },
  {
   "cell_type": "code",
   "execution_count": 11,
   "id": "71ed8b76-fb09-4299-a056-c324c57be3f8",
   "metadata": {},
   "outputs": [],
   "source": [
    "using Printf\n",
    "using LinearAlgebra"
   ]
  },
  {
   "cell_type": "code",
   "execution_count": 12,
   "id": "e314ab40-0a3a-4d19-b59f-9fb7fcebe682",
   "metadata": {},
   "outputs": [
    {
     "data": {
      "text/plain": [
       "_swapcol! (generic function with 1 method)"
      ]
     },
     "execution_count": 12,
     "metadata": {},
     "output_type": "execute_result"
    }
   ],
   "source": [
    "# from: https://stackoverflow.com/questions/58667332/is-there-a-way-to-swap-columns-in-o1-in-julia\n",
    "function swapcols!(X::AbstractMatrix, i::Integer, j::Integer)\n",
    "    @inbounds for k = 1:size(X,1)\n",
    "        X[k,i], X[k,j] = X[k,j], X[k,i]\n",
    "    end\n",
    "end\n",
    "# from: https://discourse.julialang.org/t/swap-cols-rows-of-a-matrix/47904/9\n",
    "function _swapcol!(x,i,j)\n",
    "    for k in axes(x, 1)  # <- give dimension as input to axes function\n",
    "        x[k, i], x[k, j] = x[k, j], x[k, i]\n",
    "    end\n",
    "end"
   ]
  },
  {
   "cell_type": "code",
   "execution_count": 13,
   "id": "34030d63-6753-4642-91f9-ed97406f110e",
   "metadata": {},
   "outputs": [
    {
     "data": {
      "text/plain": [
       "swaprows! (generic function with 1 method)"
      ]
     },
     "execution_count": 13,
     "metadata": {},
     "output_type": "execute_result"
    }
   ],
   "source": [
    "    function swaprows!(X::AbstractMatrix, i::Integer, j::Integer)\n",
    "        @inbounds for k = 1:size(X,2)\n",
    "            X[i,k], X[j,k] = X[j,k], X[i,k]\n",
    "        end\n",
    "    end"
   ]
  },
  {
   "cell_type": "code",
   "execution_count": 14,
   "id": "90c12b14-4b41-4411-a2ab-1c5f493661dc",
   "metadata": {},
   "outputs": [
    {
     "data": {
      "text/plain": [
       "gauss (generic function with 1 method)"
      ]
     },
     "execution_count": 14,
     "metadata": {},
     "output_type": "execute_result"
    }
   ],
   "source": [
    "# Gauss列主元消去法\n",
    "# Todo: modify it using . operator\n",
    "function gauss(n, A::Matrix{Float64}, b::Vector{Float64})\n",
    "    for k = 1:n-1\n",
    "        val, idx = findmax(A[k:n, k])\n",
    "        idx += k - 1  # index must add previous length that omitted by slice operator\n",
    "        if val == 0\n",
    "            println(\"Cannot solve a singular matrix!\")\n",
    "            return\n",
    "        end\n",
    "        # swap rows\n",
    "        if idx != k\n",
    "            swaprows!(A, idx, k)\n",
    "            b[idx], b[k] = b[k], b[idx]\n",
    "        end\n",
    "        # elimination\n",
    "        for i = k+1:n\n",
    "            m = A[i, k] / A[k, k]\n",
    "            A[i, :] -= A[k, :] * m\n",
    "            b[i] -= b[k] * m\n",
    "        end\n",
    "    end\n",
    "    if A[n, n] == 0\n",
    "        println(\"Cannot solve a singular matrix!\")\n",
    "        return\n",
    "    end\n",
    "    # https://stackoverflow.com/questions/62142717/julia-quick-way-to-initialise-an-empty-array-thats-the-same-size-as-another\n",
    "    x = similar(b, Float64)\n",
    "    x[n] = b[n] / A[n, n]\n",
    "    for k = n-1:-1:1  # the usage of reverse sequence\n",
    "        x[k] = (b[k] - dot(A[k, k+1:n], x[k+1:n])) / A[k, k]  # something really annoying \n",
    "    end\n",
    "    x\n",
    "end\n"
   ]
  },
  {
   "cell_type": "code",
   "execution_count": 34,
   "id": "977d9b57-4fb5-4cd3-8596-11d58ac9aed8",
   "metadata": {},
   "outputs": [
    {
     "data": {
      "text/plain": [
       "gauss_explicit (generic function with 1 method)"
      ]
     },
     "execution_count": 34,
     "metadata": {},
     "output_type": "execute_result"
    }
   ],
   "source": [
    "# Gauss列主元消去法\n",
    "# Todo: modify it using . operator\n",
    "function gauss_explicit(n, A::Matrix{Float64}, b::Vector{Float64})\n",
    "    for k = 1:n-1\n",
    "        s = [maximum(A[i,k:n]) for i in k:n]\n",
    "        # display(s)\n",
    "        if 0 in s\n",
    "            println(\"Cannot solve a singular matrix!\")\n",
    "            return\n",
    "        end\n",
    "        A[k:n,k:n] = A[k:n,k:n] ./ s\n",
    "        b[k:n] = b[k:n] ./ s\n",
    "        \n",
    "        val, idx = findmax(A[k:n, k])\n",
    "        idx += k - 1  # index must add previous length that omitted by slice operator\n",
    "        if val == 0\n",
    "            println(\"Cannot solve a singular matrix!\")\n",
    "            return\n",
    "        end\n",
    "        # swap rows\n",
    "        if idx != k\n",
    "            swaprows!(A, idx, k)\n",
    "            b[idx], b[k] = b[k], b[idx]\n",
    "        end\n",
    "        # elimination\n",
    "        for i = k+1:n\n",
    "            m = A[i, k] / A[k, k]\n",
    "            A[i, :] -= A[k, :] * m\n",
    "            b[i] -= b[k] * m\n",
    "        end\n",
    "    end\n",
    "    if A[n, n] == 0\n",
    "        println(\"Cannot solve a singular matrix!\")\n",
    "        return\n",
    "    end\n",
    "    # https://stackoverflow.com/questions/62142717/julia-quick-way-to-initialise-an-empty-array-thats-the-same-size-as-another\n",
    "    x = similar(b, Float64)\n",
    "    x[n] = b[n] / A[n, n]\n",
    "    for k = n-1:-1:1  # the usage of reverse sequence\n",
    "        x[k] = (b[k] - dot(A[k, k+1:n], x[k+1:n])) / A[k, k]  # something really annoying \n",
    "    end\n",
    "    x\n",
    "end\n"
   ]
  },
  {
   "cell_type": "markdown",
   "id": "e6e0488b",
   "metadata": {},
   "source": [
    "### Test 1"
   ]
  },
  {
   "cell_type": "code",
   "execution_count": 35,
   "id": "e24d40e1",
   "metadata": {},
   "outputs": [
    {
     "data": {
      "text/plain": [
       "4-element Vector{Float64}:\n",
       " 0.5244297335290523\n",
       " 0.9738514043377566\n",
       " 0.9863253192117786\n",
       " 0.8596558524231989"
      ]
     },
     "metadata": {},
     "output_type": "display_data"
    },
    {
     "data": {
      "text/plain": [
       "3-element Vector{Float64}:\n",
       " 0.9717516005864638\n",
       " 0.9950754145887101\n",
       " 0.5087693546210417"
      ]
     },
     "metadata": {},
     "output_type": "display_data"
    },
    {
     "data": {
      "text/plain": [
       "2-element Vector{Float64}:\n",
       " 0.315282232603544\n",
       " 1.0309297897569802"
      ]
     },
     "metadata": {},
     "output_type": "display_data"
    },
    {
     "data": {
      "text/plain": [
       "4×2 Matrix{Float64}:\n",
       "   7.52747    7.52747\n",
       "   5.94127    5.94127\n",
       "  19.4577    19.4577\n",
       " -25.8192   -25.8192"
      ]
     },
     "metadata": {},
     "output_type": "display_data"
    },
    {
     "data": {
      "text/plain": [
       "4-element Vector{Float64}:\n",
       " 0.7986987673984625\n",
       " 0.7431743055299035\n",
       " 0.9320877429000078\n",
       " 0.9333021815378629"
      ]
     },
     "metadata": {},
     "output_type": "display_data"
    },
    {
     "data": {
      "text/plain": [
       "3-element Vector{Float64}:\n",
       " 0.8110362746491407\n",
       " 0.9145258437680415\n",
       " 0.39407761136282937"
      ]
     },
     "metadata": {},
     "output_type": "display_data"
    },
    {
     "data": {
      "text/plain": [
       "2-element Vector{Float64}:\n",
       " 2.1531008229527195\n",
       " 3.689540510275927"
      ]
     },
     "metadata": {},
     "output_type": "display_data"
    },
    {
     "data": {
      "text/plain": [
       "4×2 Matrix{Float64}:\n",
       "  0.337923   0.337923\n",
       "  0.479194   0.479194\n",
       " -0.302902  -0.302902\n",
       "  0.536415   0.536415"
      ]
     },
     "metadata": {},
     "output_type": "display_data"
    },
    {
     "data": {
      "text/plain": [
       "4-element Vector{Float64}:\n",
       " 0.4594015403806252\n",
       " 0.6610366335152876\n",
       " 0.7644176498497338\n",
       " 0.8897353100648437"
      ]
     },
     "metadata": {},
     "output_type": "display_data"
    },
    {
     "data": {
      "text/plain": [
       "3-element Vector{Float64}:\n",
       " 0.7996640273357982\n",
       " 0.77736215278938\n",
       " 0.6782177225533139"
      ]
     },
     "metadata": {},
     "output_type": "display_data"
    },
    {
     "data": {
      "text/plain": [
       "2-element Vector{Float64}:\n",
       " 1.075349228529426\n",
       " 0.6289517202038799"
      ]
     },
     "metadata": {},
     "output_type": "display_data"
    },
    {
     "data": {
      "text/plain": [
       "4×2 Matrix{Float64}:\n",
       "  5.6956    5.6956\n",
       "  5.95197   5.95197\n",
       " -5.00082  -5.00082\n",
       " -6.39724  -6.39724"
      ]
     },
     "metadata": {},
     "output_type": "display_data"
    },
    {
     "data": {
      "text/plain": [
       "4-element Vector{Float64}:\n",
       " 0.949136990492953\n",
       " 0.9423406192857869\n",
       " 0.9538799114791264\n",
       " 0.6948106119746484"
      ]
     },
     "metadata": {},
     "output_type": "display_data"
    },
    {
     "data": {
      "text/plain": [
       "3-element Vector{Float64}:\n",
       " 0.9984954982574207\n",
       " 0.9887347852262555\n",
       " 0.9993917025536819"
      ]
     },
     "metadata": {},
     "output_type": "display_data"
    },
    {
     "data": {
      "text/plain": [
       "2-element Vector{Float64}:\n",
       " 0.9786497166107683\n",
       " 0.8911653680069175"
      ]
     },
     "metadata": {},
     "output_type": "display_data"
    },
    {
     "data": {
      "text/plain": [
       "4×2 Matrix{Float64}:\n",
       "  0.523131   0.523131\n",
       "  0.630246   0.630246\n",
       "  0.456332   0.456332\n",
       " -0.310705  -0.310705"
      ]
     },
     "metadata": {},
     "output_type": "display_data"
    },
    {
     "data": {
      "text/plain": [
       "4-element Vector{Float64}:\n",
       " 0.6231417277061859\n",
       " 0.9999474753346715\n",
       " 0.5659548063345061\n",
       " 0.7971541956334441"
      ]
     },
     "metadata": {},
     "output_type": "display_data"
    },
    {
     "data": {
      "text/plain": [
       "3-element Vector{Float64}:\n",
       " 0.8987553834633811\n",
       " 0.5615853881411099\n",
       " 0.6437196530163806"
      ]
     },
     "metadata": {},
     "output_type": "display_data"
    },
    {
     "data": {
      "text/plain": [
       "2-element Vector{Float64}:\n",
       " 1.3300368767849344\n",
       " 1.142190597753202"
      ]
     },
     "metadata": {},
     "output_type": "display_data"
    },
    {
     "data": {
      "text/plain": [
       "4×2 Matrix{Float64}:\n",
       "  1.19411    1.19411\n",
       "  0.387979   0.387979\n",
       " -0.144451  -0.144451\n",
       " -0.224868  -0.224868"
      ]
     },
     "metadata": {},
     "output_type": "display_data"
    },
    {
     "data": {
      "text/plain": [
       "4-element Vector{Float64}:\n",
       " 0.7510365017771704\n",
       " 0.9660963247949375\n",
       " 0.5488992795271999\n",
       " 0.386817933592267"
      ]
     },
     "metadata": {},
     "output_type": "display_data"
    },
    {
     "data": {
      "text/plain": [
       "3-element Vector{Float64}:\n",
       " 0.6444529585473506\n",
       " 0.2717615970418786\n",
       " 0.9430472309191474"
      ]
     },
     "metadata": {},
     "output_type": "display_data"
    },
    {
     "data": {
      "text/plain": [
       "2-element Vector{Float64}:\n",
       " 1.0432859681941415\n",
       " 0.9822449752868653"
      ]
     },
     "metadata": {},
     "output_type": "display_data"
    },
    {
     "data": {
      "text/plain": [
       "4×2 Matrix{Float64}:\n",
       " -0.576455  -0.576455\n",
       "  0.379468   0.379468\n",
       "  1.18171    1.18171\n",
       "  0.48343    0.48343"
      ]
     },
     "metadata": {},
     "output_type": "display_data"
    },
    {
     "data": {
      "text/plain": [
       "4-element Vector{Float64}:\n",
       " 0.8122431686521115\n",
       " 0.9348102998792066\n",
       " 0.6623092769089303\n",
       " 0.7649297970107276"
      ]
     },
     "metadata": {},
     "output_type": "display_data"
    },
    {
     "data": {
      "text/plain": [
       "3-element Vector{Float64}:\n",
       " 0.8959901431406037\n",
       " 0.9943260390573145\n",
       " 0.925059189759555"
      ]
     },
     "metadata": {},
     "output_type": "display_data"
    },
    {
     "data": {
      "text/plain": [
       "2-element Vector{Float64}:\n",
       " 0.7930548420356638\n",
       " 0.25979441693598826"
      ]
     },
     "metadata": {},
     "output_type": "display_data"
    },
    {
     "data": {
      "text/plain": [
       "4×2 Matrix{Float64}:\n",
       "  2.97809   2.97809\n",
       " -2.06397  -2.06397\n",
       "  1.4389    1.4389\n",
       " -4.24971  -4.24971"
      ]
     },
     "metadata": {},
     "output_type": "display_data"
    },
    {
     "data": {
      "text/plain": [
       "4-element Vector{Float64}:\n",
       " 0.8990656640084963\n",
       " 0.9476421477079432\n",
       " 0.9688457452341347\n",
       " 0.8522447395593682"
      ]
     },
     "metadata": {},
     "output_type": "display_data"
    },
    {
     "data": {
      "text/plain": [
       "3-element Vector{Float64}:\n",
       " 0.9086301935509267\n",
       " 0.8432175121450216\n",
       " 0.649228267719042"
      ]
     },
     "metadata": {},
     "output_type": "display_data"
    },
    {
     "data": {
      "text/plain": [
       "2-element Vector{Float64}:\n",
       " -0.39805226625188267\n",
       "  0.8953494836161705"
      ]
     },
     "metadata": {},
     "output_type": "display_data"
    },
    {
     "data": {
      "text/plain": [
       "4×2 Matrix{Float64}:\n",
       " -5.80428  -5.80428\n",
       "  2.5929    2.5929\n",
       "  4.76257   4.76257\n",
       " -2.63567  -2.63567"
      ]
     },
     "metadata": {},
     "output_type": "display_data"
    },
    {
     "data": {
      "text/plain": [
       "4-element Vector{Float64}:\n",
       " 0.7256362622252787\n",
       " 0.8597370696522775\n",
       " 0.9760666590392847\n",
       " 0.7161480152173787"
      ]
     },
     "metadata": {},
     "output_type": "display_data"
    },
    {
     "data": {
      "text/plain": [
       "3-element Vector{Float64}:\n",
       " 0.3905863334544405\n",
       " 0.6366477324174968\n",
       " 0.5440747751041011"
      ]
     },
     "metadata": {},
     "output_type": "display_data"
    },
    {
     "data": {
      "text/plain": [
       "2-element Vector{Float64}:\n",
       " 1.9667524238958713\n",
       " 0.6700946237563401"
      ]
     },
     "metadata": {},
     "output_type": "display_data"
    },
    {
     "data": {
      "text/plain": [
       "4×2 Matrix{Float64}:\n",
       "  0.353039   0.353039\n",
       "  0.188679   0.188679\n",
       "  0.369225   0.369225\n",
       " -0.106041  -0.106041"
      ]
     },
     "metadata": {},
     "output_type": "display_data"
    },
    {
     "data": {
      "text/plain": [
       "4-element Vector{Float64}:\n",
       " 0.8476641805669233\n",
       " 0.8004534012322733\n",
       " 0.667406774603555\n",
       " 0.5512231211696244"
      ]
     },
     "metadata": {},
     "output_type": "display_data"
    },
    {
     "data": {
      "text/plain": [
       "3-element Vector{Float64}:\n",
       " 0.873270212636891\n",
       " 0.47679028756254127\n",
       " 0.6026069002066923"
      ]
     },
     "metadata": {},
     "output_type": "display_data"
    },
    {
     "data": {
      "text/plain": [
       "2-element Vector{Float64}:\n",
       " 0.3779528257754202\n",
       " 0.9380534376382598"
      ]
     },
     "metadata": {},
     "output_type": "display_data"
    },
    {
     "data": {
      "text/plain": [
       "4×2 Matrix{Float64}:\n",
       " -0.377014  -0.377014\n",
       "  1.35285    1.35285\n",
       " -1.14588   -1.14588\n",
       "  0.156165   0.156165"
      ]
     },
     "metadata": {},
     "output_type": "display_data"
    },
    {
     "data": {
      "text/plain": [
       "4-element Vector{Float64}:\n",
       " 0.7934618822679372\n",
       " 0.8683273354324789\n",
       " 0.965611099361748\n",
       " 0.789836736938336"
      ]
     },
     "metadata": {},
     "output_type": "display_data"
    },
    {
     "data": {
      "text/plain": [
       "3-element Vector{Float64}:\n",
       " 0.7486013579033339\n",
       " 0.3975343982236178\n",
       " 0.18091937603833008"
      ]
     },
     "metadata": {},
     "output_type": "display_data"
    },
    {
     "data": {
      "text/plain": [
       "2-element Vector{Float64}:\n",
       " -1.2139059612115632\n",
       "  0.436770804394113"
      ]
     },
     "metadata": {},
     "output_type": "display_data"
    },
    {
     "data": {
      "text/plain": [
       "4×2 Matrix{Float64}:\n",
       " -1.37107   -1.37107\n",
       "  1.20401    1.20401\n",
       "  0.681255   0.681255\n",
       "  1.02135    1.02135"
      ]
     },
     "metadata": {},
     "output_type": "display_data"
    },
    {
     "data": {
      "text/plain": [
       "4-element Vector{Float64}:\n",
       " 0.5610150759963931\n",
       " 0.8248799412703309\n",
       " 0.9707339991383118\n",
       " 0.9360112978522414"
      ]
     },
     "metadata": {},
     "output_type": "display_data"
    },
    {
     "data": {
      "text/plain": [
       "3-element Vector{Float64}:\n",
       " 0.80516971405912\n",
       " 0.2311077224179915\n",
       " 0.9910006094842548"
      ]
     },
     "metadata": {},
     "output_type": "display_data"
    },
    {
     "data": {
      "text/plain": [
       "2-element Vector{Float64}:\n",
       " -1.574319445683308\n",
       "  0.27668286820271437"
      ]
     },
     "metadata": {},
     "output_type": "display_data"
    },
    {
     "data": {
      "text/plain": [
       "4×2 Matrix{Float64}:\n",
       " -0.11104   -0.11104\n",
       "  1.34626    1.34626\n",
       " -0.229963  -0.229963\n",
       "  0.87393    0.87393"
      ]
     },
     "metadata": {},
     "output_type": "display_data"
    },
    {
     "data": {
      "text/plain": [
       "4-element Vector{Float64}:\n",
       " 0.9644463453071344\n",
       " 0.6549162035856466\n",
       " 0.7523504850829579\n",
       " 0.9344356985833943"
      ]
     },
     "metadata": {},
     "output_type": "display_data"
    },
    {
     "data": {
      "text/plain": [
       "3-element Vector{Float64}:\n",
       " 0.8601376564051589\n",
       " 0.38888455133188293\n",
       " 0.9447154341826879"
      ]
     },
     "metadata": {},
     "output_type": "display_data"
    },
    {
     "data": {
      "text/plain": [
       "2-element Vector{Float64}:\n",
       " 1.5909459031940294\n",
       " 0.6863098818050372"
      ]
     },
     "metadata": {},
     "output_type": "display_data"
    },
    {
     "data": {
      "text/plain": [
       "4×2 Matrix{Float64}:\n",
       " 0.0509494  0.0509494\n",
       " 0.103457   0.103457\n",
       " 0.216386   0.216386\n",
       " 0.524185   0.524185"
      ]
     },
     "metadata": {},
     "output_type": "display_data"
    },
    {
     "data": {
      "text/plain": [
       "4-element Vector{Float64}:\n",
       " 0.9851753139886579\n",
       " 0.9351340766593803\n",
       " 0.9119885725791501\n",
       " 0.6840308648697091"
      ]
     },
     "metadata": {},
     "output_type": "display_data"
    },
    {
     "data": {
      "text/plain": [
       "3-element Vector{Float64}:\n",
       " 0.8405531124146852\n",
       " 0.7001891901981255\n",
       " 0.5921618871366279"
      ]
     },
     "metadata": {},
     "output_type": "display_data"
    },
    {
     "data": {
      "text/plain": [
       "2-element Vector{Float64}:\n",
       " 0.9870353479558326\n",
       " 1.1570741143340337"
      ]
     },
     "metadata": {},
     "output_type": "display_data"
    },
    {
     "data": {
      "text/plain": [
       "4×2 Matrix{Float64}:\n",
       " -0.215567   -0.215567\n",
       "  1.05443     1.05443\n",
       "  0.627473    0.627473\n",
       "  0.0947833   0.0947833"
      ]
     },
     "metadata": {},
     "output_type": "display_data"
    },
    {
     "data": {
      "text/plain": [
       "4-element Vector{Float64}:\n",
       " 0.5674828176904141\n",
       " 0.8529025824960035\n",
       " 0.7958565690616357\n",
       " 0.8523567449814164"
      ]
     },
     "metadata": {},
     "output_type": "display_data"
    },
    {
     "data": {
      "text/plain": [
       "3-element Vector{Float64}:\n",
       " 0.9752964450108038\n",
       " 0.9326913841319822\n",
       " 0.693335977228467"
      ]
     },
     "metadata": {},
     "output_type": "display_data"
    },
    {
     "data": {
      "text/plain": [
       "2-element Vector{Float64}:\n",
       " 0.9082885714030631\n",
       " 1.528219120950623"
      ]
     },
     "metadata": {},
     "output_type": "display_data"
    },
    {
     "data": {
      "text/plain": [
       "4×2 Matrix{Float64}:\n",
       "  1.86459    1.86459\n",
       " -1.17114   -1.17114\n",
       "  0.698427   0.698427\n",
       "  0.672176   0.672176"
      ]
     },
     "metadata": {},
     "output_type": "display_data"
    },
    {
     "data": {
      "text/plain": [
       "4-element Vector{Float64}:\n",
       " 0.9740360172967872\n",
       " 0.9766934043419745\n",
       " 0.5980189676454848\n",
       " 0.898970369609425"
      ]
     },
     "metadata": {},
     "output_type": "display_data"
    },
    {
     "data": {
      "text/plain": [
       "3-element Vector{Float64}:\n",
       " 0.998695187437818\n",
       " 0.9760076166736279\n",
       " 0.9015467648939566"
      ]
     },
     "metadata": {},
     "output_type": "display_data"
    },
    {
     "data": {
      "text/plain": [
       "2-element Vector{Float64}:\n",
       "  0.18935397679036536\n",
       " -0.026148422388231785"
      ]
     },
     "metadata": {},
     "output_type": "display_data"
    },
    {
     "data": {
      "text/plain": [
       "4×2 Matrix{Float64}:\n",
       " -0.879966   -0.879966\n",
       " -0.0863357  -0.0863357\n",
       "  3.19744     3.19744\n",
       " -1.01201    -1.01201"
      ]
     },
     "metadata": {},
     "output_type": "display_data"
    },
    {
     "data": {
      "text/plain": [
       "4-element Vector{Float64}:\n",
       " 0.8933703029005088\n",
       " 0.564309125177781\n",
       " 0.8703961261575625\n",
       " 0.9740746619852886"
      ]
     },
     "metadata": {},
     "output_type": "display_data"
    },
    {
     "data": {
      "text/plain": [
       "3-element Vector{Float64}:\n",
       " 0.6878533219527418\n",
       " 0.017378349842552265\n",
       " 0.7497707338360949"
      ]
     },
     "metadata": {},
     "output_type": "display_data"
    },
    {
     "data": {
      "text/plain": [
       "2-element Vector{Float64}:\n",
       " -1.03025272094014\n",
       "  1.1419292791091862"
      ]
     },
     "metadata": {},
     "output_type": "display_data"
    },
    {
     "data": {
      "text/plain": [
       "4×2 Matrix{Float64}:\n",
       "  0.611259   0.611259\n",
       "  0.494626   0.494626\n",
       " -0.836867  -0.836867\n",
       "  0.363712   0.363712"
      ]
     },
     "metadata": {},
     "output_type": "display_data"
    },
    {
     "data": {
      "text/plain": [
       "4-element Vector{Float64}:\n",
       " 0.7853388219122549\n",
       " 0.937862330974107\n",
       " 0.6137404754663709\n",
       " 0.9845037534632116"
      ]
     },
     "metadata": {},
     "output_type": "display_data"
    },
    {
     "data": {
      "text/plain": [
       "3-element Vector{Float64}:\n",
       " 0.4025501537935945\n",
       " 0.7049576808378927\n",
       " 0.6056239087851514"
      ]
     },
     "metadata": {},
     "output_type": "display_data"
    },
    {
     "data": {
      "text/plain": [
       "2-element Vector{Float64}:\n",
       " 1.0053468220202915\n",
       " 1.0003240310101447"
      ]
     },
     "metadata": {},
     "output_type": "display_data"
    },
    {
     "data": {
      "text/plain": [
       "4×2 Matrix{Float64}:\n",
       " -1.40735   -1.40735\n",
       "  1.78188    1.78188\n",
       "  0.492424   0.492424\n",
       "  0.370757   0.370757"
      ]
     },
     "metadata": {},
     "output_type": "display_data"
    },
    {
     "data": {
      "text/plain": [
       "4-element Vector{Float64}:\n",
       " 0.42312642968988556\n",
       " 0.8473300503329791\n",
       " 0.8119548416343992\n",
       " 0.985249209199895"
      ]
     },
     "metadata": {},
     "output_type": "display_data"
    },
    {
     "data": {
      "text/plain": [
       "3-element Vector{Float64}:\n",
       " 0.38791895910525853\n",
       " 0.5967741353075361\n",
       " 0.8300663042882058"
      ]
     },
     "metadata": {},
     "output_type": "display_data"
    },
    {
     "data": {
      "text/plain": [
       "2-element Vector{Float64}:\n",
       " 2.034047231095877\n",
       " 0.5162707162669242"
      ]
     },
     "metadata": {},
     "output_type": "display_data"
    },
    {
     "data": {
      "text/plain": [
       "4×2 Matrix{Float64}:\n",
       "  0.996786   0.996786\n",
       " -1.27691   -1.27691\n",
       "  1.11611    1.11611\n",
       "  0.561535   0.561535"
      ]
     },
     "metadata": {},
     "output_type": "display_data"
    },
    {
     "data": {
      "text/plain": [
       "4-element Vector{Float64}:\n",
       " 0.8449797105595174\n",
       " 0.5128685311007122\n",
       " 0.8450204625079851\n",
       " 0.8688284827294804"
      ]
     },
     "metadata": {},
     "output_type": "display_data"
    },
    {
     "data": {
      "text/plain": [
       "3-element Vector{Float64}:\n",
       " 0.7089468217682934\n",
       " 0.21483344467695148\n",
       " 0.9465629237754627"
      ]
     },
     "metadata": {},
     "output_type": "display_data"
    },
    {
     "data": {
      "text/plain": [
       "2-element Vector{Float64}:\n",
       " 0.6563270291180234\n",
       " 0.5707782956323779"
      ]
     },
     "metadata": {},
     "output_type": "display_data"
    },
    {
     "data": {
      "text/plain": [
       "4×2 Matrix{Float64}:\n",
       " -0.0784637  -0.0784637\n",
       " -5.20196    -5.20196\n",
       "  1.71979     1.71979\n",
       "  1.37454     1.37454"
      ]
     },
     "metadata": {},
     "output_type": "display_data"
    },
    {
     "data": {
      "text/plain": [
       "4-element Vector{Float64}:\n",
       " 0.958199890193044\n",
       " 0.8757623617523842\n",
       " 0.5433119385451534\n",
       " 0.7615471093327588"
      ]
     },
     "metadata": {},
     "output_type": "display_data"
    },
    {
     "data": {
      "text/plain": [
       "3-element Vector{Float64}:\n",
       " 0.21694403851441735\n",
       " 0.5642656142855467\n",
       " 0.8073575216000519"
      ]
     },
     "metadata": {},
     "output_type": "display_data"
    },
    {
     "data": {
      "text/plain": [
       "2-element Vector{Float64}:\n",
       " 1.8428914312454852\n",
       " 3.8065411171112347"
      ]
     },
     "metadata": {},
     "output_type": "display_data"
    },
    {
     "data": {
      "text/plain": [
       "4×2 Matrix{Float64}:\n",
       "  2.87413    2.87413\n",
       "  0.714666   0.714666\n",
       " -1.96308   -1.96308\n",
       "  0.711401   0.711401"
      ]
     },
     "metadata": {},
     "output_type": "display_data"
    },
    {
     "data": {
      "text/plain": [
       "4-element Vector{Float64}:\n",
       " 0.8148483295009509\n",
       " 0.7952607031500741\n",
       " 0.8733207932403589\n",
       " 0.9994131906489648"
      ]
     },
     "metadata": {},
     "output_type": "display_data"
    },
    {
     "data": {
      "text/plain": [
       "3-element Vector{Float64}:\n",
       " 0.8878841874689639\n",
       " 0.928536206431858\n",
       " 0.8458529820320682"
      ]
     },
     "metadata": {},
     "output_type": "display_data"
    },
    {
     "data": {
      "text/plain": [
       "2-element Vector{Float64}:\n",
       " 1.2296116428970196\n",
       " 0.9715549628045221"
      ]
     },
     "metadata": {},
     "output_type": "display_data"
    },
    {
     "data": {
      "text/plain": [
       "4×2 Matrix{Float64}:\n",
       "  1.06857    1.06857\n",
       " -0.108847  -0.108847\n",
       "  1.13651    1.13651\n",
       " -1.03251   -1.03251"
      ]
     },
     "metadata": {},
     "output_type": "display_data"
    },
    {
     "data": {
      "text/plain": [
       "4-element Vector{Float64}:\n",
       " 0.7605713557824706\n",
       " 0.6861551692566513\n",
       " 0.36740661244140316\n",
       " 0.9916813890085553"
      ]
     },
     "metadata": {},
     "output_type": "display_data"
    },
    {
     "data": {
      "text/plain": [
       "3-element Vector{Float64}:\n",
       " 0.9194224327350292\n",
       " 0.6090175381498573\n",
       " 0.9938271883302742"
      ]
     },
     "metadata": {},
     "output_type": "display_data"
    },
    {
     "data": {
      "text/plain": [
       "2-element Vector{Float64}:\n",
       " 1.178104296963189\n",
       " 0.3511082705176325"
      ]
     },
     "metadata": {},
     "output_type": "display_data"
    },
    {
     "data": {
      "text/plain": [
       "4×2 Matrix{Float64}:\n",
       "  0.952543   0.952543\n",
       " -0.297361  -0.297361\n",
       "  0.849831   0.849831\n",
       "  0.277741   0.277741"
      ]
     },
     "metadata": {},
     "output_type": "display_data"
    },
    {
     "data": {
      "text/plain": [
       "4-element Vector{Float64}:\n",
       " 0.6980858189718054\n",
       " 0.30248859556035845\n",
       " 0.928615963333123\n",
       " 0.9832595041907759"
      ]
     },
     "metadata": {},
     "output_type": "display_data"
    },
    {
     "data": {
      "text/plain": [
       "3-element Vector{Float64}:\n",
       " 0.8162596849270818\n",
       " 0.740545477347341\n",
       " 0.9458875029893324"
      ]
     },
     "metadata": {},
     "output_type": "display_data"
    },
    {
     "data": {
      "text/plain": [
       "2-element Vector{Float64}:\n",
       " 0.6008913132431379\n",
       " 0.8069001579510476"
      ]
     },
     "metadata": {},
     "output_type": "display_data"
    },
    {
     "data": {
      "text/plain": [
       "4×2 Matrix{Float64}:\n",
       " -6.72888  -6.72888\n",
       " 10.5996   10.5996\n",
       "  7.91193   7.91193\n",
       " -6.97006  -6.97006"
      ]
     },
     "metadata": {},
     "output_type": "display_data"
    },
    {
     "data": {
      "text/plain": [
       "4-element Vector{Float64}:\n",
       " 0.6216763660382646\n",
       " 0.4612703619755105\n",
       " 0.8167489383496898\n",
       " 0.9513067437421607"
      ]
     },
     "metadata": {},
     "output_type": "display_data"
    },
    {
     "data": {
      "text/plain": [
       "3-element Vector{Float64}:\n",
       " 0.7987167262485252\n",
       " 0.8884056850230957\n",
       " 0.9181317245523922"
      ]
     },
     "metadata": {},
     "output_type": "display_data"
    },
    {
     "data": {
      "text/plain": [
       "2-element Vector{Float64}:\n",
       " 0.3912196268342564\n",
       " 0.5961482762977925"
      ]
     },
     "metadata": {},
     "output_type": "display_data"
    },
    {
     "data": {
      "text/plain": [
       "4×2 Matrix{Float64}:\n",
       " -0.358079  -0.358079\n",
       " -3.38758   -3.38758\n",
       "  4.44435    4.44435\n",
       "  2.48268    2.48268"
      ]
     },
     "metadata": {},
     "output_type": "display_data"
    },
    {
     "data": {
      "text/plain": [
       "4-element Vector{Float64}:\n",
       " 0.6766918385931733\n",
       " 0.8205819335479145\n",
       " 0.9659978485904422\n",
       " 0.808046191220011"
      ]
     },
     "metadata": {},
     "output_type": "display_data"
    },
    {
     "data": {
      "text/plain": [
       "3-element Vector{Float64}:\n",
       " 0.7138599037747448\n",
       " 0.9978695715552588\n",
       " 0.7949540730811812"
      ]
     },
     "metadata": {},
     "output_type": "display_data"
    },
    {
     "data": {
      "text/plain": [
       "2-element Vector{Float64}:\n",
       " 0.23657813197830335\n",
       " 1.14227736197126"
      ]
     },
     "metadata": {},
     "output_type": "display_data"
    },
    {
     "data": {
      "text/plain": [
       "4×2 Matrix{Float64}:\n",
       " -0.873268  -0.873268\n",
       "  1.40864    1.40864\n",
       " -0.657086  -0.657086\n",
       "  1.21161    1.21161"
      ]
     },
     "metadata": {},
     "output_type": "display_data"
    },
    {
     "data": {
      "text/plain": [
       "4-element Vector{Float64}:\n",
       " 0.916023121043553\n",
       " 0.9477469791652265\n",
       " 0.9705985204997661\n",
       " 0.5932478302277477"
      ]
     },
     "metadata": {},
     "output_type": "display_data"
    },
    {
     "data": {
      "text/plain": [
       "3-element Vector{Float64}:\n",
       " 0.859565994841559\n",
       " 0.40452884897925445\n",
       " 0.7492116393014437"
      ]
     },
     "metadata": {},
     "output_type": "display_data"
    },
    {
     "data": {
      "text/plain": [
       "2-element Vector{Float64}:\n",
       " 2.399390322904587\n",
       " 1.5214422641676828"
      ]
     },
     "metadata": {},
     "output_type": "display_data"
    },
    {
     "data": {
      "text/plain": [
       "4×2 Matrix{Float64}:\n",
       " -0.647419  -0.647419\n",
       " -0.802131  -0.802131\n",
       "  1.63216    1.63216\n",
       "  0.166735   0.166735"
      ]
     },
     "metadata": {},
     "output_type": "display_data"
    },
    {
     "data": {
      "text/plain": [
       "4-element Vector{Float64}:\n",
       " 0.7330060742577461\n",
       " 0.8778443242077139\n",
       " 0.8578284040592473\n",
       " 0.9091508338461233"
      ]
     },
     "metadata": {},
     "output_type": "display_data"
    },
    {
     "data": {
      "text/plain": [
       "3-element Vector{Float64}:\n",
       " 0.8145764702518479\n",
       " 0.6285224959337943\n",
       " 0.8971256068034094"
      ]
     },
     "metadata": {},
     "output_type": "display_data"
    },
    {
     "data": {
      "text/plain": [
       "2-element Vector{Float64}:\n",
       " 0.8730249322740837\n",
       " 0.936436696721161"
      ]
     },
     "metadata": {},
     "output_type": "display_data"
    },
    {
     "data": {
      "text/plain": [
       "4×2 Matrix{Float64}:\n",
       " -0.0138644  -0.0138644\n",
       "  0.127052    0.127052\n",
       "  0.0340195   0.0340195\n",
       "  0.410554    0.410554"
      ]
     },
     "metadata": {},
     "output_type": "display_data"
    },
    {
     "data": {
      "text/plain": [
       "4-element Vector{Float64}:\n",
       " 0.984384631238884\n",
       " 0.6918570680042433\n",
       " 0.6310170257884163\n",
       " 0.9265544982212146"
      ]
     },
     "metadata": {},
     "output_type": "display_data"
    },
    {
     "data": {
      "text/plain": [
       "3-element Vector{Float64}:\n",
       "  0.9931648646768068\n",
       "  0.4070606653247233\n",
       " -0.009821668196545064"
      ]
     },
     "metadata": {},
     "output_type": "display_data"
    },
    {
     "data": {
      "text/plain": [
       "2-element Vector{Float64}:\n",
       " 59.470214131581315\n",
       " -5.681035092719564"
      ]
     },
     "metadata": {},
     "output_type": "display_data"
    },
    {
     "data": {
      "text/plain": [
       "4×2 Matrix{Float64}:\n",
       "  3.862     3.862\n",
       " -3.99439  -3.99439\n",
       " -4.69778  -4.69778\n",
       "  8.52429   8.52429"
      ]
     },
     "metadata": {},
     "output_type": "display_data"
    },
    {
     "data": {
      "text/plain": [
       "4-element Vector{Float64}:\n",
       " 0.8066859072417255\n",
       " 0.927218362475228\n",
       " 0.8573747208358321\n",
       " 0.9708278103985113"
      ]
     },
     "metadata": {},
     "output_type": "display_data"
    },
    {
     "data": {
      "text/plain": [
       "3-element Vector{Float64}:\n",
       " 0.8478515549408715\n",
       " 0.9863760552868003\n",
       " 0.30862335001953356"
      ]
     },
     "metadata": {},
     "output_type": "display_data"
    },
    {
     "data": {
      "text/plain": [
       "2-element Vector{Float64}:\n",
       " 1.1531407115398333\n",
       " 1.0028371934438796"
      ]
     },
     "metadata": {},
     "output_type": "display_data"
    },
    {
     "data": {
      "text/plain": [
       "4×2 Matrix{Float64}:\n",
       "  0.823904    0.823904\n",
       "  0.385255    0.385255\n",
       "  0.0281995   0.0281995\n",
       " -0.571131   -0.571131"
      ]
     },
     "metadata": {},
     "output_type": "display_data"
    },
    {
     "data": {
      "text/plain": [
       "4-element Vector{Float64}:\n",
       " 0.9896816880265839\n",
       " 0.802799383748608\n",
       " 0.9666929771423769\n",
       " 0.4915827399996249"
      ]
     },
     "metadata": {},
     "output_type": "display_data"
    },
    {
     "data": {
      "text/plain": [
       "3-element Vector{Float64}:\n",
       " 0.9991091298870561\n",
       " 0.8980714790664788\n",
       " 0.7242961658089935"
      ]
     },
     "metadata": {},
     "output_type": "display_data"
    },
    {
     "data": {
      "text/plain": [
       "2-element Vector{Float64}:\n",
       " 1.0035339468596831\n",
       " 1.7577388774276752"
      ]
     },
     "metadata": {},
     "output_type": "display_data"
    },
    {
     "data": {
      "text/plain": [
       "4×2 Matrix{Float64}:\n",
       "  0.0950859   0.0950859\n",
       "  1.95528     1.95528\n",
       "  0.452351    0.452351\n",
       " -0.812582   -0.812582"
      ]
     },
     "metadata": {},
     "output_type": "display_data"
    },
    {
     "data": {
      "text/plain": [
       "4-element Vector{Float64}:\n",
       " 0.8712914840190431\n",
       " 0.8119748114152701\n",
       " 0.7806025305107154\n",
       " 0.9438463465415456"
      ]
     },
     "metadata": {},
     "output_type": "display_data"
    },
    {
     "data": {
      "text/plain": [
       "3-element Vector{Float64}:\n",
       " 0.9281912386840584\n",
       " 0.5016726467248165\n",
       " 0.8072837082135305"
      ]
     },
     "metadata": {},
     "output_type": "display_data"
    },
    {
     "data": {
      "text/plain": [
       "2-element Vector{Float64}:\n",
       " 0.6582075585889272\n",
       " 0.8627606461800635"
      ]
     },
     "metadata": {},
     "output_type": "display_data"
    },
    {
     "data": {
      "text/plain": [
       "4×2 Matrix{Float64}:\n",
       " -1.46965   -1.46965\n",
       "  7.40564    7.40564\n",
       "  0.567001   0.567001\n",
       " -4.23352   -4.23352"
      ]
     },
     "metadata": {},
     "output_type": "display_data"
    },
    {
     "data": {
      "text/plain": [
       "4-element Vector{Float64}:\n",
       " 0.8238362971249406\n",
       " 0.9370040542364998\n",
       " 0.9570336418040003\n",
       " 0.41042392585817744"
      ]
     },
     "metadata": {},
     "output_type": "display_data"
    },
    {
     "data": {
      "text/plain": [
       "3-element Vector{Float64}:\n",
       " 0.901166363410066\n",
       " 0.9617116929229798\n",
       " 0.9641656300441714"
      ]
     },
     "metadata": {},
     "output_type": "display_data"
    },
    {
     "data": {
      "text/plain": [
       "2-element Vector{Float64}:\n",
       " 0.18900431750130564\n",
       " 0.17022043286668975"
      ]
     },
     "metadata": {},
     "output_type": "display_data"
    },
    {
     "data": {
      "text/plain": [
       "4×2 Matrix{Float64}:\n",
       "  2.90825   2.90825\n",
       " -5.52104  -5.52104\n",
       "  3.15241   3.15241\n",
       "  1.99277   1.99277"
      ]
     },
     "metadata": {},
     "output_type": "display_data"
    },
    {
     "data": {
      "text/plain": [
       "4-element Vector{Float64}:\n",
       " 0.9430841173105414\n",
       " 0.7938632700568236\n",
       " 0.769679516219107\n",
       " 0.6273884671677906"
      ]
     },
     "metadata": {},
     "output_type": "display_data"
    },
    {
     "data": {
      "text/plain": [
       "3-element Vector{Float64}:\n",
       " 0.9846241688987947\n",
       " 0.8307599611696774\n",
       " 0.989649586865097"
      ]
     },
     "metadata": {},
     "output_type": "display_data"
    },
    {
     "data": {
      "text/plain": [
       "2-element Vector{Float64}:\n",
       " 1.560290816475982\n",
       " 1.1950530046487422"
      ]
     },
     "metadata": {},
     "output_type": "display_data"
    },
    {
     "data": {
      "text/plain": [
       "4×2 Matrix{Float64}:\n",
       " -0.0306041  -0.0306041\n",
       " -0.278035   -0.278035\n",
       "  0.12638     0.12638\n",
       "  0.354206    0.354206"
      ]
     },
     "metadata": {},
     "output_type": "display_data"
    },
    {
     "data": {
      "text/plain": [
       "4-element Vector{Float64}:\n",
       " 0.81145643670318\n",
       " 0.9192575505556122\n",
       " 0.9260384066936587\n",
       " 0.8782856872829778"
      ]
     },
     "metadata": {},
     "output_type": "display_data"
    },
    {
     "data": {
      "text/plain": [
       "3-element Vector{Float64}:\n",
       " 0.4089490961791694\n",
       " 0.9714046211447026\n",
       " 0.9524809105825832"
      ]
     },
     "metadata": {},
     "output_type": "display_data"
    },
    {
     "data": {
      "text/plain": [
       "2-element Vector{Float64}:\n",
       " 1.1843928324284834\n",
       " 1.1592353520595065"
      ]
     },
     "metadata": {},
     "output_type": "display_data"
    },
    {
     "data": {
      "text/plain": [
       "4×2 Matrix{Float64}:\n",
       "  0.0180291   0.0180291\n",
       "  0.95654     0.95654\n",
       "  1.18274     1.18274\n",
       " -1.11038    -1.11038"
      ]
     },
     "metadata": {},
     "output_type": "display_data"
    },
    {
     "data": {
      "text/plain": [
       "4-element Vector{Float64}:\n",
       " 0.9852928539077012\n",
       " 0.534561804352728\n",
       " 0.8273629291476154\n",
       " 0.7642735411361645"
      ]
     },
     "metadata": {},
     "output_type": "display_data"
    },
    {
     "data": {
      "text/plain": [
       "3-element Vector{Float64}:\n",
       " 0.7144837170396873\n",
       " 0.7166544168560757\n",
       " 0.8107362344497749"
      ]
     },
     "metadata": {},
     "output_type": "display_data"
    },
    {
     "data": {
      "text/plain": [
       "2-element Vector{Float64}:\n",
       " 2.1493796134472296\n",
       " 1.5958873373614961"
      ]
     },
     "metadata": {},
     "output_type": "display_data"
    },
    {
     "data": {
      "text/plain": [
       "4×2 Matrix{Float64}:\n",
       " -0.299335  -0.299335\n",
       "  0.414634   0.414634\n",
       "  0.387439   0.387439\n",
       "  0.538265   0.538265"
      ]
     },
     "metadata": {},
     "output_type": "display_data"
    },
    {
     "data": {
      "text/plain": [
       "4-element Vector{Float64}:\n",
       " 0.9934309238021771\n",
       " 0.6650051383933696\n",
       " 0.8409115044883532\n",
       " 0.9763513226978814"
      ]
     },
     "metadata": {},
     "output_type": "display_data"
    },
    {
     "data": {
      "text/plain": [
       "3-element Vector{Float64}:\n",
       " 0.7525685129767994\n",
       " 0.5215115413354524\n",
       " 0.6322879788061117"
      ]
     },
     "metadata": {},
     "output_type": "display_data"
    },
    {
     "data": {
      "text/plain": [
       "2-element Vector{Float64}:\n",
       " 1.1291113814185627\n",
       " 0.9423201838134627"
      ]
     },
     "metadata": {},
     "output_type": "display_data"
    },
    {
     "data": {
      "text/plain": [
       "4×2 Matrix{Float64}:\n",
       " -0.133483  -0.133483\n",
       "  0.639499   0.639499\n",
       " -0.660012  -0.660012\n",
       "  1.02721    1.02721"
      ]
     },
     "metadata": {},
     "output_type": "display_data"
    },
    {
     "data": {
      "text/plain": [
       "4-element Vector{Float64}:\n",
       " 0.818726214880813\n",
       " 0.7011510032688982\n",
       " 0.7595521082665557\n",
       " 0.6852071784490115"
      ]
     },
     "metadata": {},
     "output_type": "display_data"
    },
    {
     "data": {
      "text/plain": [
       "3-element Vector{Float64}:\n",
       " 0.780491598966309\n",
       " 0.7482815512750619\n",
       " 0.9468504995001958"
      ]
     },
     "metadata": {},
     "output_type": "display_data"
    },
    {
     "data": {
      "text/plain": [
       "2-element Vector{Float64}:\n",
       " 0.5824141934035278\n",
       " 1.0973112927460842"
      ]
     },
     "metadata": {},
     "output_type": "display_data"
    },
    {
     "data": {
      "text/plain": [
       "4×2 Matrix{Float64}:\n",
       "  0.444302   0.444302\n",
       " -0.282797  -0.282797\n",
       "  2.6468     2.6468\n",
       " -3.56113   -3.56113"
      ]
     },
     "metadata": {},
     "output_type": "display_data"
    },
    {
     "data": {
      "text/plain": [
       "4-element Vector{Float64}:\n",
       " 0.7810918419187496\n",
       " 0.9013198152616718\n",
       " 0.6498873377914853\n",
       " 0.8773010174015975"
      ]
     },
     "metadata": {},
     "output_type": "display_data"
    },
    {
     "data": {
      "text/plain": [
       "3-element Vector{Float64}:\n",
       " 0.9160582172701927\n",
       " 0.3954093520067137\n",
       " 0.6098503298776443"
      ]
     },
     "metadata": {},
     "output_type": "display_data"
    },
    {
     "data": {
      "text/plain": [
       "2-element Vector{Float64}:\n",
       " -0.12249813926114034\n",
       "  1.2174922394549834"
      ]
     },
     "metadata": {},
     "output_type": "display_data"
    },
    {
     "data": {
      "text/plain": [
       "4×2 Matrix{Float64}:\n",
       "  0.495036   0.495036\n",
       "  0.572751   0.572751\n",
       " -0.599046  -0.599046\n",
       " -0.100375  -0.100375"
      ]
     },
     "metadata": {},
     "output_type": "display_data"
    },
    {
     "data": {
      "text/plain": [
       "4-element Vector{Float64}:\n",
       " 0.8376450642210481\n",
       " 0.9450372763726353\n",
       " 0.7620371818577627\n",
       " 0.7573805003190908"
      ]
     },
     "metadata": {},
     "output_type": "display_data"
    },
    {
     "data": {
      "text/plain": [
       "3-element Vector{Float64}:\n",
       " 0.9184508197043124\n",
       " 0.6948414015649664\n",
       " 0.8992406496537854"
      ]
     },
     "metadata": {},
     "output_type": "display_data"
    },
    {
     "data": {
      "text/plain": [
       "2-element Vector{Float64}:\n",
       " 0.90684844778807\n",
       " 1.0056749514903685"
      ]
     },
     "metadata": {},
     "output_type": "display_data"
    },
    {
     "data": {
      "text/plain": [
       "4×2 Matrix{Float64}:\n",
       " -0.206897  -0.206897\n",
       "  0.770592   0.770592\n",
       "  0.712351   0.712351\n",
       " -0.553313  -0.553313"
      ]
     },
     "metadata": {},
     "output_type": "display_data"
    },
    {
     "data": {
      "text/plain": [
       "4-element Vector{Float64}:\n",
       " 0.6497965495695716\n",
       " 0.9960134877233413\n",
       " 0.4669376449067517\n",
       " 0.6661314719706574"
      ]
     },
     "metadata": {},
     "output_type": "display_data"
    },
    {
     "data": {
      "text/plain": [
       "3-element Vector{Float64}:\n",
       " 0.9850298703952941\n",
       " 0.9579153478522031\n",
       " 0.5647260599953287"
      ]
     },
     "metadata": {},
     "output_type": "display_data"
    },
    {
     "data": {
      "text/plain": [
       "2-element Vector{Float64}:\n",
       " 0.7065800967448077\n",
       " 1.8149297432049873"
      ]
     },
     "metadata": {},
     "output_type": "display_data"
    },
    {
     "data": {
      "text/plain": [
       "4×2 Matrix{Float64}:\n",
       "  2.35951   2.35951\n",
       " -1.34743  -1.34743\n",
       "  2.15443   2.15443\n",
       " -1.90872  -1.90872"
      ]
     },
     "metadata": {},
     "output_type": "display_data"
    },
    {
     "data": {
      "text/plain": [
       "4-element Vector{Float64}:\n",
       " 0.9915536476513495\n",
       " 0.6598485364946818\n",
       " 0.6736700933100629\n",
       " 0.6670994309182077"
      ]
     },
     "metadata": {},
     "output_type": "display_data"
    },
    {
     "data": {
      "text/plain": [
       "3-element Vector{Float64}:\n",
       " 0.8781035976122461\n",
       " 0.7800653181478452\n",
       " 0.5723306999836757"
      ]
     },
     "metadata": {},
     "output_type": "display_data"
    },
    {
     "data": {
      "text/plain": [
       "2-element Vector{Float64}:\n",
       " 0.9694526897209028\n",
       " 0.9513465381747804"
      ]
     },
     "metadata": {},
     "output_type": "display_data"
    },
    {
     "data": {
      "text/plain": [
       "4×2 Matrix{Float64}:\n",
       " -1.20405   -1.20405\n",
       "  0.301132   0.301132\n",
       "  0.499351   0.499351\n",
       "  0.917713   0.917713"
      ]
     },
     "metadata": {},
     "output_type": "display_data"
    },
    {
     "data": {
      "text/plain": [
       "4-element Vector{Float64}:\n",
       " 0.7075287993744926\n",
       " 0.7837774584117984\n",
       " 0.854740116827396\n",
       " 0.9027397643092694"
      ]
     },
     "metadata": {},
     "output_type": "display_data"
    },
    {
     "data": {
      "text/plain": [
       "3-element Vector{Float64}:\n",
       " 0.11553452052417101\n",
       " 0.862817920194256\n",
       " 0.13184708407165158"
      ]
     },
     "metadata": {},
     "output_type": "display_data"
    },
    {
     "data": {
      "text/plain": [
       "2-element Vector{Float64}:\n",
       " 0.8121494475112229\n",
       " 2.5881256768549195"
      ]
     },
     "metadata": {},
     "output_type": "display_data"
    },
    {
     "data": {
      "text/plain": [
       "4×2 Matrix{Float64}:\n",
       "  5.91524   5.91524\n",
       " -6.84821  -6.84821\n",
       " -2.90763  -2.90763\n",
       "  3.96945   3.96945"
      ]
     },
     "metadata": {},
     "output_type": "display_data"
    },
    {
     "data": {
      "text/plain": [
       "4-element Vector{Float64}:\n",
       " 0.9693761045509737\n",
       " 0.8646090391554386\n",
       " 0.9262350627695662\n",
       " 0.8552009447155441"
      ]
     },
     "metadata": {},
     "output_type": "display_data"
    },
    {
     "data": {
      "text/plain": [
       "3-element Vector{Float64}:\n",
       " 0.7977896739305397\n",
       " 0.2152786411349139\n",
       " 0.9823456094687302"
      ]
     },
     "metadata": {},
     "output_type": "display_data"
    },
    {
     "data": {
      "text/plain": [
       "2-element Vector{Float64}:\n",
       " 0.8935249735093925\n",
       " 0.9989448082231078"
      ]
     },
     "metadata": {},
     "output_type": "display_data"
    },
    {
     "data": {
      "text/plain": [
       "4×2 Matrix{Float64}:\n",
       " -0.0211058  -0.0211058\n",
       "  0.63969     0.63969\n",
       " -0.179367   -0.179367\n",
       "  0.259168    0.259168"
      ]
     },
     "metadata": {},
     "output_type": "display_data"
    },
    {
     "data": {
      "text/plain": [
       "4-element Vector{Float64}:\n",
       " 0.7848667220183476\n",
       " 0.9778832946902176\n",
       " 0.9224279257888798\n",
       " 0.9408672569833112"
      ]
     },
     "metadata": {},
     "output_type": "display_data"
    },
    {
     "data": {
      "text/plain": [
       "3-element Vector{Float64}:\n",
       " 0.8151435645926395\n",
       " 0.3680179681204844\n",
       " 0.6296901313650318"
      ]
     },
     "metadata": {},
     "output_type": "display_data"
    },
    {
     "data": {
      "text/plain": [
       "2-element Vector{Float64}:\n",
       " 1.179900326954206\n",
       " 1.004186332496007"
      ]
     },
     "metadata": {},
     "output_type": "display_data"
    },
    {
     "data": {
      "text/plain": [
       "4×2 Matrix{Float64}:\n",
       " -1.28476   -1.28476\n",
       " -0.134952  -0.134952\n",
       "  1.25871    1.25871\n",
       "  1.25321    1.25321"
      ]
     },
     "metadata": {},
     "output_type": "display_data"
    },
    {
     "data": {
      "text/plain": [
       "4-element Vector{Float64}:\n",
       " 0.7746007006276806\n",
       " 0.8095474304093931\n",
       " 0.9498806676780832\n",
       " 0.6714591890324765"
      ]
     },
     "metadata": {},
     "output_type": "display_data"
    },
    {
     "data": {
      "text/plain": [
       "3-element Vector{Float64}:\n",
       " 0.9815953409738915\n",
       " 0.9196963767033759\n",
       " 0.7548010629403913"
      ]
     },
     "metadata": {},
     "output_type": "display_data"
    },
    {
     "data": {
      "text/plain": [
       "2-element Vector{Float64}:\n",
       " 0.3969240563228955\n",
       " 0.9509972994283851"
      ]
     },
     "metadata": {},
     "output_type": "display_data"
    },
    {
     "data": {
      "text/plain": [
       "4×2 Matrix{Float64}:\n",
       "  3.33863    3.33863\n",
       "  0.829669   0.829669\n",
       "  1.62413    1.62413\n",
       " -4.31044   -4.31044"
      ]
     },
     "metadata": {},
     "output_type": "display_data"
    },
    {
     "data": {
      "text/plain": [
       "4-element Vector{Float64}:\n",
       " 0.807137604644398\n",
       " 0.7668219030038046\n",
       " 0.5838533918098272\n",
       " 0.8440954984424903"
      ]
     },
     "metadata": {},
     "output_type": "display_data"
    },
    {
     "data": {
      "text/plain": [
       "3-element Vector{Float64}:\n",
       " 0.8387726939859587\n",
       " 0.9505920518625516\n",
       " 0.9539811152671528"
      ]
     },
     "metadata": {},
     "output_type": "display_data"
    },
    {
     "data": {
      "text/plain": [
       "2-element Vector{Float64}:\n",
       " 0.8840583850335824\n",
       " 0.837648071507902"
      ]
     },
     "metadata": {},
     "output_type": "display_data"
    },
    {
     "data": {
      "text/plain": [
       "4×2 Matrix{Float64}:\n",
       "  3.15466   3.15466\n",
       " -9.25777  -9.25777\n",
       "  2.48328   2.48328\n",
       " -1.58564  -1.58564"
      ]
     },
     "metadata": {},
     "output_type": "display_data"
    },
    {
     "data": {
      "text/plain": [
       "4-element Vector{Float64}:\n",
       " 0.8282030260556087\n",
       " 0.8563198453100749\n",
       " 0.6313799983428307\n",
       " 0.7796927579411894"
      ]
     },
     "metadata": {},
     "output_type": "display_data"
    },
    {
     "data": {
      "text/plain": [
       "3-element Vector{Float64}:\n",
       " 0.7699188674749219\n",
       " 0.8193450723727655\n",
       " 0.8320530661564811"
      ]
     },
     "metadata": {},
     "output_type": "display_data"
    },
    {
     "data": {
      "text/plain": [
       "2-element Vector{Float64}:\n",
       " 1.0598344912737505\n",
       " 1.0491852425424641"
      ]
     },
     "metadata": {},
     "output_type": "display_data"
    },
    {
     "data": {
      "text/plain": [
       "4×2 Matrix{Float64}:\n",
       " -2.90738  -2.90738\n",
       "  1.50917   1.50917\n",
       "  2.02175   2.02175\n",
       " -1.12401  -1.12401"
      ]
     },
     "metadata": {},
     "output_type": "display_data"
    },
    {
     "data": {
      "text/plain": [
       "4-element Vector{Float64}:\n",
       " 0.16448836923864885\n",
       " 0.8266869569777797\n",
       " 0.9818380252537455\n",
       " 0.7453247698048506"
      ]
     },
     "metadata": {},
     "output_type": "display_data"
    },
    {
     "data": {
      "text/plain": [
       "3-element Vector{Float64}:\n",
       " 0.712459467080057\n",
       " 0.9757571224776245\n",
       " 0.7977203681731292"
      ]
     },
     "metadata": {},
     "output_type": "display_data"
    },
    {
     "data": {
      "text/plain": [
       "2-element Vector{Float64}:\n",
       " 0.8843638154433934\n",
       " 0.4666280466321718"
      ]
     },
     "metadata": {},
     "output_type": "display_data"
    },
    {
     "data": {
      "text/plain": [
       "4×2 Matrix{Float64}:\n",
       " -2.53555  -2.53555\n",
       " -3.44758  -3.44758\n",
       "  2.79012   2.79012\n",
       "  4.80477   4.80477"
      ]
     },
     "metadata": {},
     "output_type": "display_data"
    },
    {
     "data": {
      "text/plain": [
       "4-element Vector{Float64}:\n",
       " 0.7160931078484488\n",
       " 0.503364090045089\n",
       " 0.5265781057783273\n",
       " 0.8754194916710788"
      ]
     },
     "metadata": {},
     "output_type": "display_data"
    },
    {
     "data": {
      "text/plain": [
       "3-element Vector{Float64}:\n",
       "  0.9199748750291544\n",
       "  0.8800517719368941\n",
       " -0.2454368243584939"
      ]
     },
     "metadata": {},
     "output_type": "display_data"
    },
    {
     "data": {
      "text/plain": [
       "2-element Vector{Float64}:\n",
       " 0.7964112935295882\n",
       " 0.9802896289567259"
      ]
     },
     "metadata": {},
     "output_type": "display_data"
    },
    {
     "data": {
      "text/plain": [
       "4×2 Matrix{Float64}:\n",
       " -0.177853  -0.177853\n",
       "  1.23954    1.23954\n",
       " -1.20892   -1.20892\n",
       "  0.691267   0.691267"
      ]
     },
     "metadata": {},
     "output_type": "display_data"
    },
    {
     "data": {
      "text/plain": [
       "4-element Vector{Float64}:\n",
       " 0.9363651899283968\n",
       " 0.9804040136813985\n",
       " 0.8324213279659216\n",
       " 0.9393876720006649"
      ]
     },
     "metadata": {},
     "output_type": "display_data"
    },
    {
     "data": {
      "text/plain": [
       "3-element Vector{Float64}:\n",
       " 0.7467874842885223\n",
       " 0.8696345800458903\n",
       " 0.32262766263763315"
      ]
     },
     "metadata": {},
     "output_type": "display_data"
    },
    {
     "data": {
      "text/plain": [
       "2-element Vector{Float64}:\n",
       " 0.19215033014405192\n",
       " 3.580362358222745"
      ]
     },
     "metadata": {},
     "output_type": "display_data"
    },
    {
     "data": {
      "text/plain": [
       "4×2 Matrix{Float64}:\n",
       " -0.396575  -0.396575\n",
       " -1.73301   -1.73301\n",
       "  6.41103    6.41103\n",
       " -7.65214   -7.65214"
      ]
     },
     "metadata": {},
     "output_type": "display_data"
    },
    {
     "data": {
      "text/plain": [
       "4-element Vector{Float64}:\n",
       " 0.9450525275225773\n",
       " 0.8825677040810384\n",
       " 0.9234070995794279\n",
       " 0.7698769532993606"
      ]
     },
     "metadata": {},
     "output_type": "display_data"
    },
    {
     "data": {
      "text/plain": [
       "3-element Vector{Float64}:\n",
       " 0.383435668832638\n",
       " 0.5879618891481283\n",
       " 0.9583027481056747"
      ]
     },
     "metadata": {},
     "output_type": "display_data"
    },
    {
     "data": {
      "text/plain": [
       "2-element Vector{Float64}:\n",
       "  3.0081134968866454\n",
       " 11.821809483069707"
      ]
     },
     "metadata": {},
     "output_type": "display_data"
    },
    {
     "data": {
      "text/plain": [
       "4×2 Matrix{Float64}:\n",
       " -0.499238  -0.499238\n",
       " -0.673368  -0.673368\n",
       " -0.110724  -0.110724\n",
       "  1.79847    1.79847"
      ]
     },
     "metadata": {},
     "output_type": "display_data"
    },
    {
     "data": {
      "text/plain": [
       "4-element Vector{Float64}:\n",
       " 0.9853218235576061\n",
       " 0.8181972723635882\n",
       " 0.8956004179192091\n",
       " 0.9175302895058048"
      ]
     },
     "metadata": {},
     "output_type": "display_data"
    },
    {
     "data": {
      "text/plain": [
       "3-element Vector{Float64}:\n",
       " 0.91543376375652\n",
       " 0.8338610114106171\n",
       " 0.9479774850064606"
      ]
     },
     "metadata": {},
     "output_type": "display_data"
    },
    {
     "data": {
      "text/plain": [
       "2-element Vector{Float64}:\n",
       " 0.12828782513953768\n",
       " 0.92683187420679"
      ]
     },
     "metadata": {},
     "output_type": "display_data"
    },
    {
     "data": {
      "text/plain": [
       "4×2 Matrix{Float64}:\n",
       "  2.03423   2.03423\n",
       "  0.4658    0.4658\n",
       " -5.26374  -5.26374\n",
       "  9.99274   9.99274"
      ]
     },
     "metadata": {},
     "output_type": "display_data"
    },
    {
     "data": {
      "text/plain": [
       "4-element Vector{Float64}:\n",
       " 0.7432211773125805\n",
       " 0.7816257299012135\n",
       " 0.45174797316739035\n",
       " 0.8131019393003397"
      ]
     },
     "metadata": {},
     "output_type": "display_data"
    },
    {
     "data": {
      "text/plain": [
       "3-element Vector{Float64}:\n",
       " 0.9943475340953405\n",
       " 0.8721460658297255\n",
       " 0.9682709697339048"
      ]
     },
     "metadata": {},
     "output_type": "display_data"
    },
    {
     "data": {
      "text/plain": [
       "2-element Vector{Float64}:\n",
       " 0.23073914010342933\n",
       " 0.9531965447498479"
      ]
     },
     "metadata": {},
     "output_type": "display_data"
    },
    {
     "data": {
      "text/plain": [
       "4×2 Matrix{Float64}:\n",
       " -2.99338  -2.99338\n",
       " -4.83381  -4.83381\n",
       " -5.07048  -5.07048\n",
       " 10.2873   10.2873"
      ]
     },
     "metadata": {},
     "output_type": "display_data"
    },
    {
     "data": {
      "text/plain": [
       "4-element Vector{Float64}:\n",
       " 0.656875946103358\n",
       " 0.9662466491374029\n",
       " 0.8998828644725914\n",
       " 0.772660842474899"
      ]
     },
     "metadata": {},
     "output_type": "display_data"
    },
    {
     "data": {
      "text/plain": [
       "3-element Vector{Float64}:\n",
       " 0.43083463228587937\n",
       " 0.5950699013079028\n",
       " 0.9054705274731871"
      ]
     },
     "metadata": {},
     "output_type": "display_data"
    },
    {
     "data": {
      "text/plain": [
       "2-element Vector{Float64}:\n",
       " 1.1899823112931562\n",
       " 1.0245412325168246"
      ]
     },
     "metadata": {},
     "output_type": "display_data"
    },
    {
     "data": {
      "text/plain": [
       "4×2 Matrix{Float64}:\n",
       " -4.11121    -4.11121\n",
       "  0.640965    0.640965\n",
       "  0.0108875   0.0108875\n",
       "  2.206       2.206"
      ]
     },
     "metadata": {},
     "output_type": "display_data"
    },
    {
     "data": {
      "text/plain": [
       "4-element Vector{Float64}:\n",
       " 0.9003136463426127\n",
       " 0.9566836271765657\n",
       " 0.8539267023824841\n",
       " 0.9021158739034182"
      ]
     },
     "metadata": {},
     "output_type": "display_data"
    },
    {
     "data": {
      "text/plain": [
       "3-element Vector{Float64}:\n",
       " 0.5486123239197627\n",
       " 0.9611613399232614\n",
       " 0.9582871324506617"
      ]
     },
     "metadata": {},
     "output_type": "display_data"
    },
    {
     "data": {
      "text/plain": [
       "2-element Vector{Float64}:\n",
       " 1.029125607431948\n",
       " 0.3257011832687683"
      ]
     },
     "metadata": {},
     "output_type": "display_data"
    },
    {
     "data": {
      "text/plain": [
       "4×2 Matrix{Float64}:\n",
       " -18.7175   -18.7175\n",
       "   1.65797    1.65797\n",
       "  -7.50958   -7.50958\n",
       "  14.9665    14.9665"
      ]
     },
     "metadata": {},
     "output_type": "display_data"
    },
    {
     "data": {
      "text/plain": [
       "4-element Vector{Float64}:\n",
       " 0.9695993633020369\n",
       " 0.7870652504200197\n",
       " 0.5097168140433103\n",
       " 0.8080918398973209"
      ]
     },
     "metadata": {},
     "output_type": "display_data"
    },
    {
     "data": {
      "text/plain": [
       "3-element Vector{Float64}:\n",
       " 0.9729006774580713\n",
       " 0.8154355328373937\n",
       " 0.6310366904668668"
      ]
     },
     "metadata": {},
     "output_type": "display_data"
    },
    {
     "data": {
      "text/plain": [
       "2-element Vector{Float64}:\n",
       " 0.4708550776952394\n",
       " 1.3949234688292722"
      ]
     },
     "metadata": {},
     "output_type": "display_data"
    },
    {
     "data": {
      "text/plain": [
       "4×2 Matrix{Float64}:\n",
       " -1.15721   -1.15721\n",
       "  1.318      1.318\n",
       "  0.150986   0.150986\n",
       "  0.28055    0.28055"
      ]
     },
     "metadata": {},
     "output_type": "display_data"
    },
    {
     "data": {
      "text/plain": [
       "4-element Vector{Float64}:\n",
       " 0.9534334008851967\n",
       " 0.9958730126932425\n",
       " 0.3502470958689565\n",
       " 0.915393290351059"
      ]
     },
     "metadata": {},
     "output_type": "display_data"
    },
    {
     "data": {
      "text/plain": [
       "3-element Vector{Float64}:\n",
       " 0.8568877243804685\n",
       " 0.44600577826683063\n",
       " 0.737694768813772"
      ]
     },
     "metadata": {},
     "output_type": "display_data"
    },
    {
     "data": {
      "text/plain": [
       "2-element Vector{Float64}:\n",
       " 0.9617550068598899\n",
       " 0.005463501447414754"
      ]
     },
     "metadata": {},
     "output_type": "display_data"
    },
    {
     "data": {
      "text/plain": [
       "4×2 Matrix{Float64}:\n",
       "  4.98805    4.98805\n",
       " -1.0708    -1.0708\n",
       " -3.49751   -3.49751\n",
       " -0.246795  -0.246795"
      ]
     },
     "metadata": {},
     "output_type": "display_data"
    },
    {
     "data": {
      "text/plain": [
       "4-element Vector{Float64}:\n",
       " 0.9675316697978029\n",
       " 0.9620518412639589\n",
       " 0.9059541462248081\n",
       " 0.6311769838096658"
      ]
     },
     "metadata": {},
     "output_type": "display_data"
    },
    {
     "data": {
      "text/plain": [
       "3-element Vector{Float64}:\n",
       "  0.9885701061919099\n",
       " -0.026984376344974026\n",
       "  0.33156365933806264"
      ]
     },
     "metadata": {},
     "output_type": "display_data"
    },
    {
     "data": {
      "text/plain": [
       "2-element Vector{Float64}:\n",
       " -0.03640353302301501\n",
       "  3.0010534938146054"
      ]
     },
     "metadata": {},
     "output_type": "display_data"
    },
    {
     "data": {
      "text/plain": [
       "4×2 Matrix{Float64}:\n",
       "   4.45054    4.45054\n",
       "   4.93907    4.93907\n",
       " -12.7689   -12.7689\n",
       "  -2.35508   -2.35508"
      ]
     },
     "metadata": {},
     "output_type": "display_data"
    },
    {
     "data": {
      "text/plain": [
       "4-element Vector{Float64}:\n",
       " 0.6145387718800744\n",
       " 0.8095677476906736\n",
       " 0.6740120455047657\n",
       " 0.9191087232071641"
      ]
     },
     "metadata": {},
     "output_type": "display_data"
    },
    {
     "data": {
      "text/plain": [
       "3-element Vector{Float64}:\n",
       " 0.2556714163912114\n",
       " 0.8822882629669759\n",
       " 0.32345364804058774"
      ]
     },
     "metadata": {},
     "output_type": "display_data"
    },
    {
     "data": {
      "text/plain": [
       "2-element Vector{Float64}:\n",
       " 0.8875908399216688\n",
       " 0.7494833309084065"
      ]
     },
     "metadata": {},
     "output_type": "display_data"
    },
    {
     "data": {
      "text/plain": [
       "4×2 Matrix{Float64}:\n",
       "  82.4363     82.4363\n",
       "   0.687478    0.687478\n",
       " -10.158     -10.158\n",
       " -15.5787    -15.5787"
      ]
     },
     "metadata": {},
     "output_type": "display_data"
    },
    {
     "data": {
      "text/plain": [
       "4-element Vector{Float64}:\n",
       " 0.7004571446486754\n",
       " 0.21261573741911677\n",
       " 0.9904127309998957\n",
       " 0.7112415506853387"
      ]
     },
     "metadata": {},
     "output_type": "display_data"
    },
    {
     "data": {
      "text/plain": [
       "3-element Vector{Float64}:\n",
       " 0.7268810786430004\n",
       " 0.6097268129357667\n",
       " 0.8840632512080113"
      ]
     },
     "metadata": {},
     "output_type": "display_data"
    },
    {
     "data": {
      "text/plain": [
       "2-element Vector{Float64}:\n",
       " 0.9831707618466996\n",
       " 0.9589261116185958"
      ]
     },
     "metadata": {},
     "output_type": "display_data"
    },
    {
     "data": {
      "text/plain": [
       "4×2 Matrix{Float64}:\n",
       "  2.58535    2.58535\n",
       " -0.229446  -0.229446\n",
       " -1.15336   -1.15336\n",
       "  1.20914    1.20914"
      ]
     },
     "metadata": {},
     "output_type": "display_data"
    },
    {
     "data": {
      "text/plain": [
       "4-element Vector{Float64}:\n",
       " 0.8956964356758192\n",
       " 0.9685644744139872\n",
       " 0.575293074831852\n",
       " 0.9321690177441512"
      ]
     },
     "metadata": {},
     "output_type": "display_data"
    },
    {
     "data": {
      "text/plain": [
       "3-element Vector{Float64}:\n",
       " 0.9155147791179223\n",
       " 0.714220316842461\n",
       " 0.762060414945156"
      ]
     },
     "metadata": {},
     "output_type": "display_data"
    },
    {
     "data": {
      "text/plain": [
       "2-element Vector{Float64}:\n",
       " 0.8230374285337354\n",
       " 1.0914372899186746"
      ]
     },
     "metadata": {},
     "output_type": "display_data"
    },
    {
     "data": {
      "text/plain": [
       "4×2 Matrix{Float64}:\n",
       " -1.69504   -1.69504\n",
       "  0.739028   0.739028\n",
       " -0.723098  -0.723098\n",
       "  1.14105    1.14105"
      ]
     },
     "metadata": {},
     "output_type": "display_data"
    },
    {
     "data": {
      "text/plain": [
       "4-element Vector{Float64}:\n",
       " 0.5660563908082933\n",
       " 0.8734026361444093\n",
       " 0.6117361153784263\n",
       " 0.9775280924283496"
      ]
     },
     "metadata": {},
     "output_type": "display_data"
    },
    {
     "data": {
      "text/plain": [
       "3-element Vector{Float64}:\n",
       " 0.8242203152772676\n",
       " 0.09306520410539842\n",
       " 0.042913906051831485"
      ]
     },
     "metadata": {},
     "output_type": "display_data"
    },
    {
     "data": {
      "text/plain": [
       "2-element Vector{Float64}:\n",
       " 1.5759369702090926\n",
       " 0.8670096569566336"
      ]
     },
     "metadata": {},
     "output_type": "display_data"
    },
    {
     "data": {
      "text/plain": [
       "4×2 Matrix{Float64}:\n",
       " -38.366    -38.366\n",
       "  36.7641    36.7641\n",
       "  -8.08155   -8.08155\n",
       "   4.48353    4.48353"
      ]
     },
     "metadata": {},
     "output_type": "display_data"
    },
    {
     "data": {
      "text/plain": [
       "4-element Vector{Float64}:\n",
       " 0.991548508856747\n",
       " 0.9649808657165098\n",
       " 0.6982379478895061\n",
       " 0.8468073404467232"
      ]
     },
     "metadata": {},
     "output_type": "display_data"
    },
    {
     "data": {
      "text/plain": [
       "3-element Vector{Float64}:\n",
       " 0.8482330641683685\n",
       " 0.7617697961840011\n",
       " 0.661742029420417"
      ]
     },
     "metadata": {},
     "output_type": "display_data"
    },
    {
     "data": {
      "text/plain": [
       "2-element Vector{Float64}:\n",
       " 0.6678525900643772\n",
       " 1.1780903549032264"
      ]
     },
     "metadata": {},
     "output_type": "display_data"
    },
    {
     "data": {
      "text/plain": [
       "4×2 Matrix{Float64}:\n",
       "  1.06245    1.06245\n",
       " -0.590954  -0.590954\n",
       "  0.564046   0.564046\n",
       "  0.159809   0.159809"
      ]
     },
     "metadata": {},
     "output_type": "display_data"
    },
    {
     "data": {
      "text/plain": [
       "4-element Vector{Float64}:\n",
       " 0.6849551170947796\n",
       " 0.7630121918738213\n",
       " 0.7464187063000729\n",
       " 0.9682165637631408"
      ]
     },
     "metadata": {},
     "output_type": "display_data"
    },
    {
     "data": {
      "text/plain": [
       "3-element Vector{Float64}:\n",
       " 0.9457244451949389\n",
       " 0.5248777075279318\n",
       " 0.7954197206982829"
      ]
     },
     "metadata": {},
     "output_type": "display_data"
    },
    {
     "data": {
      "text/plain": [
       "2-element Vector{Float64}:\n",
       " 1.0972958520367624\n",
       " 0.5996403573394384"
      ]
     },
     "metadata": {},
     "output_type": "display_data"
    },
    {
     "data": {
      "text/plain": [
       "4×2 Matrix{Float64}:\n",
       " -1.01795   -1.01795\n",
       " -0.779384  -0.779384\n",
       "  1.53412    1.53412\n",
       "  0.061321   0.061321"
      ]
     },
     "metadata": {},
     "output_type": "display_data"
    },
    {
     "data": {
      "text/plain": [
       "4-element Vector{Float64}:\n",
       " 0.9635564928929597\n",
       " 0.6865090907551105\n",
       " 0.39983698558653036\n",
       " 0.6300834501886975"
      ]
     },
     "metadata": {},
     "output_type": "display_data"
    },
    {
     "data": {
      "text/plain": [
       "3-element Vector{Float64}:\n",
       " 0.7781839260592519\n",
       " 0.7819607151810996\n",
       " 0.11234044545244237"
      ]
     },
     "metadata": {},
     "output_type": "display_data"
    },
    {
     "data": {
      "text/plain": [
       "2-element Vector{Float64}:\n",
       " 0.7111812577211147\n",
       " 1.2501194731295158"
      ]
     },
     "metadata": {},
     "output_type": "display_data"
    },
    {
     "data": {
      "text/plain": [
       "4×2 Matrix{Float64}:\n",
       "  3.32266    3.32266\n",
       " -2.01023   -2.01023\n",
       " -0.561475  -0.561475\n",
       "  0.313812   0.313812"
      ]
     },
     "metadata": {},
     "output_type": "display_data"
    },
    {
     "data": {
      "text/plain": [
       "4-element Vector{Float64}:\n",
       " 0.47496816676059583\n",
       " 0.9668981978091706\n",
       " 0.7230031989511658\n",
       " 0.4223298944265803"
      ]
     },
     "metadata": {},
     "output_type": "display_data"
    },
    {
     "data": {
      "text/plain": [
       "3-element Vector{Float64}:\n",
       " 0.44868829741105254\n",
       " 0.8276182825298628\n",
       " 0.7616640142888794"
      ]
     },
     "metadata": {},
     "output_type": "display_data"
    },
    {
     "data": {
      "text/plain": [
       "2-element Vector{Float64}:\n",
       " 0.36151876323117527\n",
       " 0.38641390810886245"
      ]
     },
     "metadata": {},
     "output_type": "display_data"
    },
    {
     "data": {
      "text/plain": [
       "4×2 Matrix{Float64}:\n",
       " -9.07852   -9.07852\n",
       " -5.67924   -5.67924\n",
       "  0.932289   0.932289\n",
       " 11.6326    11.6326"
      ]
     },
     "metadata": {},
     "output_type": "display_data"
    },
    {
     "data": {
      "text/plain": [
       "4-element Vector{Float64}:\n",
       " 0.9054385762479604\n",
       " 0.8860029298640412\n",
       " 0.6816540239210478\n",
       " 0.7802128153717103"
      ]
     },
     "metadata": {},
     "output_type": "display_data"
    },
    {
     "data": {
      "text/plain": [
       "3-element Vector{Float64}:\n",
       " 0.824434578450175\n",
       " 0.9498964928558055\n",
       " 0.701490941170715"
      ]
     },
     "metadata": {},
     "output_type": "display_data"
    },
    {
     "data": {
      "text/plain": [
       "2-element Vector{Float64}:\n",
       " 0.9741852885899797\n",
       " 0.6625631386843314"
      ]
     },
     "metadata": {},
     "output_type": "display_data"
    },
    {
     "data": {
      "text/plain": [
       "4×2 Matrix{Float64}:\n",
       " -0.842138  -0.842138\n",
       "  0.23741    0.23741\n",
       "  0.164746   0.164746\n",
       "  0.770496   0.770496"
      ]
     },
     "metadata": {},
     "output_type": "display_data"
    },
    {
     "data": {
      "text/plain": [
       "4-element Vector{Float64}:\n",
       " 0.9173906817578059\n",
       " 0.8465120766842995\n",
       " 0.9858919923304228\n",
       " 0.7687495615422739"
      ]
     },
     "metadata": {},
     "output_type": "display_data"
    },
    {
     "data": {
      "text/plain": [
       "3-element Vector{Float64}:\n",
       " 0.9908590462882194\n",
       " 0.8042717884026243\n",
       " 0.9360659549505027"
      ]
     },
     "metadata": {},
     "output_type": "display_data"
    },
    {
     "data": {
      "text/plain": [
       "2-element Vector{Float64}:\n",
       " 3.212854208910718\n",
       " 1.88874650680792"
      ]
     },
     "metadata": {},
     "output_type": "display_data"
    },
    {
     "data": {
      "text/plain": [
       "4×2 Matrix{Float64}:\n",
       "  1.67204    1.67204\n",
       " -0.125169  -0.125169\n",
       " -2.04569   -2.04569\n",
       "  0.795526   0.795526"
      ]
     },
     "metadata": {},
     "output_type": "display_data"
    },
    {
     "data": {
      "text/plain": [
       "4-element Vector{Float64}:\n",
       " 0.9843965247164824\n",
       " 0.784189196357368\n",
       " 0.8417024587706929\n",
       " 0.9787170738879363"
      ]
     },
     "metadata": {},
     "output_type": "display_data"
    },
    {
     "data": {
      "text/plain": [
       "3-element Vector{Float64}:\n",
       " 0.27996839974097854\n",
       " 0.664139178218976\n",
       " 0.5902995682419685"
      ]
     },
     "metadata": {},
     "output_type": "display_data"
    },
    {
     "data": {
      "text/plain": [
       "2-element Vector{Float64}:\n",
       " -15.035050926431836\n",
       "  -3.818614609772018"
      ]
     },
     "metadata": {},
     "output_type": "display_data"
    },
    {
     "data": {
      "text/plain": [
       "4×2 Matrix{Float64}:\n",
       " -0.87144   -0.87144\n",
       "  0.72921    0.72921\n",
       "  0.521526   0.521526\n",
       "  0.383785   0.383785"
      ]
     },
     "metadata": {},
     "output_type": "display_data"
    },
    {
     "data": {
      "text/plain": [
       "4-element Vector{Float64}:\n",
       " 0.7510711809967304\n",
       " 0.6287695781815709\n",
       " 0.8787204996055672\n",
       " 0.5706856774855684"
      ]
     },
     "metadata": {},
     "output_type": "display_data"
    },
    {
     "data": {
      "text/plain": [
       "3-element Vector{Float64}:\n",
       " 0.36677082295946706\n",
       " 0.8021858431450944\n",
       " 0.6996214041892027"
      ]
     },
     "metadata": {},
     "output_type": "display_data"
    },
    {
     "data": {
      "text/plain": [
       "2-element Vector{Float64}:\n",
       " 0.6324482325585521\n",
       " 0.8247295994586287"
      ]
     },
     "metadata": {},
     "output_type": "display_data"
    },
    {
     "data": {
      "text/plain": [
       "4×2 Matrix{Float64}:\n",
       " -2.48665   -2.48665\n",
       "  1.0187     1.0187\n",
       "  2.68242    2.68242\n",
       "  0.683738   0.683738"
      ]
     },
     "metadata": {},
     "output_type": "display_data"
    },
    {
     "data": {
      "text/plain": [
       "4-element Vector{Float64}:\n",
       " 0.7865116136954646\n",
       " 0.7452319695176579\n",
       " 0.6493656648698404\n",
       " 0.6894042869809942"
      ]
     },
     "metadata": {},
     "output_type": "display_data"
    },
    {
     "data": {
      "text/plain": [
       "3-element Vector{Float64}:\n",
       " 0.7032677349609446\n",
       " 0.6228764162653906\n",
       " 0.6907494921539916"
      ]
     },
     "metadata": {},
     "output_type": "display_data"
    },
    {
     "data": {
      "text/plain": [
       "2-element Vector{Float64}:\n",
       " 0.38499363374085127\n",
       " 0.8129037889634473"
      ]
     },
     "metadata": {},
     "output_type": "display_data"
    },
    {
     "data": {
      "text/plain": [
       "4×2 Matrix{Float64}:\n",
       " -1.42784   -1.42784\n",
       "  0.62975    0.62975\n",
       " -0.462862  -0.462862\n",
       "  1.16214    1.16214"
      ]
     },
     "metadata": {},
     "output_type": "display_data"
    },
    {
     "data": {
      "text/plain": [
       "4-element Vector{Float64}:\n",
       " 0.6638514298073827\n",
       " 0.628551250332584\n",
       " 0.9353424968944577\n",
       " 0.9734770176805452"
      ]
     },
     "metadata": {},
     "output_type": "display_data"
    },
    {
     "data": {
      "text/plain": [
       "3-element Vector{Float64}:\n",
       " 0.32558920937186425\n",
       " 0.8267751913404566\n",
       " 0.48639630311180726"
      ]
     },
     "metadata": {},
     "output_type": "display_data"
    },
    {
     "data": {
      "text/plain": [
       "2-element Vector{Float64}:\n",
       " 1.1600310804671572\n",
       " 1.6444149053241404"
      ]
     },
     "metadata": {},
     "output_type": "display_data"
    },
    {
     "data": {
      "text/plain": [
       "4×2 Matrix{Float64}:\n",
       "  6.22674   6.22674\n",
       " -3.39778  -3.39778\n",
       " -1.89808  -1.89808\n",
       " -1.45982  -1.45982"
      ]
     },
     "metadata": {},
     "output_type": "display_data"
    },
    {
     "data": {
      "text/plain": [
       "4-element Vector{Float64}:\n",
       " 0.9611791501671787\n",
       " 0.7275445754350471\n",
       " 0.8963976256136871\n",
       " 0.2989684142981057"
      ]
     },
     "metadata": {},
     "output_type": "display_data"
    },
    {
     "data": {
      "text/plain": [
       "3-element Vector{Float64}:\n",
       " 0.693651471180954\n",
       " 0.7098860016371816\n",
       " 0.6965451188980207"
      ]
     },
     "metadata": {},
     "output_type": "display_data"
    },
    {
     "data": {
      "text/plain": [
       "2-element Vector{Float64}:\n",
       "  0.9273350428338851\n",
       " -0.03985980789257841"
      ]
     },
     "metadata": {},
     "output_type": "display_data"
    },
    {
     "data": {
      "text/plain": [
       "4×2 Matrix{Float64}:\n",
       " -0.0396082  -0.0396082\n",
       " -0.109604   -0.109604\n",
       "  1.59165     1.59165\n",
       " -0.79118    -0.79118"
      ]
     },
     "metadata": {},
     "output_type": "display_data"
    },
    {
     "data": {
      "text/plain": [
       "4-element Vector{Float64}:\n",
       " 0.5393940146211008\n",
       " 0.9297523545295268\n",
       " 0.7905826370790318\n",
       " 0.9335797421998071"
      ]
     },
     "metadata": {},
     "output_type": "display_data"
    },
    {
     "data": {
      "text/plain": [
       "3-element Vector{Float64}:\n",
       " 0.9447547356000058\n",
       " 0.7764362231263435\n",
       " 0.7474769361690444"
      ]
     },
     "metadata": {},
     "output_type": "display_data"
    },
    {
     "data": {
      "text/plain": [
       "2-element Vector{Float64}:\n",
       " 0.7768269270660517\n",
       " 0.9517938632176107"
      ]
     },
     "metadata": {},
     "output_type": "display_data"
    },
    {
     "data": {
      "text/plain": [
       "4×2 Matrix{Float64}:\n",
       " -5.2969   -5.2969\n",
       "  2.82812   2.82812\n",
       " -2.00122  -2.00122\n",
       "  4.43062   4.43062"
      ]
     },
     "metadata": {},
     "output_type": "display_data"
    },
    {
     "data": {
      "text/plain": [
       "4-element Vector{Float64}:\n",
       " 0.986515336950711\n",
       " 0.791928882427868\n",
       " 0.9275203804935068\n",
       " 0.979335385997769"
      ]
     },
     "metadata": {},
     "output_type": "display_data"
    },
    {
     "data": {
      "text/plain": [
       "3-element Vector{Float64}:\n",
       " 0.750216510610825\n",
       " 0.35083421934874126\n",
       " 0.8977290525888553"
      ]
     },
     "metadata": {},
     "output_type": "display_data"
    },
    {
     "data": {
      "text/plain": [
       "2-element Vector{Float64}:\n",
       " 1.309826628312395\n",
       " 1.1265857570866495"
      ]
     },
     "metadata": {},
     "output_type": "display_data"
    },
    {
     "data": {
      "text/plain": [
       "4×2 Matrix{Float64}:\n",
       " -0.288799  -0.288799\n",
       " -1.16209   -1.16209\n",
       " -0.282443  -0.282443\n",
       "  1.51769    1.51769"
      ]
     },
     "metadata": {},
     "output_type": "display_data"
    },
    {
     "data": {
      "text/plain": [
       "4-element Vector{Float64}:\n",
       " 0.9715987438428415\n",
       " 0.9181212642750893\n",
       " 0.8601099151570875\n",
       " 0.8263741862312451"
      ]
     },
     "metadata": {},
     "output_type": "display_data"
    },
    {
     "data": {
      "text/plain": [
       "3-element Vector{Float64}:\n",
       " 0.9905463421365509\n",
       " 0.679852703177147\n",
       " 0.7678410644891537"
      ]
     },
     "metadata": {},
     "output_type": "display_data"
    },
    {
     "data": {
      "text/plain": [
       "2-element Vector{Float64}:\n",
       " 0.4442430054474391\n",
       " 0.561840095791087"
      ]
     },
     "metadata": {},
     "output_type": "display_data"
    },
    {
     "data": {
      "text/plain": [
       "4×2 Matrix{Float64}:\n",
       "  1.05199     1.05199\n",
       " -0.0664817  -0.0664817\n",
       "  0.424257    0.424257\n",
       " -0.282762   -0.282762"
      ]
     },
     "metadata": {},
     "output_type": "display_data"
    },
    {
     "data": {
      "text/plain": [
       "4-element Vector{Float64}:\n",
       " 0.8024292035938154\n",
       " 0.8440990327225063\n",
       " 0.566489690016145\n",
       " 0.8075486378827782"
      ]
     },
     "metadata": {},
     "output_type": "display_data"
    },
    {
     "data": {
      "text/plain": [
       "3-element Vector{Float64}:\n",
       " 0.9382409129212081\n",
       " 0.8176826424807866\n",
       " 0.7127624307481742"
      ]
     },
     "metadata": {},
     "output_type": "display_data"
    },
    {
     "data": {
      "text/plain": [
       "2-element Vector{Float64}:\n",
       "  1.1323902881470267\n",
       " -0.41610806608213147"
      ]
     },
     "metadata": {},
     "output_type": "display_data"
    },
    {
     "data": {
      "text/plain": [
       "4×2 Matrix{Float64}:\n",
       "  0.549697   0.549697\n",
       " -0.12949   -0.12949\n",
       "  0.842327   0.842327\n",
       "  0.23614    0.23614"
      ]
     },
     "metadata": {},
     "output_type": "display_data"
    },
    {
     "data": {
      "text/plain": [
       "4-element Vector{Float64}:\n",
       " 0.5069965109400613\n",
       " 0.982893905809932\n",
       " 0.9019085928081942\n",
       " 0.7084230839257407"
      ]
     },
     "metadata": {},
     "output_type": "display_data"
    },
    {
     "data": {
      "text/plain": [
       "3-element Vector{Float64}:\n",
       " 0.8881518525545914\n",
       " 0.9640211128178737\n",
       " 0.6927196665281723"
      ]
     },
     "metadata": {},
     "output_type": "display_data"
    },
    {
     "data": {
      "text/plain": [
       "2-element Vector{Float64}:\n",
       " 0.640972808863995\n",
       " 0.4547275882729228"
      ]
     },
     "metadata": {},
     "output_type": "display_data"
    },
    {
     "data": {
      "text/plain": [
       "4×2 Matrix{Float64}:\n",
       "  0.703373   0.703373\n",
       "  0.826976   0.826976\n",
       " -0.126395  -0.126395\n",
       " -0.450881  -0.450881"
      ]
     },
     "metadata": {},
     "output_type": "display_data"
    },
    {
     "data": {
      "text/plain": [
       "4-element Vector{Float64}:\n",
       " 0.754137218421974\n",
       " 0.701709679992754\n",
       " 0.9217333560137214\n",
       " 0.7222494721581165"
      ]
     },
     "metadata": {},
     "output_type": "display_data"
    },
    {
     "data": {
      "text/plain": [
       "3-element Vector{Float64}:\n",
       " 0.7459336273616026\n",
       " 0.7282474025357084\n",
       " 0.07738952135099009"
      ]
     },
     "metadata": {},
     "output_type": "display_data"
    },
    {
     "data": {
      "text/plain": [
       "2-element Vector{Float64}:\n",
       " 1.0827203830778425\n",
       " 0.9096560943759135"
      ]
     },
     "metadata": {},
     "output_type": "display_data"
    },
    {
     "data": {
      "text/plain": [
       "4×2 Matrix{Float64}:\n",
       "  1.97253    1.97253\n",
       " -0.671275  -0.671275\n",
       "  2.42818    2.42818\n",
       " -2.59022   -2.59022"
      ]
     },
     "metadata": {},
     "output_type": "display_data"
    },
    {
     "data": {
      "text/plain": [
       "4-element Vector{Float64}:\n",
       " 0.848665413966929\n",
       " 0.892248252735902\n",
       " 0.7444014200173642\n",
       " 0.9304194269629842"
      ]
     },
     "metadata": {},
     "output_type": "display_data"
    },
    {
     "data": {
      "text/plain": [
       "3-element Vector{Float64}:\n",
       " 0.8886208855743011\n",
       " 0.39374122373635734\n",
       " 0.5437036999936643"
      ]
     },
     "metadata": {},
     "output_type": "display_data"
    },
    {
     "data": {
      "text/plain": [
       "2-element Vector{Float64}:\n",
       " 0.9291817092438497\n",
       " 0.6952899462151341"
      ]
     },
     "metadata": {},
     "output_type": "display_data"
    },
    {
     "data": {
      "text/plain": [
       "4×2 Matrix{Float64}:\n",
       " -1.98207   -1.98207\n",
       "  3.19533    3.19533\n",
       " -0.156686  -0.156686\n",
       " -0.915628  -0.915628"
      ]
     },
     "metadata": {},
     "output_type": "display_data"
    },
    {
     "data": {
      "text/plain": [
       "4-element Vector{Float64}:\n",
       " 0.8487559881546393\n",
       " 0.529000597593513\n",
       " 0.8889597356193828\n",
       " 0.8720125700411784"
      ]
     },
     "metadata": {},
     "output_type": "display_data"
    },
    {
     "data": {
      "text/plain": [
       "3-element Vector{Float64}:\n",
       " 0.650787334834112\n",
       " 0.8777754769869306\n",
       " 0.7829679364053677"
      ]
     },
     "metadata": {},
     "output_type": "display_data"
    },
    {
     "data": {
      "text/plain": [
       "2-element Vector{Float64}:\n",
       " 0.3319723724798356\n",
       " 1.1355494414505025"
      ]
     },
     "metadata": {},
     "output_type": "display_data"
    },
    {
     "data": {
      "text/plain": [
       "4×2 Matrix{Float64}:\n",
       "  2.25736    2.25736\n",
       " -3.02385   -3.02385\n",
       "  0.252752   0.252752\n",
       "  1.89726    1.89726"
      ]
     },
     "metadata": {},
     "output_type": "display_data"
    },
    {
     "data": {
      "text/plain": [
       "4-element Vector{Float64}:\n",
       " 0.9755204194463789\n",
       " 0.9487134958956016\n",
       " 0.7017040461036946\n",
       " 0.8188476205131263"
      ]
     },
     "metadata": {},
     "output_type": "display_data"
    },
    {
     "data": {
      "text/plain": [
       "3-element Vector{Float64}:\n",
       "  0.7677552936064942\n",
       " -0.1947700220536691\n",
       "  0.7622000661050334"
      ]
     },
     "metadata": {},
     "output_type": "display_data"
    },
    {
     "data": {
      "text/plain": [
       "2-element Vector{Float64}:\n",
       " -0.727471478107885\n",
       "  0.26975753031131533"
      ]
     },
     "metadata": {},
     "output_type": "display_data"
    },
    {
     "data": {
      "text/plain": [
       "4×2 Matrix{Float64}:\n",
       "  0.787718    0.787718\n",
       "  0.0797764   0.0797764\n",
       " -1.07276    -1.07276\n",
       "  0.305052    0.305052"
      ]
     },
     "metadata": {},
     "output_type": "display_data"
    },
    {
     "data": {
      "text/plain": [
       "4-element Vector{Float64}:\n",
       " 0.890713792303856\n",
       " 0.7650425964865227\n",
       " 0.9915078994553415\n",
       " 0.8468867091613155"
      ]
     },
     "metadata": {},
     "output_type": "display_data"
    },
    {
     "data": {
      "text/plain": [
       "3-element Vector{Float64}:\n",
       " 0.8368839863872563\n",
       " 0.7475248556999258\n",
       " 0.9600405999295016"
      ]
     },
     "metadata": {},
     "output_type": "display_data"
    },
    {
     "data": {
      "text/plain": [
       "2-element Vector{Float64}:\n",
       " 0.976350321458682\n",
       " 1.636982409573019"
      ]
     },
     "metadata": {},
     "output_type": "display_data"
    },
    {
     "data": {
      "text/plain": [
       "4×2 Matrix{Float64}:\n",
       " -0.130509  -0.130509\n",
       "  0.205295   0.205295\n",
       "  0.404422   0.404422\n",
       " -0.101532  -0.101532"
      ]
     },
     "metadata": {},
     "output_type": "display_data"
    },
    {
     "data": {
      "text/plain": [
       "4-element Vector{Float64}:\n",
       " 0.980582636626024\n",
       " 0.7098696047525568\n",
       " 0.799369359591604\n",
       " 0.8276826073843615"
      ]
     },
     "metadata": {},
     "output_type": "display_data"
    },
    {
     "data": {
      "text/plain": [
       "3-element Vector{Float64}:\n",
       " 0.741232688346765\n",
       " 0.7468140247475057\n",
       " 0.44511101048648205"
      ]
     },
     "metadata": {},
     "output_type": "display_data"
    },
    {
     "data": {
      "text/plain": [
       "2-element Vector{Float64}:\n",
       " 1.6778475628586031\n",
       " 0.8920961295456659"
      ]
     },
     "metadata": {},
     "output_type": "display_data"
    },
    {
     "data": {
      "text/plain": [
       "4×2 Matrix{Float64}:\n",
       " -1.28432    -1.28432\n",
       "  1.04672     1.04672\n",
       "  1.85415     1.85415\n",
       "  0.0408656   0.0408656"
      ]
     },
     "metadata": {},
     "output_type": "display_data"
    },
    {
     "data": {
      "text/plain": [
       "4-element Vector{Float64}:\n",
       " 0.5722285742533968\n",
       " 0.882181543905438\n",
       " 0.940445861240775\n",
       " 0.8571398321411056"
      ]
     },
     "metadata": {},
     "output_type": "display_data"
    },
    {
     "data": {
      "text/plain": [
       "3-element Vector{Float64}:\n",
       " 0.9274898558104543\n",
       " 0.5403324303652681\n",
       " 0.7981942927946504"
      ]
     },
     "metadata": {},
     "output_type": "display_data"
    },
    {
     "data": {
      "text/plain": [
       "2-element Vector{Float64}:\n",
       " 1.0006150494130277\n",
       " 0.9979232747805563"
      ]
     },
     "metadata": {},
     "output_type": "display_data"
    },
    {
     "data": {
      "text/plain": [
       "4×2 Matrix{Float64}:\n",
       "  0.0538203   0.0538203\n",
       " -0.123608   -0.123608\n",
       "  1.15549     1.15549\n",
       " -0.133076   -0.133076"
      ]
     },
     "metadata": {},
     "output_type": "display_data"
    },
    {
     "data": {
      "text/plain": [
       "4-element Vector{Float64}:\n",
       " 0.8048838727566836\n",
       " 0.6728370057803086\n",
       " 0.905976615992487\n",
       " 0.49247851247324326"
      ]
     },
     "metadata": {},
     "output_type": "display_data"
    },
    {
     "data": {
      "text/plain": [
       "3-element Vector{Float64}:\n",
       " 0.6511199573946558\n",
       " 0.5493758412355667\n",
       " 0.5303568170992761"
      ]
     },
     "metadata": {},
     "output_type": "display_data"
    },
    {
     "data": {
      "text/plain": [
       "2-element Vector{Float64}:\n",
       " 0.6979456291343318\n",
       " 0.9123901936528414"
      ]
     },
     "metadata": {},
     "output_type": "display_data"
    },
    {
     "data": {
      "text/plain": [
       "4×2 Matrix{Float64}:\n",
       "  1.53384    1.53384\n",
       "  1.66483    1.66483\n",
       " -0.963602  -0.963602\n",
       " -2.06046   -2.06046"
      ]
     },
     "metadata": {},
     "output_type": "display_data"
    },
    {
     "data": {
      "text/plain": [
       "4-element Vector{Float64}:\n",
       " 0.6874284125072911\n",
       " 0.8169464735834824\n",
       " 0.5448822378283761\n",
       " 0.9625548050669973"
      ]
     },
     "metadata": {},
     "output_type": "display_data"
    },
    {
     "data": {
      "text/plain": [
       "3-element Vector{Float64}:\n",
       " 0.999079719393906\n",
       " 0.9981638266897908\n",
       " 0.7684427089993966"
      ]
     },
     "metadata": {},
     "output_type": "display_data"
    },
    {
     "data": {
      "text/plain": [
       "2-element Vector{Float64}:\n",
       " 0.7007031348168957\n",
       " 0.45249457310853913"
      ]
     },
     "metadata": {},
     "output_type": "display_data"
    },
    {
     "data": {
      "text/plain": [
       "4×2 Matrix{Float64}:\n",
       " -0.273098  -0.273098\n",
       "  0.661357   0.661357\n",
       "  0.208989   0.208989\n",
       "  0.344432   0.344432"
      ]
     },
     "metadata": {},
     "output_type": "display_data"
    },
    {
     "data": {
      "text/plain": [
       "4-element Vector{Float64}:\n",
       " 0.96809925130892\n",
       " 0.8947904713423569\n",
       " 0.8045611102079259\n",
       " 0.8818765787555534"
      ]
     },
     "metadata": {},
     "output_type": "display_data"
    },
    {
     "data": {
      "text/plain": [
       "3-element Vector{Float64}:\n",
       " 0.9834694677713215\n",
       " 0.8147558120150208\n",
       " 0.8779880418617355"
      ]
     },
     "metadata": {},
     "output_type": "display_data"
    },
    {
     "data": {
      "text/plain": [
       "2-element Vector{Float64}:\n",
       " 1.1809012085739734\n",
       " 0.574738990161307"
      ]
     },
     "metadata": {},
     "output_type": "display_data"
    },
    {
     "data": {
      "text/plain": [
       "4×2 Matrix{Float64}:\n",
       "  0.542631   0.542631\n",
       "  1.05614    1.05614\n",
       " -1.53587   -1.53587\n",
       "  1.08531    1.08531"
      ]
     },
     "metadata": {},
     "output_type": "display_data"
    },
    {
     "data": {
      "text/plain": [
       "4-element Vector{Float64}:\n",
       " 0.4928907003871301\n",
       " 0.9401061936102466\n",
       " 0.8244117365072509\n",
       " 0.7808950356351103"
      ]
     },
     "metadata": {},
     "output_type": "display_data"
    },
    {
     "data": {
      "text/plain": [
       "3-element Vector{Float64}:\n",
       " 0.7120423364722769\n",
       " 0.727282048805693\n",
       " 0.8667505437577497"
      ]
     },
     "metadata": {},
     "output_type": "display_data"
    },
    {
     "data": {
      "text/plain": [
       "2-element Vector{Float64}:\n",
       " 1.0047584047117848\n",
       " 0.6797652155606865"
      ]
     },
     "metadata": {},
     "output_type": "display_data"
    },
    {
     "data": {
      "text/plain": [
       "4×2 Matrix{Float64}:\n",
       " -2.10247     -2.10247\n",
       "  2.18335      2.18335\n",
       " -0.00160196  -0.00160196\n",
       "  4.89241      4.89241"
      ]
     },
     "metadata": {},
     "output_type": "display_data"
    },
    {
     "data": {
      "text/plain": [
       "4-element Vector{Float64}:\n",
       " 0.8457021268813564\n",
       " 0.8131724226019682\n",
       " 0.9681541007607972\n",
       " 0.8031576178259968"
      ]
     },
     "metadata": {},
     "output_type": "display_data"
    },
    {
     "data": {
      "text/plain": [
       "3-element Vector{Float64}:\n",
       " 0.9792447942084636\n",
       " 0.859333600929731\n",
       " 0.8886909118476941"
      ]
     },
     "metadata": {},
     "output_type": "display_data"
    },
    {
     "data": {
      "text/plain": [
       "2-element Vector{Float64}:\n",
       " 0.9999490103917718\n",
       " 0.8572568569725323"
      ]
     },
     "metadata": {},
     "output_type": "display_data"
    },
    {
     "data": {
      "text/plain": [
       "4×2 Matrix{Float64}:\n",
       "  0.962182    0.962182\n",
       "  0.246698    0.246698\n",
       " -0.326357   -0.326357\n",
       " -0.0399779  -0.0399779"
      ]
     },
     "metadata": {},
     "output_type": "display_data"
    },
    {
     "data": {
      "text/plain": [
       "4-element Vector{Float64}:\n",
       " 0.8824814650778673\n",
       " 0.8808603818991874\n",
       " 0.9594064089927523\n",
       " 0.7822381248932953"
      ]
     },
     "metadata": {},
     "output_type": "display_data"
    },
    {
     "data": {
      "text/plain": [
       "3-element Vector{Float64}:\n",
       " 0.9485759051269982\n",
       " 0.5922338544075014\n",
       " 0.4316361770343261"
      ]
     },
     "metadata": {},
     "output_type": "display_data"
    },
    {
     "data": {
      "text/plain": [
       "2-element Vector{Float64}:\n",
       " 1.504806140576277\n",
       " 1.2830271242103104"
      ]
     },
     "metadata": {},
     "output_type": "display_data"
    },
    {
     "data": {
      "text/plain": [
       "4×2 Matrix{Float64}:\n",
       "  0.967351   0.967351\n",
       "  1.59663    1.59663\n",
       "  0.179507   0.179507\n",
       " -2.9994    -2.9994"
      ]
     },
     "metadata": {},
     "output_type": "display_data"
    },
    {
     "data": {
      "text/plain": [
       "4-element Vector{Float64}:\n",
       " 0.9403518291111276\n",
       " 0.9304777002890366\n",
       " 0.4264331887119238\n",
       " 0.6285332397982016"
      ]
     },
     "metadata": {},
     "output_type": "display_data"
    },
    {
     "data": {
      "text/plain": [
       "3-element Vector{Float64}:\n",
       " 0.8391199394010166\n",
       " 0.9620595413911991\n",
       " 0.8486585954180543"
      ]
     },
     "metadata": {},
     "output_type": "display_data"
    },
    {
     "data": {
      "text/plain": [
       "2-element Vector{Float64}:\n",
       " 1.8825092305206232\n",
       " 2.3325110675258487"
      ]
     },
     "metadata": {},
     "output_type": "display_data"
    },
    {
     "data": {
      "text/plain": [
       "4×2 Matrix{Float64}:\n",
       "  2.7235     2.7235\n",
       " -0.274379  -0.274379\n",
       " -0.89215   -0.89215\n",
       " -0.49658   -0.49658"
      ]
     },
     "metadata": {},
     "output_type": "display_data"
    },
    {
     "data": {
      "text/plain": [
       "4-element Vector{Float64}:\n",
       " 0.8203903331374914\n",
       " 0.77298206933701\n",
       " 0.8616296655333928\n",
       " 0.8403152498153916"
      ]
     },
     "metadata": {},
     "output_type": "display_data"
    },
    {
     "data": {
      "text/plain": [
       "3-element Vector{Float64}:\n",
       " 0.795550822133295\n",
       " 0.6927109689289956\n",
       " 0.5724470917694047"
      ]
     },
     "metadata": {},
     "output_type": "display_data"
    },
    {
     "data": {
      "text/plain": [
       "2-element Vector{Float64}:\n",
       " 0.9444839156537794\n",
       " 1.0243488778192797"
      ]
     },
     "metadata": {},
     "output_type": "display_data"
    },
    {
     "data": {
      "text/plain": [
       "4×2 Matrix{Float64}:\n",
       "  1.01971    1.01971\n",
       "  0.798429   0.798429\n",
       " -0.772528  -0.772528\n",
       "  0.311502   0.311502"
      ]
     },
     "metadata": {},
     "output_type": "display_data"
    },
    {
     "data": {
      "text/plain": [
       "4-element Vector{Float64}:\n",
       " 0.9533493441328595\n",
       " 0.7104431043062897\n",
       " 0.6930365842477412\n",
       " 0.9990602785794244"
      ]
     },
     "metadata": {},
     "output_type": "display_data"
    },
    {
     "data": {
      "text/plain": [
       "3-element Vector{Float64}:\n",
       " 0.9343152514150964\n",
       " 0.9435867350185895\n",
       " 0.5242508832758009"
      ]
     },
     "metadata": {},
     "output_type": "display_data"
    },
    {
     "data": {
      "text/plain": [
       "2-element Vector{Float64}:\n",
       " 0.7566388372963109\n",
       " 0.868422317385534"
      ]
     },
     "metadata": {},
     "output_type": "display_data"
    },
    {
     "data": {
      "text/plain": [
       "4×2 Matrix{Float64}:\n",
       " -0.122443  -0.122443\n",
       " -0.268412  -0.268412\n",
       " -0.249871  -0.249871\n",
       "  1.31609    1.31609"
      ]
     },
     "metadata": {},
     "output_type": "display_data"
    },
    {
     "data": {
      "text/plain": [
       "4-element Vector{Float64}:\n",
       " 0.9474364791754816\n",
       " 0.9143195995679757\n",
       " 0.7432912216708508\n",
       " 0.7059283581280119"
      ]
     },
     "metadata": {},
     "output_type": "display_data"
    },
    {
     "data": {
      "text/plain": [
       "3-element Vector{Float64}:\n",
       " 0.7192775025802984\n",
       " 0.7982934040198929\n",
       " 0.3879035305555847"
      ]
     },
     "metadata": {},
     "output_type": "display_data"
    },
    {
     "data": {
      "text/plain": [
       "2-element Vector{Float64}:\n",
       " 1.3979892062490098\n",
       " 0.9472726064131434"
      ]
     },
     "metadata": {},
     "output_type": "display_data"
    },
    {
     "data": {
      "text/plain": [
       "4×2 Matrix{Float64}:\n",
       " -1.10564   -1.10564\n",
       "  0.173566   0.173566\n",
       "  0.199801   0.199801\n",
       "  1.40558    1.40558"
      ]
     },
     "metadata": {},
     "output_type": "display_data"
    },
    {
     "data": {
      "text/plain": [
       "4-element Vector{Float64}:\n",
       " 0.5867044265944099\n",
       " 0.9861638815614977\n",
       " 0.8220506148615535\n",
       " 0.9909534921023421"
      ]
     },
     "metadata": {},
     "output_type": "display_data"
    },
    {
     "data": {
      "text/plain": [
       "3-element Vector{Float64}:\n",
       " 0.9313122885803953\n",
       " 0.9930052889553006\n",
       " 0.9480819364121907"
      ]
     },
     "metadata": {},
     "output_type": "display_data"
    },
    {
     "data": {
      "text/plain": [
       "2-element Vector{Float64}:\n",
       " -2.116603567764051\n",
       " -3.809782255970779"
      ]
     },
     "metadata": {},
     "output_type": "display_data"
    },
    {
     "data": {
      "text/plain": [
       "4×2 Matrix{Float64}:\n",
       " -5.36456  -5.36456\n",
       "  5.87862   5.87862\n",
       " -5.39814  -5.39814\n",
       "  6.85827   6.85827"
      ]
     },
     "metadata": {},
     "output_type": "display_data"
    },
    {
     "data": {
      "text/plain": [
       "4-element Vector{Float64}:\n",
       " 0.6907418558153359\n",
       " 0.9023570092589377\n",
       " 0.6459127264483036\n",
       " 0.42768474763681186"
      ]
     },
     "metadata": {},
     "output_type": "display_data"
    },
    {
     "data": {
      "text/plain": [
       "3-element Vector{Float64}:\n",
       " 0.9889062308848133\n",
       " 0.35474750747508366\n",
       " 0.7188426645859713"
      ]
     },
     "metadata": {},
     "output_type": "display_data"
    },
    {
     "data": {
      "text/plain": [
       "2-element Vector{Float64}:\n",
       " 0.3457522243239928\n",
       " 0.9635580588119879"
      ]
     },
     "metadata": {},
     "output_type": "display_data"
    },
    {
     "data": {
      "text/plain": [
       "4×2 Matrix{Float64}:\n",
       "  2.58466   2.58466\n",
       " -1.0065   -1.0065\n",
       "  2.9867    2.9867\n",
       " -5.33913  -5.33913"
      ]
     },
     "metadata": {},
     "output_type": "display_data"
    },
    {
     "data": {
      "text/plain": [
       "4-element Vector{Float64}:\n",
       " 0.8755716148807493\n",
       " 0.690227282640728\n",
       " 0.8048767549483855\n",
       " 0.8496762535449853"
      ]
     },
     "metadata": {},
     "output_type": "display_data"
    },
    {
     "data": {
      "text/plain": [
       "3-element Vector{Float64}:\n",
       " 0.7962736052613972\n",
       " 0.6707836917692187\n",
       " 0.6586629565866602"
      ]
     },
     "metadata": {},
     "output_type": "display_data"
    },
    {
     "data": {
      "text/plain": [
       "2-element Vector{Float64}:\n",
       " 1.0034092968805828\n",
       " 1.1302203350148359"
      ]
     },
     "metadata": {},
     "output_type": "display_data"
    },
    {
     "data": {
      "text/plain": [
       "4×2 Matrix{Float64}:\n",
       " 0.258009  0.258009\n",
       " 0.889558  0.889558\n",
       " 0.602763  0.602763\n",
       " 0.217655  0.217655"
      ]
     },
     "metadata": {},
     "output_type": "display_data"
    },
    {
     "data": {
      "text/plain": [
       "4-element Vector{Float64}:\n",
       " 0.8576075345268903\n",
       " 0.9096564483971957\n",
       " 0.8581618326124851\n",
       " 0.8822682995315199"
      ]
     },
     "metadata": {},
     "output_type": "display_data"
    },
    {
     "data": {
      "text/plain": [
       "3-element Vector{Float64}:\n",
       " 0.6620075683050826\n",
       " 0.5034828633208737\n",
       " 0.3995406024743753"
      ]
     },
     "metadata": {},
     "output_type": "display_data"
    },
    {
     "data": {
      "text/plain": [
       "2-element Vector{Float64}:\n",
       " 1.0362215551386404\n",
       " 1.6461139083976633"
      ]
     },
     "metadata": {},
     "output_type": "display_data"
    },
    {
     "data": {
      "text/plain": [
       "4×2 Matrix{Float64}:\n",
       " -2.60694   -2.60694\n",
       "  1.33644    1.33644\n",
       "  1.13536    1.13536\n",
       "  0.267751   0.267751"
      ]
     },
     "metadata": {},
     "output_type": "display_data"
    }
   ],
   "source": [
    "# test random result of standard library \n",
    "# test pass\n",
    "for i in 1:100\n",
    "    A = rand(4, 4)\n",
    "    b = rand(4)\n",
    "    # display(norm(A \\ b - gauss_explicit(size(A, 1), A, b),2))\n",
    "    display([A \\ b  gauss_explicit(size(A, 1), A, b)])\n",
    "    \n",
    "end\n",
    "\n",
    "# A = [0.1 0.1; 2.3 2.3]\n",
    "# b = [1.0, 3]\n",
    "# try\n",
    "#     A \\ b\n",
    "# catch SigularException\n",
    "#     println(\"Cannot solve a singular matrix!\")\n",
    "# end"
   ]
  },
  {
   "cell_type": "code",
   "execution_count": null,
   "id": "4a5cd7a8-4856-4561-966b-a04e055ea993",
   "metadata": {},
   "outputs": [],
   "source": []
  },
  {
   "cell_type": "code",
   "execution_count": null,
   "id": "e6df0a43-fd93-4448-b1d1-6b34b80738e6",
   "metadata": {},
   "outputs": [],
   "source": []
  }
 ],
 "metadata": {
  "kernelspec": {
   "display_name": "Julia 1.7.2",
   "language": "julia",
   "name": "julia-1.7"
  },
  "language_info": {
   "file_extension": ".jl",
   "mimetype": "application/julia",
   "name": "julia",
   "version": "1.7.2"
  }
 },
 "nbformat": 4,
 "nbformat_minor": 5
}

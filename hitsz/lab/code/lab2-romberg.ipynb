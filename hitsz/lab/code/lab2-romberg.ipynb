{
 "cells": [
  {
   "cell_type": "markdown",
   "metadata": {},
   "source": [
    "## 实验题目2 龙贝格(Romberg)积分法"
   ]
  },
  {
   "cell_type": "markdown",
   "metadata": {},
   "source": [
    "### 实验简介\n",
    "\n",
    "本实验为龙贝格积分法，需要完成龙贝格积分代码的编写，并对实验题目进行求解。\n",
    "\n",
    "本次实验过程中，主要是对龙贝格积分法的算法流程进行调试，从数学原理直接构造算法流程用于计算，充分体会了`Julia`编程语言的流畅性，感受到了编写代码时同`Python`一样自如，却能拥有和`C`相比的循环结构。\n",
    "\n",
    "实验的目的为使用龙贝格积分法计算定积分，并输出T数表。\n",
    "\n",
    "该实验报告主要分7个部分，大纲罗列如下：\n",
    "\n",
    "- 实验简介：即本部分分所有内容\n",
    "- 数学原理：即龙贝格积分法的数学公式，用于改写为算法流程\n",
    "- 代码实现：使用`Julia`编程语言，根据数学原理，编写实验代码\n",
    "- 测试代码：教材上的例题用于对程序结果进行初步的检验\n",
    "- 实验题目：实验指导书中所要求的题目\n",
    "  - 问题1：直接使用龙贝格积分法计算定积分的值\n",
    "- 思考题：本部分为实验指导书中所要求完成的思考题解答\n",
    "- 参考资料：本部分为本次实验过程中查阅的参考资料"
   ]
  },
  {
   "cell_type": "markdown",
   "metadata": {},
   "source": [
    "### 数学原理\n",
    "\n",
    "教材中给出的计算公式如下\n",
    "$$\n",
    "\\begin{cases}\n",
    "\tT_{0,0}&=\\frac{b-a}{2}\\left[ f\\left( a \\right) +f\\left( b \\right) \\right] ,\\\\\n",
    "\tT_{0,i}&=\\frac{1}{2}T_{0,i-1}+\\frac{1}{2}\\frac{b-a}{2^{i-1}}\\sum_{j=1}^{2^{i-1}}{f\\left[ a+\\left( j-\\frac{1}{2} \\right) \\cdot \\frac{b-a}{2^{i-1}} \\right]}, i=1,2,3,...,\\\\\n",
    "\tT_{m,k}&=\\frac{4^mT_{m-1,k+1}-T_{m-1,k}}{4^m-1},m=1,2,...,i; k=i-m.\\\\\n",
    "\\end{cases}\n",
    "$$\n",
    "因`Julia`语言数组类下标的起点为1，同时实验指导书所给T数表为下三角形，故将原公式改写如下\n",
    "$$\n",
    "\\begin{aligned}\n",
    "\\begin{cases}\n",
    "\tT_{1,1}&=\\frac{b-a}{2}\\left[ f\\left( a \\right) +f\\left( b \\right) \\right] ,\\\\\n",
    "\tT_{i+1,1}&=\\frac{1}{2}T_{i,1}+\\frac{1}{2}\\frac{b-a}{2^{i-1}}\\sum_{j=1}^{2^{i-1}}{f\\left[ a+\\left( j-\\frac{1}{2} \\right) \\cdot \\frac{b-a}{2^{i-1}} \\right]}, i=1,2,3,...,n\\\\\n",
    "\tT_{i+1,m+1}&=\\frac{4^mT_{i+1,m}-T_{i,m}}{4^m-1},m=1,2,...,i.\\\\\n",
    "\\end{cases}\n",
    "\\end{aligned}\n",
    "$$\n",
    "随后可对照公式完成代码的编写"
   ]
  },
  {
   "cell_type": "markdown",
   "metadata": {},
   "source": [
    "### 代码实现\n",
    "\n",
    "使用`Julia`编程语言，根据上述数学原理，编写`romberg`积分法实验代码。\n",
    "\n",
    "以下部分为`romberg()`函数定义："
   ]
  },
  {
   "cell_type": "code",
   "execution_count": 133,
   "metadata": {},
   "outputs": [
    {
     "data": {
      "text/plain": [
       "romberg (generic function with 2 methods)"
      ]
     },
     "metadata": {},
     "output_type": "display_data"
    }
   ],
   "source": [
    "using Printf\n",
    "function romberg(f::Function, xlim, n, ϵ)\n",
    "    a, b = xlim\n",
    "    h = b - a\n",
    "    T = zeros(n, n)\n",
    "    T[1, 1] = 1 / 2 * h * (f(a) + f(b))\n",
    "    for i = 1:n\n",
    "        tmpsum = 0\n",
    "        jmax = 2^(i - 1)\n",
    "        for j = 1:jmax\n",
    "            tmpsum += f(a + (j - 1 / 2) * h)\n",
    "        end\n",
    "        T[i+1, 1] = 1 / 2 * T[i, 1] + 1 / 2 * h * tmpsum\n",
    "\n",
    "        for m = 1:i\n",
    "            T[i+1, m+1] = (4^m * T[i+1, m] - T[i, m]) / (4^m - 1)\n",
    "        end\n",
    "        for m = 1:i\n",
    "            @printf(\"%12.9f\\t\", T[i, m])\n",
    "        end\n",
    "        @printf(\"\\n\")\n",
    "        if i > 1 && abs(T[i+1, i+1] - T[i, i]) < ϵ\n",
    "            @printf(\"Accuracy requirement satisfied.\\n\\n\")\n",
    "            break\n",
    "        end\n",
    "        h /= 2\n",
    "    end\n",
    "end"
   ]
  },
  {
   "cell_type": "markdown",
   "metadata": {},
   "source": [
    "### 测试代码\n",
    "\n",
    "本部分使用教材上的例题用于对程序结果进行初步的检验，计算结果和教材给出数表类似，可以认为测试通过。"
   ]
  },
  {
   "cell_type": "code",
   "execution_count": 134,
   "metadata": {},
   "outputs": [
    {
     "name": "stdout",
     "output_type": "stream",
     "text": [
      " 1.333333333\t\n",
      " 1.166666667\t 1.111111111\t\n",
      " 1.116666667\t 1.100000000\t 1.099259259\t\n",
      " 1.103210678\t 1.098725349\t 1.098640372\t 1.098630548\t\n",
      " 1.099767702\t 1.098620043\t 1.098613022\t 1.098612588\t 1.098612518\t\n",
      "Accuracy requirement satisfied.\n",
      "\n"
     ]
    }
   ],
   "source": [
    "f(x) = x^2 * exp(x)\n",
    "f(x) = 1 / x\n",
    "ϵ = 1e-6\n",
    "xlim = 1, 3\n",
    "\n",
    "romberg(f, xlim, 10, ϵ)"
   ]
  },
  {
   "cell_type": "markdown",
   "metadata": {},
   "source": [
    "### 实验题目"
   ]
  },
  {
   "cell_type": "markdown",
   "metadata": {},
   "source": [
    "#### 问题 1"
   ]
  },
  {
   "cell_type": "code",
   "execution_count": 135,
   "metadata": {},
   "outputs": [
    {
     "name": "stdout",
     "output_type": "stream",
     "text": [
      "f(x) = x^2 * exp(x)\n",
      " 1.359140914\t\n",
      " 0.885660616\t 0.727833850\t\n",
      " 0.760596332\t 0.718908238\t 0.718313197\t\n",
      " 0.728890177\t 0.718321459\t 0.718282340\t 0.718281850\t\n",
      "Accuracy requirement satisfied.\n",
      "\n",
      "f(x) = exp(x)sin(x)\n",
      " 5.121826420\t\n",
      " 9.279762907\t10.665741736\t\n",
      "10.520554284\t10.934151409\t10.952045388\t\n",
      "10.842043468\t10.949206529\t10.950210203\t10.950181074\t\n",
      "10.923093890\t10.950110697\t10.950170975\t10.950170352\t10.950170310\t\n",
      "Accuracy requirement satisfied.\n",
      "\n",
      "f(x) = 4 / (1 + x^2)\n",
      " 3.000000000\t\n",
      " 3.100000000\t 3.133333333\t\n",
      " 3.131176471\t 3.141568627\t 3.142117647\t\n",
      " 3.138988494\t 3.141592502\t 3.141594094\t 3.141585784\t\n",
      " 3.140941612\t 3.141592651\t 3.141592661\t 3.141592638\t 3.141592665\t\n",
      "Accuracy requirement satisfied.\n",
      "\n",
      "f(x) = 1 / (x + 1)\n",
      " 0.750000000\t\n",
      " 0.708333333\t 0.694444444\t\n",
      " 0.697023810\t 0.693253968\t 0.693174603\t\n",
      " 0.694121850\t 0.693154531\t 0.693147901\t 0.693147478\t\n",
      "Accuracy requirement satisfied.\n",
      "\n"
     ]
    }
   ],
   "source": [
    "iter_num = 30\n",
    "\n",
    "f(x) = x^2 * exp(x)\n",
    "ϵ = 1e-6\n",
    "xlim = 0, 1\n",
    "println(\"f(x) = x^2 * exp(x)\")\n",
    "romberg(f, xlim, iter_num, ϵ)\n",
    "\n",
    "f(x) = exp(x)sin(x)\n",
    "ϵ = 1e-6\n",
    "xlim = 1, 3\n",
    "println(\"f(x) = exp(x)sin(x)\")\n",
    "romberg(f, xlim, iter_num, ϵ)\n",
    "\n",
    "\n",
    "f(x) = 4 / (1 + x^2)\n",
    "ϵ = 1e-6\n",
    "xlim = 0, 1\n",
    "println(\"f(x) = 4 / (1 + x^2)\")\n",
    "romberg(f, xlim, iter_num, ϵ)\n",
    "\n",
    "f(x) = 1 / (x + 1)\n",
    "ϵ = 1e-6\n",
    "xlim = 0, 1\n",
    "println(\"f(x) = 1 / (x + 1)\")\n",
    "romberg(f, xlim, iter_num, ϵ)"
   ]
  },
  {
   "cell_type": "markdown",
   "metadata": {},
   "source": [
    "### 思考题"
   ]
  },
  {
   "cell_type": "markdown",
   "metadata": {},
   "source": [
    "1. 略\n",
    "\n",
    "2. 在实验 1 中二分次数和精度的关系如何？\n",
    "\n",
    "   二分次数越多所求的精度越高，通常预设较大的二分次数来确保计算结果有足够的精度，同时也设定早停需要满足的精度要求，避免达到所需精度之后继续计算导致增加的运算量\n",
    "\n",
    "3. 略\n",
    "\n",
    "4. 略"
   ]
  },
  {
   "cell_type": "markdown",
   "metadata": {
    "jp-MarkdownHeadingCollapsed": true,
    "tags": []
   },
   "source": [
    "### 参考资料\n",
    "\n",
    "1. julia 数值积分 https://blog.csdn.net/m0_37816922/article/details/103475445\n",
    "2. Romberg Integration-Numerical Analysis http://homepages.math.uic.edu/~jan/mcs471/romberg.pdf\n",
    "3. 《数值分析》吴勃英 196-199\n"
   ]
  }
 ],
 "metadata": {
  "kernelspec": {
   "display_name": "Julia 1.7.2",
   "language": "julia",
   "name": "julia-1.7"
  },
  "language_info": {
   "file_extension": ".jl",
   "mimetype": "application/julia",
   "name": "julia",
   "version": "1.7.2"
  }
 },
 "nbformat": 4,
 "nbformat_minor": 4
}

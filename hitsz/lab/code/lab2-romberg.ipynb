{
 "cells": [
  {
   "cell_type": "markdown",
   "metadata": {},
   "source": [
    "## 实验题目2 龙贝格(Romberg)积分法"
   ]
  },
  {
   "cell_type": "markdown",
   "metadata": {},
   "source": [
    "### 代码实现"
   ]
  },
  {
   "cell_type": "code",
   "execution_count": 118,
   "metadata": {},
   "outputs": [],
   "source": [
    "using Printf\n",
    "using Plots"
   ]
  },
  {
   "cell_type": "code",
   "execution_count": 120,
   "metadata": {},
   "outputs": [
    {
     "data": {
      "text/plain": [
       "romberg (generic function with 2 methods)"
      ]
     },
     "metadata": {},
     "output_type": "display_data"
    }
   ],
   "source": [
    "function romberg(f::Function, xlim, n, ϵ)\n",
    "    a, b = xlim\n",
    "    h = b - a\n",
    "    T = zeros(n, n)\n",
    "    T[1, 1] = 1 / 2 * h * (f(a) + f(b))\n",
    "    for i = 1:n\n",
    "        tmpsum = 0\n",
    "        for j = 1:2^(i-1)\n",
    "            tmpsum += f(a + (j - 1 / 2) * h)\n",
    "        end\n",
    "        T[i+1, 1] = 1 / 2 * T[i, 1] + 1 / 2 * h * tmpsum\n",
    "\n",
    "        for m = 1:i\n",
    "            T[i+1, m+1] = (4^m * T[i+1, m] - T[i, m]) / (4^m - 1)\n",
    "        end\n",
    "        for m = 1:i\n",
    "            @printf(\"%12.9f\\t\", T[i, m])\n",
    "        end\n",
    "        @printf(\"\\n\")\n",
    "        if i > 1 && abs(T[i+1, i+1] - T[i, i]) < ϵ\n",
    "            @printf(\"Accuracy requirement satisfied.\\n\\n\")\n",
    "            break\n",
    "        end\n",
    "        h /= 2\n",
    "    end\n",
    "\n",
    "end"
   ]
  },
  {
   "cell_type": "markdown",
   "metadata": {},
   "source": [
    "### 测试代码"
   ]
  },
  {
   "cell_type": "markdown",
   "metadata": {},
   "source": [
    "#### Test 1 - Simple"
   ]
  },
  {
   "cell_type": "code",
   "execution_count": 121,
   "metadata": {},
   "outputs": [
    {
     "name": "stdout",
     "output_type": "stream",
     "text": [
      " 1.333333333\t\n",
      " 1.166666667\t 1.111111111\t\n",
      " 1.116666667\t 1.100000000\t 1.099259259\t\n",
      " 1.103210678\t 1.098725349\t 1.098640372\t 1.098630548\t\n",
      " 1.099767702\t 1.098620043\t 1.098613022\t 1.098612588\t 1.098612518\t\n",
      "Accuracy requirement satisfied.\n",
      "\n"
     ]
    }
   ],
   "source": [
    "f(x) = x^2 * exp(x)\n",
    "f(x) = 1 / x\n",
    "ϵ = 1e-6\n",
    "xlim = 1, 3\n",
    "\n",
    "romberg(f, xlim, 10, ϵ)"
   ]
  },
  {
   "cell_type": "markdown",
   "metadata": {},
   "source": [
    "```\n",
    "     1.333333333\n",
    "     1.166666667     1.111111111\n",
    "     1.116666667     1.100000000     1.099259259\n",
    "     1.103210678     1.098725349     1.098640372     1.098630548\n",
    "     1.099767702     1.098620043     1.098613022     1.098612588\n",
    "     1.098901515     1.098612786     1.098612303     1.098612291\n",
    "```"
   ]
  },
  {
   "cell_type": "markdown",
   "metadata": {},
   "source": [
    "### 实验题目"
   ]
  },
  {
   "cell_type": "markdown",
   "metadata": {},
   "source": [
    "#### 问题 1"
   ]
  },
  {
   "cell_type": "code",
   "execution_count": 122,
   "metadata": {},
   "outputs": [
    {
     "name": "stdout",
     "output_type": "stream",
     "text": [
      "f(x) = x^2 * exp(x)\n",
      " 1.359140914\t\n",
      " 0.885660616\t 0.727833850\t\n",
      " 0.760596332\t 0.718908238\t 0.718313197\t\n",
      " 0.728890177\t 0.718321459\t 0.718282340\t 0.718281850\t\n",
      "Accuracy requirement satisfied.\n",
      "\n",
      "f(x) = exp(x)sin(x)\n",
      " 5.121826420\t\n",
      " 9.279762907\t10.665741736\t\n",
      "10.520554284\t10.934151409\t10.952045388\t\n",
      "10.842043468\t10.949206529\t10.950210203\t10.950181074\t\n",
      "10.923093890\t10.950110697\t10.950170975\t10.950170352\t10.950170310\t\n",
      "Accuracy requirement satisfied.\n",
      "\n",
      "f(x) = 4 / (1 + x^2)\n",
      " 3.000000000\t\n",
      " 3.100000000\t 3.133333333\t\n",
      " 3.131176471\t 3.141568627\t 3.142117647\t\n",
      " 3.138988494\t 3.141592502\t 3.141594094\t 3.141585784\t\n",
      " 3.140941612\t 3.141592651\t 3.141592661\t 3.141592638\t 3.141592665\t\n",
      "Accuracy requirement satisfied.\n",
      "\n",
      "f(x) = 1 / (x + 1)\n",
      " 0.750000000\t\n",
      " 0.708333333\t 0.694444444\t\n",
      " 0.697023810\t 0.693253968\t 0.693174603\t\n",
      " 0.694121850\t 0.693154531\t 0.693147901\t 0.693147478\t\n",
      "Accuracy requirement satisfied.\n",
      "\n"
     ]
    }
   ],
   "source": [
    "iter_num = 30\n",
    "\n",
    "f(x) = x^2 * exp(x)\n",
    "ϵ = 1e-6\n",
    "xlim = 0, 1\n",
    "println(\"f(x) = x^2 * exp(x)\")\n",
    "romberg(f, xlim, iter_num, ϵ)\n",
    "\n",
    "f(x) = exp(x)sin(x)\n",
    "ϵ = 1e-6\n",
    "xlim = 1, 3\n",
    "println(\"f(x) = exp(x)sin(x)\")\n",
    "romberg(f, xlim, iter_num, ϵ)\n",
    "\n",
    "\n",
    "f(x) = 4 / (1 + x^2)\n",
    "ϵ = 1e-6\n",
    "xlim = 0, 1\n",
    "println(\"f(x) = 4 / (1 + x^2)\")\n",
    "romberg(f, xlim, iter_num, ϵ)\n",
    "\n",
    "f(x) = 1 / (x + 1)\n",
    "ϵ = 1e-6\n",
    "xlim = 0, 1\n",
    "println(\"f(x) = 1 / (x + 1)\")\n",
    "romberg(f, xlim, iter_num, ϵ)"
   ]
  },
  {
   "cell_type": "markdown",
   "metadata": {},
   "source": [
    "### 思考题"
   ]
  },
  {
   "cell_type": "markdown",
   "metadata": {},
   "source": [
    "1. 略\n",
    "\n",
    "2. 在实验 1 中二分次数和精度的关系如何？\n",
    "\n",
    "   二分次数越多所求的精度越高，通常预设较大的二分次数来确保计算结果有足够的精度，同时也设定早停需要满足的精度要求，避免达到所需精度之后继续计算导致增加的运算量\n",
    "\n",
    "3. 略\n",
    "\n",
    "4. 略"
   ]
  },
  {
   "cell_type": "markdown",
   "metadata": {
    "jp-MarkdownHeadingCollapsed": true,
    "tags": []
   },
   "source": [
    "### 参考资料\n",
    "\n",
    "1. julia 数值积分 https://blog.csdn.net/m0_37816922/article/details/103475445\n",
    "2. julia SymPy.jl https://github.com/JuliaPy/SymPy.jl\n",
    "3. SymPy.jl example https://docs.juliahub.com/SymPy/KzewI/1.0.29/introduction/\n",
    "4. SymPy.jl assumption https://docs.sympy.org/dev/modules/core.html#module-sympy.core.assumptions\n",
    "5. julia calculus https://docs.juliahub.com/CalculusWithJulia/AZHbv/0.0.16/\n",
    "6. Romberg Integration-Numerical Analysis http://homepages.math.uic.edu/~jan/mcs471/romberg.pdf\n",
    "7. 《数值分析》吴勃英 196-199\n"
   ]
  }
 ],
 "metadata": {
  "kernelspec": {
   "display_name": "Julia 1.7.2",
   "language": "julia",
   "name": "julia-1.7"
  },
  "language_info": {
   "file_extension": ".jl",
   "mimetype": "application/julia",
   "name": "julia",
   "version": "1.7.2"
  }
 },
 "nbformat": 4,
 "nbformat_minor": 4
}

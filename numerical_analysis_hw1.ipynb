{
 "cells": [
  {
   "cell_type": "markdown",
   "metadata": {},
   "source": [
    "## 第一章 非线性方程的数值解法\n",
    "* 二分法和单点迭代法的函数定义"
   ]
  },
  {
   "cell_type": "code",
   "execution_count": 6,
   "metadata": {},
   "outputs": [
    {
     "data": {
      "text/plain": [
       "OnePointIterationMethod (generic function with 1 method)"
      ]
     },
     "metadata": {},
     "output_type": "display_data"
    }
   ],
   "source": [
    "using Printf\n",
    "\n",
    "function BisectionMethod(f::Function,a, b, ϵ)\n",
    "    fa = f(a)\n",
    "    fb = f(b)\n",
    "    if a >= b || fa*fb > 0\n",
    "        return NaN\n",
    "    end\n",
    "    n = floor(log2((b - a)/ϵ))\n",
    "    @printf(\"所需迭代轮数为: %d\\t\\t\\t\\t精度要求: %10.8f\\n\",n,ϵ)\n",
    "    @printf(\"iter\\t\\ta\\t\\t\\tb\\t\\t\\tx\\t\\t\\tf(x)\\t\\t\\tϵ\\n\")\n",
    "    x_prev = NaN\n",
    "    x  = NaN\n",
    "    for i = 0: n\n",
    "        x = (a + b) / 2\n",
    "        y = f(x)\n",
    "            # println(\"$i\\t$a\\t$b\\t$x\\t$y\\t$ϵ\")\n",
    "        @printf(\"%4d\\t%10.8f\\t%10.8f\\t%10.8f\\t%10.8f\\t%10.8f\\n\", i,a,b,x,y,abs(x_prev - x))\n",
    "        if fa * y < 0\n",
    "            b = x\n",
    "        elseif fa * y == 0\n",
    "            a = b = x\n",
    "        else \n",
    "            a = x\n",
    "        end\n",
    "        x_prev = x\n",
    "    end\n",
    "    return x\n",
    "end\n",
    "\n",
    "function OnePointIterationMethod(ϕ::Function, x0, ϵ0)\n",
    "    # 检查不收敛的情况\n",
    "    x_prev = x0\n",
    "    x = ϕ(x0)\n",
    "    i = 0\n",
    "    δ = abs(x-x_prev)\n",
    "    @printf(\"iter\\t\\tx_i+1\\t\\t\\tx_i\\t\\tδ\\n\")\n",
    "    @printf(\"%4d\\t%10.8f\\t%10.8f\\t%10.8f\\n\",i,x,x_prev,δ)\n",
    "    i += 1\n",
    "    while abs(x-x_prev) >= ϵ0 && i < 50\n",
    "        x_prev = x\n",
    "        x = ϕ(x_prev)\n",
    "        δ = abs(x-x_prev)\n",
    "        @printf(\"%4d\\t%10.8f\\t%10.8f\\t%10.8f\\n\",i,x,x_prev,δ)\n",
    "        i += 1\n",
    "    end\n",
    "    return x\n",
    "end"
   ]
  },
  {
   "cell_type": "markdown",
   "metadata": {},
   "source": [
    "* 习题1.2，二分法求根"
   ]
  },
  {
   "cell_type": "code",
   "execution_count": 7,
   "metadata": {},
   "outputs": [
    {
     "name": "stdout",
     "output_type": "stream",
     "text": [
      "所需迭代轮数为: 10\t\t\t\t精度要求: 0.00050000\n",
      "iter\t\ta\t\t\tb\t\t\tx\t\t\tf(x)\t\t\tϵ\n",
      "   0\t2.00000000\t3.00000000\t2.50000000\t5.62500000\t       NaN\n",
      "   1\t2.00000000\t2.50000000\t2.25000000\t1.89062500\t0.25000000\n",
      "   2\t2.00000000\t2.25000000\t2.12500000\t0.34570312\t0.12500000\n",
      "   3\t2.00000000\t2.12500000\t2.06250000\t-0.35131836\t0.06250000\n",
      "   4\t2.06250000\t2.12500000\t2.09375000\t-0.00894165\t0.03125000\n",
      "   5\t2.09375000\t2.12500000\t2.10937500\t0.16683578\t0.01562500\n",
      "   6\t2.09375000\t2.10937500\t2.10156250\t0.07856226\t0.00781250\n",
      "   7\t2.09375000\t2.10156250\t2.09765625\t0.03471428\t0.00390625\n",
      "   8\t2.09375000\t2.09765625\t2.09570312\t0.01286233\t0.00195312\n",
      "   9\t2.09375000\t2.09570312\t2.09472656\t0.00195435\t0.00097656\n",
      "  10\t2.09375000\t2.09472656\t2.09423828\t-0.00349515\t0.00048828\n",
      "x = 2.09423828125\n"
     ]
    }
   ],
   "source": [
    "f2(x) = x^3 -2x - 5\n",
    "ϵ2 = 0.5e-3\n",
    "println(\"x = $(BisectionMethod(f2,2,3,ϵ2))\")"
   ]
  },
  {
   "cell_type": "markdown",
   "metadata": {},
   "source": [
    "* 习题2.5，根据迭代公式求根\n",
    "\n",
    "* 2.5.1, $x_{i+1} = 1 + \\frac{1}{x_{i}^{2}}$"
   ]
  },
  {
   "cell_type": "code",
   "execution_count": 8,
   "metadata": {},
   "outputs": [
    {
     "name": "stdout",
     "output_type": "stream",
     "text": [
      "iter\t\tx_i+1\t\t\tx_i\t\tδ\n",
      "   0\t1.44444444\t1.50000000\t0.05555556\n",
      "   1\t1.47928994\t1.44444444\t0.03484550\n",
      "   2\t1.45697600\t1.47928994\t0.02231394\n",
      "   3\t1.47108058\t1.45697600\t0.01410458\n",
      "   4\t1.46209054\t1.47108058\t0.00899005\n",
      "   5\t1.46779058\t1.46209054\t0.00570004\n",
      "   6\t1.46416438\t1.46779058\t0.00362620\n",
      "   7\t1.46646636\t1.46416438\t0.00230198\n",
      "   8\t1.46500304\t1.46646636\t0.00146332\n",
      "   9\t1.46593244\t1.46500304\t0.00092940\n",
      "  10\t1.46534183\t1.46593244\t0.00059061\n",
      "  11\t1.46571702\t1.46534183\t0.00037519\n",
      "  12\t1.46547862\t1.46571702\t0.00023840\n",
      "  13\t1.46563008\t1.46547862\t0.00015146\n",
      "  14\t1.46553385\t1.46563008\t0.00009623\n",
      "  15\t1.46559498\t1.46553385\t0.00006114\n",
      "  16\t1.46555614\t1.46559498\t0.00003884\n",
      "  17\t1.46558082\t1.46555614\t0.00002468\n",
      "  18\t1.46556514\t1.46558082\t0.00001568\n",
      "  19\t1.46557510\t1.46556514\t0.00000996\n",
      "x = 1.4655751022361165\n"
     ]
    }
   ],
   "source": [
    "ϕ(x) = 1 + 1/x^2\n",
    "println(\"x = $(OnePointIterationMethod(ϕ,1.5,1e-5))\")"
   ]
  },
  {
   "cell_type": "markdown",
   "metadata": {},
   "source": [
    "* 2.5.2, $x_{i+1} = (1+x_{i}^2)^{\\frac{1}{3}}$"
   ]
  },
  {
   "cell_type": "code",
   "execution_count": 9,
   "metadata": {},
   "outputs": [
    {
     "name": "stdout",
     "output_type": "stream",
     "text": [
      "iter\t\tx_i+1\t\t\tx_i\t\tδ\n",
      "   0\t1.48124803\t1.50000000\t0.01875197\n",
      "   1\t1.47270573\t1.48124803\t0.00854230\n",
      "   2\t1.46881731\t1.47270573\t0.00388842\n",
      "   3\t1.46704797\t1.46881731\t0.00176934\n",
      "   4\t1.46624301\t1.46704797\t0.00080496\n",
      "   5\t1.46587682\t1.46624301\t0.00036619\n",
      "   6\t1.46571024\t1.46587682\t0.00016658\n",
      "   7\t1.46563447\t1.46571024\t0.00007578\n",
      "   8\t1.46560000\t1.46563447\t0.00003447\n",
      "   9\t1.46558432\t1.46560000\t0.00001568\n",
      "  10\t1.46557718\t1.46558432\t0.00000713\n",
      "x = 1.4655771837422105"
     ]
    },
    {
     "name": "stdout",
     "output_type": "stream",
     "text": [
      "\n"
     ]
    }
   ],
   "source": [
    "ϕ(x) = (1 + x^2)^(1/3)\n",
    "println(\"x = $(OnePointIterationMethod(ϕ,1.5,1e-5))\")"
   ]
  },
  {
   "cell_type": "markdown",
   "metadata": {},
   "source": [
    "* 2.5.3, $x_{i+1} = (x_{i} - 1)^{-\\frac{1}{2}}$，不收敛"
   ]
  },
  {
   "cell_type": "code",
   "execution_count": 10,
   "metadata": {},
   "outputs": [],
   "source": [
    "# ϕ(x) = (x - 1)^(-1 / 2)\n",
    "# println(\"x = $(OnePointIterationMethod(ϕ,1.5,1e-5))\")"
   ]
  }
 ],
 "metadata": {
  "kernelspec": {
   "display_name": "Julia 1.7.2",
   "language": "julia",
   "name": "julia-1.7"
  },
  "language_info": {
   "file_extension": ".jl",
   "mimetype": "application/julia",
   "name": "julia",
   "version": "1.7.2"
  }
 },
 "nbformat": 4,
 "nbformat_minor": 4
}

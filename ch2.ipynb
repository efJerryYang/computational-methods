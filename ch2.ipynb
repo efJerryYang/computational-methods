{
 "cells": [
  {
   "cell_type": "markdown",
   "metadata": {},
   "source": [
    "## 第二章 线性方程组的数值解法"
   ]
  },
  {
   "cell_type": "markdown",
   "metadata": {},
   "source": [
    "### Basic operations \n",
    "\n",
    "#### For Loop"
   ]
  },
  {
   "cell_type": "code",
   "execution_count": null,
   "metadata": {},
   "outputs": [
    {
     "name": "stdout",
     "output_type": "stream",
     "text": [
      "\n",
      "(1,10)\t(1,11)\t(1,12)\t(1,13)\t(1,14)\t(1,15)\t(1,16)\t(1,17)\t(1,18)\t(1,19)\t(1,20)\t\n",
      "(2,10)\t(2,11)\t(2,12)\t(2,13)\t(2,14)\t(2,15)\t(2,16)\t(2,17)\t(2,18)\t(2,19)\t(2,20)\t\n",
      "(3,10)\t(3,11)\t(3,12)\t(3,13)\t(3,14)\t(3,15)\t(3,16)\t(3,17)\t(3,18)\t(3,19)\t(3,20)\t\n",
      "(4,10)\t(4,11)\t(4,12)\t(4,13)\t(4,14)\t(4,15)\t(4,16)\t(4,17)\t(4,18)\t(4,19)\t(4,20)\t\n",
      "(5,10)\t(5,11)\t(5,12)\t(5,13)\t(5,14)\t(5,15)\t(5,16)\t(5,17)\t(5,18)\t(5,19)\t(5,20)\t\n",
      "(6,10)\t(6,11)\t(6,12)\t(6,13)\t(6,14)\t(6,15)\t(6,16)\t(6,17)\t(6,18)\t(6,19)\t(6,20)\t\n",
      "(7,10)\t(7,11)\t(7,12)\t(7,13)\t(7,14)\t(7,15)\t(7,16)\t(7,17)\t(7,18)\t(7,19)\t(7,20)\t\n",
      "(8,10)\t(8,11)\t(8,12)\t(8,13)\t(8,14)\t(8,15)\t(8,16)\t(8,17)\t(8,18)\t(8,19)\t(8,20)\t\n",
      "(9,10)\t(9,11)\t(9,12)\t(9,13)\t(9,14)\t(9,15)\t(9,16)\t(9,17)\t(9,18)\t(9,19)\t(9,20)\t"
     ]
    }
   ],
   "source": [
    "for i in 1:9, j in 10:20\n",
    "    if j == 10\n",
    "        println()\n",
    "    end\n",
    "    print(\"($i,$j)\\t\")\n",
    "end"
   ]
  },
  {
   "cell_type": "markdown",
   "metadata": {},
   "source": [
    "#### Arrays, Vectors and Matrices"
   ]
  },
  {
   "cell_type": "markdown",
   "metadata": {},
   "source": [
    "> [Julia Tutorial (matecdev)](https://www.matecdev.com/posts/julia-numerical-arrays.html)\n",
    "> \n",
    "> [Julia Tutorial (mit-julia)](https://github.com/mitmath/julia-mit/blob/master/Tutorial.ipynb)\n",
    "\n",
    "\n",
    "Note that, `Arrays` can have arbitrary number of dimensions, `Matrix` must have 2 dims with column and row, `Vector` must be column-wise.\n"
   ]
  },
  {
   "cell_type": "markdown",
   "metadata": {},
   "source": [
    "#### Norm of Matrix \n",
    "\n",
    "> 内置库对于向量范数和矩阵范数是调用的不同的库函数\n",
    "\n",
    "* `norm(A, p::Real=2)` \n",
    "    \n",
    "  For any iterable container A (including arrays of any dimension) of numbers (or any element type for which norm is defined), compute the p-norm (defaulting to p=2) as if A were a vector of the corresponding length.\n",
    "* `opnorm(A::AbstractMatrix, p::Real=2)`\n",
    "  \n",
    "  Compute the operator norm (or matrix norm) induced by the vector p-norm, where valid values of p are 1, 2, or Inf. (Note that for sparse matrices, p=2 is currently not implemented.) Use norm to compute the Frobenius norm."
   ]
  },
  {
   "cell_type": "markdown",
   "metadata": {},
   "source": [
    "link https://docs.julialang.org/en/v1/stdlib/LinearAlgebra/"
   ]
  },
  {
   "cell_type": "code",
   "execution_count": 11,
   "metadata": {},
   "outputs": [
    {
     "data": {
      "text/plain": [
       "2×2 Matrix{Int64}:\n",
       "  1  -3\n",
       " -2   4"
      ]
     },
     "execution_count": 11,
     "metadata": {},
     "output_type": "execute_result"
    }
   ],
   "source": [
    "using LinearAlgebra\n",
    "A = [1 -3; -2 4]"
   ]
  },
  {
   "cell_type": "code",
   "execution_count": 8,
   "metadata": {},
   "outputs": [
    {
     "data": {
      "text/plain": [
       "2×2 Matrix{Int64}:\n",
       "   5  -11\n",
       " -11   25"
      ]
     },
     "execution_count": 8,
     "metadata": {},
     "output_type": "execute_result"
    }
   ],
   "source": [
    "AhA = A'A"
   ]
  },
  {
   "cell_type": "code",
   "execution_count": 10,
   "metadata": {},
   "outputs": [
    {
     "name": "stdout",
     "output_type": "stream",
     "text": [
      "norm_1:   7.0\n",
      "norm_2:   5.464985704219042\n",
      "norm_inf: 6.0\n",
      "norm_F:   5.464985704219042\n"
     ]
    }
   ],
   "source": [
    "norm_1 = opnorm(A,1)\n",
    "norm_inf = opnorm(A,Inf)\n",
    "norm_2 = opnorm(A,2)\n",
    "norm_F = opnorm(A)\n",
    "println(\"norm_1:   $norm_1\")\n",
    "println(\"norm_inf: $norm_inf\")\n",
    "println(\"norm_2:   $norm_2\")\n",
    "println(\"norm_F:   $norm_F\")"
   ]
  },
  {
   "cell_type": "code",
   "execution_count": null,
   "metadata": {},
   "outputs": [],
   "source": []
  }
 ],
 "metadata": {
  "kernelspec": {
   "display_name": "Julia 1.7.2",
   "language": "julia",
   "name": "julia-1.7"
  },
  "language_info": {
   "file_extension": ".jl",
   "mimetype": "application/julia",
   "name": "julia",
   "version": "1.7.2"
  },
  "orig_nbformat": 4
 },
 "nbformat": 4,
 "nbformat_minor": 2
}

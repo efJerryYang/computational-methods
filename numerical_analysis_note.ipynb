{
 "cells": [
  {
   "cell_type": "markdown",
   "metadata": {},
   "source": [
    "## 第一章 非线性方程的数值解法"
   ]
  },
  {
   "cell_type": "markdown",
   "metadata": {},
   "source": [
    "\n",
    "### 二分法"
   ]
  },
  {
   "cell_type": "code",
   "execution_count": 3,
   "metadata": {},
   "outputs": [],
   "source": [
    "using Printf"
   ]
  },
  {
   "cell_type": "code",
   "execution_count": 4,
   "metadata": {},
   "outputs": [
    {
     "data": {
      "text/plain": [
       "BisectionMethod (generic function with 1 method)"
      ]
     },
     "metadata": {},
     "output_type": "display_data"
    }
   ],
   "source": [
    "function BisectionMethod(f::Function,a, b, ϵ0)\n",
    "    fa = f(a)\n",
    "    fb = f(b)\n",
    "    if a >= b || fa*fb > 0\n",
    "        return NaN\n",
    "    end\n",
    "    n = floor(log2((b - a)/ϵ0))\n",
    "    @printf(\"所需迭代轮数为: %d\\t\\t\\t\\t精度要求: %10.8f\\n\",n,ϵ0)\n",
    "    @printf(\"iter\\t\\ta\\t\\t\\tb\\t\\t\\tx\\t\\t\\tf(x)\\t\\t\\tϵ\\n\")\n",
    "    x_prev = a\n",
    "    x  = NaN\n",
    "    for i = 0: n\n",
    "        x = (a + b) / 2\n",
    "        ϵ = abs(x_prev - x)\n",
    "        y = f(x)\n",
    "            # println(\"$i\\t$a\\t$b\\t$x\\t$y\\t$ϵ\")\n",
    "        @printf(\"%4d\\t%10.8f\\t%10.8f\\t%10.8f\\t%10.8f\\t%10.8f\\n\", i,a,b,x,y,ϵ)\n",
    "        if fa * y < 0\n",
    "            b = x\n",
    "        elseif fa * y == 0\n",
    "            a = b = x\n",
    "        else \n",
    "            a = x\n",
    "        end\n",
    "        x_prev = x\n",
    "    end\n",
    "    return x\n",
    "end\n"
   ]
  },
  {
   "cell_type": "markdown",
   "metadata": {},
   "source": [
    "* 习题1.2，二分法求根"
   ]
  },
  {
   "cell_type": "code",
   "execution_count": 5,
   "metadata": {},
   "outputs": [
    {
     "name": "stdout",
     "output_type": "stream",
     "text": [
      "所需迭代轮数为: 10\t\t\t\t精度要求: 0.00050000\n",
      "iter\t\ta\t\t\tb\t\t\tx\t\t\tf(x)\t\t\tϵ\n"
     ]
    },
    {
     "name": "stdout",
     "output_type": "stream",
     "text": [
      "   0\t2.00000000\t3.00000000\t2.50000000\t5.62500000\t0.50000000\n",
      "   1\t2.00000000\t2.50000000\t2.25000000\t1.89062500\t0.25000000\n",
      "   2\t2.00000000\t2.25000000\t2.12500000\t0.34570312\t0.12500000\n",
      "   3\t2.00000000\t2.12500000\t2.06250000\t-0.35131836\t0.06250000\n",
      "   4\t2.06250000\t2.12500000\t2.09375000\t-0.00894165\t0.03125000\n",
      "   5\t2.09375000\t2.12500000\t2.10937500\t0.16683578\t0.01562500\n",
      "   6\t2.09375000\t2.10937500\t2.10156250\t0.07856226\t0.00781250\n",
      "   7\t2.09375000\t2.10156250\t2.09765625\t0.03471428\t0.00390625\n",
      "   8\t2.09375000\t2.09765625\t2.09570312\t0.01286233\t0.00195312\n",
      "   9\t2.09375000\t2.09570312\t2.09472656\t0.00195435\t0.00097656\n",
      "  10\t2.09375000\t2.09472656\t2.09423828\t-0.00349515\t0.00048828\n",
      "x = 2.09423828125\n"
     ]
    }
   ],
   "source": [
    "f2(x) = x^3 -2x - 5\n",
    "ϵ2 = 0.5e-3\n",
    "println(\"x = $(BisectionMethod(f2,2,3,ϵ2))\")"
   ]
  },
  {
   "cell_type": "markdown",
   "metadata": {},
   "source": [
    "### 单点迭代法"
   ]
  },
  {
   "cell_type": "code",
   "execution_count": 6,
   "metadata": {},
   "outputs": [
    {
     "data": {
      "text/plain": [
       "OnePointIterationMethod (generic function with 1 method)"
      ]
     },
     "metadata": {},
     "output_type": "display_data"
    }
   ],
   "source": [
    "function OnePointIterationMethod(ϕ::Function, x0, ϵ0)\n",
    "    # 检查不收敛的情况\n",
    "    x_prev = x0\n",
    "    x = ϕ(x0)\n",
    "    i = 0\n",
    "    δ = abs(x-x_prev)\n",
    "    @printf(\"iter\\t\\tx_i+1\\t\\t\\tx_i\\t\\tδ\\n\")\n",
    "    @printf(\"%4d\\t%10.8f\\t%10.8f\\t%10.8f\\n\",i,x,x_prev,δ)\n",
    "    i += 1\n",
    "    while abs(x-x_prev) >= ϵ0 && i < 50\n",
    "        x_prev = x\n",
    "        x = ϕ(x_prev)\n",
    "        δ = abs(x-x_prev)\n",
    "        @printf(\"%4d\\t%10.8f\\t%10.8f\\t%10.8f\\n\",i,x,x_prev,δ)\n",
    "        i += 1\n",
    "    end\n",
    "    return x\n",
    "end"
   ]
  },
  {
   "cell_type": "markdown",
   "metadata": {},
   "source": [
    "* 习题2.5，根据迭代公式求根\n",
    "\n",
    "* 2.5.1, $x_{i+1} = 1 + \\frac{1}{x_{i}^{2}}$"
   ]
  },
  {
   "cell_type": "code",
   "execution_count": 7,
   "metadata": {},
   "outputs": [
    {
     "name": "stdout",
     "output_type": "stream",
     "text": [
      "iter\t\tx_i+1\t\t\tx_i\t\tδ\n"
     ]
    },
    {
     "name": "stdout",
     "output_type": "stream",
     "text": [
      "   0\t1.44444444\t1.50000000\t0.05555556\n",
      "   1\t1.47928994\t1.44444444\t0.03484550\n",
      "   2\t1.45697600\t1.47928994\t0.02231394\n",
      "   3\t1.47108058\t1.45697600\t0.01410458\n",
      "   4\t1.46209054\t1.47108058\t0.00899005\n",
      "   5\t1.46779058\t1.46209054\t0.00570004\n",
      "   6\t1.46416438\t1.46779058\t0.00362620\n",
      "   7\t1.46646636\t1.46416438\t0.00230198\n",
      "   8\t1.46500304\t1.46646636\t0.00146332\n",
      "   9\t1.46593244\t1.46500304\t0.00092940\n",
      "  10\t1.46534183\t1.46593244\t0.00059061\n",
      "  11\t1.46571702\t1.46534183\t0.00037519\n",
      "  12\t1.46547862\t1.46571702\t0.00023840\n",
      "  13\t1.46563008\t1.46547862\t0.00015146\n",
      "  14\t1.46553385\t1.46563008\t0.00009623\n",
      "  15\t1.46559498\t1.46553385\t0.00006114\n",
      "  16\t1.46555614\t1.46559498\t0.00003884\n",
      "  17\t1.46558082\t1.46555614\t0.00002468\n",
      "  18\t1.46556514\t1.46558082\t0.00001568\n",
      "  19\t1.46557510\t1.46556514\t0.00000996\n",
      "x = 1.4655751022361165\n"
     ]
    }
   ],
   "source": [
    "ϕ(x) = 1 + 1/x^2\n",
    "println(\"x = $(OnePointIterationMethod(ϕ,1.5,1e-5))\")"
   ]
  },
  {
   "cell_type": "markdown",
   "metadata": {},
   "source": [
    "* 2.5.2, $x_{i+1} = (1+x_{i}^2)^{\\frac{1}{3}}$"
   ]
  },
  {
   "cell_type": "code",
   "execution_count": 8,
   "metadata": {},
   "outputs": [
    {
     "name": "stdout",
     "output_type": "stream",
     "text": [
      "iter\t\tx_i+1\t\t\tx_i\t\tδ\n",
      "   0\t1.48124803\t1.50000000\t0.01875197\n",
      "   1\t1.47270573\t1.48124803\t0.00854230\n",
      "   2\t1.46881731\t1.47270573\t0.00388842\n",
      "   3\t1.46704797\t1.46881731\t0.00176934\n",
      "   4\t1.46624301\t1.46704797\t0.00080496\n",
      "   5\t1.46587682\t1.46624301\t0.00036619\n",
      "   6\t1.46571024\t1.46587682\t0.00016658\n",
      "   7\t1.46563447\t1.46571024\t0.00007578\n",
      "   8\t1.46560000\t1.46563447\t0.00003447\n",
      "   9\t1.46558432\t1.46560000\t0.00001568\n",
      "  10\t1.46557718\t1.46558432\t0.00000713\n",
      "x = 1.4655771837422105\n"
     ]
    }
   ],
   "source": [
    "ϕ(x) = (1 + x^2)^(1/3)\n",
    "println(\"x = $(OnePointIterationMethod(ϕ,1.5,1e-5))\")"
   ]
  },
  {
   "cell_type": "markdown",
   "metadata": {},
   "source": [
    "* 2.5.3, $x_{i+1} = (x_{i} - 1)^{-\\frac{1}{2}}$，不收敛"
   ]
  },
  {
   "cell_type": "code",
   "execution_count": 9,
   "metadata": {},
   "outputs": [],
   "source": [
    "# ϕ(x) = (x - 1)^(-1 / 2)\n",
    "# println(\"x = $(OnePointIterationMethod(ϕ,1.5,1e-5))\")"
   ]
  },
  {
   "cell_type": "markdown",
   "metadata": {},
   "source": [
    "### 牛顿迭代法"
   ]
  },
  {
   "cell_type": "code",
   "execution_count": 10,
   "metadata": {},
   "outputs": [
    {
     "data": {
      "text/plain": [
       "NewtonMethod (generic function with 1 method)"
      ]
     },
     "metadata": {},
     "output_type": "display_data"
    }
   ],
   "source": [
    "function NewtonMethod(f::Function, df::Function, x0, ϵ0)\n",
    "    x = x0 - f(x0) / df(x0)\n",
    "    ϵ = abs(x - x0)\n",
    "    i = 0\n",
    "    x_prev = x0\n",
    "    println(\"iter\\t\\tx_i+1\\t\\t\\tx_i\\t\\t\\t\\tϵ\\t\\t\\tϵ0\")\n",
    "    @printf(\"%4d\\t%10.8f\\t\\t%10.8f\\t\\t%10.8f\\t\\t%10.8f\\n\",i,x,x_prev,ϵ,ϵ0)\n",
    "    while ϵ >= ϵ0\n",
    "        x_prev = x\n",
    "        x = x - f(x) / df(x)\n",
    "        ϵ = abs(x - x_prev)\n",
    "        i += 1\n",
    "        # println(\"$i\\t$ϵ\")\n",
    "        @printf(\"%4d\\t%10.8f\\t\\t%10.8f\\t\\t%10.8f\\t\\t%10.8f\\n\",i,x,x_prev,ϵ,ϵ0)\n",
    "    end\n",
    "    return x\n",
    "end"
   ]
  },
  {
   "cell_type": "code",
   "execution_count": 11,
   "metadata": {},
   "outputs": [
    {
     "name": "stdout",
     "output_type": "stream",
     "text": [
      "iter\t\tx_i+1\t\t\tx_i\t\t\t\tϵ\t\t\tϵ0\n"
     ]
    },
    {
     "name": "stdout",
     "output_type": "stream",
     "text": [
      "   0\t7.07531381\t\t10.00000000\t\t2.92468619\t\t0.00000100\n",
      "   1\t5.14578681\t\t7.07531381\t\t1.92952700\t\t0.00000100\n",
      "   2\t3.87014783\t\t5.14578681\t\t1.27563898\t\t0.00000100\n",
      "   3\t2.99327102\t\t3.87014783\t\t0.87687681\t\t0.00000100\n",
      "   4\t2.24239993\t\t2.99327102\t\t0.75087109\t\t0.00000100\n",
      "   5\t-2.43215747\t\t2.24239993\t\t4.67455740\t\t0.00000100\n",
      "   6\t-1.77160364\t\t-2.43215747\t\t0.66055383\t\t0.00000100\n",
      "   7\t-1.55084365\t\t-1.77160364\t\t0.22075999\t\t0.00000100\n",
      "   8\t-1.52542787\t\t-1.55084365\t\t0.02541578\t\t0.00000100\n",
      "   9\t-1.52510231\t\t-1.52542787\t\t0.00032556\t\t0.00000100\n",
      "  10\t-1.52510225\t\t-1.52510231\t\t0.00000005\t\t0.00000100\n",
      "x = -1.5251022548143218\n"
     ]
    }
   ],
   "source": [
    "f3(x) = x^3 - 3x^2 - x + 9\n",
    "df3(x) = 3x^2 - 6x - 1\n",
    "println(\"x = $(NewtonMethod(f3,df3,10,1e-6))\")"
   ]
  },
  {
   "cell_type": "markdown",
   "metadata": {},
   "source": [
    "#### 简化牛顿迭代法"
   ]
  },
  {
   "cell_type": "code",
   "execution_count": 12,
   "metadata": {},
   "outputs": [
    {
     "data": {
      "text/plain": [
       "SimplifiedNewtonMethod (generic function with 1 method)"
      ]
     },
     "metadata": {},
     "output_type": "display_data"
    }
   ],
   "source": [
    "function SimplifiedNewtonMethod(f::Function, c, x0, ϵ0)\n",
    "    x = x0\n",
    "    ϵ = NaN\n",
    "    i = 0\n",
    "    x_prev = NaN\n",
    "    while true\n",
    "        x_prev = x\n",
    "        x = x - f(x) / c\n",
    "        ϵ = abs(x - x_prev)\n",
    "        if i % 10 == 0 || ϵ < ϵ0 \n",
    "            @printf(\"%4d\\t%10.8f\\t\\t%10.8f\\t\\t%10.8f\\t\\t%10.8f\\n\",i,x,x_prev,ϵ,ϵ0)\n",
    "        end\n",
    "        if ϵ < ϵ0 \n",
    "            break\n",
    "        end\n",
    "        i += 1\n",
    "    end\n",
    "    return x\n",
    "end"
   ]
  },
  {
   "cell_type": "code",
   "execution_count": 13,
   "metadata": {},
   "outputs": [
    {
     "name": "stdout",
     "output_type": "stream",
     "text": [
      "   0\t7.07531381\t\t10.00000000\t\t2.92468619\t\t0.00000100\n",
      "  10\t4.07518261\t\t4.18181558\t\t0.10663297\t\t0.00000100\n",
      "  20\t3.41372022\t\t3.45993803\t\t0.04621782\t\t0.00000100\n",
      "  30\t3.06328065\t\t3.09166781\t\t0.02838716\t\t0.00000100\n",
      "  40\t2.82694851\t\t2.84751798\t\t0.02056947\t\t0.00000100\n",
      "  50\t2.64563920\t\t2.66213897\t\t0.01649977\t\t0.00000100\n",
      "  60\t2.49424086\t\t2.50846090\t\t0.01422004\t\t0.00000100\n",
      "  70\t2.35966292\t\t2.37261541\t\t0.01295249\t\t0.00000100\n",
      "  80\t2.23393355\t\t2.24627923\t\t0.01234569\t\t0.00000100\n",
      "  90\t2.11145698\t\t2.12369171\t\t0.01223473\t\t0.00000100\n",
      " 100\t1.98771061\t\t2.00026182\t\t0.01255121\t\t0.00000100\n",
      " 110\t1.85850975\t\t1.87179597\t\t0.01328622\t\t0.00000100\n",
      " 120\t1.71950893\t\t1.73398376\t\t0.01447484\t\t0.00000100\n",
      " 130\t1.56580462\t\t1.58199356\t\t0.01618894\t\t0.00000100\n",
      " 140\t1.39160702\t\t1.41013608\t\t0.01852906\t\t0.00000100\n",
      " 150\t1.19005734\t\t1.21165920\t\t0.02160186\t\t0.00000100\n",
      " 160\t0.95346302\t\t0.97892038\t\t0.02545736\t\t0.00000100\n",
      " 170\t0.67458229\t\t0.70452416\t\t0.02994187\t\t0.00000100\n",
      " 180\t0.35003702\t\t0.38446763\t\t0.03443061\t\t0.00000100\n",
      " 190\t-0.01331664\t\t0.02423157\t\t0.03754821\t\t0.00000100\n",
      " 200\t-0.39131715\t\t-0.35393730\t\t0.03737985\t\t0.00000100\n",
      " 210\t-0.74343190\t\t-0.71064227\t\t0.03278963\t\t0.00000100\n",
      " 220\t-1.02976890\t\t-1.00482644\t\t0.02494246\t\t0.00000100\n",
      " 230\t-1.23283211\t\t-1.21617912\t\t0.01665299\t\t0.00000100\n",
      " 240\t-1.36131016\t\t-1.35124105\t\t0.01006911\t\t0.00000100\n",
      " 250\t-1.43627608\t\t-1.43057213\t\t0.00570395\t\t0.00000100\n",
      " 260\t-1.47784736\t\t-1.47473930\t\t0.00310806\t\t0.00000100\n",
      " 270\t-1.50022958\t\t-1.49857251\t\t0.00165707\t\t0.00000100\n",
      " 280\t-1.51208544\t\t-1.51121233\t\t0.00087311\t\t0.00000100\n",
      " 290\t-1.51831076\t\t-1.51785359\t\t0.00045717\t\t0.00000100\n",
      " 300\t-1.52156446\t\t-1.52132587\t\t0.00023859\t\t0.00000100\n",
      " 310\t-1.52326090\t\t-1.52313660\t\t0.00012430\t\t0.00000100\n",
      " 320\t-1.52414428\t\t-1.52407958\t\t0.00006470\t\t0.00000100\n",
      " 330\t-1.52460398\t\t-1.52457032\t\t0.00003366\t\t0.00000100\n",
      " 340\t-1.52484311\t\t-1.52482560\t\t0.00001751\t\t0.00000100\n",
      " 350\t-1.52496749\t\t-1.52495838\t\t0.00000911\t\t0.00000100\n",
      " 360\t-1.52503217\t\t-1.52502744\t\t0.00000474\t\t0.00000100\n",
      " 370\t-1.52506581\t\t-1.52506335\t\t0.00000246\t\t0.00000100\n",
      " 380\t-1.52508330\t\t-1.52508202\t\t0.00000128\t\t0.00000100\n",
      " 384\t-1.52508767\t\t-1.52508668\t\t0.00000099\t\t0.00000100\n"
     ]
    },
    {
     "data": {
      "text/plain": [
       "-1.5250876653232968"
      ]
     },
     "metadata": {},
     "output_type": "display_data"
    }
   ],
   "source": [
    "SimplifiedNewtonMethod(f3,df3(10),10,1e-6)"
   ]
  },
  {
   "cell_type": "markdown",
   "metadata": {},
   "source": [
    "#### 牛顿下山法"
   ]
  },
  {
   "cell_type": "code",
   "execution_count": 14,
   "metadata": {},
   "outputs": [
    {
     "data": {
      "text/plain": [
       "NewtonDownHillMethod (generic function with 1 method)"
      ]
     },
     "metadata": {},
     "output_type": "display_data"
    }
   ],
   "source": [
    "function DynamicDownHillFactor(f::Function, fx0,dfx0, λ)\n",
    "    x = fx0\n",
    "    while abs(f(x)) >= abs(fx0) && λ > 1e-5\n",
    "        λ /= 2\n",
    "        println(λ)\n",
    "        x = x - λ * fx0 / dfx0\n",
    "    end\n",
    "    return f(x)\n",
    "end\n",
    "function NewtonDownHillMethod(f::Function, df::Function, x0, ϵ0)\n",
    "    x = x0\n",
    "    ϵ = NaN\n",
    "    i = 0\n",
    "    x_prev = NaN\n",
    "    λ = 1\n",
    "    while true\n",
    "        x_prev = x\n",
    "        x = DynamicDownHillFactor(f,f(x_prev),df(x_prev),1)\n",
    "        ϵ = abs(x - x_prev)\n",
    "        @printf(\"%4d\\t%10.8f\\t\\t%10.8f\\t\\t%10.8f\\t\\t%10.8f\\n\",i,x,x_prev,ϵ,ϵ0)\n",
    "        if ϵ < ϵ0 \n",
    "            break\n",
    "        end\n",
    "        i += 1\n",
    "    end\n",
    "    return x\n",
    "end"
   ]
  },
  {
   "cell_type": "code",
   "execution_count": 15,
   "metadata": {},
   "outputs": [],
   "source": [
    "# Todo: bugs here\n",
    "# NewtonDownHillMethod(f3,df3,10,1e-6)"
   ]
  },
  {
   "cell_type": "markdown",
   "metadata": {},
   "source": [
    "## 第二章 线性方程组的数值解法"
   ]
  },
  {
   "cell_type": "markdown",
   "metadata": {},
   "source": []
  }
 ],
 "metadata": {
  "kernelspec": {
   "display_name": "Julia 1.7.2",
   "language": "julia",
   "name": "julia-1.7"
  },
  "language_info": {
   "file_extension": ".jl",
   "mimetype": "application/julia",
   "name": "julia",
   "version": "1.7.2"
  }
 },
 "nbformat": 4,
 "nbformat_minor": 4
}

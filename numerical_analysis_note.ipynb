{
 "cells": [
  {
   "cell_type": "markdown",
   "metadata": {},
   "source": [
    "> [Julia ZH](https://juliacn.gitlab.io/JuliaZH.jl/index.html)"
   ]
  },
  {
   "cell_type": "markdown",
   "metadata": {
    "toc-hr-collapsed": true
   },
   "source": [
    "## 第一章 非线性方程的数值解法"
   ]
  },
  {
   "cell_type": "markdown",
   "metadata": {},
   "source": [
    "\n",
    "### 二分法"
   ]
  },
  {
   "cell_type": "code",
   "execution_count": 31,
   "metadata": {},
   "outputs": [],
   "source": [
    "using Printf\n",
    "using Plots"
   ]
  },
  {
   "cell_type": "code",
   "execution_count": 32,
   "metadata": {},
   "outputs": [
    {
     "data": {
      "text/plain": [
       "BisectionMethod (generic function with 1 method)"
      ]
     },
     "metadata": {},
     "output_type": "display_data"
    }
   ],
   "source": [
    "function BisectionMethod(f::Function, a, b, ϵ0)\n",
    "    fa = f(a)\n",
    "    fb = f(b)\n",
    "    if a >= b || fa * fb > 0\n",
    "        return NaN\n",
    "    end\n",
    "    n = floor(log2((b - a) / ϵ0))\n",
    "    @printf(\"所需迭代轮数为: %4d\\t\\t\\t\\t精度要求: %16.12f\\n\", n, ϵ0)\n",
    "    @printf(\"%4s\\t%16s\\t%16s\\t%16s\\t%16s\\t%16s\\n\", \"iter\",\"x\",\"a\", \"b\",\"f(x)\",\"ϵ\")\n",
    "    x_prev = a\n",
    "    x = NaN\n",
    "    for i = 0:n\n",
    "        x = (a + b) / 2\n",
    "        ϵ = abs(x_prev - x)\n",
    "        y = f(x)\n",
    "        @printf(\"%4d\\t%16.12f\\t%16.12f\\t%16.12f\\t%16.12f\\t%16.12f\\n\", i, x, a, b, y, ϵ)\n",
    "        if f(a) * y < 0\n",
    "            b = x\n",
    "        elseif y == 0\n",
    "            a = b = x\n",
    "        else \n",
    "            a = x\n",
    "        end\n",
    "        x_prev = x\n",
    "    end\n",
    "    return x\n",
    "end\n"
   ]
  },
  {
   "cell_type": "markdown",
   "metadata": {},
   "source": [
    "* 习题1.2，二分法求根"
   ]
  },
  {
   "cell_type": "code",
   "execution_count": 33,
   "metadata": {},
   "outputs": [
    {
     "name": "stdout",
     "output_type": "stream",
     "text": [
      "所需迭代轮数为:   10\t\t\t\t精度要求:   0.000500000000\n",
      "iter\t               x\t               a\t               b\t            f(x)\t               ϵ\n",
      "   0\t  2.500000000000\t  2.000000000000\t  3.000000000000\t  5.625000000000\t  0.500000000000\n",
      "   1\t  2.250000000000\t  2.000000000000\t  2.500000000000\t  1.890625000000\t  0.250000000000\n",
      "   2\t  2.125000000000\t  2.000000000000\t  2.250000000000\t  0.345703125000\t  0.125000000000\n",
      "   3\t  2.062500000000\t  2.000000000000\t  2.125000000000\t -0.351318359375\t  0.062500000000\n",
      "   4\t  2.093750000000\t  2.062500000000\t  2.125000000000\t -0.008941650391\t  0.031250000000\n",
      "   5\t  2.109375000000\t  2.093750000000\t  2.125000000000\t  0.166835784912\t  0.015625000000\n",
      "   6\t  2.101562500000\t  2.093750000000\t  2.109375000000\t  0.078562259674\t  0.007812500000\n",
      "   7\t  2.097656250000\t  2.093750000000\t  2.101562500000\t  0.034714281559\t  0.003906250000\n",
      "   8\t  2.095703125000\t  2.093750000000\t  2.097656250000\t  0.012862332165\t  0.001953125000\n",
      "   9\t  2.094726562500\t  2.093750000000\t  2.095703125000\t  0.001954347827\t  0.000976562500\n",
      "  10\t  2.094238281250\t  2.093750000000\t  2.094726562500\t -0.003495149198\t  0.000488281250\n",
      "x = 2.09423828125\n"
     ]
    }
   ],
   "source": [
    "f2(x) = x^3 -2x - 5\n",
    "ϵ2 = 0.5e-3\n",
    "println(\"x = $(BisectionMethod(f2,2,3,ϵ2))\")"
   ]
  },
  {
   "cell_type": "markdown",
   "metadata": {},
   "source": [
    "### 单点迭代法"
   ]
  },
  {
   "cell_type": "code",
   "execution_count": 34,
   "metadata": {},
   "outputs": [
    {
     "data": {
      "text/plain": [
       "OnePointIterationMethod (generic function with 1 method)"
      ]
     },
     "metadata": {},
     "output_type": "display_data"
    }
   ],
   "source": [
    "function OnePointIterationMethod(ϕ::Function, x0, ϵ0)\n",
    "    # 检查不收敛的情况\n",
    "    x_prev = x0\n",
    "    x = ϕ(x0)\n",
    "    i = 0\n",
    "    δ = abs(x-x_prev)\n",
    "    @printf(\"%4s\\t%16s\\t%16s\\t%16s\\n\", \"iter\",\"x_i+1\", \"x_i\",\"ϵ\")\n",
    "    @printf(\"%4d\\t%16.12f\\t%16.12f\\t%16.12f\\n\",i,x,x_prev,δ)\n",
    "    i += 1\n",
    "    while abs(x-x_prev) >= ϵ0 && i < 50\n",
    "        x_prev = x\n",
    "        x = ϕ(x_prev)\n",
    "        δ = abs(x-x_prev)\n",
    "        @printf(\"%4d\\t%16.12f\\t%16.12f\\t%16.12f\\n\",i,x,x_prev,δ)\n",
    "        i += 1\n",
    "    end\n",
    "    return x\n",
    "end"
   ]
  },
  {
   "cell_type": "markdown",
   "metadata": {},
   "source": [
    "* 习题2.5，根据迭代公式求根\n",
    "\n",
    "* 2.5.1, $x_{i+1} = 1 + \\frac{1}{x_{i}^{2}}$"
   ]
  },
  {
   "cell_type": "code",
   "execution_count": 35,
   "metadata": {},
   "outputs": [
    {
     "name": "stdout",
     "output_type": "stream",
     "text": [
      "iter\t           x_i+1\t             x_i\t               ϵ\n",
      "   0\t  1.444444444444\t  1.500000000000\t  0.055555555556\n",
      "   1\t  1.479289940828\t  1.444444444444\t  0.034845496384\n",
      "   2\t  1.456976000000\t  1.479289940828\t  0.022313940828\n",
      "   3\t  1.471080583320\t  1.456976000000\t  0.014104583320\n",
      "   4\t  1.462090535471\t  1.471080583320\t  0.008990047849\n",
      "   5\t  1.467790576020\t  1.462090535471\t  0.005700040548\n",
      "   6\t  1.464164380462\t  1.467790576020\t  0.003626195557\n",
      "   7\t  1.466466355717\t  1.464164380462\t  0.002301975255\n",
      "   8\t  1.465003040567\t  1.466466355717\t  0.001463315150\n",
      "   9\t  1.465932439082\t  1.465003040567\t  0.000929398515\n",
      "  10\t  1.465341825718\t  1.465932439082\t  0.000590613364\n",
      "  11\t  1.465717018022\t  1.465341825718\t  0.000375192305\n",
      "  12\t  1.465478621285\t  1.465717018022\t  0.000238396737\n",
      "  13\t  1.465630077074\t  1.465478621285\t  0.000151455789\n",
      "  14\t  1.465533847162\t  1.465630077074\t  0.000096229912\n",
      "  15\t  1.465594984954\t  1.465533847162\t  0.000061137792\n",
      "  16\t  1.465556140859\t  1.465594984954\t  0.000038844096\n",
      "  17\t  1.465580820018\t  1.465556140859\t  0.000024679159\n",
      "  18\t  1.465565140165\t  1.465580820018\t  0.000015679854\n",
      "  19\t  1.465575102236\t  1.465565140165\t  0.000009962072\n",
      "x = 1.4655751022361165\n",
      "  0.001089 seconds (425 allocations: 41.250 KiB)\n"
     ]
    }
   ],
   "source": [
    "ϕ(x) = 1 + 1/x^2\n",
    "@time println(\"x = $(OnePointIterationMethod(ϕ,1.5,1e-5))\")"
   ]
  },
  {
   "cell_type": "markdown",
   "metadata": {},
   "source": [
    "* 2.5.2, $x_{i+1} = (1+x_{i}^2)^{\\frac{1}{3}}$"
   ]
  },
  {
   "cell_type": "code",
   "execution_count": 36,
   "metadata": {},
   "outputs": [
    {
     "name": "stdout",
     "output_type": "stream",
     "text": [
      "iter\t           x_i+1\t             x_i\t               ϵ\n",
      "   0\t  1.481248034204\t  1.500000000000\t  0.018751965796\n",
      "   1\t  1.472705729639\t  1.481248034204\t  0.008542304564\n",
      "   2\t  1.468817313664\t  1.472705729639\t  0.003888415975\n",
      "   3\t  1.467047973201\t  1.468817313664\t  0.001769340464\n",
      "   4\t  1.466243010115\t  1.467047973201\t  0.000804963086\n",
      "   5\t  1.465876820169\t  1.466243010115\t  0.000366189946\n",
      "   6\t  1.465710240776\t  1.465876820169\t  0.000166579393\n",
      "   7\t  1.465634465239\t  1.465710240776\t  0.000075775537\n",
      "   8\t  1.465599995853\t  1.465634465239\t  0.000034469385\n",
      "   9\t  1.465584316196\t  1.465599995853\t  0.000015679658\n",
      "  10\t  1.465577183742\t  1.465584316196\t  0.000007132453\n",
      "x = 1.4655771837422105\n",
      "  0.001386 seconds (251 allocations: 23.031 KiB)\n"
     ]
    }
   ],
   "source": [
    "ϕ(x) = (1 + x^2)^(1/3)\n",
    "@time println(\"x = $(OnePointIterationMethod(ϕ,1.5,1e-5))\")"
   ]
  },
  {
   "cell_type": "markdown",
   "metadata": {},
   "source": [
    "* 2.5.3, $x_{i+1} = (x_{i} - 1)^{-\\frac{1}{2}}$，不收敛"
   ]
  },
  {
   "cell_type": "code",
   "execution_count": 37,
   "metadata": {},
   "outputs": [],
   "source": [
    "# ϕ(x) = (x - 1)^(-1 / 2)\n",
    "# println(\"x = $(OnePointIterationMethod(ϕ,1.5,1e-5))\")"
   ]
  },
  {
   "cell_type": "markdown",
   "metadata": {},
   "source": [
    "### 牛顿迭代法\n",
    "\n",
    "#### 牛顿迭代法"
   ]
  },
  {
   "cell_type": "code",
   "execution_count": 38,
   "metadata": {},
   "outputs": [
    {
     "data": {
      "text/plain": [
       "NewtonMethod (generic function with 2 methods)"
      ]
     },
     "metadata": {},
     "output_type": "display_data"
    }
   ],
   "source": [
    "function NewtonMethod(f::Function, df::Function, x0, ϵ0)\n",
    "    x = x0 - f(x0) / df(x0)\n",
    "    ϵ = abs(x - x0)\n",
    "    i = 0\n",
    "    x_prev = x0\n",
    "    @printf(\"%4s\\t%16s\\t%16s\\t%16s\\t%16s\\n\", \"iter\",\"x_i+1\", \"x_i\",\"ϵ\",\"ϵ0\")\n",
    "    @printf(\"%4d\\t%16.12f\\t%16.12f\\t%16.12f\\t%16.12f\\n\",i,x,x_prev,ϵ,ϵ0)\n",
    "    while ϵ >= ϵ0\n",
    "        x_prev = x\n",
    "        x = x - f(x) / df(x)\n",
    "        ϵ = abs(x - x_prev)\n",
    "        i += 1\n",
    "        @printf(\"%4d\\t%16.12f\\t%16.12f\\t%16.12f\\t%16.12f\\n\",i,x,x_prev,ϵ,ϵ0)\n",
    "    end\n",
    "    return x\n",
    "end"
   ]
  },
  {
   "cell_type": "code",
   "execution_count": 39,
   "metadata": {},
   "outputs": [
    {
     "data": {
      "image/png": "[encoded data removed]",
      "image/svg+xml": "<?xml version=\"1.0\" encoding=\"utf-8\"?>\n<svg xmlns=\"http://www.w3.org/2000/svg\" xmlns:xlink=\"http://www.w3.org/1999/xlink\" width=\"600\" height=\"400\" viewBox=\"0 0 2400 1600\">\n<defs>\n  <clipPath id=\"clip990\">\n    <rect x=\"0\" y=\"0\" width=\"2400\" height=\"1600\"/>\n  </clipPath>\n</defs>\n<path clip-path=\"url(#clip990)\" d=\"\nM0 1600 L2400 1600 L2400 0 L0 0  Z\n  \" fill=\"#ffffff\" fill-rule=\"evenodd\" fill-opacity=\"1\"/>\n<defs>\n  <clipPath id=\"clip991\">\n    <rect x=\"480\" y=\"0\" width=\"1681\" height=\"1600\"/>\n  </clipPath>\n</defs>\n<path clip-path=\"url(#clip990)\" d=\"\nM239.19 1486.45 L2352.76 1486.45 L2352.76 47.2441 L239.19 47.2441  Z\n  \" fill=\"#ffffff\" fill-rule=\"evenodd\" fill-opacity=\"1\"/>\n<defs>\n  <clipPath id=\"clip992\">\n    <rect x=\"239\" y=\"47\" width=\"2115\" height=\"1440\"/>\n  </clipPath>\n</defs>\n<polyline clip-path=\"url(#clip992)\" style=\"stroke:#000000; stroke-linecap:butt; stroke-linejoin:round; stroke-width:2; stroke-opacity:0.1; fill:none\" points=\"\n  299.008,1486.45 299.008,47.2441 \n  \"/>\n<polyline clip-path=\"url(#clip992)\" style=\"stroke:#000000; stroke-linecap:butt; stroke-linejoin:round; stroke-width:2; stroke-opacity:0.1; fill:none\" points=\"\n  797.491,1486.45 797.491,47.2441 \n  \"/>\n<polyline clip-path=\"url(#clip992)\" style=\"stroke:#000000; stroke-linecap:butt; stroke-linejoin:round; stroke-width:2; stroke-opacity:0.1; fill:none\" points=\"\n  1295.97,1486.45 1295.97,47.2441 \n  \"/>\n<polyline clip-path=\"url(#clip992)\" style=\"stroke:#000000; stroke-linecap:butt; stroke-linejoin:round; stroke-width:2; stroke-opacity:0.1; fill:none\" points=\"\n  1794.46,1486.45 1794.46,47.2441 \n  \"/>\n<polyline clip-path=\"url(#clip992)\" style=\"stroke:#000000; stroke-linecap:butt; stroke-linejoin:round; stroke-width:2; stroke-opacity:0.1; fill:none\" points=\"\n  2292.94,1486.45 2292.94,47.2441 \n  \"/>\n<polyline clip-path=\"url(#clip990)\" style=\"stroke:#000000; stroke-linecap:butt; stroke-linejoin:round; stroke-width:4; stroke-opacity:1; fill:none\" points=\"\n  239.19,1486.45 2352.76,1486.45 \n  \"/>\n<polyline clip-path=\"url(#clip990)\" style=\"stroke:#000000; stroke-linecap:butt; stroke-linejoin:round; stroke-width:4; stroke-opacity:1; fill:none\" points=\"\n  299.008,1486.45 299.008,1467.55 \n  \"/>\n<polyline clip-path=\"url(#clip990)\" style=\"stroke:#000000; stroke-linecap:butt; stroke-linejoin:round; stroke-width:4; stroke-opacity:1; fill:none\" points=\"\n  797.491,1486.45 797.491,1467.55 \n  \"/>\n<polyline clip-path=\"url(#clip990)\" style=\"stroke:#000000; stroke-linecap:butt; stroke-linejoin:round; stroke-width:4; stroke-opacity:1; fill:none\" points=\"\n  1295.97,1486.45 1295.97,1467.55 \n  \"/>\n<polyline clip-path=\"url(#clip990)\" style=\"stroke:#000000; stroke-linecap:butt; stroke-linejoin:round; stroke-width:4; stroke-opacity:1; fill:none\" points=\"\n  1794.46,1486.45 1794.46,1467.55 \n  \"/>\n<polyline clip-path=\"url(#clip990)\" style=\"stroke:#000000; stroke-linecap:butt; stroke-linejoin:round; stroke-width:4; stroke-opacity:1; fill:none\" points=\"\n  2292.94,1486.45 2292.94,1467.55 \n  \"/>\n<path clip-path=\"url(#clip990)\" d=\"M253.071 1532.02 L282.747 1532.02 L282.747 1535.95 L253.071 1535.95 L253.071 1532.02 Z\" fill=\"#000000\" fill-rule=\"evenodd\" fill-opacity=\"1\" /><path clip-path=\"url(#clip990)\" d=\"M293.65 1544.91 L301.288 1544.91 L301.288 1518.55 L292.978 1520.21 L292.978 1515.95 L301.242 1514.29 L305.918 1514.29 L305.918 1544.91 L313.557 1544.91 L313.557 1548.85 L293.65 1548.85 L293.65 1544.91 Z\" fill=\"#000000\" fill-rule=\"evenodd\" fill-opacity=\"1\" /><path clip-path=\"url(#clip990)\" d=\"M333.001 1517.37 Q329.39 1517.37 327.561 1520.93 Q325.756 1524.47 325.756 1531.6 Q325.756 1538.71 327.561 1542.27 Q329.39 1545.82 333.001 1545.82 Q336.635 1545.82 338.441 1542.27 Q340.27 1538.71 340.27 1531.6 Q340.27 1524.47 338.441 1520.93 Q336.635 1517.37 333.001 1517.37 M333.001 1513.66 Q338.811 1513.66 341.867 1518.27 Q344.946 1522.85 344.946 1531.6 Q344.946 1540.33 341.867 1544.94 Q338.811 1549.52 333.001 1549.52 Q327.191 1549.52 324.112 1544.94 Q321.057 1540.33 321.057 1531.6 Q321.057 1522.85 324.112 1518.27 Q327.191 1513.66 333.001 1513.66 Z\" fill=\"#000000\" fill-rule=\"evenodd\" fill-opacity=\"1\" /><path clip-path=\"url(#clip990)\" d=\"M767.132 1532.02 L796.808 1532.02 L796.808 1535.95 L767.132 1535.95 L767.132 1532.02 Z\" fill=\"#000000\" fill-rule=\"evenodd\" fill-opacity=\"1\" /><path clip-path=\"url(#clip990)\" d=\"M806.947 1514.29 L825.303 1514.29 L825.303 1518.22 L811.229 1518.22 L811.229 1526.7 Q812.248 1526.35 813.266 1526.19 Q814.285 1526 815.303 1526 Q821.09 1526 824.47 1529.17 Q827.849 1532.34 827.849 1537.76 Q827.849 1543.34 824.377 1546.44 Q820.905 1549.52 814.586 1549.52 Q812.41 1549.52 810.141 1549.15 Q807.896 1548.78 805.488 1548.04 L805.488 1543.34 Q807.572 1544.47 809.794 1545.03 Q812.016 1545.58 814.493 1545.58 Q818.498 1545.58 820.835 1543.48 Q823.173 1541.37 823.173 1537.76 Q823.173 1534.15 820.835 1532.04 Q818.498 1529.94 814.493 1529.94 Q812.618 1529.94 810.743 1530.35 Q808.891 1530.77 806.947 1531.65 L806.947 1514.29 Z\" fill=\"#000000\" fill-rule=\"evenodd\" fill-opacity=\"1\" /><path clip-path=\"url(#clip990)\" d=\"M1295.97 1517.37 Q1292.36 1517.37 1290.53 1520.93 Q1288.73 1524.47 1288.73 1531.6 Q1288.73 1538.71 1290.53 1542.27 Q1292.36 1545.82 1295.97 1545.82 Q1299.61 1545.82 1301.41 1542.27 Q1303.24 1538.71 1303.24 1531.6 Q1303.24 1524.47 1301.41 1520.93 Q1299.61 1517.37 1295.97 1517.37 M1295.97 1513.66 Q1301.78 1513.66 1304.84 1518.27 Q1307.92 1522.85 1307.92 1531.6 Q1307.92 1540.33 1304.84 1544.94 Q1301.78 1549.52 1295.97 1549.52 Q1290.16 1549.52 1287.08 1544.94 Q1284.03 1540.33 1284.03 1531.6 Q1284.03 1522.85 1287.08 1518.27 Q1290.16 1513.66 1295.97 1513.66 Z\" fill=\"#000000\" fill-rule=\"evenodd\" fill-opacity=\"1\" /><path clip-path=\"url(#clip990)\" d=\"M1784.73 1514.29 L1803.09 1514.29 L1803.09 1518.22 L1789.02 1518.22 L1789.02 1526.7 Q1790.03 1526.35 1791.05 1526.19 Q1792.07 1526 1793.09 1526 Q1798.88 1526 1802.26 1529.17 Q1805.64 1532.34 1805.64 1537.76 Q1805.64 1543.34 1802.16 1546.44 Q1798.69 1549.52 1792.37 1549.52 Q1790.2 1549.52 1787.93 1549.15 Q1785.68 1548.78 1783.28 1548.04 L1783.28 1543.34 Q1785.36 1544.47 1787.58 1545.03 Q1789.8 1545.58 1792.28 1545.58 Q1796.28 1545.58 1798.62 1543.48 Q1800.96 1541.37 1800.96 1537.76 Q1800.96 1534.15 1798.62 1532.04 Q1796.28 1529.94 1792.28 1529.94 Q1790.4 1529.94 1788.53 1530.35 Q1786.68 1530.77 1784.73 1531.65 L1784.73 1514.29 Z\" fill=\"#000000\" fill-rule=\"evenodd\" fill-opacity=\"1\" /><path clip-path=\"url(#clip990)\" d=\"M2267.63 1544.91 L2275.26 1544.91 L2275.26 1518.55 L2266.95 1520.21 L2266.95 1515.95 L2275.22 1514.29 L2279.89 1514.29 L2279.89 1544.91 L2287.53 1544.91 L2287.53 1548.85 L2267.63 1548.85 L2267.63 1544.91 Z\" fill=\"#000000\" fill-rule=\"evenodd\" fill-opacity=\"1\" /><path clip-path=\"url(#clip990)\" d=\"M2306.98 1517.37 Q2303.37 1517.37 2301.54 1520.93 Q2299.73 1524.47 2299.73 1531.6 Q2299.73 1538.71 2301.54 1542.27 Q2303.37 1545.82 2306.98 1545.82 Q2310.61 1545.82 2312.42 1542.27 Q2314.25 1538.71 2314.25 1531.6 Q2314.25 1524.47 2312.42 1520.93 Q2310.61 1517.37 2306.98 1517.37 M2306.98 1513.66 Q2312.79 1513.66 2315.84 1518.27 Q2318.92 1522.85 2318.92 1531.6 Q2318.92 1540.33 2315.84 1544.94 Q2312.79 1549.52 2306.98 1549.52 Q2301.17 1549.52 2298.09 1544.94 Q2295.03 1540.33 2295.03 1531.6 Q2295.03 1522.85 2298.09 1518.27 Q2301.17 1513.66 2306.98 1513.66 Z\" fill=\"#000000\" fill-rule=\"evenodd\" fill-opacity=\"1\" /><polyline clip-path=\"url(#clip992)\" style=\"stroke:#000000; stroke-linecap:butt; stroke-linejoin:round; stroke-width:2; stroke-opacity:0.1; fill:none\" points=\"\n  239.19,1253.03 2352.76,1253.03 \n  \"/>\n<polyline clip-path=\"url(#clip992)\" style=\"stroke:#000000; stroke-linecap:butt; stroke-linejoin:round; stroke-width:2; stroke-opacity:0.1; fill:none\" points=\"\n  239.19,910.163 2352.76,910.163 \n  \"/>\n<polyline clip-path=\"url(#clip992)\" style=\"stroke:#000000; stroke-linecap:butt; stroke-linejoin:round; stroke-width:2; stroke-opacity:0.1; fill:none\" points=\"\n  239.19,567.299 2352.76,567.299 \n  \"/>\n<polyline clip-path=\"url(#clip992)\" style=\"stroke:#000000; stroke-linecap:butt; stroke-linejoin:round; stroke-width:2; stroke-opacity:0.1; fill:none\" points=\"\n  239.19,224.436 2352.76,224.436 \n  \"/>\n<polyline clip-path=\"url(#clip990)\" style=\"stroke:#000000; stroke-linecap:butt; stroke-linejoin:round; stroke-width:4; stroke-opacity:1; fill:none\" points=\"\n  239.19,1486.45 239.19,47.2441 \n  \"/>\n<polyline clip-path=\"url(#clip990)\" style=\"stroke:#000000; stroke-linecap:butt; stroke-linejoin:round; stroke-width:4; stroke-opacity:1; fill:none\" points=\"\n  239.19,1253.03 258.088,1253.03 \n  \"/>\n<polyline clip-path=\"url(#clip990)\" style=\"stroke:#000000; stroke-linecap:butt; stroke-linejoin:round; stroke-width:4; stroke-opacity:1; fill:none\" points=\"\n  239.19,910.163 258.088,910.163 \n  \"/>\n<polyline clip-path=\"url(#clip990)\" style=\"stroke:#000000; stroke-linecap:butt; stroke-linejoin:round; stroke-width:4; stroke-opacity:1; fill:none\" points=\"\n  239.19,567.299 258.088,567.299 \n  \"/>\n<polyline clip-path=\"url(#clip990)\" style=\"stroke:#000000; stroke-linecap:butt; stroke-linejoin:round; stroke-width:4; stroke-opacity:1; fill:none\" points=\"\n  239.19,224.436 258.088,224.436 \n  \"/>\n<path clip-path=\"url(#clip990)\" d=\"M50.9921 1253.48 L80.6679 1253.48 L80.6679 1257.41 L50.9921 1257.41 L50.9921 1253.48 Z\" fill=\"#000000\" fill-rule=\"evenodd\" fill-opacity=\"1\" /><path clip-path=\"url(#clip990)\" d=\"M91.5706 1266.37 L99.2095 1266.37 L99.2095 1240.01 L90.8993 1241.67 L90.8993 1237.41 L99.1632 1235.75 L103.839 1235.75 L103.839 1266.37 L111.478 1266.37 L111.478 1270.31 L91.5706 1270.31 L91.5706 1266.37 Z\" fill=\"#000000\" fill-rule=\"evenodd\" fill-opacity=\"1\" /><path clip-path=\"url(#clip990)\" d=\"M130.922 1238.83 Q127.311 1238.83 125.482 1242.39 Q123.677 1245.93 123.677 1253.06 Q123.677 1260.17 125.482 1263.73 Q127.311 1267.27 130.922 1267.27 Q134.556 1267.27 136.362 1263.73 Q138.191 1260.17 138.191 1253.06 Q138.191 1245.93 136.362 1242.39 Q134.556 1238.83 130.922 1238.83 M130.922 1235.12 Q136.732 1235.12 139.788 1239.73 Q142.867 1244.31 142.867 1253.06 Q142.867 1261.79 139.788 1266.39 Q136.732 1270.98 130.922 1270.98 Q125.112 1270.98 122.033 1266.39 Q118.978 1261.79 118.978 1253.06 Q118.978 1244.31 122.033 1239.73 Q125.112 1235.12 130.922 1235.12 Z\" fill=\"#000000\" fill-rule=\"evenodd\" fill-opacity=\"1\" /><path clip-path=\"url(#clip990)\" d=\"M161.084 1238.83 Q157.473 1238.83 155.644 1242.39 Q153.839 1245.93 153.839 1253.06 Q153.839 1260.17 155.644 1263.73 Q157.473 1267.27 161.084 1267.27 Q164.718 1267.27 166.524 1263.73 Q168.353 1260.17 168.353 1253.06 Q168.353 1245.93 166.524 1242.39 Q164.718 1238.83 161.084 1238.83 M161.084 1235.12 Q166.894 1235.12 169.95 1239.73 Q173.029 1244.31 173.029 1253.06 Q173.029 1261.79 169.95 1266.39 Q166.894 1270.98 161.084 1270.98 Q155.274 1270.98 152.195 1266.39 Q149.14 1261.79 149.14 1253.06 Q149.14 1244.31 152.195 1239.73 Q155.274 1235.12 161.084 1235.12 Z\" fill=\"#000000\" fill-rule=\"evenodd\" fill-opacity=\"1\" /><path clip-path=\"url(#clip990)\" d=\"M191.246 1238.83 Q187.635 1238.83 185.806 1242.39 Q184.001 1245.93 184.001 1253.06 Q184.001 1260.17 185.806 1263.73 Q187.635 1267.27 191.246 1267.27 Q194.88 1267.27 196.686 1263.73 Q198.514 1260.17 198.514 1253.06 Q198.514 1245.93 196.686 1242.39 Q194.88 1238.83 191.246 1238.83 M191.246 1235.12 Q197.056 1235.12 200.112 1239.73 Q203.19 1244.31 203.19 1253.06 Q203.19 1261.79 200.112 1266.39 Q197.056 1270.98 191.246 1270.98 Q185.436 1270.98 182.357 1266.39 Q179.302 1261.79 179.302 1253.06 Q179.302 1244.31 182.357 1239.73 Q185.436 1235.12 191.246 1235.12 Z\" fill=\"#000000\" fill-rule=\"evenodd\" fill-opacity=\"1\" /><path clip-path=\"url(#clip990)\" d=\"M81.154 910.614 L110.83 910.614 L110.83 914.549 L81.154 914.549 L81.154 910.614 Z\" fill=\"#000000\" fill-rule=\"evenodd\" fill-opacity=\"1\" /><path clip-path=\"url(#clip990)\" d=\"M120.969 892.883 L139.325 892.883 L139.325 896.818 L125.251 896.818 L125.251 905.29 Q126.27 904.943 127.288 904.781 Q128.307 904.596 129.325 904.596 Q135.112 904.596 138.492 907.767 Q141.871 910.938 141.871 916.355 Q141.871 921.934 138.399 925.036 Q134.927 928.114 128.607 928.114 Q126.432 928.114 124.163 927.744 Q121.918 927.373 119.51 926.633 L119.51 921.934 Q121.594 923.068 123.816 923.623 Q126.038 924.179 128.515 924.179 Q132.519 924.179 134.857 922.073 Q137.195 919.966 137.195 916.355 Q137.195 912.744 134.857 910.637 Q132.519 908.531 128.515 908.531 Q126.64 908.531 124.765 908.948 Q122.913 909.364 120.969 910.244 L120.969 892.883 Z\" fill=\"#000000\" fill-rule=\"evenodd\" fill-opacity=\"1\" /><path clip-path=\"url(#clip990)\" d=\"M161.084 895.962 Q157.473 895.962 155.644 899.526 Q153.839 903.068 153.839 910.198 Q153.839 917.304 155.644 920.869 Q157.473 924.411 161.084 924.411 Q164.718 924.411 166.524 920.869 Q168.353 917.304 168.353 910.198 Q168.353 903.068 166.524 899.526 Q164.718 895.962 161.084 895.962 M161.084 892.258 Q166.894 892.258 169.95 896.864 Q173.029 901.448 173.029 910.198 Q173.029 918.924 169.95 923.531 Q166.894 928.114 161.084 928.114 Q155.274 928.114 152.195 923.531 Q149.14 918.924 149.14 910.198 Q149.14 901.448 152.195 896.864 Q155.274 892.258 161.084 892.258 Z\" fill=\"#000000\" fill-rule=\"evenodd\" fill-opacity=\"1\" /><path clip-path=\"url(#clip990)\" d=\"M191.246 895.962 Q187.635 895.962 185.806 899.526 Q184.001 903.068 184.001 910.198 Q184.001 917.304 185.806 920.869 Q187.635 924.411 191.246 924.411 Q194.88 924.411 196.686 920.869 Q198.514 917.304 198.514 910.198 Q198.514 903.068 196.686 899.526 Q194.88 895.962 191.246 895.962 M191.246 892.258 Q197.056 892.258 200.112 896.864 Q203.19 901.448 203.19 910.198 Q203.19 918.924 200.112 923.531 Q197.056 928.114 191.246 928.114 Q185.436 928.114 182.357 923.531 Q179.302 918.924 179.302 910.198 Q179.302 901.448 182.357 896.864 Q185.436 892.258 191.246 892.258 Z\" fill=\"#000000\" fill-rule=\"evenodd\" fill-opacity=\"1\" /><path clip-path=\"url(#clip990)\" d=\"M191.246 553.098 Q187.635 553.098 185.806 556.663 Q184.001 560.205 184.001 567.334 Q184.001 574.441 185.806 578.005 Q187.635 581.547 191.246 581.547 Q194.88 581.547 196.686 578.005 Q198.514 574.441 198.514 567.334 Q198.514 560.205 196.686 556.663 Q194.88 553.098 191.246 553.098 M191.246 549.394 Q197.056 549.394 200.112 554.001 Q203.19 558.584 203.19 567.334 Q203.19 576.061 200.112 580.667 Q197.056 585.251 191.246 585.251 Q185.436 585.251 182.357 580.667 Q179.302 576.061 179.302 567.334 Q179.302 558.584 182.357 554.001 Q185.436 549.394 191.246 549.394 Z\" fill=\"#000000\" fill-rule=\"evenodd\" fill-opacity=\"1\" /><path clip-path=\"url(#clip990)\" d=\"M120.969 207.156 L139.325 207.156 L139.325 211.091 L125.251 211.091 L125.251 219.563 Q126.27 219.216 127.288 219.054 Q128.307 218.869 129.325 218.869 Q135.112 218.869 138.492 222.04 Q141.871 225.211 141.871 230.628 Q141.871 236.207 138.399 239.309 Q134.927 242.387 128.607 242.387 Q126.432 242.387 124.163 242.017 Q121.918 241.647 119.51 240.906 L119.51 236.207 Q121.594 237.341 123.816 237.897 Q126.038 238.452 128.515 238.452 Q132.519 238.452 134.857 236.346 Q137.195 234.239 137.195 230.628 Q137.195 227.017 134.857 224.91 Q132.519 222.804 128.515 222.804 Q126.64 222.804 124.765 223.221 Q122.913 223.637 120.969 224.517 L120.969 207.156 Z\" fill=\"#000000\" fill-rule=\"evenodd\" fill-opacity=\"1\" /><path clip-path=\"url(#clip990)\" d=\"M161.084 210.235 Q157.473 210.235 155.644 213.799 Q153.839 217.341 153.839 224.471 Q153.839 231.577 155.644 235.142 Q157.473 238.684 161.084 238.684 Q164.718 238.684 166.524 235.142 Q168.353 231.577 168.353 224.471 Q168.353 217.341 166.524 213.799 Q164.718 210.235 161.084 210.235 M161.084 206.531 Q166.894 206.531 169.95 211.137 Q173.029 215.721 173.029 224.471 Q173.029 233.197 169.95 237.804 Q166.894 242.387 161.084 242.387 Q155.274 242.387 152.195 237.804 Q149.14 233.197 149.14 224.471 Q149.14 215.721 152.195 211.137 Q155.274 206.531 161.084 206.531 Z\" fill=\"#000000\" fill-rule=\"evenodd\" fill-opacity=\"1\" /><path clip-path=\"url(#clip990)\" d=\"M191.246 210.235 Q187.635 210.235 185.806 213.799 Q184.001 217.341 184.001 224.471 Q184.001 231.577 185.806 235.142 Q187.635 238.684 191.246 238.684 Q194.88 238.684 196.686 235.142 Q198.514 231.577 198.514 224.471 Q198.514 217.341 196.686 213.799 Q194.88 210.235 191.246 210.235 M191.246 206.531 Q197.056 206.531 200.112 211.137 Q203.19 215.721 203.19 224.471 Q203.19 233.197 200.112 237.804 Q197.056 242.387 191.246 242.387 Q185.436 242.387 182.357 237.804 Q179.302 233.197 179.302 224.471 Q179.302 215.721 182.357 211.137 Q185.436 206.531 191.246 206.531 Z\" fill=\"#000000\" fill-rule=\"evenodd\" fill-opacity=\"1\" /><polyline clip-path=\"url(#clip992)\" style=\"stroke:#009af9; stroke-linecap:butt; stroke-linejoin:round; stroke-width:4; stroke-opacity:1; fill:none\" points=\"\n  299.008,1445.72 303.876,1433.75 308.744,1421.89 313.613,1410.14 318.481,1398.49 363.493,1295.77 408.506,1201.73 453.518,1115.99 498.531,1038.18 552.632,954.613 \n  606.733,881.291 652.475,826.804 698.217,778.773 747.906,733.452 797.594,694.771 843.403,664.553 889.211,639.148 987.434,599.034 1101.24,572.748 1202.37,562.865 \n  1291.05,561.099 1387.74,562.967 1485.01,565.15 1592.55,563.321 1694.87,552.882 1801.25,528.174 1890.81,492.803 1945.48,463.297 2000.15,426.968 2051.54,385.99 \n  2102.93,337.82 2185.26,244.246 2267.6,128.449 2280.27,108.507 2292.94,87.9763 \n  \"/>\n<path clip-path=\"url(#clip990)\" d=\"\nM1995.03 198.898 L2282.3 198.898 L2282.3 95.2176 L1995.03 95.2176  Z\n  \" fill=\"#ffffff\" fill-rule=\"evenodd\" fill-opacity=\"1\"/>\n<polyline clip-path=\"url(#clip990)\" style=\"stroke:#000000; stroke-linecap:butt; stroke-linejoin:round; stroke-width:4; stroke-opacity:1; fill:none\" points=\"\n  1995.03,198.898 2282.3,198.898 2282.3,95.2176 1995.03,95.2176 1995.03,198.898 \n  \"/>\n<polyline clip-path=\"url(#clip990)\" style=\"stroke:#009af9; stroke-linecap:butt; stroke-linejoin:round; stroke-width:4; stroke-opacity:1; fill:none\" points=\"\n  2018.52,147.058 2159.42,147.058 \n  \"/>\n<path clip-path=\"url(#clip990)\" d=\"M2196.75 166.745 Q2194.94 171.375 2193.23 172.787 Q2191.52 174.199 2188.65 174.199 L2185.24 174.199 L2185.24 170.634 L2187.74 170.634 Q2189.5 170.634 2190.47 169.8 Q2191.45 168.967 2192.63 165.865 L2193.39 163.921 L2182.91 138.412 L2187.42 138.412 L2195.52 158.689 L2203.62 138.412 L2208.14 138.412 L2196.75 166.745 Z\" fill=\"#000000\" fill-rule=\"evenodd\" fill-opacity=\"1\" /><path clip-path=\"url(#clip990)\" d=\"M2215.43 160.402 L2223.07 160.402 L2223.07 134.037 L2214.76 135.703 L2214.76 131.444 L2223.02 129.778 L2227.7 129.778 L2227.7 160.402 L2235.34 160.402 L2235.34 164.338 L2215.43 164.338 L2215.43 160.402 Z\" fill=\"#000000\" fill-rule=\"evenodd\" fill-opacity=\"1\" /></svg>\n",
      "text/html": [
       "<?xml version=\"1.0\" encoding=\"utf-8\"?>\n",
       "<svg xmlns=\"http://www.w3.org/2000/svg\" xmlns:xlink=\"http://www.w3.org/1999/xlink\" width=\"600\" height=\"400\" viewBox=\"0 0 2400 1600\">\n",
       "<defs>\n",
       "  <clipPath id=\"clip040\">\n",
       "    <rect x=\"0\" y=\"0\" width=\"2400\" height=\"1600\"/>\n",
       "  </clipPath>\n",
       "</defs>\n",
       "<path clip-path=\"url(#clip040)\" d=\"\n",
       "M0 1600 L2400 1600 L2400 0 L0 0  Z\n",
       "  \" fill=\"#ffffff\" fill-rule=\"evenodd\" fill-opacity=\"1\"/>\n",
       "<defs>\n",
       "  <clipPath id=\"clip041\">\n",
       "    <rect x=\"480\" y=\"0\" width=\"1681\" height=\"1600\"/>\n",
       "  </clipPath>\n",
       "</defs>\n",
       "<path clip-path=\"url(#clip040)\" d=\"\n",
       "M239.19 1486.45 L2352.76 1486.45 L2352.76 47.2441 L239.19 47.2441  Z\n",
       "  \" fill=\"#ffffff\" fill-rule=\"evenodd\" fill-opacity=\"1\"/>\n",
       "<defs>\n",
       "  <clipPath id=\"clip042\">\n",
       "    <rect x=\"239\" y=\"47\" width=\"2115\" height=\"1440\"/>\n",
       "  </clipPath>\n",
       "</defs>\n",
       "<polyline clip-path=\"url(#clip042)\" style=\"stroke:#000000; stroke-linecap:butt; stroke-linejoin:round; stroke-width:2; stroke-opacity:0.1; fill:none\" points=\"\n",
       "  299.008,1486.45 299.008,47.2441 \n",
       "  \"/>\n",
       "<polyline clip-path=\"url(#clip042)\" style=\"stroke:#000000; stroke-linecap:butt; stroke-linejoin:round; stroke-width:2; stroke-opacity:0.1; fill:none\" points=\"\n",
       "  797.491,1486.45 797.491,47.2441 \n",
       "  \"/>\n",
       "<polyline clip-path=\"url(#clip042)\" style=\"stroke:#000000; stroke-linecap:butt; stroke-linejoin:round; stroke-width:2; stroke-opacity:0.1; fill:none\" points=\"\n",
       "  1295.97,1486.45 1295.97,47.2441 \n",
       "  \"/>\n",
       "<polyline clip-path=\"url(#clip042)\" style=\"stroke:#000000; stroke-linecap:butt; stroke-linejoin:round; stroke-width:2; stroke-opacity:0.1; fill:none\" points=\"\n",
       "  1794.46,1486.45 1794.46,47.2441 \n",
       "  \"/>\n",
       "<polyline clip-path=\"url(#clip042)\" style=\"stroke:#000000; stroke-linecap:butt; stroke-linejoin:round; stroke-width:2; stroke-opacity:0.1; fill:none\" points=\"\n",
       "  2292.94,1486.45 2292.94,47.2441 \n",
       "  \"/>\n",
       "<polyline clip-path=\"url(#clip040)\" style=\"stroke:#000000; stroke-linecap:butt; stroke-linejoin:round; stroke-width:4; stroke-opacity:1; fill:none\" points=\"\n",
       "  239.19,1486.45 2352.76,1486.45 \n",
       "  \"/>\n",
       "<polyline clip-path=\"url(#clip040)\" style=\"stroke:#000000; stroke-linecap:butt; stroke-linejoin:round; stroke-width:4; stroke-opacity:1; fill:none\" points=\"\n",
       "  299.008,1486.45 299.008,1467.55 \n",
       "  \"/>\n",
       "<polyline clip-path=\"url(#clip040)\" style=\"stroke:#000000; stroke-linecap:butt; stroke-linejoin:round; stroke-width:4; stroke-opacity:1; fill:none\" points=\"\n",
       "  797.491,1486.45 797.491,1467.55 \n",
       "  \"/>\n",
       "<polyline clip-path=\"url(#clip040)\" style=\"stroke:#000000; stroke-linecap:butt; stroke-linejoin:round; stroke-width:4; stroke-opacity:1; fill:none\" points=\"\n",
       "  1295.97,1486.45 1295.97,1467.55 \n",
       "  \"/>\n",
       "<polyline clip-path=\"url(#clip040)\" style=\"stroke:#000000; stroke-linecap:butt; stroke-linejoin:round; stroke-width:4; stroke-opacity:1; fill:none\" points=\"\n",
       "  1794.46,1486.45 1794.46,1467.55 \n",
       "  \"/>\n",
       "<polyline clip-path=\"url(#clip040)\" style=\"stroke:#000000; stroke-linecap:butt; stroke-linejoin:round; stroke-width:4; stroke-opacity:1; fill:none\" points=\"\n",
       "  2292.94,1486.45 2292.94,1467.55 \n",
       "  \"/>\n",
       "<path clip-path=\"url(#clip040)\" d=\"M253.071 1532.02 L282.747 1532.02 L282.747 1535.95 L253.071 1535.95 L253.071 1532.02 Z\" fill=\"#000000\" fill-rule=\"evenodd\" fill-opacity=\"1\" /><path clip-path=\"url(#clip040)\" d=\"M293.65 1544.91 L301.288 1544.91 L301.288 1518.55 L292.978 1520.21 L292.978 1515.95 L301.242 1514.29 L305.918 1514.29 L305.918 1544.91 L313.557 1544.91 L313.557 1548.85 L293.65 1548.85 L293.65 1544.91 Z\" fill=\"#000000\" fill-rule=\"evenodd\" fill-opacity=\"1\" /><path clip-path=\"url(#clip040)\" d=\"M333.001 1517.37 Q329.39 1517.37 327.561 1520.93 Q325.756 1524.47 325.756 1531.6 Q325.756 1538.71 327.561 1542.27 Q329.39 1545.82 333.001 1545.82 Q336.635 1545.82 338.441 1542.27 Q340.27 1538.71 340.27 1531.6 Q340.27 1524.47 338.441 1520.93 Q336.635 1517.37 333.001 1517.37 M333.001 1513.66 Q338.811 1513.66 341.867 1518.27 Q344.946 1522.85 344.946 1531.6 Q344.946 1540.33 341.867 1544.94 Q338.811 1549.52 333.001 1549.52 Q327.191 1549.52 324.112 1544.94 Q321.057 1540.33 321.057 1531.6 Q321.057 1522.85 324.112 1518.27 Q327.191 1513.66 333.001 1513.66 Z\" fill=\"#000000\" fill-rule=\"evenodd\" fill-opacity=\"1\" /><path clip-path=\"url(#clip040)\" d=\"M767.132 1532.02 L796.808 1532.02 L796.808 1535.95 L767.132 1535.95 L767.132 1532.02 Z\" fill=\"#000000\" fill-rule=\"evenodd\" fill-opacity=\"1\" /><path clip-path=\"url(#clip040)\" d=\"M806.947 1514.29 L825.303 1514.29 L825.303 1518.22 L811.229 1518.22 L811.229 1526.7 Q812.248 1526.35 813.266 1526.19 Q814.285 1526 815.303 1526 Q821.09 1526 824.47 1529.17 Q827.849 1532.34 827.849 1537.76 Q827.849 1543.34 824.377 1546.44 Q820.905 1549.52 814.586 1549.52 Q812.41 1549.52 810.141 1549.15 Q807.896 1548.78 805.488 1548.04 L805.488 1543.34 Q807.572 1544.47 809.794 1545.03 Q812.016 1545.58 814.493 1545.58 Q818.498 1545.58 820.835 1543.48 Q823.173 1541.37 823.173 1537.76 Q823.173 1534.15 820.835 1532.04 Q818.498 1529.94 814.493 1529.94 Q812.618 1529.94 810.743 1530.35 Q808.891 1530.77 806.947 1531.65 L806.947 1514.29 Z\" fill=\"#000000\" fill-rule=\"evenodd\" fill-opacity=\"1\" /><path clip-path=\"url(#clip040)\" d=\"M1295.97 1517.37 Q1292.36 1517.37 1290.53 1520.93 Q1288.73 1524.47 1288.73 1531.6 Q1288.73 1538.71 1290.53 1542.27 Q1292.36 1545.82 1295.97 1545.82 Q1299.61 1545.82 1301.41 1542.27 Q1303.24 1538.71 1303.24 1531.6 Q1303.24 1524.47 1301.41 1520.93 Q1299.61 1517.37 1295.97 1517.37 M1295.97 1513.66 Q1301.78 1513.66 1304.84 1518.27 Q1307.92 1522.85 1307.92 1531.6 Q1307.92 1540.33 1304.84 1544.94 Q1301.78 1549.52 1295.97 1549.52 Q1290.16 1549.52 1287.08 1544.94 Q1284.03 1540.33 1284.03 1531.6 Q1284.03 1522.85 1287.08 1518.27 Q1290.16 1513.66 1295.97 1513.66 Z\" fill=\"#000000\" fill-rule=\"evenodd\" fill-opacity=\"1\" /><path clip-path=\"url(#clip040)\" d=\"M1784.73 1514.29 L1803.09 1514.29 L1803.09 1518.22 L1789.02 1518.22 L1789.02 1526.7 Q1790.03 1526.35 1791.05 1526.19 Q1792.07 1526 1793.09 1526 Q1798.88 1526 1802.26 1529.17 Q1805.64 1532.34 1805.64 1537.76 Q1805.64 1543.34 1802.16 1546.44 Q1798.69 1549.52 1792.37 1549.52 Q1790.2 1549.52 1787.93 1549.15 Q1785.68 1548.78 1783.28 1548.04 L1783.28 1543.34 Q1785.36 1544.47 1787.58 1545.03 Q1789.8 1545.58 1792.28 1545.58 Q1796.28 1545.58 1798.62 1543.48 Q1800.96 1541.37 1800.96 1537.76 Q1800.96 1534.15 1798.62 1532.04 Q1796.28 1529.94 1792.28 1529.94 Q1790.4 1529.94 1788.53 1530.35 Q1786.68 1530.77 1784.73 1531.65 L1784.73 1514.29 Z\" fill=\"#000000\" fill-rule=\"evenodd\" fill-opacity=\"1\" /><path clip-path=\"url(#clip040)\" d=\"M2267.63 1544.91 L2275.26 1544.91 L2275.26 1518.55 L2266.95 1520.21 L2266.95 1515.95 L2275.22 1514.29 L2279.89 1514.29 L2279.89 1544.91 L2287.53 1544.91 L2287.53 1548.85 L2267.63 1548.85 L2267.63 1544.91 Z\" fill=\"#000000\" fill-rule=\"evenodd\" fill-opacity=\"1\" /><path clip-path=\"url(#clip040)\" d=\"M2306.98 1517.37 Q2303.37 1517.37 2301.54 1520.93 Q2299.73 1524.47 2299.73 1531.6 Q2299.73 1538.71 2301.54 1542.27 Q2303.37 1545.82 2306.98 1545.82 Q2310.61 1545.82 2312.42 1542.27 Q2314.25 1538.71 2314.25 1531.6 Q2314.25 1524.47 2312.42 1520.93 Q2310.61 1517.37 2306.98 1517.37 M2306.98 1513.66 Q2312.79 1513.66 2315.84 1518.27 Q2318.92 1522.85 2318.92 1531.6 Q2318.92 1540.33 2315.84 1544.94 Q2312.79 1549.52 2306.98 1549.52 Q2301.17 1549.52 2298.09 1544.94 Q2295.03 1540.33 2295.03 1531.6 Q2295.03 1522.85 2298.09 1518.27 Q2301.17 1513.66 2306.98 1513.66 Z\" fill=\"#000000\" fill-rule=\"evenodd\" fill-opacity=\"1\" /><polyline clip-path=\"url(#clip042)\" style=\"stroke:#000000; stroke-linecap:butt; stroke-linejoin:round; stroke-width:2; stroke-opacity:0.1; fill:none\" points=\"\n",
       "  239.19,1253.03 2352.76,1253.03 \n",
       "  \"/>\n",
       "<polyline clip-path=\"url(#clip042)\" style=\"stroke:#000000; stroke-linecap:butt; stroke-linejoin:round; stroke-width:2; stroke-opacity:0.1; fill:none\" points=\"\n",
       "  239.19,910.163 2352.76,910.163 \n",
       "  \"/>\n",
       "<polyline clip-path=\"url(#clip042)\" style=\"stroke:#000000; stroke-linecap:butt; stroke-linejoin:round; stroke-width:2; stroke-opacity:0.1; fill:none\" points=\"\n",
       "  239.19,567.299 2352.76,567.299 \n",
       "  \"/>\n",
       "<polyline clip-path=\"url(#clip042)\" style=\"stroke:#000000; stroke-linecap:butt; stroke-linejoin:round; stroke-width:2; stroke-opacity:0.1; fill:none\" points=\"\n",
       "  239.19,224.436 2352.76,224.436 \n",
       "  \"/>\n",
       "<polyline clip-path=\"url(#clip040)\" style=\"stroke:#000000; stroke-linecap:butt; stroke-linejoin:round; stroke-width:4; stroke-opacity:1; fill:none\" points=\"\n",
       "  239.19,1486.45 239.19,47.2441 \n",
       "  \"/>\n",
       "<polyline clip-path=\"url(#clip040)\" style=\"stroke:#000000; stroke-linecap:butt; stroke-linejoin:round; stroke-width:4; stroke-opacity:1; fill:none\" points=\"\n",
       "  239.19,1253.03 258.088,1253.03 \n",
       "  \"/>\n",
       "<polyline clip-path=\"url(#clip040)\" style=\"stroke:#000000; stroke-linecap:butt; stroke-linejoin:round; stroke-width:4; stroke-opacity:1; fill:none\" points=\"\n",
       "  239.19,910.163 258.088,910.163 \n",
       "  \"/>\n",
       "<polyline clip-path=\"url(#clip040)\" style=\"stroke:#000000; stroke-linecap:butt; stroke-linejoin:round; stroke-width:4; stroke-opacity:1; fill:none\" points=\"\n",
       "  239.19,567.299 258.088,567.299 \n",
       "  \"/>\n",
       "<polyline clip-path=\"url(#clip040)\" style=\"stroke:#000000; stroke-linecap:butt; stroke-linejoin:round; stroke-width:4; stroke-opacity:1; fill:none\" points=\"\n",
       "  239.19,224.436 258.088,224.436 \n",
       "  \"/>\n",
       "<path clip-path=\"url(#clip040)\" d=\"M50.9921 1253.48 L80.6679 1253.48 L80.6679 1257.41 L50.9921 1257.41 L50.9921 1253.48 Z\" fill=\"#000000\" fill-rule=\"evenodd\" fill-opacity=\"1\" /><path clip-path=\"url(#clip040)\" d=\"M91.5706 1266.37 L99.2095 1266.37 L99.2095 1240.01 L90.8993 1241.67 L90.8993 1237.41 L99.1632 1235.75 L103.839 1235.75 L103.839 1266.37 L111.478 1266.37 L111.478 1270.31 L91.5706 1270.31 L91.5706 1266.37 Z\" fill=\"#000000\" fill-rule=\"evenodd\" fill-opacity=\"1\" /><path clip-path=\"url(#clip040)\" d=\"M130.922 1238.83 Q127.311 1238.83 125.482 1242.39 Q123.677 1245.93 123.677 1253.06 Q123.677 1260.17 125.482 1263.73 Q127.311 1267.27 130.922 1267.27 Q134.556 1267.27 136.362 1263.73 Q138.191 1260.17 138.191 1253.06 Q138.191 1245.93 136.362 1242.39 Q134.556 1238.83 130.922 1238.83 M130.922 1235.12 Q136.732 1235.12 139.788 1239.73 Q142.867 1244.31 142.867 1253.06 Q142.867 1261.79 139.788 1266.39 Q136.732 1270.98 130.922 1270.98 Q125.112 1270.98 122.033 1266.39 Q118.978 1261.79 118.978 1253.06 Q118.978 1244.31 122.033 1239.73 Q125.112 1235.12 130.922 1235.12 Z\" fill=\"#000000\" fill-rule=\"evenodd\" fill-opacity=\"1\" /><path clip-path=\"url(#clip040)\" d=\"M161.084 1238.83 Q157.473 1238.83 155.644 1242.39 Q153.839 1245.93 153.839 1253.06 Q153.839 1260.17 155.644 1263.73 Q157.473 1267.27 161.084 1267.27 Q164.718 1267.27 166.524 1263.73 Q168.353 1260.17 168.353 1253.06 Q168.353 1245.93 166.524 1242.39 Q164.718 1238.83 161.084 1238.83 M161.084 1235.12 Q166.894 1235.12 169.95 1239.73 Q173.029 1244.31 173.029 1253.06 Q173.029 1261.79 169.95 1266.39 Q166.894 1270.98 161.084 1270.98 Q155.274 1270.98 152.195 1266.39 Q149.14 1261.79 149.14 1253.06 Q149.14 1244.31 152.195 1239.73 Q155.274 1235.12 161.084 1235.12 Z\" fill=\"#000000\" fill-rule=\"evenodd\" fill-opacity=\"1\" /><path clip-path=\"url(#clip040)\" d=\"M191.246 1238.83 Q187.635 1238.83 185.806 1242.39 Q184.001 1245.93 184.001 1253.06 Q184.001 1260.17 185.806 1263.73 Q187.635 1267.27 191.246 1267.27 Q194.88 1267.27 196.686 1263.73 Q198.514 1260.17 198.514 1253.06 Q198.514 1245.93 196.686 1242.39 Q194.88 1238.83 191.246 1238.83 M191.246 1235.12 Q197.056 1235.12 200.112 1239.73 Q203.19 1244.31 203.19 1253.06 Q203.19 1261.79 200.112 1266.39 Q197.056 1270.98 191.246 1270.98 Q185.436 1270.98 182.357 1266.39 Q179.302 1261.79 179.302 1253.06 Q179.302 1244.31 182.357 1239.73 Q185.436 1235.12 191.246 1235.12 Z\" fill=\"#000000\" fill-rule=\"evenodd\" fill-opacity=\"1\" /><path clip-path=\"url(#clip040)\" d=\"M81.154 910.614 L110.83 910.614 L110.83 914.549 L81.154 914.549 L81.154 910.614 Z\" fill=\"#000000\" fill-rule=\"evenodd\" fill-opacity=\"1\" /><path clip-path=\"url(#clip040)\" d=\"M120.969 892.883 L139.325 892.883 L139.325 896.818 L125.251 896.818 L125.251 905.29 Q126.27 904.943 127.288 904.781 Q128.307 904.596 129.325 904.596 Q135.112 904.596 138.492 907.767 Q141.871 910.938 141.871 916.355 Q141.871 921.934 138.399 925.036 Q134.927 928.114 128.607 928.114 Q126.432 928.114 124.163 927.744 Q121.918 927.373 119.51 926.633 L119.51 921.934 Q121.594 923.068 123.816 923.623 Q126.038 924.179 128.515 924.179 Q132.519 924.179 134.857 922.073 Q137.195 919.966 137.195 916.355 Q137.195 912.744 134.857 910.637 Q132.519 908.531 128.515 908.531 Q126.64 908.531 124.765 908.948 Q122.913 909.364 120.969 910.244 L120.969 892.883 Z\" fill=\"#000000\" fill-rule=\"evenodd\" fill-opacity=\"1\" /><path clip-path=\"url(#clip040)\" d=\"M161.084 895.962 Q157.473 895.962 155.644 899.526 Q153.839 903.068 153.839 910.198 Q153.839 917.304 155.644 920.869 Q157.473 924.411 161.084 924.411 Q164.718 924.411 166.524 920.869 Q168.353 917.304 168.353 910.198 Q168.353 903.068 166.524 899.526 Q164.718 895.962 161.084 895.962 M161.084 892.258 Q166.894 892.258 169.95 896.864 Q173.029 901.448 173.029 910.198 Q173.029 918.924 169.95 923.531 Q166.894 928.114 161.084 928.114 Q155.274 928.114 152.195 923.531 Q149.14 918.924 149.14 910.198 Q149.14 901.448 152.195 896.864 Q155.274 892.258 161.084 892.258 Z\" fill=\"#000000\" fill-rule=\"evenodd\" fill-opacity=\"1\" /><path clip-path=\"url(#clip040)\" d=\"M191.246 895.962 Q187.635 895.962 185.806 899.526 Q184.001 903.068 184.001 910.198 Q184.001 917.304 185.806 920.869 Q187.635 924.411 191.246 924.411 Q194.88 924.411 196.686 920.869 Q198.514 917.304 198.514 910.198 Q198.514 903.068 196.686 899.526 Q194.88 895.962 191.246 895.962 M191.246 892.258 Q197.056 892.258 200.112 896.864 Q203.19 901.448 203.19 910.198 Q203.19 918.924 200.112 923.531 Q197.056 928.114 191.246 928.114 Q185.436 928.114 182.357 923.531 Q179.302 918.924 179.302 910.198 Q179.302 901.448 182.357 896.864 Q185.436 892.258 191.246 892.258 Z\" fill=\"#000000\" fill-rule=\"evenodd\" fill-opacity=\"1\" /><path clip-path=\"url(#clip040)\" d=\"M191.246 553.098 Q187.635 553.098 185.806 556.663 Q184.001 560.205 184.001 567.334 Q184.001 574.441 185.806 578.005 Q187.635 581.547 191.246 581.547 Q194.88 581.547 196.686 578.005 Q198.514 574.441 198.514 567.334 Q198.514 560.205 196.686 556.663 Q194.88 553.098 191.246 553.098 M191.246 549.394 Q197.056 549.394 200.112 554.001 Q203.19 558.584 203.19 567.334 Q203.19 576.061 200.112 580.667 Q197.056 585.251 191.246 585.251 Q185.436 585.251 182.357 580.667 Q179.302 576.061 179.302 567.334 Q179.302 558.584 182.357 554.001 Q185.436 549.394 191.246 549.394 Z\" fill=\"#000000\" fill-rule=\"evenodd\" fill-opacity=\"1\" /><path clip-path=\"url(#clip040)\" d=\"M120.969 207.156 L139.325 207.156 L139.325 211.091 L125.251 211.091 L125.251 219.563 Q126.27 219.216 127.288 219.054 Q128.307 218.869 129.325 218.869 Q135.112 218.869 138.492 222.04 Q141.871 225.211 141.871 230.628 Q141.871 236.207 138.399 239.309 Q134.927 242.387 128.607 242.387 Q126.432 242.387 124.163 242.017 Q121.918 241.647 119.51 240.906 L119.51 236.207 Q121.594 237.341 123.816 237.897 Q126.038 238.452 128.515 238.452 Q132.519 238.452 134.857 236.346 Q137.195 234.239 137.195 230.628 Q137.195 227.017 134.857 224.91 Q132.519 222.804 128.515 222.804 Q126.64 222.804 124.765 223.221 Q122.913 223.637 120.969 224.517 L120.969 207.156 Z\" fill=\"#000000\" fill-rule=\"evenodd\" fill-opacity=\"1\" /><path clip-path=\"url(#clip040)\" d=\"M161.084 210.235 Q157.473 210.235 155.644 213.799 Q153.839 217.341 153.839 224.471 Q153.839 231.577 155.644 235.142 Q157.473 238.684 161.084 238.684 Q164.718 238.684 166.524 235.142 Q168.353 231.577 168.353 224.471 Q168.353 217.341 166.524 213.799 Q164.718 210.235 161.084 210.235 M161.084 206.531 Q166.894 206.531 169.95 211.137 Q173.029 215.721 173.029 224.471 Q173.029 233.197 169.95 237.804 Q166.894 242.387 161.084 242.387 Q155.274 242.387 152.195 237.804 Q149.14 233.197 149.14 224.471 Q149.14 215.721 152.195 211.137 Q155.274 206.531 161.084 206.531 Z\" fill=\"#000000\" fill-rule=\"evenodd\" fill-opacity=\"1\" /><path clip-path=\"url(#clip040)\" d=\"M191.246 210.235 Q187.635 210.235 185.806 213.799 Q184.001 217.341 184.001 224.471 Q184.001 231.577 185.806 235.142 Q187.635 238.684 191.246 238.684 Q194.88 238.684 196.686 235.142 Q198.514 231.577 198.514 224.471 Q198.514 217.341 196.686 213.799 Q194.88 210.235 191.246 210.235 M191.246 206.531 Q197.056 206.531 200.112 211.137 Q203.19 215.721 203.19 224.471 Q203.19 233.197 200.112 237.804 Q197.056 242.387 191.246 242.387 Q185.436 242.387 182.357 237.804 Q179.302 233.197 179.302 224.471 Q179.302 215.721 182.357 211.137 Q185.436 206.531 191.246 206.531 Z\" fill=\"#000000\" fill-rule=\"evenodd\" fill-opacity=\"1\" /><polyline clip-path=\"url(#clip042)\" style=\"stroke:#009af9; stroke-linecap:butt; stroke-linejoin:round; stroke-width:4; stroke-opacity:1; fill:none\" points=\"\n",
       "  299.008,1445.72 303.876,1433.75 308.744,1421.89 313.613,1410.14 318.481,1398.49 363.493,1295.77 408.506,1201.73 453.518,1115.99 498.531,1038.18 552.632,954.613 \n",
       "  606.733,881.291 652.475,826.804 698.217,778.773 747.906,733.452 797.594,694.771 843.403,664.553 889.211,639.148 987.434,599.034 1101.24,572.748 1202.37,562.865 \n",
       "  1291.05,561.099 1387.74,562.967 1485.01,565.15 1592.55,563.321 1694.87,552.882 1801.25,528.174 1890.81,492.803 1945.48,463.297 2000.15,426.968 2051.54,385.99 \n",
       "  2102.93,337.82 2185.26,244.246 2267.6,128.449 2280.27,108.507 2292.94,87.9763 \n",
       "  \"/>\n",
       "<path clip-path=\"url(#clip040)\" d=\"\n",
       "M1995.03 198.898 L2282.3 198.898 L2282.3 95.2176 L1995.03 95.2176  Z\n",
       "  \" fill=\"#ffffff\" fill-rule=\"evenodd\" fill-opacity=\"1\"/>\n",
       "<polyline clip-path=\"url(#clip040)\" style=\"stroke:#000000; stroke-linecap:butt; stroke-linejoin:round; stroke-width:4; stroke-opacity:1; fill:none\" points=\"\n",
       "  1995.03,198.898 2282.3,198.898 2282.3,95.2176 1995.03,95.2176 1995.03,198.898 \n",
       "  \"/>\n",
       "<polyline clip-path=\"url(#clip040)\" style=\"stroke:#009af9; stroke-linecap:butt; stroke-linejoin:round; stroke-width:4; stroke-opacity:1; fill:none\" points=\"\n",
       "  2018.52,147.058 2159.42,147.058 \n",
       "  \"/>\n",
       "<path clip-path=\"url(#clip040)\" d=\"M2196.75 166.745 Q2194.94 171.375 2193.23 172.787 Q2191.52 174.199 2188.65 174.199 L2185.24 174.199 L2185.24 170.634 L2187.74 170.634 Q2189.5 170.634 2190.47 169.8 Q2191.45 168.967 2192.63 165.865 L2193.39 163.921 L2182.91 138.412 L2187.42 138.412 L2195.52 158.689 L2203.62 138.412 L2208.14 138.412 L2196.75 166.745 Z\" fill=\"#000000\" fill-rule=\"evenodd\" fill-opacity=\"1\" /><path clip-path=\"url(#clip040)\" d=\"M2215.43 160.402 L2223.07 160.402 L2223.07 134.037 L2214.76 135.703 L2214.76 131.444 L2223.02 129.778 L2227.7 129.778 L2227.7 160.402 L2235.34 160.402 L2235.34 164.338 L2215.43 164.338 L2215.43 160.402 Z\" fill=\"#000000\" fill-rule=\"evenodd\" fill-opacity=\"1\" /></svg>\n"
      ]
     },
     "metadata": {},
     "output_type": "display_data"
    }
   ],
   "source": [
    "f3(x) = x^3 - 3x^2 - x + 9\n",
    "df3(x) = 3x^2 - 6x - 1\n",
    "plot(f3, -10, 10)"
   ]
  },
  {
   "cell_type": "code",
   "execution_count": 40,
   "metadata": {},
   "outputs": [
    {
     "name": "stdout",
     "output_type": "stream",
     "text": [
      "iter\t           x_i+1\t             x_i\t               ϵ\t              ϵ0\n",
      "   0\t  7.075313807531\t 10.000000000000\t  2.924686192469\t  0.000001000000\n",
      "   1\t  5.145786812105\t  7.075313807531\t  1.929526995426\t  0.000001000000\n",
      "   2\t  3.870147832167\t  5.145786812105\t  1.275638979938\t  0.000001000000\n",
      "   3\t  2.993271019726\t  3.870147832167\t  0.876876812441\t  0.000001000000\n",
      "   4\t  2.242399933168\t  2.993271019726\t  0.750871086558\t  0.000001000000\n",
      "   5\t -2.432157466361\t  2.242399933168\t  4.674557399529\t  0.000001000000\n",
      "   6\t -1.771603637099\t -2.432157466361\t  0.660553829262\t  0.000001000000\n",
      "   7\t -1.550843649819\t -1.771603637099\t  0.220759987280\t  0.000001000000\n",
      "   8\t -1.525427868561\t -1.550843649819\t  0.025415781258\t  0.000001000000\n",
      "   9\t -1.525102307891\t -1.525427868561\t  0.000325560670\t  0.000001000000\n",
      "  10\t -1.525102254814\t -1.525102307891\t  0.000000053077\t  0.000001000000\n",
      "x = -1.5251022548143218\n",
      "  0.000827 seconds (292 allocations: 30.516 KiB)\n"
     ]
    }
   ],
   "source": [
    "@time println(\"x = $(NewtonMethod(f3,df3,10,1e-6))\")"
   ]
  },
  {
   "cell_type": "code",
   "execution_count": 41,
   "metadata": {},
   "outputs": [
    {
     "data": {
      "image/png": "[encoded data removed]",
      "image/svg+xml": "<?xml version=\"1.0\" encoding=\"utf-8\"?>\n<svg xmlns=\"http://www.w3.org/2000/svg\" xmlns:xlink=\"http://www.w3.org/1999/xlink\" width=\"600\" height=\"400\" viewBox=\"0 0 2400 1600\">\n<defs>\n  <clipPath id=\"clip080\">\n    <rect x=\"0\" y=\"0\" width=\"2400\" height=\"1600\"/>\n  </clipPath>\n</defs>\n<path clip-path=\"url(#clip080)\" d=\"\nM0 1600 L2400 1600 L2400 0 L0 0  Z\n  \" fill=\"#ffffff\" fill-rule=\"evenodd\" fill-opacity=\"1\"/>\n<defs>\n  <clipPath id=\"clip081\">\n    <rect x=\"480\" y=\"0\" width=\"1681\" height=\"1600\"/>\n  </clipPath>\n</defs>\n<path clip-path=\"url(#clip080)\" d=\"\nM239.19 1486.45 L2352.76 1486.45 L2352.76 47.2441 L239.19 47.2441  Z\n  \" fill=\"#ffffff\" fill-rule=\"evenodd\" fill-opacity=\"1\"/>\n<defs>\n  <clipPath id=\"clip082\">\n    <rect x=\"239\" y=\"47\" width=\"2115\" height=\"1440\"/>\n  </clipPath>\n</defs>\n<polyline clip-path=\"url(#clip082)\" style=\"stroke:#000000; stroke-linecap:butt; stroke-linejoin:round; stroke-width:2; stroke-opacity:0.1; fill:none\" points=\"\n  299.008,1486.45 299.008,47.2441 \n  \"/>\n<polyline clip-path=\"url(#clip082)\" style=\"stroke:#000000; stroke-linecap:butt; stroke-linejoin:round; stroke-width:2; stroke-opacity:0.1; fill:none\" points=\"\n  797.491,1486.45 797.491,47.2441 \n  \"/>\n<polyline clip-path=\"url(#clip082)\" style=\"stroke:#000000; stroke-linecap:butt; stroke-linejoin:round; stroke-width:2; stroke-opacity:0.1; fill:none\" points=\"\n  1295.97,1486.45 1295.97,47.2441 \n  \"/>\n<polyline clip-path=\"url(#clip082)\" style=\"stroke:#000000; stroke-linecap:butt; stroke-linejoin:round; stroke-width:2; stroke-opacity:0.1; fill:none\" points=\"\n  1794.46,1486.45 1794.46,47.2441 \n  \"/>\n<polyline clip-path=\"url(#clip082)\" style=\"stroke:#000000; stroke-linecap:butt; stroke-linejoin:round; stroke-width:2; stroke-opacity:0.1; fill:none\" points=\"\n  2292.94,1486.45 2292.94,47.2441 \n  \"/>\n<polyline clip-path=\"url(#clip080)\" style=\"stroke:#000000; stroke-linecap:butt; stroke-linejoin:round; stroke-width:4; stroke-opacity:1; fill:none\" points=\"\n  239.19,1486.45 2352.76,1486.45 \n  \"/>\n<polyline clip-path=\"url(#clip080)\" style=\"stroke:#000000; stroke-linecap:butt; stroke-linejoin:round; stroke-width:4; stroke-opacity:1; fill:none\" points=\"\n  299.008,1486.45 299.008,1467.55 \n  \"/>\n<polyline clip-path=\"url(#clip080)\" style=\"stroke:#000000; stroke-linecap:butt; stroke-linejoin:round; stroke-width:4; stroke-opacity:1; fill:none\" points=\"\n  797.491,1486.45 797.491,1467.55 \n  \"/>\n<polyline clip-path=\"url(#clip080)\" style=\"stroke:#000000; stroke-linecap:butt; stroke-linejoin:round; stroke-width:4; stroke-opacity:1; fill:none\" points=\"\n  1295.97,1486.45 1295.97,1467.55 \n  \"/>\n<polyline clip-path=\"url(#clip080)\" style=\"stroke:#000000; stroke-linecap:butt; stroke-linejoin:round; stroke-width:4; stroke-opacity:1; fill:none\" points=\"\n  1794.46,1486.45 1794.46,1467.55 \n  \"/>\n<polyline clip-path=\"url(#clip080)\" style=\"stroke:#000000; stroke-linecap:butt; stroke-linejoin:round; stroke-width:4; stroke-opacity:1; fill:none\" points=\"\n  2292.94,1486.45 2292.94,1467.55 \n  \"/>\n<path clip-path=\"url(#clip080)\" d=\"M253.071 1532.02 L282.747 1532.02 L282.747 1535.95 L253.071 1535.95 L253.071 1532.02 Z\" fill=\"#000000\" fill-rule=\"evenodd\" fill-opacity=\"1\" /><path clip-path=\"url(#clip080)\" d=\"M293.65 1544.91 L301.288 1544.91 L301.288 1518.55 L292.978 1520.21 L292.978 1515.95 L301.242 1514.29 L305.918 1514.29 L305.918 1544.91 L313.557 1544.91 L313.557 1548.85 L293.65 1548.85 L293.65 1544.91 Z\" fill=\"#000000\" fill-rule=\"evenodd\" fill-opacity=\"1\" /><path clip-path=\"url(#clip080)\" d=\"M333.001 1517.37 Q329.39 1517.37 327.561 1520.93 Q325.756 1524.47 325.756 1531.6 Q325.756 1538.71 327.561 1542.27 Q329.39 1545.82 333.001 1545.82 Q336.635 1545.82 338.441 1542.27 Q340.27 1538.71 340.27 1531.6 Q340.27 1524.47 338.441 1520.93 Q336.635 1517.37 333.001 1517.37 M333.001 1513.66 Q338.811 1513.66 341.867 1518.27 Q344.946 1522.85 344.946 1531.6 Q344.946 1540.33 341.867 1544.94 Q338.811 1549.52 333.001 1549.52 Q327.191 1549.52 324.112 1544.94 Q321.057 1540.33 321.057 1531.6 Q321.057 1522.85 324.112 1518.27 Q327.191 1513.66 333.001 1513.66 Z\" fill=\"#000000\" fill-rule=\"evenodd\" fill-opacity=\"1\" /><path clip-path=\"url(#clip080)\" d=\"M767.132 1532.02 L796.808 1532.02 L796.808 1535.95 L767.132 1535.95 L767.132 1532.02 Z\" fill=\"#000000\" fill-rule=\"evenodd\" fill-opacity=\"1\" /><path clip-path=\"url(#clip080)\" d=\"M806.947 1514.29 L825.303 1514.29 L825.303 1518.22 L811.229 1518.22 L811.229 1526.7 Q812.248 1526.35 813.266 1526.19 Q814.285 1526 815.303 1526 Q821.09 1526 824.47 1529.17 Q827.849 1532.34 827.849 1537.76 Q827.849 1543.34 824.377 1546.44 Q820.905 1549.52 814.586 1549.52 Q812.41 1549.52 810.141 1549.15 Q807.896 1548.78 805.488 1548.04 L805.488 1543.34 Q807.572 1544.47 809.794 1545.03 Q812.016 1545.58 814.493 1545.58 Q818.498 1545.58 820.835 1543.48 Q823.173 1541.37 823.173 1537.76 Q823.173 1534.15 820.835 1532.04 Q818.498 1529.94 814.493 1529.94 Q812.618 1529.94 810.743 1530.35 Q808.891 1530.77 806.947 1531.65 L806.947 1514.29 Z\" fill=\"#000000\" fill-rule=\"evenodd\" fill-opacity=\"1\" /><path clip-path=\"url(#clip080)\" d=\"M1295.97 1517.37 Q1292.36 1517.37 1290.53 1520.93 Q1288.73 1524.47 1288.73 1531.6 Q1288.73 1538.71 1290.53 1542.27 Q1292.36 1545.82 1295.97 1545.82 Q1299.61 1545.82 1301.41 1542.27 Q1303.24 1538.71 1303.24 1531.6 Q1303.24 1524.47 1301.41 1520.93 Q1299.61 1517.37 1295.97 1517.37 M1295.97 1513.66 Q1301.78 1513.66 1304.84 1518.27 Q1307.92 1522.85 1307.92 1531.6 Q1307.92 1540.33 1304.84 1544.94 Q1301.78 1549.52 1295.97 1549.52 Q1290.16 1549.52 1287.08 1544.94 Q1284.03 1540.33 1284.03 1531.6 Q1284.03 1522.85 1287.08 1518.27 Q1290.16 1513.66 1295.97 1513.66 Z\" fill=\"#000000\" fill-rule=\"evenodd\" fill-opacity=\"1\" /><path clip-path=\"url(#clip080)\" d=\"M1784.73 1514.29 L1803.09 1514.29 L1803.09 1518.22 L1789.02 1518.22 L1789.02 1526.7 Q1790.03 1526.35 1791.05 1526.19 Q1792.07 1526 1793.09 1526 Q1798.88 1526 1802.26 1529.17 Q1805.64 1532.34 1805.64 1537.76 Q1805.64 1543.34 1802.16 1546.44 Q1798.69 1549.52 1792.37 1549.52 Q1790.2 1549.52 1787.93 1549.15 Q1785.68 1548.78 1783.28 1548.04 L1783.28 1543.34 Q1785.36 1544.47 1787.58 1545.03 Q1789.8 1545.58 1792.28 1545.58 Q1796.28 1545.58 1798.62 1543.48 Q1800.96 1541.37 1800.96 1537.76 Q1800.96 1534.15 1798.62 1532.04 Q1796.28 1529.94 1792.28 1529.94 Q1790.4 1529.94 1788.53 1530.35 Q1786.68 1530.77 1784.73 1531.65 L1784.73 1514.29 Z\" fill=\"#000000\" fill-rule=\"evenodd\" fill-opacity=\"1\" /><path clip-path=\"url(#clip080)\" d=\"M2267.63 1544.91 L2275.26 1544.91 L2275.26 1518.55 L2266.95 1520.21 L2266.95 1515.95 L2275.22 1514.29 L2279.89 1514.29 L2279.89 1544.91 L2287.53 1544.91 L2287.53 1548.85 L2267.63 1548.85 L2267.63 1544.91 Z\" fill=\"#000000\" fill-rule=\"evenodd\" fill-opacity=\"1\" /><path clip-path=\"url(#clip080)\" d=\"M2306.98 1517.37 Q2303.37 1517.37 2301.54 1520.93 Q2299.73 1524.47 2299.73 1531.6 Q2299.73 1538.71 2301.54 1542.27 Q2303.37 1545.82 2306.98 1545.82 Q2310.61 1545.82 2312.42 1542.27 Q2314.25 1538.71 2314.25 1531.6 Q2314.25 1524.47 2312.42 1520.93 Q2310.61 1517.37 2306.98 1517.37 M2306.98 1513.66 Q2312.79 1513.66 2315.84 1518.27 Q2318.92 1522.85 2318.92 1531.6 Q2318.92 1540.33 2315.84 1544.94 Q2312.79 1549.52 2306.98 1549.52 Q2301.17 1549.52 2298.09 1544.94 Q2295.03 1540.33 2295.03 1531.6 Q2295.03 1522.85 2298.09 1518.27 Q2301.17 1513.66 2306.98 1513.66 Z\" fill=\"#000000\" fill-rule=\"evenodd\" fill-opacity=\"1\" /><polyline clip-path=\"url(#clip082)\" style=\"stroke:#000000; stroke-linecap:butt; stroke-linejoin:round; stroke-width:2; stroke-opacity:0.1; fill:none\" points=\"\n  239.19,1451.89 2352.76,1451.89 \n  \"/>\n<polyline clip-path=\"url(#clip082)\" style=\"stroke:#000000; stroke-linecap:butt; stroke-linejoin:round; stroke-width:2; stroke-opacity:0.1; fill:none\" points=\"\n  239.19,1109.02 2352.76,1109.02 \n  \"/>\n<polyline clip-path=\"url(#clip082)\" style=\"stroke:#000000; stroke-linecap:butt; stroke-linejoin:round; stroke-width:2; stroke-opacity:0.1; fill:none\" points=\"\n  239.19,766.16 2352.76,766.16 \n  \"/>\n<polyline clip-path=\"url(#clip082)\" style=\"stroke:#000000; stroke-linecap:butt; stroke-linejoin:round; stroke-width:2; stroke-opacity:0.1; fill:none\" points=\"\n  239.19,423.297 2352.76,423.297 \n  \"/>\n<polyline clip-path=\"url(#clip082)\" style=\"stroke:#000000; stroke-linecap:butt; stroke-linejoin:round; stroke-width:2; stroke-opacity:0.1; fill:none\" points=\"\n  239.19,80.4333 2352.76,80.4333 \n  \"/>\n<polyline clip-path=\"url(#clip080)\" style=\"stroke:#000000; stroke-linecap:butt; stroke-linejoin:round; stroke-width:4; stroke-opacity:1; fill:none\" points=\"\n  239.19,1486.45 239.19,47.2441 \n  \"/>\n<polyline clip-path=\"url(#clip080)\" style=\"stroke:#000000; stroke-linecap:butt; stroke-linejoin:round; stroke-width:4; stroke-opacity:1; fill:none\" points=\"\n  239.19,1451.89 258.088,1451.89 \n  \"/>\n<polyline clip-path=\"url(#clip080)\" style=\"stroke:#000000; stroke-linecap:butt; stroke-linejoin:round; stroke-width:4; stroke-opacity:1; fill:none\" points=\"\n  239.19,1109.02 258.088,1109.02 \n  \"/>\n<polyline clip-path=\"url(#clip080)\" style=\"stroke:#000000; stroke-linecap:butt; stroke-linejoin:round; stroke-width:4; stroke-opacity:1; fill:none\" points=\"\n  239.19,766.16 258.088,766.16 \n  \"/>\n<polyline clip-path=\"url(#clip080)\" style=\"stroke:#000000; stroke-linecap:butt; stroke-linejoin:round; stroke-width:4; stroke-opacity:1; fill:none\" points=\"\n  239.19,423.297 258.088,423.297 \n  \"/>\n<polyline clip-path=\"url(#clip080)\" style=\"stroke:#000000; stroke-linecap:butt; stroke-linejoin:round; stroke-width:4; stroke-opacity:1; fill:none\" points=\"\n  239.19,80.4333 258.088,80.4333 \n  \"/>\n<path clip-path=\"url(#clip080)\" d=\"M50.9921 1452.34 L80.6679 1452.34 L80.6679 1456.27 L50.9921 1456.27 L50.9921 1452.34 Z\" fill=\"#000000\" fill-rule=\"evenodd\" fill-opacity=\"1\" /><path clip-path=\"url(#clip080)\" d=\"M91.5706 1465.23 L99.2095 1465.23 L99.2095 1438.87 L90.8993 1440.53 L90.8993 1436.27 L99.1632 1434.61 L103.839 1434.61 L103.839 1465.23 L111.478 1465.23 L111.478 1469.17 L91.5706 1469.17 L91.5706 1465.23 Z\" fill=\"#000000\" fill-rule=\"evenodd\" fill-opacity=\"1\" /><path clip-path=\"url(#clip080)\" d=\"M130.922 1437.69 Q127.311 1437.69 125.482 1441.25 Q123.677 1444.79 123.677 1451.92 Q123.677 1459.03 125.482 1462.59 Q127.311 1466.13 130.922 1466.13 Q134.556 1466.13 136.362 1462.59 Q138.191 1459.03 138.191 1451.92 Q138.191 1444.79 136.362 1441.25 Q134.556 1437.69 130.922 1437.69 M130.922 1433.98 Q136.732 1433.98 139.788 1438.59 Q142.867 1443.17 142.867 1451.92 Q142.867 1460.65 139.788 1465.26 Q136.732 1469.84 130.922 1469.84 Q125.112 1469.84 122.033 1465.26 Q118.978 1460.65 118.978 1451.92 Q118.978 1443.17 122.033 1438.59 Q125.112 1433.98 130.922 1433.98 Z\" fill=\"#000000\" fill-rule=\"evenodd\" fill-opacity=\"1\" /><path clip-path=\"url(#clip080)\" d=\"M161.084 1437.69 Q157.473 1437.69 155.644 1441.25 Q153.839 1444.79 153.839 1451.92 Q153.839 1459.03 155.644 1462.59 Q157.473 1466.13 161.084 1466.13 Q164.718 1466.13 166.524 1462.59 Q168.353 1459.03 168.353 1451.92 Q168.353 1444.79 166.524 1441.25 Q164.718 1437.69 161.084 1437.69 M161.084 1433.98 Q166.894 1433.98 169.95 1438.59 Q173.029 1443.17 173.029 1451.92 Q173.029 1460.65 169.95 1465.26 Q166.894 1469.84 161.084 1469.84 Q155.274 1469.84 152.195 1465.26 Q149.14 1460.65 149.14 1451.92 Q149.14 1443.17 152.195 1438.59 Q155.274 1433.98 161.084 1433.98 Z\" fill=\"#000000\" fill-rule=\"evenodd\" fill-opacity=\"1\" /><path clip-path=\"url(#clip080)\" d=\"M191.246 1437.69 Q187.635 1437.69 185.806 1441.25 Q184.001 1444.79 184.001 1451.92 Q184.001 1459.03 185.806 1462.59 Q187.635 1466.13 191.246 1466.13 Q194.88 1466.13 196.686 1462.59 Q198.514 1459.03 198.514 1451.92 Q198.514 1444.79 196.686 1441.25 Q194.88 1437.69 191.246 1437.69 M191.246 1433.98 Q197.056 1433.98 200.112 1438.59 Q203.19 1443.17 203.19 1451.92 Q203.19 1460.65 200.112 1465.26 Q197.056 1469.84 191.246 1469.84 Q185.436 1469.84 182.357 1465.26 Q179.302 1460.65 179.302 1451.92 Q179.302 1443.17 182.357 1438.59 Q185.436 1433.98 191.246 1433.98 Z\" fill=\"#000000\" fill-rule=\"evenodd\" fill-opacity=\"1\" /><path clip-path=\"url(#clip080)\" d=\"M81.154 1109.48 L110.83 1109.48 L110.83 1113.41 L81.154 1113.41 L81.154 1109.48 Z\" fill=\"#000000\" fill-rule=\"evenodd\" fill-opacity=\"1\" /><path clip-path=\"url(#clip080)\" d=\"M120.969 1091.74 L139.325 1091.74 L139.325 1095.68 L125.251 1095.68 L125.251 1104.15 Q126.27 1103.8 127.288 1103.64 Q128.307 1103.46 129.325 1103.46 Q135.112 1103.46 138.492 1106.63 Q141.871 1109.8 141.871 1115.22 Q141.871 1120.79 138.399 1123.9 Q134.927 1126.98 128.607 1126.98 Q126.432 1126.98 124.163 1126.6 Q121.918 1126.23 119.51 1125.49 L119.51 1120.79 Q121.594 1121.93 123.816 1122.48 Q126.038 1123.04 128.515 1123.04 Q132.519 1123.04 134.857 1120.93 Q137.195 1118.83 137.195 1115.22 Q137.195 1111.6 134.857 1109.5 Q132.519 1107.39 128.515 1107.39 Q126.64 1107.39 124.765 1107.81 Q122.913 1108.23 120.969 1109.1 L120.969 1091.74 Z\" fill=\"#000000\" fill-rule=\"evenodd\" fill-opacity=\"1\" /><path clip-path=\"url(#clip080)\" d=\"M161.084 1094.82 Q157.473 1094.82 155.644 1098.39 Q153.839 1101.93 153.839 1109.06 Q153.839 1116.16 155.644 1119.73 Q157.473 1123.27 161.084 1123.27 Q164.718 1123.27 166.524 1119.73 Q168.353 1116.16 168.353 1109.06 Q168.353 1101.93 166.524 1098.39 Q164.718 1094.82 161.084 1094.82 M161.084 1091.12 Q166.894 1091.12 169.95 1095.73 Q173.029 1100.31 173.029 1109.06 Q173.029 1117.79 169.95 1122.39 Q166.894 1126.98 161.084 1126.98 Q155.274 1126.98 152.195 1122.39 Q149.14 1117.79 149.14 1109.06 Q149.14 1100.31 152.195 1095.73 Q155.274 1091.12 161.084 1091.12 Z\" fill=\"#000000\" fill-rule=\"evenodd\" fill-opacity=\"1\" /><path clip-path=\"url(#clip080)\" d=\"M191.246 1094.82 Q187.635 1094.82 185.806 1098.39 Q184.001 1101.93 184.001 1109.06 Q184.001 1116.16 185.806 1119.73 Q187.635 1123.27 191.246 1123.27 Q194.88 1123.27 196.686 1119.73 Q198.514 1116.16 198.514 1109.06 Q198.514 1101.93 196.686 1098.39 Q194.88 1094.82 191.246 1094.82 M191.246 1091.12 Q197.056 1091.12 200.112 1095.73 Q203.19 1100.31 203.19 1109.06 Q203.19 1117.79 200.112 1122.39 Q197.056 1126.98 191.246 1126.98 Q185.436 1126.98 182.357 1122.39 Q179.302 1117.79 179.302 1109.06 Q179.302 1100.31 182.357 1095.73 Q185.436 1091.12 191.246 1091.12 Z\" fill=\"#000000\" fill-rule=\"evenodd\" fill-opacity=\"1\" /><path clip-path=\"url(#clip080)\" d=\"M191.246 751.959 Q187.635 751.959 185.806 755.524 Q184.001 759.065 184.001 766.195 Q184.001 773.301 185.806 776.866 Q187.635 780.408 191.246 780.408 Q194.88 780.408 196.686 776.866 Q198.514 773.301 198.514 766.195 Q198.514 759.065 196.686 755.524 Q194.88 751.959 191.246 751.959 M191.246 748.255 Q197.056 748.255 200.112 752.862 Q203.19 757.445 203.19 766.195 Q203.19 774.922 200.112 779.528 Q197.056 784.112 191.246 784.112 Q185.436 784.112 182.357 779.528 Q179.302 774.922 179.302 766.195 Q179.302 757.445 182.357 752.862 Q185.436 748.255 191.246 748.255 Z\" fill=\"#000000\" fill-rule=\"evenodd\" fill-opacity=\"1\" /><path clip-path=\"url(#clip080)\" d=\"M120.969 406.017 L139.325 406.017 L139.325 409.952 L125.251 409.952 L125.251 418.424 Q126.27 418.077 127.288 417.915 Q128.307 417.73 129.325 417.73 Q135.112 417.73 138.492 420.901 Q141.871 424.072 141.871 429.489 Q141.871 435.068 138.399 438.169 Q134.927 441.248 128.607 441.248 Q126.432 441.248 124.163 440.878 Q121.918 440.507 119.51 439.767 L119.51 435.068 Q121.594 436.202 123.816 436.757 Q126.038 437.313 128.515 437.313 Q132.519 437.313 134.857 435.206 Q137.195 433.1 137.195 429.489 Q137.195 425.878 134.857 423.771 Q132.519 421.665 128.515 421.665 Q126.64 421.665 124.765 422.081 Q122.913 422.498 120.969 423.378 L120.969 406.017 Z\" fill=\"#000000\" fill-rule=\"evenodd\" fill-opacity=\"1\" /><path clip-path=\"url(#clip080)\" d=\"M161.084 409.095 Q157.473 409.095 155.644 412.66 Q153.839 416.202 153.839 423.331 Q153.839 430.438 155.644 434.003 Q157.473 437.544 161.084 437.544 Q164.718 437.544 166.524 434.003 Q168.353 430.438 168.353 423.331 Q168.353 416.202 166.524 412.66 Q164.718 409.095 161.084 409.095 M161.084 405.392 Q166.894 405.392 169.95 409.998 Q173.029 414.582 173.029 423.331 Q173.029 432.058 169.95 436.665 Q166.894 441.248 161.084 441.248 Q155.274 441.248 152.195 436.665 Q149.14 432.058 149.14 423.331 Q149.14 414.582 152.195 409.998 Q155.274 405.392 161.084 405.392 Z\" fill=\"#000000\" fill-rule=\"evenodd\" fill-opacity=\"1\" /><path clip-path=\"url(#clip080)\" d=\"M191.246 409.095 Q187.635 409.095 185.806 412.66 Q184.001 416.202 184.001 423.331 Q184.001 430.438 185.806 434.003 Q187.635 437.544 191.246 437.544 Q194.88 437.544 196.686 434.003 Q198.514 430.438 198.514 423.331 Q198.514 416.202 196.686 412.66 Q194.88 409.095 191.246 409.095 M191.246 405.392 Q197.056 405.392 200.112 409.998 Q203.19 414.582 203.19 423.331 Q203.19 432.058 200.112 436.665 Q197.056 441.248 191.246 441.248 Q185.436 441.248 182.357 436.665 Q179.302 432.058 179.302 423.331 Q179.302 414.582 182.357 409.998 Q185.436 405.392 191.246 405.392 Z\" fill=\"#000000\" fill-rule=\"evenodd\" fill-opacity=\"1\" /><path clip-path=\"url(#clip080)\" d=\"M91.5706 93.7781 L99.2095 93.7781 L99.2095 67.4125 L90.8993 69.0792 L90.8993 64.8199 L99.1632 63.1533 L103.839 63.1533 L103.839 93.7781 L111.478 93.7781 L111.478 97.7133 L91.5706 97.7133 L91.5706 93.7781 Z\" fill=\"#000000\" fill-rule=\"evenodd\" fill-opacity=\"1\" /><path clip-path=\"url(#clip080)\" d=\"M130.922 66.232 Q127.311 66.232 125.482 69.7968 Q123.677 73.3384 123.677 80.468 Q123.677 87.5744 125.482 91.1392 Q127.311 94.6809 130.922 94.6809 Q134.556 94.6809 136.362 91.1392 Q138.191 87.5744 138.191 80.468 Q138.191 73.3384 136.362 69.7968 Q134.556 66.232 130.922 66.232 M130.922 62.5283 Q136.732 62.5283 139.788 67.1347 Q142.867 71.718 142.867 80.468 Q142.867 89.1948 139.788 93.8013 Q136.732 98.3846 130.922 98.3846 Q125.112 98.3846 122.033 93.8013 Q118.978 89.1948 118.978 80.468 Q118.978 71.718 122.033 67.1347 Q125.112 62.5283 130.922 62.5283 Z\" fill=\"#000000\" fill-rule=\"evenodd\" fill-opacity=\"1\" /><path clip-path=\"url(#clip080)\" d=\"M161.084 66.232 Q157.473 66.232 155.644 69.7968 Q153.839 73.3384 153.839 80.468 Q153.839 87.5744 155.644 91.1392 Q157.473 94.6809 161.084 94.6809 Q164.718 94.6809 166.524 91.1392 Q168.353 87.5744 168.353 80.468 Q168.353 73.3384 166.524 69.7968 Q164.718 66.232 161.084 66.232 M161.084 62.5283 Q166.894 62.5283 169.95 67.1347 Q173.029 71.718 173.029 80.468 Q173.029 89.1948 169.95 93.8013 Q166.894 98.3846 161.084 98.3846 Q155.274 98.3846 152.195 93.8013 Q149.14 89.1948 149.14 80.468 Q149.14 71.718 152.195 67.1347 Q155.274 62.5283 161.084 62.5283 Z\" fill=\"#000000\" fill-rule=\"evenodd\" fill-opacity=\"1\" /><path clip-path=\"url(#clip080)\" d=\"M191.246 66.232 Q187.635 66.232 185.806 69.7968 Q184.001 73.3384 184.001 80.468 Q184.001 87.5744 185.806 91.1392 Q187.635 94.6809 191.246 94.6809 Q194.88 94.6809 196.686 91.1392 Q198.514 87.5744 198.514 80.468 Q198.514 73.3384 196.686 69.7968 Q194.88 66.232 191.246 66.232 M191.246 62.5283 Q197.056 62.5283 200.112 67.1347 Q203.19 71.718 203.19 80.468 Q203.19 89.1948 200.112 93.8013 Q197.056 98.3846 191.246 98.3846 Q185.436 98.3846 182.357 93.8013 Q179.302 89.1948 179.302 80.468 Q179.302 71.718 182.357 67.1347 Q185.436 62.5283 191.246 62.5283 Z\" fill=\"#000000\" fill-rule=\"evenodd\" fill-opacity=\"1\" /><polyline clip-path=\"url(#clip082)\" style=\"stroke:#009af9; stroke-linecap:butt; stroke-linejoin:round; stroke-width:4; stroke-opacity:1; fill:none\" points=\"\n  299.008,1445.72 303.876,1435.75 308.744,1425.89 313.613,1416.12 318.481,1406.45 363.493,1321.52 408.506,1244.43 453.518,1174.81 498.531,1112.28 552.632,1045.97 \n  606.733,988.686 652.475,946.817 698.217,910.538 797.594,849.08 889.211,810.621 987.434,785.049 1101.24,770.617 1202.37,766.77 1291.05,766.812 1387.74,766.942 \n  1485.01,763.472 1592.55,750.835 1694.87,725.668 1748.06,706.015 1801.25,681.05 1846.03,655.459 1890.81,625.288 1945.48,581.702 2000.15,530.055 2051.54,473.551 \n  2102.93,408.761 2144.1,350.505 2185.26,286.282 2226.43,215.801 2267.6,138.774 2273.93,126.32 2280.27,113.703 2286.6,100.922 2292.94,87.9763 \n  \"/>\n<path clip-path=\"url(#clip080)\" d=\"\nM1995.03 198.898 L2282.3 198.898 L2282.3 95.2176 L1995.03 95.2176  Z\n  \" fill=\"#ffffff\" fill-rule=\"evenodd\" fill-opacity=\"1\"/>\n<polyline clip-path=\"url(#clip080)\" style=\"stroke:#000000; stroke-linecap:butt; stroke-linejoin:round; stroke-width:4; stroke-opacity:1; fill:none\" points=\"\n  1995.03,198.898 2282.3,198.898 2282.3,95.2176 1995.03,95.2176 1995.03,198.898 \n  \"/>\n<polyline clip-path=\"url(#clip080)\" style=\"stroke:#009af9; stroke-linecap:butt; stroke-linejoin:round; stroke-width:4; stroke-opacity:1; fill:none\" points=\"\n  2018.52,147.058 2159.42,147.058 \n  \"/>\n<path clip-path=\"url(#clip080)\" d=\"M2196.75 166.745 Q2194.94 171.375 2193.23 172.787 Q2191.52 174.199 2188.65 174.199 L2185.24 174.199 L2185.24 170.634 L2187.74 170.634 Q2189.5 170.634 2190.47 169.8 Q2191.45 168.967 2192.63 165.865 L2193.39 163.921 L2182.91 138.412 L2187.42 138.412 L2195.52 158.689 L2203.62 138.412 L2208.14 138.412 L2196.75 166.745 Z\" fill=\"#000000\" fill-rule=\"evenodd\" fill-opacity=\"1\" /><path clip-path=\"url(#clip080)\" d=\"M2215.43 160.402 L2223.07 160.402 L2223.07 134.037 L2214.76 135.703 L2214.76 131.444 L2223.02 129.778 L2227.7 129.778 L2227.7 160.402 L2235.34 160.402 L2235.34 164.338 L2215.43 164.338 L2215.43 160.402 Z\" fill=\"#000000\" fill-rule=\"evenodd\" fill-opacity=\"1\" /></svg>\n",
      "text/html": [
       "<?xml version=\"1.0\" encoding=\"utf-8\"?>\n",
       "<svg xmlns=\"http://www.w3.org/2000/svg\" xmlns:xlink=\"http://www.w3.org/1999/xlink\" width=\"600\" height=\"400\" viewBox=\"0 0 2400 1600\">\n",
       "<defs>\n",
       "  <clipPath id=\"clip130\">\n",
       "    <rect x=\"0\" y=\"0\" width=\"2400\" height=\"1600\"/>\n",
       "  </clipPath>\n",
       "</defs>\n",
       "<path clip-path=\"url(#clip130)\" d=\"\n",
       "M0 1600 L2400 1600 L2400 0 L0 0  Z\n",
       "  \" fill=\"#ffffff\" fill-rule=\"evenodd\" fill-opacity=\"1\"/>\n",
       "<defs>\n",
       "  <clipPath id=\"clip131\">\n",
       "    <rect x=\"480\" y=\"0\" width=\"1681\" height=\"1600\"/>\n",
       "  </clipPath>\n",
       "</defs>\n",
       "<path clip-path=\"url(#clip130)\" d=\"\n",
       "M239.19 1486.45 L2352.76 1486.45 L2352.76 47.2441 L239.19 47.2441  Z\n",
       "  \" fill=\"#ffffff\" fill-rule=\"evenodd\" fill-opacity=\"1\"/>\n",
       "<defs>\n",
       "  <clipPath id=\"clip132\">\n",
       "    <rect x=\"239\" y=\"47\" width=\"2115\" height=\"1440\"/>\n",
       "  </clipPath>\n",
       "</defs>\n",
       "<polyline clip-path=\"url(#clip132)\" style=\"stroke:#000000; stroke-linecap:butt; stroke-linejoin:round; stroke-width:2; stroke-opacity:0.1; fill:none\" points=\"\n",
       "  299.008,1486.45 299.008,47.2441 \n",
       "  \"/>\n",
       "<polyline clip-path=\"url(#clip132)\" style=\"stroke:#000000; stroke-linecap:butt; stroke-linejoin:round; stroke-width:2; stroke-opacity:0.1; fill:none\" points=\"\n",
       "  797.491,1486.45 797.491,47.2441 \n",
       "  \"/>\n",
       "<polyline clip-path=\"url(#clip132)\" style=\"stroke:#000000; stroke-linecap:butt; stroke-linejoin:round; stroke-width:2; stroke-opacity:0.1; fill:none\" points=\"\n",
       "  1295.97,1486.45 1295.97,47.2441 \n",
       "  \"/>\n",
       "<polyline clip-path=\"url(#clip132)\" style=\"stroke:#000000; stroke-linecap:butt; stroke-linejoin:round; stroke-width:2; stroke-opacity:0.1; fill:none\" points=\"\n",
       "  1794.46,1486.45 1794.46,47.2441 \n",
       "  \"/>\n",
       "<polyline clip-path=\"url(#clip132)\" style=\"stroke:#000000; stroke-linecap:butt; stroke-linejoin:round; stroke-width:2; stroke-opacity:0.1; fill:none\" points=\"\n",
       "  2292.94,1486.45 2292.94,47.2441 \n",
       "  \"/>\n",
       "<polyline clip-path=\"url(#clip130)\" style=\"stroke:#000000; stroke-linecap:butt; stroke-linejoin:round; stroke-width:4; stroke-opacity:1; fill:none\" points=\"\n",
       "  239.19,1486.45 2352.76,1486.45 \n",
       "  \"/>\n",
       "<polyline clip-path=\"url(#clip130)\" style=\"stroke:#000000; stroke-linecap:butt; stroke-linejoin:round; stroke-width:4; stroke-opacity:1; fill:none\" points=\"\n",
       "  299.008,1486.45 299.008,1467.55 \n",
       "  \"/>\n",
       "<polyline clip-path=\"url(#clip130)\" style=\"stroke:#000000; stroke-linecap:butt; stroke-linejoin:round; stroke-width:4; stroke-opacity:1; fill:none\" points=\"\n",
       "  797.491,1486.45 797.491,1467.55 \n",
       "  \"/>\n",
       "<polyline clip-path=\"url(#clip130)\" style=\"stroke:#000000; stroke-linecap:butt; stroke-linejoin:round; stroke-width:4; stroke-opacity:1; fill:none\" points=\"\n",
       "  1295.97,1486.45 1295.97,1467.55 \n",
       "  \"/>\n",
       "<polyline clip-path=\"url(#clip130)\" style=\"stroke:#000000; stroke-linecap:butt; stroke-linejoin:round; stroke-width:4; stroke-opacity:1; fill:none\" points=\"\n",
       "  1794.46,1486.45 1794.46,1467.55 \n",
       "  \"/>\n",
       "<polyline clip-path=\"url(#clip130)\" style=\"stroke:#000000; stroke-linecap:butt; stroke-linejoin:round; stroke-width:4; stroke-opacity:1; fill:none\" points=\"\n",
       "  2292.94,1486.45 2292.94,1467.55 \n",
       "  \"/>\n",
       "<path clip-path=\"url(#clip130)\" d=\"M253.071 1532.02 L282.747 1532.02 L282.747 1535.95 L253.071 1535.95 L253.071 1532.02 Z\" fill=\"#000000\" fill-rule=\"evenodd\" fill-opacity=\"1\" /><path clip-path=\"url(#clip130)\" d=\"M293.65 1544.91 L301.288 1544.91 L301.288 1518.55 L292.978 1520.21 L292.978 1515.95 L301.242 1514.29 L305.918 1514.29 L305.918 1544.91 L313.557 1544.91 L313.557 1548.85 L293.65 1548.85 L293.65 1544.91 Z\" fill=\"#000000\" fill-rule=\"evenodd\" fill-opacity=\"1\" /><path clip-path=\"url(#clip130)\" d=\"M333.001 1517.37 Q329.39 1517.37 327.561 1520.93 Q325.756 1524.47 325.756 1531.6 Q325.756 1538.71 327.561 1542.27 Q329.39 1545.82 333.001 1545.82 Q336.635 1545.82 338.441 1542.27 Q340.27 1538.71 340.27 1531.6 Q340.27 1524.47 338.441 1520.93 Q336.635 1517.37 333.001 1517.37 M333.001 1513.66 Q338.811 1513.66 341.867 1518.27 Q344.946 1522.85 344.946 1531.6 Q344.946 1540.33 341.867 1544.94 Q338.811 1549.52 333.001 1549.52 Q327.191 1549.52 324.112 1544.94 Q321.057 1540.33 321.057 1531.6 Q321.057 1522.85 324.112 1518.27 Q327.191 1513.66 333.001 1513.66 Z\" fill=\"#000000\" fill-rule=\"evenodd\" fill-opacity=\"1\" /><path clip-path=\"url(#clip130)\" d=\"M767.132 1532.02 L796.808 1532.02 L796.808 1535.95 L767.132 1535.95 L767.132 1532.02 Z\" fill=\"#000000\" fill-rule=\"evenodd\" fill-opacity=\"1\" /><path clip-path=\"url(#clip130)\" d=\"M806.947 1514.29 L825.303 1514.29 L825.303 1518.22 L811.229 1518.22 L811.229 1526.7 Q812.248 1526.35 813.266 1526.19 Q814.285 1526 815.303 1526 Q821.09 1526 824.47 1529.17 Q827.849 1532.34 827.849 1537.76 Q827.849 1543.34 824.377 1546.44 Q820.905 1549.52 814.586 1549.52 Q812.41 1549.52 810.141 1549.15 Q807.896 1548.78 805.488 1548.04 L805.488 1543.34 Q807.572 1544.47 809.794 1545.03 Q812.016 1545.58 814.493 1545.58 Q818.498 1545.58 820.835 1543.48 Q823.173 1541.37 823.173 1537.76 Q823.173 1534.15 820.835 1532.04 Q818.498 1529.94 814.493 1529.94 Q812.618 1529.94 810.743 1530.35 Q808.891 1530.77 806.947 1531.65 L806.947 1514.29 Z\" fill=\"#000000\" fill-rule=\"evenodd\" fill-opacity=\"1\" /><path clip-path=\"url(#clip130)\" d=\"M1295.97 1517.37 Q1292.36 1517.37 1290.53 1520.93 Q1288.73 1524.47 1288.73 1531.6 Q1288.73 1538.71 1290.53 1542.27 Q1292.36 1545.82 1295.97 1545.82 Q1299.61 1545.82 1301.41 1542.27 Q1303.24 1538.71 1303.24 1531.6 Q1303.24 1524.47 1301.41 1520.93 Q1299.61 1517.37 1295.97 1517.37 M1295.97 1513.66 Q1301.78 1513.66 1304.84 1518.27 Q1307.92 1522.85 1307.92 1531.6 Q1307.92 1540.33 1304.84 1544.94 Q1301.78 1549.52 1295.97 1549.52 Q1290.16 1549.52 1287.08 1544.94 Q1284.03 1540.33 1284.03 1531.6 Q1284.03 1522.85 1287.08 1518.27 Q1290.16 1513.66 1295.97 1513.66 Z\" fill=\"#000000\" fill-rule=\"evenodd\" fill-opacity=\"1\" /><path clip-path=\"url(#clip130)\" d=\"M1784.73 1514.29 L1803.09 1514.29 L1803.09 1518.22 L1789.02 1518.22 L1789.02 1526.7 Q1790.03 1526.35 1791.05 1526.19 Q1792.07 1526 1793.09 1526 Q1798.88 1526 1802.26 1529.17 Q1805.64 1532.34 1805.64 1537.76 Q1805.64 1543.34 1802.16 1546.44 Q1798.69 1549.52 1792.37 1549.52 Q1790.2 1549.52 1787.93 1549.15 Q1785.68 1548.78 1783.28 1548.04 L1783.28 1543.34 Q1785.36 1544.47 1787.58 1545.03 Q1789.8 1545.58 1792.28 1545.58 Q1796.28 1545.58 1798.62 1543.48 Q1800.96 1541.37 1800.96 1537.76 Q1800.96 1534.15 1798.62 1532.04 Q1796.28 1529.94 1792.28 1529.94 Q1790.4 1529.94 1788.53 1530.35 Q1786.68 1530.77 1784.73 1531.65 L1784.73 1514.29 Z\" fill=\"#000000\" fill-rule=\"evenodd\" fill-opacity=\"1\" /><path clip-path=\"url(#clip130)\" d=\"M2267.63 1544.91 L2275.26 1544.91 L2275.26 1518.55 L2266.95 1520.21 L2266.95 1515.95 L2275.22 1514.29 L2279.89 1514.29 L2279.89 1544.91 L2287.53 1544.91 L2287.53 1548.85 L2267.63 1548.85 L2267.63 1544.91 Z\" fill=\"#000000\" fill-rule=\"evenodd\" fill-opacity=\"1\" /><path clip-path=\"url(#clip130)\" d=\"M2306.98 1517.37 Q2303.37 1517.37 2301.54 1520.93 Q2299.73 1524.47 2299.73 1531.6 Q2299.73 1538.71 2301.54 1542.27 Q2303.37 1545.82 2306.98 1545.82 Q2310.61 1545.82 2312.42 1542.27 Q2314.25 1538.71 2314.25 1531.6 Q2314.25 1524.47 2312.42 1520.93 Q2310.61 1517.37 2306.98 1517.37 M2306.98 1513.66 Q2312.79 1513.66 2315.84 1518.27 Q2318.92 1522.85 2318.92 1531.6 Q2318.92 1540.33 2315.84 1544.94 Q2312.79 1549.52 2306.98 1549.52 Q2301.17 1549.52 2298.09 1544.94 Q2295.03 1540.33 2295.03 1531.6 Q2295.03 1522.85 2298.09 1518.27 Q2301.17 1513.66 2306.98 1513.66 Z\" fill=\"#000000\" fill-rule=\"evenodd\" fill-opacity=\"1\" /><polyline clip-path=\"url(#clip132)\" style=\"stroke:#000000; stroke-linecap:butt; stroke-linejoin:round; stroke-width:2; stroke-opacity:0.1; fill:none\" points=\"\n",
       "  239.19,1451.89 2352.76,1451.89 \n",
       "  \"/>\n",
       "<polyline clip-path=\"url(#clip132)\" style=\"stroke:#000000; stroke-linecap:butt; stroke-linejoin:round; stroke-width:2; stroke-opacity:0.1; fill:none\" points=\"\n",
       "  239.19,1109.02 2352.76,1109.02 \n",
       "  \"/>\n",
       "<polyline clip-path=\"url(#clip132)\" style=\"stroke:#000000; stroke-linecap:butt; stroke-linejoin:round; stroke-width:2; stroke-opacity:0.1; fill:none\" points=\"\n",
       "  239.19,766.16 2352.76,766.16 \n",
       "  \"/>\n",
       "<polyline clip-path=\"url(#clip132)\" style=\"stroke:#000000; stroke-linecap:butt; stroke-linejoin:round; stroke-width:2; stroke-opacity:0.1; fill:none\" points=\"\n",
       "  239.19,423.297 2352.76,423.297 \n",
       "  \"/>\n",
       "<polyline clip-path=\"url(#clip132)\" style=\"stroke:#000000; stroke-linecap:butt; stroke-linejoin:round; stroke-width:2; stroke-opacity:0.1; fill:none\" points=\"\n",
       "  239.19,80.4333 2352.76,80.4333 \n",
       "  \"/>\n",
       "<polyline clip-path=\"url(#clip130)\" style=\"stroke:#000000; stroke-linecap:butt; stroke-linejoin:round; stroke-width:4; stroke-opacity:1; fill:none\" points=\"\n",
       "  239.19,1486.45 239.19,47.2441 \n",
       "  \"/>\n",
       "<polyline clip-path=\"url(#clip130)\" style=\"stroke:#000000; stroke-linecap:butt; stroke-linejoin:round; stroke-width:4; stroke-opacity:1; fill:none\" points=\"\n",
       "  239.19,1451.89 258.088,1451.89 \n",
       "  \"/>\n",
       "<polyline clip-path=\"url(#clip130)\" style=\"stroke:#000000; stroke-linecap:butt; stroke-linejoin:round; stroke-width:4; stroke-opacity:1; fill:none\" points=\"\n",
       "  239.19,1109.02 258.088,1109.02 \n",
       "  \"/>\n",
       "<polyline clip-path=\"url(#clip130)\" style=\"stroke:#000000; stroke-linecap:butt; stroke-linejoin:round; stroke-width:4; stroke-opacity:1; fill:none\" points=\"\n",
       "  239.19,766.16 258.088,766.16 \n",
       "  \"/>\n",
       "<polyline clip-path=\"url(#clip130)\" style=\"stroke:#000000; stroke-linecap:butt; stroke-linejoin:round; stroke-width:4; stroke-opacity:1; fill:none\" points=\"\n",
       "  239.19,423.297 258.088,423.297 \n",
       "  \"/>\n",
       "<polyline clip-path=\"url(#clip130)\" style=\"stroke:#000000; stroke-linecap:butt; stroke-linejoin:round; stroke-width:4; stroke-opacity:1; fill:none\" points=\"\n",
       "  239.19,80.4333 258.088,80.4333 \n",
       "  \"/>\n",
       "<path clip-path=\"url(#clip130)\" d=\"M50.9921 1452.34 L80.6679 1452.34 L80.6679 1456.27 L50.9921 1456.27 L50.9921 1452.34 Z\" fill=\"#000000\" fill-rule=\"evenodd\" fill-opacity=\"1\" /><path clip-path=\"url(#clip130)\" d=\"M91.5706 1465.23 L99.2095 1465.23 L99.2095 1438.87 L90.8993 1440.53 L90.8993 1436.27 L99.1632 1434.61 L103.839 1434.61 L103.839 1465.23 L111.478 1465.23 L111.478 1469.17 L91.5706 1469.17 L91.5706 1465.23 Z\" fill=\"#000000\" fill-rule=\"evenodd\" fill-opacity=\"1\" /><path clip-path=\"url(#clip130)\" d=\"M130.922 1437.69 Q127.311 1437.69 125.482 1441.25 Q123.677 1444.79 123.677 1451.92 Q123.677 1459.03 125.482 1462.59 Q127.311 1466.13 130.922 1466.13 Q134.556 1466.13 136.362 1462.59 Q138.191 1459.03 138.191 1451.92 Q138.191 1444.79 136.362 1441.25 Q134.556 1437.69 130.922 1437.69 M130.922 1433.98 Q136.732 1433.98 139.788 1438.59 Q142.867 1443.17 142.867 1451.92 Q142.867 1460.65 139.788 1465.26 Q136.732 1469.84 130.922 1469.84 Q125.112 1469.84 122.033 1465.26 Q118.978 1460.65 118.978 1451.92 Q118.978 1443.17 122.033 1438.59 Q125.112 1433.98 130.922 1433.98 Z\" fill=\"#000000\" fill-rule=\"evenodd\" fill-opacity=\"1\" /><path clip-path=\"url(#clip130)\" d=\"M161.084 1437.69 Q157.473 1437.69 155.644 1441.25 Q153.839 1444.79 153.839 1451.92 Q153.839 1459.03 155.644 1462.59 Q157.473 1466.13 161.084 1466.13 Q164.718 1466.13 166.524 1462.59 Q168.353 1459.03 168.353 1451.92 Q168.353 1444.79 166.524 1441.25 Q164.718 1437.69 161.084 1437.69 M161.084 1433.98 Q166.894 1433.98 169.95 1438.59 Q173.029 1443.17 173.029 1451.92 Q173.029 1460.65 169.95 1465.26 Q166.894 1469.84 161.084 1469.84 Q155.274 1469.84 152.195 1465.26 Q149.14 1460.65 149.14 1451.92 Q149.14 1443.17 152.195 1438.59 Q155.274 1433.98 161.084 1433.98 Z\" fill=\"#000000\" fill-rule=\"evenodd\" fill-opacity=\"1\" /><path clip-path=\"url(#clip130)\" d=\"M191.246 1437.69 Q187.635 1437.69 185.806 1441.25 Q184.001 1444.79 184.001 1451.92 Q184.001 1459.03 185.806 1462.59 Q187.635 1466.13 191.246 1466.13 Q194.88 1466.13 196.686 1462.59 Q198.514 1459.03 198.514 1451.92 Q198.514 1444.79 196.686 1441.25 Q194.88 1437.69 191.246 1437.69 M191.246 1433.98 Q197.056 1433.98 200.112 1438.59 Q203.19 1443.17 203.19 1451.92 Q203.19 1460.65 200.112 1465.26 Q197.056 1469.84 191.246 1469.84 Q185.436 1469.84 182.357 1465.26 Q179.302 1460.65 179.302 1451.92 Q179.302 1443.17 182.357 1438.59 Q185.436 1433.98 191.246 1433.98 Z\" fill=\"#000000\" fill-rule=\"evenodd\" fill-opacity=\"1\" /><path clip-path=\"url(#clip130)\" d=\"M81.154 1109.48 L110.83 1109.48 L110.83 1113.41 L81.154 1113.41 L81.154 1109.48 Z\" fill=\"#000000\" fill-rule=\"evenodd\" fill-opacity=\"1\" /><path clip-path=\"url(#clip130)\" d=\"M120.969 1091.74 L139.325 1091.74 L139.325 1095.68 L125.251 1095.68 L125.251 1104.15 Q126.27 1103.8 127.288 1103.64 Q128.307 1103.46 129.325 1103.46 Q135.112 1103.46 138.492 1106.63 Q141.871 1109.8 141.871 1115.22 Q141.871 1120.79 138.399 1123.9 Q134.927 1126.98 128.607 1126.98 Q126.432 1126.98 124.163 1126.6 Q121.918 1126.23 119.51 1125.49 L119.51 1120.79 Q121.594 1121.93 123.816 1122.48 Q126.038 1123.04 128.515 1123.04 Q132.519 1123.04 134.857 1120.93 Q137.195 1118.83 137.195 1115.22 Q137.195 1111.6 134.857 1109.5 Q132.519 1107.39 128.515 1107.39 Q126.64 1107.39 124.765 1107.81 Q122.913 1108.23 120.969 1109.1 L120.969 1091.74 Z\" fill=\"#000000\" fill-rule=\"evenodd\" fill-opacity=\"1\" /><path clip-path=\"url(#clip130)\" d=\"M161.084 1094.82 Q157.473 1094.82 155.644 1098.39 Q153.839 1101.93 153.839 1109.06 Q153.839 1116.16 155.644 1119.73 Q157.473 1123.27 161.084 1123.27 Q164.718 1123.27 166.524 1119.73 Q168.353 1116.16 168.353 1109.06 Q168.353 1101.93 166.524 1098.39 Q164.718 1094.82 161.084 1094.82 M161.084 1091.12 Q166.894 1091.12 169.95 1095.73 Q173.029 1100.31 173.029 1109.06 Q173.029 1117.79 169.95 1122.39 Q166.894 1126.98 161.084 1126.98 Q155.274 1126.98 152.195 1122.39 Q149.14 1117.79 149.14 1109.06 Q149.14 1100.31 152.195 1095.73 Q155.274 1091.12 161.084 1091.12 Z\" fill=\"#000000\" fill-rule=\"evenodd\" fill-opacity=\"1\" /><path clip-path=\"url(#clip130)\" d=\"M191.246 1094.82 Q187.635 1094.82 185.806 1098.39 Q184.001 1101.93 184.001 1109.06 Q184.001 1116.16 185.806 1119.73 Q187.635 1123.27 191.246 1123.27 Q194.88 1123.27 196.686 1119.73 Q198.514 1116.16 198.514 1109.06 Q198.514 1101.93 196.686 1098.39 Q194.88 1094.82 191.246 1094.82 M191.246 1091.12 Q197.056 1091.12 200.112 1095.73 Q203.19 1100.31 203.19 1109.06 Q203.19 1117.79 200.112 1122.39 Q197.056 1126.98 191.246 1126.98 Q185.436 1126.98 182.357 1122.39 Q179.302 1117.79 179.302 1109.06 Q179.302 1100.31 182.357 1095.73 Q185.436 1091.12 191.246 1091.12 Z\" fill=\"#000000\" fill-rule=\"evenodd\" fill-opacity=\"1\" /><path clip-path=\"url(#clip130)\" d=\"M191.246 751.959 Q187.635 751.959 185.806 755.524 Q184.001 759.065 184.001 766.195 Q184.001 773.301 185.806 776.866 Q187.635 780.408 191.246 780.408 Q194.88 780.408 196.686 776.866 Q198.514 773.301 198.514 766.195 Q198.514 759.065 196.686 755.524 Q194.88 751.959 191.246 751.959 M191.246 748.255 Q197.056 748.255 200.112 752.862 Q203.19 757.445 203.19 766.195 Q203.19 774.922 200.112 779.528 Q197.056 784.112 191.246 784.112 Q185.436 784.112 182.357 779.528 Q179.302 774.922 179.302 766.195 Q179.302 757.445 182.357 752.862 Q185.436 748.255 191.246 748.255 Z\" fill=\"#000000\" fill-rule=\"evenodd\" fill-opacity=\"1\" /><path clip-path=\"url(#clip130)\" d=\"M120.969 406.017 L139.325 406.017 L139.325 409.952 L125.251 409.952 L125.251 418.424 Q126.27 418.077 127.288 417.915 Q128.307 417.73 129.325 417.73 Q135.112 417.73 138.492 420.901 Q141.871 424.072 141.871 429.489 Q141.871 435.068 138.399 438.169 Q134.927 441.248 128.607 441.248 Q126.432 441.248 124.163 440.878 Q121.918 440.507 119.51 439.767 L119.51 435.068 Q121.594 436.202 123.816 436.757 Q126.038 437.313 128.515 437.313 Q132.519 437.313 134.857 435.206 Q137.195 433.1 137.195 429.489 Q137.195 425.878 134.857 423.771 Q132.519 421.665 128.515 421.665 Q126.64 421.665 124.765 422.081 Q122.913 422.498 120.969 423.378 L120.969 406.017 Z\" fill=\"#000000\" fill-rule=\"evenodd\" fill-opacity=\"1\" /><path clip-path=\"url(#clip130)\" d=\"M161.084 409.095 Q157.473 409.095 155.644 412.66 Q153.839 416.202 153.839 423.331 Q153.839 430.438 155.644 434.003 Q157.473 437.544 161.084 437.544 Q164.718 437.544 166.524 434.003 Q168.353 430.438 168.353 423.331 Q168.353 416.202 166.524 412.66 Q164.718 409.095 161.084 409.095 M161.084 405.392 Q166.894 405.392 169.95 409.998 Q173.029 414.582 173.029 423.331 Q173.029 432.058 169.95 436.665 Q166.894 441.248 161.084 441.248 Q155.274 441.248 152.195 436.665 Q149.14 432.058 149.14 423.331 Q149.14 414.582 152.195 409.998 Q155.274 405.392 161.084 405.392 Z\" fill=\"#000000\" fill-rule=\"evenodd\" fill-opacity=\"1\" /><path clip-path=\"url(#clip130)\" d=\"M191.246 409.095 Q187.635 409.095 185.806 412.66 Q184.001 416.202 184.001 423.331 Q184.001 430.438 185.806 434.003 Q187.635 437.544 191.246 437.544 Q194.88 437.544 196.686 434.003 Q198.514 430.438 198.514 423.331 Q198.514 416.202 196.686 412.66 Q194.88 409.095 191.246 409.095 M191.246 405.392 Q197.056 405.392 200.112 409.998 Q203.19 414.582 203.19 423.331 Q203.19 432.058 200.112 436.665 Q197.056 441.248 191.246 441.248 Q185.436 441.248 182.357 436.665 Q179.302 432.058 179.302 423.331 Q179.302 414.582 182.357 409.998 Q185.436 405.392 191.246 405.392 Z\" fill=\"#000000\" fill-rule=\"evenodd\" fill-opacity=\"1\" /><path clip-path=\"url(#clip130)\" d=\"M91.5706 93.7781 L99.2095 93.7781 L99.2095 67.4125 L90.8993 69.0792 L90.8993 64.8199 L99.1632 63.1533 L103.839 63.1533 L103.839 93.7781 L111.478 93.7781 L111.478 97.7133 L91.5706 97.7133 L91.5706 93.7781 Z\" fill=\"#000000\" fill-rule=\"evenodd\" fill-opacity=\"1\" /><path clip-path=\"url(#clip130)\" d=\"M130.922 66.232 Q127.311 66.232 125.482 69.7968 Q123.677 73.3384 123.677 80.468 Q123.677 87.5744 125.482 91.1392 Q127.311 94.6809 130.922 94.6809 Q134.556 94.6809 136.362 91.1392 Q138.191 87.5744 138.191 80.468 Q138.191 73.3384 136.362 69.7968 Q134.556 66.232 130.922 66.232 M130.922 62.5283 Q136.732 62.5283 139.788 67.1347 Q142.867 71.718 142.867 80.468 Q142.867 89.1948 139.788 93.8013 Q136.732 98.3846 130.922 98.3846 Q125.112 98.3846 122.033 93.8013 Q118.978 89.1948 118.978 80.468 Q118.978 71.718 122.033 67.1347 Q125.112 62.5283 130.922 62.5283 Z\" fill=\"#000000\" fill-rule=\"evenodd\" fill-opacity=\"1\" /><path clip-path=\"url(#clip130)\" d=\"M161.084 66.232 Q157.473 66.232 155.644 69.7968 Q153.839 73.3384 153.839 80.468 Q153.839 87.5744 155.644 91.1392 Q157.473 94.6809 161.084 94.6809 Q164.718 94.6809 166.524 91.1392 Q168.353 87.5744 168.353 80.468 Q168.353 73.3384 166.524 69.7968 Q164.718 66.232 161.084 66.232 M161.084 62.5283 Q166.894 62.5283 169.95 67.1347 Q173.029 71.718 173.029 80.468 Q173.029 89.1948 169.95 93.8013 Q166.894 98.3846 161.084 98.3846 Q155.274 98.3846 152.195 93.8013 Q149.14 89.1948 149.14 80.468 Q149.14 71.718 152.195 67.1347 Q155.274 62.5283 161.084 62.5283 Z\" fill=\"#000000\" fill-rule=\"evenodd\" fill-opacity=\"1\" /><path clip-path=\"url(#clip130)\" d=\"M191.246 66.232 Q187.635 66.232 185.806 69.7968 Q184.001 73.3384 184.001 80.468 Q184.001 87.5744 185.806 91.1392 Q187.635 94.6809 191.246 94.6809 Q194.88 94.6809 196.686 91.1392 Q198.514 87.5744 198.514 80.468 Q198.514 73.3384 196.686 69.7968 Q194.88 66.232 191.246 66.232 M191.246 62.5283 Q197.056 62.5283 200.112 67.1347 Q203.19 71.718 203.19 80.468 Q203.19 89.1948 200.112 93.8013 Q197.056 98.3846 191.246 98.3846 Q185.436 98.3846 182.357 93.8013 Q179.302 89.1948 179.302 80.468 Q179.302 71.718 182.357 67.1347 Q185.436 62.5283 191.246 62.5283 Z\" fill=\"#000000\" fill-rule=\"evenodd\" fill-opacity=\"1\" /><polyline clip-path=\"url(#clip132)\" style=\"stroke:#009af9; stroke-linecap:butt; stroke-linejoin:round; stroke-width:4; stroke-opacity:1; fill:none\" points=\"\n",
       "  299.008,1445.72 303.876,1435.75 308.744,1425.89 313.613,1416.12 318.481,1406.45 363.493,1321.52 408.506,1244.43 453.518,1174.81 498.531,1112.28 552.632,1045.97 \n",
       "  606.733,988.686 652.475,946.817 698.217,910.538 797.594,849.08 889.211,810.621 987.434,785.049 1101.24,770.617 1202.37,766.77 1291.05,766.812 1387.74,766.942 \n",
       "  1485.01,763.472 1592.55,750.835 1694.87,725.668 1748.06,706.015 1801.25,681.05 1846.03,655.459 1890.81,625.288 1945.48,581.702 2000.15,530.055 2051.54,473.551 \n",
       "  2102.93,408.761 2144.1,350.505 2185.26,286.282 2226.43,215.801 2267.6,138.774 2273.93,126.32 2280.27,113.703 2286.6,100.922 2292.94,87.9763 \n",
       "  \"/>\n",
       "<path clip-path=\"url(#clip130)\" d=\"\n",
       "M1995.03 198.898 L2282.3 198.898 L2282.3 95.2176 L1995.03 95.2176  Z\n",
       "  \" fill=\"#ffffff\" fill-rule=\"evenodd\" fill-opacity=\"1\"/>\n",
       "<polyline clip-path=\"url(#clip130)\" style=\"stroke:#000000; stroke-linecap:butt; stroke-linejoin:round; stroke-width:4; stroke-opacity:1; fill:none\" points=\"\n",
       "  1995.03,198.898 2282.3,198.898 2282.3,95.2176 1995.03,95.2176 1995.03,198.898 \n",
       "  \"/>\n",
       "<polyline clip-path=\"url(#clip130)\" style=\"stroke:#009af9; stroke-linecap:butt; stroke-linejoin:round; stroke-width:4; stroke-opacity:1; fill:none\" points=\"\n",
       "  2018.52,147.058 2159.42,147.058 \n",
       "  \"/>\n",
       "<path clip-path=\"url(#clip130)\" d=\"M2196.75 166.745 Q2194.94 171.375 2193.23 172.787 Q2191.52 174.199 2188.65 174.199 L2185.24 174.199 L2185.24 170.634 L2187.74 170.634 Q2189.5 170.634 2190.47 169.8 Q2191.45 168.967 2192.63 165.865 L2193.39 163.921 L2182.91 138.412 L2187.42 138.412 L2195.52 158.689 L2203.62 138.412 L2208.14 138.412 L2196.75 166.745 Z\" fill=\"#000000\" fill-rule=\"evenodd\" fill-opacity=\"1\" /><path clip-path=\"url(#clip130)\" d=\"M2215.43 160.402 L2223.07 160.402 L2223.07 134.037 L2214.76 135.703 L2214.76 131.444 L2223.02 129.778 L2227.7 129.778 L2227.7 160.402 L2235.34 160.402 L2235.34 164.338 L2215.43 164.338 L2215.43 160.402 Z\" fill=\"#000000\" fill-rule=\"evenodd\" fill-opacity=\"1\" /></svg>\n"
      ]
     },
     "metadata": {},
     "output_type": "display_data"
    }
   ],
   "source": [
    "f4(x) = x^3 - x - 1\n",
    "df4(x) = 3x^2 - 1\n",
    "plot(f4,-10,10)"
   ]
  },
  {
   "cell_type": "code",
   "execution_count": 42,
   "metadata": {},
   "outputs": [
    {
     "name": "stdout",
     "output_type": "stream",
     "text": [
      "iter\t           x_i+1\t             x_i\t               ϵ\t              ϵ0\n",
      "   0\t  1.347826086957\t  1.500000000000\t  0.152173913043\t  0.000001000000\n",
      "   1\t  1.325200398951\t  1.347826086957\t  0.022625688006\t  0.000001000000\n",
      "   2\t  1.324718173999\t  1.325200398951\t  0.000482224952\t  0.000001000000\n",
      "   3\t  1.324717957245\t  1.324718173999\t  0.000000216754\t  0.000001000000\n",
      "x = 1.3247179572447898\n",
      "  0.000355 seconds (130 allocations: 12.125 KiB)\n",
      "iter\t           x_i+1\t             x_i\t               ϵ\t              ϵ0\n",
      "   0\t 17.900000000000\t  0.600000000000\t 17.300000000000\t  0.000001000000\n",
      "   1\t 11.946802328609\t 17.900000000000\t  5.953197671391\t  0.000001000000\n",
      "   2\t  7.985520351936\t 11.946802328609\t  3.961281976673\t  0.000001000000\n",
      "   3\t  5.356909314795\t  7.985520351936\t  2.628611037141\t  0.000001000000\n",
      "   4\t  3.624996032946\t  5.356909314795\t  1.731913281849\t  0.000001000000\n",
      "   5\t  2.505589190107\t  3.624996032946\t  1.119406842839\t  0.000001000000\n",
      "   6\t  1.820129422319\t  2.505589190107\t  0.685459767787\t  0.000001000000\n",
      "   7\t  1.461044109888\t  1.820129422319\t  0.359085312432\t  0.000001000000\n",
      "   8\t  1.339323224263\t  1.461044109888\t  0.121720885625\t  0.000001000000\n",
      "   9\t  1.324912867719\t  1.339323224263\t  0.014410356544\t  0.000001000000\n",
      "  10\t  1.324717992638\t  1.324912867719\t  0.000194875081\t  0.000001000000\n",
      "  11\t  1.324717957245\t  1.324717992638\t  0.000000035393\t  0.000001000000\n",
      "x = 1.3247179572447472\n",
      "  0.000820 seconds (308 allocations: 31.656 KiB)\n"
     ]
    }
   ],
   "source": [
    "@time println(\"x = $(NewtonMethod(f4,df4,1.5,1e-6))\")\n",
    "@time println(\"x = $(NewtonMethod(f4,df4,0.6,1e-6))\")"
   ]
  },
  {
   "cell_type": "markdown",
   "metadata": {},
   "source": [
    "#### 简化牛顿迭代法"
   ]
  },
  {
   "cell_type": "code",
   "execution_count": 43,
   "metadata": {},
   "outputs": [
    {
     "data": {
      "text/plain": [
       "SimplifiedNewtonMethod (generic function with 1 method)"
      ]
     },
     "metadata": {},
     "output_type": "display_data"
    }
   ],
   "source": [
    "function SimplifiedNewtonMethod(f::Function, c, x0, ϵ0)\n",
    "    x = x0\n",
    "    ϵ = NaN\n",
    "    i = 0\n",
    "    x_prev = NaN\n",
    "    @printf(\"%4s\\t%16s\\t%16s\\t%16s\\t%16s\\n\", \"iter\",\"x_i+1\", \"x_i\",\"ϵ\",\"ϵ0\")\n",
    "    while true\n",
    "        x_prev = x\n",
    "        x = x - f(x) / c\n",
    "        ϵ = abs(x - x_prev)\n",
    "        if i % 15 == 0 || ϵ < ϵ0 \n",
    "            @printf(\"%4d\\t%16.12f\\t%16.12f\\t%16.12f\\t%16.12f\\n\",i,x,x_prev,ϵ,ϵ0)\n",
    "        end\n",
    "        if ϵ < ϵ0 \n",
    "            break\n",
    "        end\n",
    "        i += 1\n",
    "    end\n",
    "    return x\n",
    "end"
   ]
  },
  {
   "cell_type": "code",
   "execution_count": 44,
   "metadata": {},
   "outputs": [
    {
     "name": "stdout",
     "output_type": "stream",
     "text": [
      "iter\t           x_i+1\t             x_i\t               ϵ\t              ϵ0\n",
      "   0\t  7.075313807531\t 10.000000000000\t  2.924686192469\t  0.000001000000\n",
      "  15\t  3.678788281146\t  3.744451191079\t  0.065662909933\t  0.000001000000\n",
      "  30\t  3.063280653193\t  3.091667810918\t  0.028387157725\t  0.000001000000\n",
      "  45\t  2.731401120738\t  2.749633225609\t  0.018232104870\t  0.000001000000\n",
      "  60\t  2.494240858977\t  2.508460901765\t  0.014220042788\t  0.000001000000\n",
      "  75\t  2.296078305195\t  2.308658042034\t  0.012579736839\t  0.000001000000\n",
      "  90\t  2.111456981699\t  2.123691708252\t  0.012234726553\t  0.000001000000\n",
      " 105\t  1.924054842590\t  1.936919973530\t  0.012865130940\t  0.000001000000\n",
      " 120\t  1.719508925838\t  1.733983761042\t  0.014474835205\t  0.000001000000\n",
      " 135\t  1.481670767167\t  1.498944540857\t  0.017273773690\t  0.000001000000\n",
      " 150\t  1.190057335747\t  1.211659199566\t  0.021601863819\t  0.000001000000\n",
      " 165\t  0.819670208618\t  0.847315310207\t  0.027645101589\t  0.000001000000\n",
      " 180\t  0.350037021500\t  0.384467634480\t  0.034430612980\t  0.000001000000\n",
      " 195\t -0.202754761165\t -0.164767943929\t  0.037986817236\t  0.000001000000\n",
      " 210\t -0.743431898089\t -0.710642267160\t  0.032789630929\t  0.000001000000\n",
      " 225\t -1.141659805577\t -1.120979569411\t  0.020680236166\t  0.000001000000\n",
      " 240\t -1.361310161225\t -1.351241051497\t  0.010069109728\t  0.000001000000\n",
      " 255\t -1.460200046164\t -1.455974415123\t  0.004225631041\t  0.000001000000\n",
      " 270\t -1.500229578124\t -1.498572505917\t  0.001657072208\t  0.000001000000\n",
      " 285\t -1.515697404756\t -1.515065263644\t  0.000632141112\t  0.000001000000\n",
      " 300\t -1.521564456937\t -1.521325867789\t  0.000238589149\t  0.000001000000\n",
      " 315\t -1.523774058460\t -1.523684371811\t  0.000089686649\t  0.000001000000\n",
      " 330\t -1.524603977802\t -1.524570315633\t  0.000033662168\t  0.000001000000\n",
      " 345\t -1.524915376467\t -1.524902749257\t  0.000012627210\t  0.000001000000\n",
      " 360\t -1.525032173550\t -1.525027437903\t  0.000004735647\t  0.000001000000\n",
      " 375\t -1.525075974659\t -1.525074198769\t  0.000001775890\t  0.000001000000\n",
      " 384\t -1.525087665323\t -1.525086679427\t  0.000000985896\t  0.000001000000\n",
      "  0.001532 seconds (637 allocations: 71.391 KiB)\n"
     ]
    },
    {
     "data": {
      "text/plain": [
       "-1.5250876653232968"
      ]
     },
     "metadata": {},
     "output_type": "display_data"
    }
   ],
   "source": [
    "@time SimplifiedNewtonMethod(f3,df3(10),10,1e-6)"
   ]
  },
  {
   "cell_type": "markdown",
   "metadata": {},
   "source": [
    "#### 牛顿下山法"
   ]
  },
  {
   "cell_type": "code",
   "execution_count": 45,
   "metadata": {},
   "outputs": [
    {
     "data": {
      "text/plain": [
       "NewtonDownHillMethod (generic function with 1 method)"
      ]
     },
     "metadata": {},
     "output_type": "display_data"
    }
   ],
   "source": [
    "function SelectDownHillFactor(f::Function, df::Function, x, λ)\n",
    "    λ = 1\n",
    "    x_upd = x - λ * f(x) / df(x)\n",
    "    while abs(f(x_upd)) >= abs(f(x)) && λ > 1e-3\n",
    "        λ /= 2\n",
    "        x_upd = x - λ * f(x) / df(x)\n",
    "    end\n",
    "    return x_upd, λ\n",
    "end\n",
    "function NewtonDownHillMethod(f::Function, df::Function, x0, ϵ0)\n",
    "    x = x0\n",
    "    ϵ = NaN\n",
    "    i = 0\n",
    "    x_prev = NaN\n",
    "    λ = 1\n",
    "    @printf(\"%4s\\t%16s\\t%16s\\t%16s\\t%16s\\t%16s\\n\", \"iter\",\"x_i+1\", \"x_i\",\"ϵ\",\"ϵ0\",\"λ\")\n",
    "    while true\n",
    "        x_prev = x\n",
    "        # x = x - f(x) / df(x)\n",
    "        # 个人感觉，下山法的正确性不能得到保证，是一种纯直觉的做法，然后在实践中应用效果好，所以得到了使用，或者说，这个做法推广了牛顿法，让不收敛的情况减少了\n",
    "        x, λ = SelectDownHillFactor(f, df, x, λ)\n",
    "        # x = x - λ * f(x) / df(x)\n",
    "        ϵ = abs(x - x_prev)\n",
    "        @printf(\"%4d\\t%16.12f\\t%16.12f\\t%16.12f\\t%16.12f\\t%16.12f\\n\", i, x, x_prev, ϵ, ϵ0, λ)\n",
    "        if ϵ < ϵ0\n",
    "            break\n",
    "        end\n",
    "        i += 1\n",
    "    end\n",
    "    return x\n",
    "end"
   ]
  },
  {
   "cell_type": "code",
   "execution_count": 46,
   "metadata": {},
   "outputs": [
    {
     "name": "stdout",
     "output_type": "stream",
     "text": [
      "iter\t           x_i+1\t             x_i\t               ϵ\t              ϵ0\t               λ\n",
      "   0\t  2.250000000000\t  0.000000000000\t  2.250000000000\t  0.000001000000\t  0.250000000000\n",
      "   1\t  2.115767045455\t  2.250000000000\t  0.134232954545\t  0.000001000000\t  0.031250000000\n",
      "   2\t  2.158866623319\t  2.115767045455\t  0.043099577865\t  0.000001000000\t  0.003906250000\n",
      "   3\t  2.060220706408\t  2.158866623319\t  0.098645916912\t  0.000001000000\t  0.000976562500\n",
      "   4\t  2.207107420461\t  2.060220706408\t  0.146886714053\t  0.000001000000\t  0.031250000000\n",
      "   5\t  2.145452014199\t  2.207107420461\t  0.061655406262\t  0.000001000000\t  0.007812500000\n",
      "   6\t  2.190150751577\t  2.145452014199\t  0.044698737378\t  0.000001000000\t  0.000976562500\n",
      "   7\t  2.144330267761\t  2.190150751577\t  0.045820483815\t  0.000001000000\t  0.003906250000\n",
      "   8\t  2.184214454248\t  2.144330267761\t  0.039884186487\t  0.000001000000\t  0.000976562500\n",
      "   9\t -1.345433122578\t  2.184214454248\t  3.529647576827\t  0.000001000000\t  0.250000000000\n",
      "  10\t -1.543732623398\t -1.345433122578\t  0.198299500820\t  0.000001000000\t  1.000000000000\n",
      "  11\t -1.525273698993\t -1.543732623398\t  0.018458924405\t  0.000001000000\t  1.000000000000\n",
      "  12\t -1.525102269531\t -1.525273698993\t  0.000171429463\t  0.000001000000\t  1.000000000000\n",
      "  13\t -1.525102254814\t -1.525102269531\t  0.000000014716\t  0.000001000000\t  1.000000000000\n",
      "x = -1.5251022548143207\n",
      "  0.060621 seconds (64.15 k allocations: 3.626 MiB, 97.42% compilation time)\n",
      "iter\t           x_i+1\t             x_i\t               ϵ\t              ϵ0\n",
      "   0\t  9.000000000000\t  0.000000000000\t  9.000000000000\t  0.000001000000\n",
      "   1\t  6.414893617021\t  9.000000000000\t  2.585106382979\t  0.000001000000\n",
      "   2\t  4.710445904878\t  6.414893617021\t  1.704447712143\t  0.000001000000\n",
      "   3\t  3.578035159891\t  4.710445904878\t  1.132410744987\t  0.000001000000\n",
      "   4\t  2.773572572887\t  3.578035159891\t  0.804462587003\t  0.000001000000\n",
      "   5\t  1.948696199575\t  2.773572572887\t  0.824876373313\t  0.000001000000\n",
      "   6\t  4.301956062265\t  1.948696199575\t  2.353259862690\t  0.000001000000\n",
      "   7\t  3.299017003429\t  4.301956062265\t  1.002939058836\t  0.000001000000\n",
      "   8\t  2.543702562457\t  3.299017003429\t  0.755314440972\t  0.000001000000\n",
      "   9\t  1.431031436944\t  2.543702562457\t  1.112671125513\t  0.000001000000\n",
      "  10\t  2.696327896394\t  1.431031436944\t  1.265296459450\t  0.000001000000\n",
      "  11\t  1.812173585116\t  2.696327896394\t  0.884154311279\t  0.000001000000\n",
      "  12\t  3.438515828601\t  1.812173585116\t  1.626342243486\t  0.000001000000\n",
      "  13\t  2.662002533800\t  3.438515828601\t  0.776513294801\t  0.000001000000\n",
      "  14\t  1.742225615233\t  2.662002533800\t  0.919776918567\t  0.000001000000\n",
      "  15\t  3.207732279234\t  1.742225615233\t  1.465506664002\t  0.000001000000\n",
      "  16\t  2.461210399405\t  3.207732279234\t  0.746521879829\t  0.000001000000\n",
      "  17\t  1.099677648115\t  2.461210399405\t  1.361532751290\t  0.000001000000\n",
      "  18\t  2.510762607426\t  1.099677648115\t  1.411084959311\t  0.000001000000\n",
      "  19\t  1.314813411140\t  2.510762607426\t  1.195949196286\t  0.000001000000\n",
      "  20\t  2.603596098260\t  1.314813411140\t  1.288782687120\t  0.000001000000\n",
      "  21\t  1.605013648613\t  2.603596098260\t  0.998582449647\t  0.000001000000\n",
      "  22\t  2.914995960765\t  1.605013648613\t  1.309982312152\t  0.000001000000\n",
      "  23\t  2.149073072207\t  2.914995960765\t  0.765922888558\t  0.000001000000\n",
      "  24\t 77.249766046625\t  2.149073072207\t 75.100692974419\t  0.000001000000\n",
      "  25\t 51.844493558871\t 77.249766046625\t 25.405272487755\t  0.000001000000\n",
      "  26\t 34.913046516362\t 51.844493558871\t 16.931447042508\t  0.000001000000\n",
      "  27\t 23.633197917977\t 34.913046516362\t 11.279848598385\t  0.000001000000\n",
      "  28\t 16.124260334558\t 23.633197917977\t  7.508937583419\t  0.000001000000\n",
      "  29\t 11.133162509323\t 16.124260334558\t  4.991097825235\t  0.000001000000\n",
      "  30\t  7.824582453409\t 11.133162509323\t  3.308580055914\t  0.000001000000\n",
      "  31\t  5.639601219960\t  7.824582453409\t  2.184981233449\t  0.000001000000\n",
      "  32\t  4.198259160805\t  5.639601219960\t  1.441342059155\t  0.000001000000\n",
      "  33\t  3.226927913858\t  4.198259160805\t  0.971331246947\t  0.000001000000\n",
      "  34\t  2.478962450856\t  3.226927913858\t  0.747965463002\t  0.000001000000\n",
      "  35\t  1.183434638399\t  2.478962450856\t  1.295527812457\t  0.000001000000\n",
      "  36\t  2.535668303519\t  1.183434638399\t  1.352233665120\t  0.000001000000\n",
      "  37\t  1.404270262955\t  2.535668303519\t  1.131398040563\t  0.000001000000\n",
      "  38\t  2.671898511501\t  1.404270262955\t  1.267628248546\t  0.000001000000\n",
      "  39\t  1.763094788513\t  2.671898511501\t  0.908803722988\t  0.000001000000\n",
      "  40\t  3.268595228270\t  1.763094788513\t  1.505500439757\t  0.000001000000\n",
      "  41\t  2.516731532712\t  3.268595228270\t  0.751863695558\t  0.000001000000\n",
      "  42\t  1.337215340768\t  2.516731532712\t  1.179516191943\t  0.000001000000\n",
      "  43\t  2.618895449779\t  1.337215340768\t  1.281680109010\t  0.000001000000\n",
      "  44\t  1.643545922445\t  2.618895449779\t  0.975349527334\t  0.000001000000\n",
      "  45\t  2.982541467672\t  1.643545922445\t  1.338995545227\t  0.000001000000\n",
      "  46\t  2.230154710015\t  2.982541467672\t  0.752386757657\t  0.000001000000\n",
      "  47\t -3.217645474799\t  2.230154710015\t  5.447800184814\t  0.000001000000\n",
      "  48\t -2.161137598139\t -3.217645474799\t  1.056507876660\t  0.000001000000\n",
      "  49\t -1.662875570521\t -2.161137598139\t  0.498262027618\t  0.000001000000\n",
      "  50\t -1.533729782922\t -1.662875570521\t  0.129145787599\t  0.000001000000\n",
      "  51\t -1.525139290875\t -1.533729782922\t  0.008590492047\t  0.000001000000\n",
      "  52\t -1.525102255501\t -1.525139290875\t  0.000037035374\t  0.000001000000\n",
      "  53\t -1.525102254814\t -1.525102255501\t  0.000000000687\t  0.000001000000\n",
      "x = -1.5251022548143205\n",
      "  0.003858 seconds (1.29 k allocations: 141.453 KiB)\n"
     ]
    }
   ],
   "source": [
    "# 下山法并不是只需要调整几次初值，但在局部的情况，比牛顿法直接算迭代次数更少，这是一个需要取舍的问题，以及，需要有预先对函数根的位置进行估计\n",
    "# Todo: 编写粗略计算根的位置的代码，计算区间，计算大致点\n",
    "@time println(\"x = $(NewtonDownHillMethod(f3,df3,0,1e-6))\")\n",
    "@time println(\"x = $(NewtonMethod(f3,df3,0,1e-6))\")"
   ]
  },
  {
   "cell_type": "code",
   "execution_count": 47,
   "metadata": {},
   "outputs": [
    {
     "name": "stdout",
     "output_type": "stream",
     "text": [
      "iter\t           x_i+1\t             x_i\t               ϵ\t              ϵ0\t               λ\n",
      "   0\t  1.347826086957\t  1.500000000000\t  0.152173913043\t  0.000001000000\t  1.000000000000\n",
      "   1\t  1.325200398951\t  1.347826086957\t  0.022625688006\t  0.000001000000\t  1.000000000000\n",
      "   2\t  1.324718173999\t  1.325200398951\t  0.000482224952\t  0.000001000000\t  1.000000000000\n",
      "   3\t  1.324717957245\t  1.324718173999\t  0.000000216754\t  0.000001000000\t  1.000000000000\n",
      "x = 1.3247179572447898\n",
      "  0.027300 seconds (40.53 k allocations: 2.321 MiB, 97.02% compilation time)\n",
      "iter\t           x_i+1\t             x_i\t               ϵ\t              ϵ0\t               λ\n",
      "   0\t  1.140625000000\t  0.600000000000\t  0.540625000000\t  0.000001000000\t  0.031250000000\n",
      "   1\t  1.366813661593\t  1.140625000000\t  0.226188661593\t  0.000001000000\t  1.000000000000\n",
      "   2\t  1.326279804008\t  1.366813661593\t  0.040533857584\t  0.000001000000\t  1.000000000000\n",
      "   3\t  1.324720225636\t  1.326279804008\t  0.001559578372\t  0.000001000000\t  1.000000000000\n",
      "   4\t  1.324717957250\t  1.324720225636\t  0.000002268387\t  0.000001000000\t  1.000000000000\n",
      "   5\t  1.324717957245\t  1.324717957250\t  0.000000000005\t  0.000001000000\t  1.000000000000\n",
      "x = 1.324717957244746\n",
      "  0.010815 seconds (588 allocations: 42.266 KiB, 88.90% compilation time)\n"
     ]
    }
   ],
   "source": [
    "@time println(\"x = $(NewtonDownHillMethod(f4,df4,1.5,1e-6))\")\n",
    "@time println(\"x = $(NewtonDownHillMethod(f4,df4,0.6,1e-6))\")"
   ]
  },
  {
   "cell_type": "markdown",
   "metadata": {},
   "source": [
    "### 割线法\n",
    "\n",
    "### 重根迭代法"
   ]
  },
  {
   "cell_type": "markdown",
   "metadata": {},
   "source": [
    "#### 牛顿法修正（已知重数r）\n",
    "\n",
    "#### 牛顿法修正（未知重数r）"
   ]
  },
  {
   "cell_type": "code",
   "execution_count": 48,
   "metadata": {},
   "outputs": [
    {
     "data": {
      "text/plain": [
       "NewtonMethod (generic function with 2 methods)"
      ]
     },
     "metadata": {},
     "output_type": "display_data"
    }
   ],
   "source": [
    "function NewtonMethod(f::Function, df::Function, x0, ϵ0, r)\n",
    "    x = x0\n",
    "    ϵ = NaN\n",
    "    i = 0\n",
    "    x_prev = NaN\n",
    "    # λ = 1\n",
    "    @printf(\"%4s\\t%16s\\t%16s\\t%16s\\t%16s\\n\", \"iter\",\"x_i+1\", \"x_i\",\"ϵ\",\"ϵ0\")\n",
    "    while true\n",
    "        x_prev = x\n",
    "        x = x - r * f(x) / df(x)\n",
    "        ϵ = abs(x - x_prev)\n",
    "        @printf(\"%4d\\t%16.12f\\t%16.12f\\t%16.12f\\t%16.12f\\n\", i, x, x_prev, ϵ, ϵ0)\n",
    "        if ϵ < ϵ0\n",
    "            break\n",
    "        end\n",
    "        i += 1\n",
    "    end\n",
    "    return x\n",
    "end"
   ]
  },
  {
   "cell_type": "code",
   "execution_count": 49,
   "metadata": {},
   "outputs": [
    {
     "data": {
      "image/png": "[encoded data removed]",
      "image/svg+xml": "<?xml version=\"1.0\" encoding=\"utf-8\"?>\n<svg xmlns=\"http://www.w3.org/2000/svg\" xmlns:xlink=\"http://www.w3.org/1999/xlink\" width=\"600\" height=\"400\" viewBox=\"0 0 2400 1600\">\n<defs>\n  <clipPath id=\"clip170\">\n    <rect x=\"0\" y=\"0\" width=\"2400\" height=\"1600\"/>\n  </clipPath>\n</defs>\n<path clip-path=\"url(#clip170)\" d=\"\nM0 1600 L2400 1600 L2400 0 L0 0  Z\n  \" fill=\"#ffffff\" fill-rule=\"evenodd\" fill-opacity=\"1\"/>\n<defs>\n  <clipPath id=\"clip171\">\n    <rect x=\"480\" y=\"0\" width=\"1681\" height=\"1600\"/>\n  </clipPath>\n</defs>\n<path clip-path=\"url(#clip170)\" d=\"\nM186.274 1486.45 L2352.76 1486.45 L2352.76 47.2441 L186.274 47.2441  Z\n  \" fill=\"#ffffff\" fill-rule=\"evenodd\" fill-opacity=\"1\"/>\n<defs>\n  <clipPath id=\"clip172\">\n    <rect x=\"186\" y=\"47\" width=\"2167\" height=\"1440\"/>\n  </clipPath>\n</defs>\n<polyline clip-path=\"url(#clip172)\" style=\"stroke:#000000; stroke-linecap:butt; stroke-linejoin:round; stroke-width:2; stroke-opacity:0.1; fill:none\" points=\"\n  247.59,1486.45 247.59,47.2441 \n  \"/>\n<polyline clip-path=\"url(#clip172)\" style=\"stroke:#000000; stroke-linecap:butt; stroke-linejoin:round; stroke-width:2; stroke-opacity:0.1; fill:none\" points=\"\n  656.36,1486.45 656.36,47.2441 \n  \"/>\n<polyline clip-path=\"url(#clip172)\" style=\"stroke:#000000; stroke-linecap:butt; stroke-linejoin:round; stroke-width:2; stroke-opacity:0.1; fill:none\" points=\"\n  1065.13,1486.45 1065.13,47.2441 \n  \"/>\n<polyline clip-path=\"url(#clip172)\" style=\"stroke:#000000; stroke-linecap:butt; stroke-linejoin:round; stroke-width:2; stroke-opacity:0.1; fill:none\" points=\"\n  1473.9,1486.45 1473.9,47.2441 \n  \"/>\n<polyline clip-path=\"url(#clip172)\" style=\"stroke:#000000; stroke-linecap:butt; stroke-linejoin:round; stroke-width:2; stroke-opacity:0.1; fill:none\" points=\"\n  1882.67,1486.45 1882.67,47.2441 \n  \"/>\n<polyline clip-path=\"url(#clip172)\" style=\"stroke:#000000; stroke-linecap:butt; stroke-linejoin:round; stroke-width:2; stroke-opacity:0.1; fill:none\" points=\"\n  2291.44,1486.45 2291.44,47.2441 \n  \"/>\n<polyline clip-path=\"url(#clip170)\" style=\"stroke:#000000; stroke-linecap:butt; stroke-linejoin:round; stroke-width:4; stroke-opacity:1; fill:none\" points=\"\n  186.274,1486.45 2352.76,1486.45 \n  \"/>\n<polyline clip-path=\"url(#clip170)\" style=\"stroke:#000000; stroke-linecap:butt; stroke-linejoin:round; stroke-width:4; stroke-opacity:1; fill:none\" points=\"\n  247.59,1486.45 247.59,1467.55 \n  \"/>\n<polyline clip-path=\"url(#clip170)\" style=\"stroke:#000000; stroke-linecap:butt; stroke-linejoin:round; stroke-width:4; stroke-opacity:1; fill:none\" points=\"\n  656.36,1486.45 656.36,1467.55 \n  \"/>\n<polyline clip-path=\"url(#clip170)\" style=\"stroke:#000000; stroke-linecap:butt; stroke-linejoin:round; stroke-width:4; stroke-opacity:1; fill:none\" points=\"\n  1065.13,1486.45 1065.13,1467.55 \n  \"/>\n<polyline clip-path=\"url(#clip170)\" style=\"stroke:#000000; stroke-linecap:butt; stroke-linejoin:round; stroke-width:4; stroke-opacity:1; fill:none\" points=\"\n  1473.9,1486.45 1473.9,1467.55 \n  \"/>\n<polyline clip-path=\"url(#clip170)\" style=\"stroke:#000000; stroke-linecap:butt; stroke-linejoin:round; stroke-width:4; stroke-opacity:1; fill:none\" points=\"\n  1882.67,1486.45 1882.67,1467.55 \n  \"/>\n<polyline clip-path=\"url(#clip170)\" style=\"stroke:#000000; stroke-linecap:butt; stroke-linejoin:round; stroke-width:4; stroke-opacity:1; fill:none\" points=\"\n  2291.44,1486.45 2291.44,1467.55 \n  \"/>\n<path clip-path=\"url(#clip170)\" d=\"M200.159 1544.91 L207.798 1544.91 L207.798 1518.55 L199.488 1520.21 L199.488 1515.95 L207.752 1514.29 L212.428 1514.29 L212.428 1544.91 L220.067 1544.91 L220.067 1548.85 L200.159 1548.85 L200.159 1544.91 Z\" fill=\"#000000\" fill-rule=\"evenodd\" fill-opacity=\"1\" /><path clip-path=\"url(#clip170)\" d=\"M229.511 1542.97 L234.395 1542.97 L234.395 1548.85 L229.511 1548.85 L229.511 1542.97 Z\" fill=\"#000000\" fill-rule=\"evenodd\" fill-opacity=\"1\" /><path clip-path=\"url(#clip170)\" d=\"M248.608 1544.91 L264.927 1544.91 L264.927 1548.85 L242.983 1548.85 L242.983 1544.91 Q245.645 1542.16 250.228 1537.53 Q254.835 1532.88 256.015 1531.53 Q258.261 1529.01 259.14 1527.27 Q260.043 1525.51 260.043 1523.82 Q260.043 1521.07 258.099 1519.33 Q256.177 1517.6 253.076 1517.6 Q250.877 1517.6 248.423 1518.36 Q245.992 1519.13 243.215 1520.68 L243.215 1515.95 Q246.039 1514.82 248.492 1514.24 Q250.946 1513.66 252.983 1513.66 Q258.353 1513.66 261.548 1516.35 Q264.742 1519.03 264.742 1523.52 Q264.742 1525.65 263.932 1527.57 Q263.145 1529.47 261.039 1532.07 Q260.46 1532.74 257.358 1535.95 Q254.256 1539.15 248.608 1544.91 Z\" fill=\"#000000\" fill-rule=\"evenodd\" fill-opacity=\"1\" /><path clip-path=\"url(#clip170)\" d=\"M274.788 1514.29 L293.145 1514.29 L293.145 1518.22 L279.071 1518.22 L279.071 1526.7 Q280.089 1526.35 281.108 1526.19 Q282.126 1526 283.145 1526 Q288.932 1526 292.312 1529.17 Q295.691 1532.34 295.691 1537.76 Q295.691 1543.34 292.219 1546.44 Q288.747 1549.52 282.427 1549.52 Q280.251 1549.52 277.983 1549.15 Q275.738 1548.78 273.33 1548.04 L273.33 1543.34 Q275.413 1544.47 277.636 1545.03 Q279.858 1545.58 282.335 1545.58 Q286.339 1545.58 288.677 1543.48 Q291.015 1541.37 291.015 1537.76 Q291.015 1534.15 288.677 1532.04 Q286.339 1529.94 282.335 1529.94 Q280.46 1529.94 278.585 1530.35 Q276.733 1530.77 274.788 1531.65 L274.788 1514.29 Z\" fill=\"#000000\" fill-rule=\"evenodd\" fill-opacity=\"1\" /><path clip-path=\"url(#clip170)\" d=\"M608.432 1544.91 L616.071 1544.91 L616.071 1518.55 L607.76 1520.21 L607.76 1515.95 L616.024 1514.29 L620.7 1514.29 L620.7 1544.91 L628.339 1544.91 L628.339 1548.85 L608.432 1548.85 L608.432 1544.91 Z\" fill=\"#000000\" fill-rule=\"evenodd\" fill-opacity=\"1\" /><path clip-path=\"url(#clip170)\" d=\"M637.783 1542.97 L642.668 1542.97 L642.668 1548.85 L637.783 1548.85 L637.783 1542.97 Z\" fill=\"#000000\" fill-rule=\"evenodd\" fill-opacity=\"1\" /><path clip-path=\"url(#clip170)\" d=\"M667.019 1530.21 Q670.376 1530.93 672.251 1533.2 Q674.149 1535.47 674.149 1538.8 Q674.149 1543.92 670.63 1546.72 Q667.112 1549.52 660.631 1549.52 Q658.455 1549.52 656.14 1549.08 Q653.848 1548.66 651.394 1547.81 L651.394 1543.29 Q653.339 1544.43 655.654 1545.01 Q657.968 1545.58 660.492 1545.58 Q664.89 1545.58 667.181 1543.85 Q669.496 1542.11 669.496 1538.8 Q669.496 1535.75 667.343 1534.03 Q665.214 1532.3 661.394 1532.3 L657.367 1532.3 L657.367 1528.45 L661.58 1528.45 Q665.029 1528.45 666.857 1527.09 Q668.686 1525.7 668.686 1523.11 Q668.686 1520.45 666.788 1519.03 Q664.913 1517.6 661.394 1517.6 Q659.473 1517.6 657.274 1518.01 Q655.075 1518.43 652.436 1519.31 L652.436 1515.14 Q655.098 1514.4 657.413 1514.03 Q659.751 1513.66 661.811 1513.66 Q667.135 1513.66 670.237 1516.09 Q673.339 1518.5 673.339 1522.62 Q673.339 1525.49 671.695 1527.48 Q670.052 1529.45 667.019 1530.21 Z\" fill=\"#000000\" fill-rule=\"evenodd\" fill-opacity=\"1\" /><path clip-path=\"url(#clip170)\" d=\"M693.015 1517.37 Q689.404 1517.37 687.575 1520.93 Q685.769 1524.47 685.769 1531.6 Q685.769 1538.71 687.575 1542.27 Q689.404 1545.82 693.015 1545.82 Q696.649 1545.82 698.454 1542.27 Q700.283 1538.71 700.283 1531.6 Q700.283 1524.47 698.454 1520.93 Q696.649 1517.37 693.015 1517.37 M693.015 1513.66 Q698.825 1513.66 701.88 1518.27 Q704.959 1522.85 704.959 1531.6 Q704.959 1540.33 701.88 1544.94 Q698.825 1549.52 693.015 1549.52 Q687.204 1549.52 684.126 1544.94 Q681.07 1540.33 681.07 1531.6 Q681.07 1522.85 684.126 1518.27 Q687.204 1513.66 693.015 1513.66 Z\" fill=\"#000000\" fill-rule=\"evenodd\" fill-opacity=\"1\" /><path clip-path=\"url(#clip170)\" d=\"M1017.7 1544.91 L1025.34 1544.91 L1025.34 1518.55 L1017.03 1520.21 L1017.03 1515.95 L1025.29 1514.29 L1029.97 1514.29 L1029.97 1544.91 L1037.61 1544.91 L1037.61 1548.85 L1017.7 1548.85 L1017.7 1544.91 Z\" fill=\"#000000\" fill-rule=\"evenodd\" fill-opacity=\"1\" /><path clip-path=\"url(#clip170)\" d=\"M1047.05 1542.97 L1051.94 1542.97 L1051.94 1548.85 L1047.05 1548.85 L1047.05 1542.97 Z\" fill=\"#000000\" fill-rule=\"evenodd\" fill-opacity=\"1\" /><path clip-path=\"url(#clip170)\" d=\"M1076.29 1530.21 Q1079.64 1530.93 1081.52 1533.2 Q1083.42 1535.47 1083.42 1538.8 Q1083.42 1543.92 1079.9 1546.72 Q1076.38 1549.52 1069.9 1549.52 Q1067.72 1549.52 1065.41 1549.08 Q1063.12 1548.66 1060.66 1547.81 L1060.66 1543.29 Q1062.61 1544.43 1064.92 1545.01 Q1067.24 1545.58 1069.76 1545.58 Q1074.16 1545.58 1076.45 1543.85 Q1078.76 1542.11 1078.76 1538.8 Q1078.76 1535.75 1076.61 1534.03 Q1074.48 1532.3 1070.66 1532.3 L1066.63 1532.3 L1066.63 1528.45 L1070.85 1528.45 Q1074.3 1528.45 1076.13 1527.09 Q1077.95 1525.7 1077.95 1523.11 Q1077.95 1520.45 1076.06 1519.03 Q1074.18 1517.6 1070.66 1517.6 Q1068.74 1517.6 1066.54 1518.01 Q1064.34 1518.43 1061.7 1519.31 L1061.7 1515.14 Q1064.37 1514.4 1066.68 1514.03 Q1069.02 1513.66 1071.08 1513.66 Q1076.4 1513.66 1079.5 1516.09 Q1082.61 1518.5 1082.61 1522.62 Q1082.61 1525.49 1080.96 1527.48 Q1079.32 1529.45 1076.29 1530.21 Z\" fill=\"#000000\" fill-rule=\"evenodd\" fill-opacity=\"1\" /><path clip-path=\"url(#clip170)\" d=\"M1092.33 1514.29 L1110.69 1514.29 L1110.69 1518.22 L1096.61 1518.22 L1096.61 1526.7 Q1097.63 1526.35 1098.65 1526.19 Q1099.67 1526 1100.69 1526 Q1106.47 1526 1109.85 1529.17 Q1113.23 1532.34 1113.23 1537.76 Q1113.23 1543.34 1109.76 1546.44 Q1106.29 1549.52 1099.97 1549.52 Q1097.79 1549.52 1095.52 1549.15 Q1093.28 1548.78 1090.87 1548.04 L1090.87 1543.34 Q1092.95 1544.47 1095.18 1545.03 Q1097.4 1545.58 1099.88 1545.58 Q1103.88 1545.58 1106.22 1543.48 Q1108.56 1541.37 1108.56 1537.76 Q1108.56 1534.15 1106.22 1532.04 Q1103.88 1529.94 1099.88 1529.94 Q1098 1529.94 1096.13 1530.35 Q1094.27 1530.77 1092.33 1531.65 L1092.33 1514.29 Z\" fill=\"#000000\" fill-rule=\"evenodd\" fill-opacity=\"1\" /><path clip-path=\"url(#clip170)\" d=\"M1425.97 1544.91 L1433.61 1544.91 L1433.61 1518.55 L1425.3 1520.21 L1425.3 1515.95 L1433.56 1514.29 L1438.24 1514.29 L1438.24 1544.91 L1445.88 1544.91 L1445.88 1548.85 L1425.97 1548.85 L1425.97 1544.91 Z\" fill=\"#000000\" fill-rule=\"evenodd\" fill-opacity=\"1\" /><path clip-path=\"url(#clip170)\" d=\"M1455.32 1542.97 L1460.21 1542.97 L1460.21 1548.85 L1455.32 1548.85 L1455.32 1542.97 Z\" fill=\"#000000\" fill-rule=\"evenodd\" fill-opacity=\"1\" /><path clip-path=\"url(#clip170)\" d=\"M1483.24 1518.36 L1471.43 1536.81 L1483.24 1536.81 L1483.24 1518.36 M1482.01 1514.29 L1487.89 1514.29 L1487.89 1536.81 L1492.82 1536.81 L1492.82 1540.7 L1487.89 1540.7 L1487.89 1548.85 L1483.24 1548.85 L1483.24 1540.7 L1467.64 1540.7 L1467.64 1536.19 L1482.01 1514.29 Z\" fill=\"#000000\" fill-rule=\"evenodd\" fill-opacity=\"1\" /><path clip-path=\"url(#clip170)\" d=\"M1510.55 1517.37 Q1506.94 1517.37 1505.12 1520.93 Q1503.31 1524.47 1503.31 1531.6 Q1503.31 1538.71 1505.12 1542.27 Q1506.94 1545.82 1510.55 1545.82 Q1514.19 1545.82 1515.99 1542.27 Q1517.82 1538.71 1517.82 1531.6 Q1517.82 1524.47 1515.99 1520.93 Q1514.19 1517.37 1510.55 1517.37 M1510.55 1513.66 Q1516.37 1513.66 1519.42 1518.27 Q1522.5 1522.85 1522.5 1531.6 Q1522.5 1540.33 1519.42 1544.94 Q1516.37 1549.52 1510.55 1549.52 Q1504.74 1549.52 1501.67 1544.94 Q1498.61 1540.33 1498.61 1531.6 Q1498.61 1522.85 1501.67 1518.27 Q1504.74 1513.66 1510.55 1513.66 Z\" fill=\"#000000\" fill-rule=\"evenodd\" fill-opacity=\"1\" /><path clip-path=\"url(#clip170)\" d=\"M1835.24 1544.91 L1842.88 1544.91 L1842.88 1518.55 L1834.57 1520.21 L1834.57 1515.95 L1842.83 1514.29 L1847.51 1514.29 L1847.51 1544.91 L1855.15 1544.91 L1855.15 1548.85 L1835.24 1548.85 L1835.24 1544.91 Z\" fill=\"#000000\" fill-rule=\"evenodd\" fill-opacity=\"1\" /><path clip-path=\"url(#clip170)\" d=\"M1864.59 1542.97 L1869.48 1542.97 L1869.48 1548.85 L1864.59 1548.85 L1864.59 1542.97 Z\" fill=\"#000000\" fill-rule=\"evenodd\" fill-opacity=\"1\" /><path clip-path=\"url(#clip170)\" d=\"M1892.51 1518.36 L1880.7 1536.81 L1892.51 1536.81 L1892.51 1518.36 M1891.28 1514.29 L1897.16 1514.29 L1897.16 1536.81 L1902.09 1536.81 L1902.09 1540.7 L1897.16 1540.7 L1897.16 1548.85 L1892.51 1548.85 L1892.51 1540.7 L1876.91 1540.7 L1876.91 1536.19 L1891.28 1514.29 Z\" fill=\"#000000\" fill-rule=\"evenodd\" fill-opacity=\"1\" /><path clip-path=\"url(#clip170)\" d=\"M1909.87 1514.29 L1928.23 1514.29 L1928.23 1518.22 L1914.15 1518.22 L1914.15 1526.7 Q1915.17 1526.35 1916.19 1526.19 Q1917.21 1526 1918.23 1526 Q1924.01 1526 1927.39 1529.17 Q1930.77 1532.34 1930.77 1537.76 Q1930.77 1543.34 1927.3 1546.44 Q1923.83 1549.52 1917.51 1549.52 Q1915.33 1549.52 1913.06 1549.15 Q1910.82 1548.78 1908.41 1548.04 L1908.41 1543.34 Q1910.49 1544.47 1912.72 1545.03 Q1914.94 1545.58 1917.42 1545.58 Q1921.42 1545.58 1923.76 1543.48 Q1926.1 1541.37 1926.1 1537.76 Q1926.1 1534.15 1923.76 1532.04 Q1921.42 1529.94 1917.42 1529.94 Q1915.54 1529.94 1913.67 1530.35 Q1911.81 1530.77 1909.87 1531.65 L1909.87 1514.29 Z\" fill=\"#000000\" fill-rule=\"evenodd\" fill-opacity=\"1\" /><path clip-path=\"url(#clip170)\" d=\"M2243.51 1544.91 L2251.15 1544.91 L2251.15 1518.55 L2242.84 1520.21 L2242.84 1515.95 L2251.1 1514.29 L2255.78 1514.29 L2255.78 1544.91 L2263.42 1544.91 L2263.42 1548.85 L2243.51 1548.85 L2243.51 1544.91 Z\" fill=\"#000000\" fill-rule=\"evenodd\" fill-opacity=\"1\" /><path clip-path=\"url(#clip170)\" d=\"M2272.86 1542.97 L2277.75 1542.97 L2277.75 1548.85 L2272.86 1548.85 L2272.86 1542.97 Z\" fill=\"#000000\" fill-rule=\"evenodd\" fill-opacity=\"1\" /><path clip-path=\"url(#clip170)\" d=\"M2287.98 1514.29 L2306.34 1514.29 L2306.34 1518.22 L2292.26 1518.22 L2292.26 1526.7 Q2293.28 1526.35 2294.3 1526.19 Q2295.32 1526 2296.34 1526 Q2302.12 1526 2305.5 1529.17 Q2308.88 1532.34 2308.88 1537.76 Q2308.88 1543.34 2305.41 1546.44 Q2301.94 1549.52 2295.62 1549.52 Q2293.44 1549.52 2291.17 1549.15 Q2288.93 1548.78 2286.52 1548.04 L2286.52 1543.34 Q2288.6 1544.47 2290.83 1545.03 Q2293.05 1545.58 2295.53 1545.58 Q2299.53 1545.58 2301.87 1543.48 Q2304.21 1541.37 2304.21 1537.76 Q2304.21 1534.15 2301.87 1532.04 Q2299.53 1529.94 2295.53 1529.94 Q2293.65 1529.94 2291.78 1530.35 Q2289.92 1530.77 2287.98 1531.65 L2287.98 1514.29 Z\" fill=\"#000000\" fill-rule=\"evenodd\" fill-opacity=\"1\" /><path clip-path=\"url(#clip170)\" d=\"M2328.1 1517.37 Q2324.48 1517.37 2322.66 1520.93 Q2320.85 1524.47 2320.85 1531.6 Q2320.85 1538.71 2322.66 1542.27 Q2324.48 1545.82 2328.1 1545.82 Q2331.73 1545.82 2333.54 1542.27 Q2335.36 1538.71 2335.36 1531.6 Q2335.36 1524.47 2333.54 1520.93 Q2331.73 1517.37 2328.1 1517.37 M2328.1 1513.66 Q2333.91 1513.66 2336.96 1518.27 Q2340.04 1522.85 2340.04 1531.6 Q2340.04 1540.33 2336.96 1544.94 Q2333.91 1549.52 2328.1 1549.52 Q2322.29 1549.52 2319.21 1544.94 Q2316.15 1540.33 2316.15 1531.6 Q2316.15 1522.85 2319.21 1518.27 Q2322.29 1513.66 2328.1 1513.66 Z\" fill=\"#000000\" fill-rule=\"evenodd\" fill-opacity=\"1\" /><polyline clip-path=\"url(#clip172)\" style=\"stroke:#000000; stroke-linecap:butt; stroke-linejoin:round; stroke-width:2; stroke-opacity:0.1; fill:none\" points=\"\n  186.274,1445.95 2352.76,1445.95 \n  \"/>\n<polyline clip-path=\"url(#clip172)\" style=\"stroke:#000000; stroke-linecap:butt; stroke-linejoin:round; stroke-width:2; stroke-opacity:0.1; fill:none\" points=\"\n  186.274,1091.21 2352.76,1091.21 \n  \"/>\n<polyline clip-path=\"url(#clip172)\" style=\"stroke:#000000; stroke-linecap:butt; stroke-linejoin:round; stroke-width:2; stroke-opacity:0.1; fill:none\" points=\"\n  186.274,736.478 2352.76,736.478 \n  \"/>\n<polyline clip-path=\"url(#clip172)\" style=\"stroke:#000000; stroke-linecap:butt; stroke-linejoin:round; stroke-width:2; stroke-opacity:0.1; fill:none\" points=\"\n  186.274,381.742 2352.76,381.742 \n  \"/>\n<polyline clip-path=\"url(#clip170)\" style=\"stroke:#000000; stroke-linecap:butt; stroke-linejoin:round; stroke-width:4; stroke-opacity:1; fill:none\" points=\"\n  186.274,1486.45 186.274,47.2441 \n  \"/>\n<polyline clip-path=\"url(#clip170)\" style=\"stroke:#000000; stroke-linecap:butt; stroke-linejoin:round; stroke-width:4; stroke-opacity:1; fill:none\" points=\"\n  186.274,1445.95 205.172,1445.95 \n  \"/>\n<polyline clip-path=\"url(#clip170)\" style=\"stroke:#000000; stroke-linecap:butt; stroke-linejoin:round; stroke-width:4; stroke-opacity:1; fill:none\" points=\"\n  186.274,1091.21 205.172,1091.21 \n  \"/>\n<polyline clip-path=\"url(#clip170)\" style=\"stroke:#000000; stroke-linecap:butt; stroke-linejoin:round; stroke-width:4; stroke-opacity:1; fill:none\" points=\"\n  186.274,736.478 205.172,736.478 \n  \"/>\n<polyline clip-path=\"url(#clip170)\" style=\"stroke:#000000; stroke-linecap:butt; stroke-linejoin:round; stroke-width:4; stroke-opacity:1; fill:none\" points=\"\n  186.274,381.742 205.172,381.742 \n  \"/>\n<path clip-path=\"url(#clip170)\" d=\"M62.9365 1431.75 Q59.3254 1431.75 57.4967 1435.31 Q55.6912 1438.85 55.6912 1445.98 Q55.6912 1453.09 57.4967 1456.66 Q59.3254 1460.2 62.9365 1460.2 Q66.5707 1460.2 68.3763 1456.66 Q70.205 1453.09 70.205 1445.98 Q70.205 1438.85 68.3763 1435.31 Q66.5707 1431.75 62.9365 1431.75 M62.9365 1428.04 Q68.7467 1428.04 71.8022 1432.65 Q74.8809 1437.23 74.8809 1445.98 Q74.8809 1454.71 71.8022 1459.32 Q68.7467 1463.9 62.9365 1463.9 Q57.1264 1463.9 54.0477 1459.32 Q50.9921 1454.71 50.9921 1445.98 Q50.9921 1437.23 54.0477 1432.65 Q57.1264 1428.04 62.9365 1428.04 Z\" fill=\"#000000\" fill-rule=\"evenodd\" fill-opacity=\"1\" /><path clip-path=\"url(#clip170)\" d=\"M83.0984 1457.35 L87.9827 1457.35 L87.9827 1463.23 L83.0984 1463.23 L83.0984 1457.35 Z\" fill=\"#000000\" fill-rule=\"evenodd\" fill-opacity=\"1\" /><path clip-path=\"url(#clip170)\" d=\"M108.168 1431.75 Q104.557 1431.75 102.728 1435.31 Q100.922 1438.85 100.922 1445.98 Q100.922 1453.09 102.728 1456.66 Q104.557 1460.2 108.168 1460.2 Q111.802 1460.2 113.608 1456.66 Q115.436 1453.09 115.436 1445.98 Q115.436 1438.85 113.608 1435.31 Q111.802 1431.75 108.168 1431.75 M108.168 1428.04 Q113.978 1428.04 117.033 1432.65 Q120.112 1437.23 120.112 1445.98 Q120.112 1454.71 117.033 1459.32 Q113.978 1463.9 108.168 1463.9 Q102.358 1463.9 99.2789 1459.32 Q96.2234 1454.71 96.2234 1445.98 Q96.2234 1437.23 99.2789 1432.65 Q102.358 1428.04 108.168 1428.04 Z\" fill=\"#000000\" fill-rule=\"evenodd\" fill-opacity=\"1\" /><path clip-path=\"url(#clip170)\" d=\"M138.33 1431.75 Q134.719 1431.75 132.89 1435.31 Q131.084 1438.85 131.084 1445.98 Q131.084 1453.09 132.89 1456.66 Q134.719 1460.2 138.33 1460.2 Q141.964 1460.2 143.769 1456.66 Q145.598 1453.09 145.598 1445.98 Q145.598 1438.85 143.769 1435.31 Q141.964 1431.75 138.33 1431.75 M138.33 1428.04 Q144.14 1428.04 147.195 1432.65 Q150.274 1437.23 150.274 1445.98 Q150.274 1454.71 147.195 1459.32 Q144.14 1463.9 138.33 1463.9 Q132.519 1463.9 129.441 1459.32 Q126.385 1454.71 126.385 1445.98 Q126.385 1437.23 129.441 1432.65 Q132.519 1428.04 138.33 1428.04 Z\" fill=\"#000000\" fill-rule=\"evenodd\" fill-opacity=\"1\" /><path clip-path=\"url(#clip170)\" d=\"M63.9319 1077.01 Q60.3208 1077.01 58.4921 1080.58 Q56.6865 1084.12 56.6865 1091.25 Q56.6865 1098.35 58.4921 1101.92 Q60.3208 1105.46 63.9319 1105.46 Q67.5661 1105.46 69.3717 1101.92 Q71.2004 1098.35 71.2004 1091.25 Q71.2004 1084.12 69.3717 1080.58 Q67.5661 1077.01 63.9319 1077.01 M63.9319 1073.31 Q69.742 1073.31 72.7976 1077.91 Q75.8763 1082.5 75.8763 1091.25 Q75.8763 1099.97 72.7976 1104.58 Q69.742 1109.16 63.9319 1109.16 Q58.1217 1109.16 55.043 1104.58 Q51.9875 1099.97 51.9875 1091.25 Q51.9875 1082.5 55.043 1077.91 Q58.1217 1073.31 63.9319 1073.31 Z\" fill=\"#000000\" fill-rule=\"evenodd\" fill-opacity=\"1\" /><path clip-path=\"url(#clip170)\" d=\"M84.0938 1102.61 L88.978 1102.61 L88.978 1108.49 L84.0938 1108.49 L84.0938 1102.61 Z\" fill=\"#000000\" fill-rule=\"evenodd\" fill-opacity=\"1\" /><path clip-path=\"url(#clip170)\" d=\"M109.163 1077.01 Q105.552 1077.01 103.723 1080.58 Q101.918 1084.12 101.918 1091.25 Q101.918 1098.35 103.723 1101.92 Q105.552 1105.46 109.163 1105.46 Q112.797 1105.46 114.603 1101.92 Q116.432 1098.35 116.432 1091.25 Q116.432 1084.12 114.603 1080.58 Q112.797 1077.01 109.163 1077.01 M109.163 1073.31 Q114.973 1073.31 118.029 1077.91 Q121.107 1082.5 121.107 1091.25 Q121.107 1099.97 118.029 1104.58 Q114.973 1109.16 109.163 1109.16 Q103.353 1109.16 100.274 1104.58 Q97.2187 1099.97 97.2187 1091.25 Q97.2187 1082.5 100.274 1077.91 Q103.353 1073.31 109.163 1073.31 Z\" fill=\"#000000\" fill-rule=\"evenodd\" fill-opacity=\"1\" /><path clip-path=\"url(#clip170)\" d=\"M129.371 1073.93 L147.728 1073.93 L147.728 1077.87 L133.654 1077.87 L133.654 1086.34 Q134.672 1085.99 135.691 1085.83 Q136.709 1085.65 137.728 1085.65 Q143.515 1085.65 146.894 1088.82 Q150.274 1091.99 150.274 1097.41 Q150.274 1102.98 146.802 1106.09 Q143.33 1109.16 137.01 1109.16 Q134.834 1109.16 132.566 1108.79 Q130.32 1108.42 127.913 1107.68 L127.913 1102.98 Q129.996 1104.12 132.219 1104.67 Q134.441 1105.23 136.918 1105.23 Q140.922 1105.23 143.26 1103.12 Q145.598 1101.02 145.598 1097.41 Q145.598 1093.79 143.26 1091.69 Q140.922 1089.58 136.918 1089.58 Q135.043 1089.58 133.168 1090 Q131.316 1090.41 129.371 1091.29 L129.371 1073.93 Z\" fill=\"#000000\" fill-rule=\"evenodd\" fill-opacity=\"1\" /><path clip-path=\"url(#clip170)\" d=\"M62.9365 722.276 Q59.3254 722.276 57.4967 725.841 Q55.6912 729.383 55.6912 736.512 Q55.6912 743.619 57.4967 747.184 Q59.3254 750.725 62.9365 750.725 Q66.5707 750.725 68.3763 747.184 Q70.205 743.619 70.205 736.512 Q70.205 729.383 68.3763 725.841 Q66.5707 722.276 62.9365 722.276 M62.9365 718.573 Q68.7467 718.573 71.8022 723.179 Q74.8809 727.762 74.8809 736.512 Q74.8809 745.239 71.8022 749.846 Q68.7467 754.429 62.9365 754.429 Q57.1264 754.429 54.0477 749.846 Q50.9921 745.239 50.9921 736.512 Q50.9921 727.762 54.0477 723.179 Q57.1264 718.573 62.9365 718.573 Z\" fill=\"#000000\" fill-rule=\"evenodd\" fill-opacity=\"1\" /><path clip-path=\"url(#clip170)\" d=\"M83.0984 747.878 L87.9827 747.878 L87.9827 753.758 L83.0984 753.758 L83.0984 747.878 Z\" fill=\"#000000\" fill-rule=\"evenodd\" fill-opacity=\"1\" /><path clip-path=\"url(#clip170)\" d=\"M98.978 749.822 L106.617 749.822 L106.617 723.457 L98.3067 725.123 L98.3067 720.864 L106.571 719.198 L111.246 719.198 L111.246 749.822 L118.885 749.822 L118.885 753.758 L98.978 753.758 L98.978 749.822 Z\" fill=\"#000000\" fill-rule=\"evenodd\" fill-opacity=\"1\" /><path clip-path=\"url(#clip170)\" d=\"M138.33 722.276 Q134.719 722.276 132.89 725.841 Q131.084 729.383 131.084 736.512 Q131.084 743.619 132.89 747.184 Q134.719 750.725 138.33 750.725 Q141.964 750.725 143.769 747.184 Q145.598 743.619 145.598 736.512 Q145.598 729.383 143.769 725.841 Q141.964 722.276 138.33 722.276 M138.33 718.573 Q144.14 718.573 147.195 723.179 Q150.274 727.762 150.274 736.512 Q150.274 745.239 147.195 749.846 Q144.14 754.429 138.33 754.429 Q132.519 754.429 129.441 749.846 Q126.385 745.239 126.385 736.512 Q126.385 727.762 129.441 723.179 Q132.519 718.573 138.33 718.573 Z\" fill=\"#000000\" fill-rule=\"evenodd\" fill-opacity=\"1\" /><path clip-path=\"url(#clip170)\" d=\"M63.9319 367.541 Q60.3208 367.541 58.4921 371.105 Q56.6865 374.647 56.6865 381.777 Q56.6865 388.883 58.4921 392.448 Q60.3208 395.989 63.9319 395.989 Q67.5661 395.989 69.3717 392.448 Q71.2004 388.883 71.2004 381.777 Q71.2004 374.647 69.3717 371.105 Q67.5661 367.541 63.9319 367.541 M63.9319 363.837 Q69.742 363.837 72.7976 368.443 Q75.8763 373.027 75.8763 381.777 Q75.8763 390.503 72.7976 395.11 Q69.742 399.693 63.9319 399.693 Q58.1217 399.693 55.043 395.11 Q51.9875 390.503 51.9875 381.777 Q51.9875 373.027 55.043 368.443 Q58.1217 363.837 63.9319 363.837 Z\" fill=\"#000000\" fill-rule=\"evenodd\" fill-opacity=\"1\" /><path clip-path=\"url(#clip170)\" d=\"M84.0938 393.142 L88.978 393.142 L88.978 399.022 L84.0938 399.022 L84.0938 393.142 Z\" fill=\"#000000\" fill-rule=\"evenodd\" fill-opacity=\"1\" /><path clip-path=\"url(#clip170)\" d=\"M99.9733 395.087 L107.612 395.087 L107.612 368.721 L99.3021 370.388 L99.3021 366.128 L107.566 364.462 L112.242 364.462 L112.242 395.087 L119.881 395.087 L119.881 399.022 L99.9733 399.022 L99.9733 395.087 Z\" fill=\"#000000\" fill-rule=\"evenodd\" fill-opacity=\"1\" /><path clip-path=\"url(#clip170)\" d=\"M129.371 364.462 L147.728 364.462 L147.728 368.397 L133.654 368.397 L133.654 376.869 Q134.672 376.522 135.691 376.36 Q136.709 376.175 137.728 376.175 Q143.515 376.175 146.894 379.346 Q150.274 382.517 150.274 387.934 Q150.274 393.513 146.802 396.614 Q143.33 399.693 137.01 399.693 Q134.834 399.693 132.566 399.323 Q130.32 398.952 127.913 398.212 L127.913 393.513 Q129.996 394.647 132.219 395.202 Q134.441 395.758 136.918 395.758 Q140.922 395.758 143.26 393.651 Q145.598 391.545 145.598 387.934 Q145.598 384.323 143.26 382.216 Q140.922 380.11 136.918 380.11 Q135.043 380.11 133.168 380.527 Q131.316 380.943 129.371 381.823 L129.371 364.462 Z\" fill=\"#000000\" fill-rule=\"evenodd\" fill-opacity=\"1\" /><polyline clip-path=\"url(#clip172)\" style=\"stroke:#009af9; stroke-linecap:butt; stroke-linejoin:round; stroke-width:4; stroke-opacity:1; fill:none\" points=\"\n  247.59,87.9763 267.549,125.639 452.107,451.797 563.019,627.948 656.793,764.753 758.658,900.361 852.569,1013.02 953.251,1120.24 1069.9,1226.37 1173.57,1303.87 \n  1264.47,1358.42 1363.58,1403.23 1463.28,1432.44 1518.4,1441.61 1573.51,1445.72 1625.95,1444.85 1678.39,1439.28 1732.92,1428.41 1787.45,1412.31 1833.35,1394.64 \n  1879.25,1373.17 1935.28,1341.72 1991.32,1304.46 2044,1264.06 2096.68,1218.38 2181.07,1134.02 2265.46,1035.66 2278.45,1019.27 2291.44,1002.53 \n  \"/>\n<path clip-path=\"url(#clip170)\" d=\"\nM1987.39 198.898 L2280.54 198.898 L2280.54 95.2176 L1987.39 95.2176  Z\n  \" fill=\"#ffffff\" fill-rule=\"evenodd\" fill-opacity=\"1\"/>\n<polyline clip-path=\"url(#clip170)\" style=\"stroke:#000000; stroke-linecap:butt; stroke-linejoin:round; stroke-width:4; stroke-opacity:1; fill:none\" points=\"\n  1987.39,198.898 2280.54,198.898 2280.54,95.2176 1987.39,95.2176 1987.39,198.898 \n  \"/>\n<polyline clip-path=\"url(#clip170)\" style=\"stroke:#009af9; stroke-linecap:butt; stroke-linejoin:round; stroke-width:4; stroke-opacity:1; fill:none\" points=\"\n  2011.46,147.058 2155.89,147.058 \n  \"/>\n<path clip-path=\"url(#clip170)\" d=\"M2193.81 166.745 Q2192 171.375 2190.29 172.787 Q2188.58 174.199 2185.71 174.199 L2182.3 174.199 L2182.3 170.634 L2184.8 170.634 Q2186.56 170.634 2187.53 169.8 Q2188.51 168.967 2189.69 165.865 L2190.45 163.921 L2179.97 138.412 L2184.48 138.412 L2192.58 158.689 L2200.68 138.412 L2205.2 138.412 L2193.81 166.745 Z\" fill=\"#000000\" fill-rule=\"evenodd\" fill-opacity=\"1\" /><path clip-path=\"url(#clip170)\" d=\"M2212.49 160.402 L2220.13 160.402 L2220.13 134.037 L2211.82 135.703 L2211.82 131.444 L2220.08 129.778 L2224.76 129.778 L2224.76 160.402 L2232.4 160.402 L2232.4 164.338 L2212.49 164.338 L2212.49 160.402 Z\" fill=\"#000000\" fill-rule=\"evenodd\" fill-opacity=\"1\" /></svg>\n",
      "text/html": [
       "<?xml version=\"1.0\" encoding=\"utf-8\"?>\n",
       "<svg xmlns=\"http://www.w3.org/2000/svg\" xmlns:xlink=\"http://www.w3.org/1999/xlink\" width=\"600\" height=\"400\" viewBox=\"0 0 2400 1600\">\n",
       "<defs>\n",
       "  <clipPath id=\"clip220\">\n",
       "    <rect x=\"0\" y=\"0\" width=\"2400\" height=\"1600\"/>\n",
       "  </clipPath>\n",
       "</defs>\n",
       "<path clip-path=\"url(#clip220)\" d=\"\n",
       "M0 1600 L2400 1600 L2400 0 L0 0  Z\n",
       "  \" fill=\"#ffffff\" fill-rule=\"evenodd\" fill-opacity=\"1\"/>\n",
       "<defs>\n",
       "  <clipPath id=\"clip221\">\n",
       "    <rect x=\"480\" y=\"0\" width=\"1681\" height=\"1600\"/>\n",
       "  </clipPath>\n",
       "</defs>\n",
       "<path clip-path=\"url(#clip220)\" d=\"\n",
       "M186.274 1486.45 L2352.76 1486.45 L2352.76 47.2441 L186.274 47.2441  Z\n",
       "  \" fill=\"#ffffff\" fill-rule=\"evenodd\" fill-opacity=\"1\"/>\n",
       "<defs>\n",
       "  <clipPath id=\"clip222\">\n",
       "    <rect x=\"186\" y=\"47\" width=\"2167\" height=\"1440\"/>\n",
       "  </clipPath>\n",
       "</defs>\n",
       "<polyline clip-path=\"url(#clip222)\" style=\"stroke:#000000; stroke-linecap:butt; stroke-linejoin:round; stroke-width:2; stroke-opacity:0.1; fill:none\" points=\"\n",
       "  247.59,1486.45 247.59,47.2441 \n",
       "  \"/>\n",
       "<polyline clip-path=\"url(#clip222)\" style=\"stroke:#000000; stroke-linecap:butt; stroke-linejoin:round; stroke-width:2; stroke-opacity:0.1; fill:none\" points=\"\n",
       "  656.36,1486.45 656.36,47.2441 \n",
       "  \"/>\n",
       "<polyline clip-path=\"url(#clip222)\" style=\"stroke:#000000; stroke-linecap:butt; stroke-linejoin:round; stroke-width:2; stroke-opacity:0.1; fill:none\" points=\"\n",
       "  1065.13,1486.45 1065.13,47.2441 \n",
       "  \"/>\n",
       "<polyline clip-path=\"url(#clip222)\" style=\"stroke:#000000; stroke-linecap:butt; stroke-linejoin:round; stroke-width:2; stroke-opacity:0.1; fill:none\" points=\"\n",
       "  1473.9,1486.45 1473.9,47.2441 \n",
       "  \"/>\n",
       "<polyline clip-path=\"url(#clip222)\" style=\"stroke:#000000; stroke-linecap:butt; stroke-linejoin:round; stroke-width:2; stroke-opacity:0.1; fill:none\" points=\"\n",
       "  1882.67,1486.45 1882.67,47.2441 \n",
       "  \"/>\n",
       "<polyline clip-path=\"url(#clip222)\" style=\"stroke:#000000; stroke-linecap:butt; stroke-linejoin:round; stroke-width:2; stroke-opacity:0.1; fill:none\" points=\"\n",
       "  2291.44,1486.45 2291.44,47.2441 \n",
       "  \"/>\n",
       "<polyline clip-path=\"url(#clip220)\" style=\"stroke:#000000; stroke-linecap:butt; stroke-linejoin:round; stroke-width:4; stroke-opacity:1; fill:none\" points=\"\n",
       "  186.274,1486.45 2352.76,1486.45 \n",
       "  \"/>\n",
       "<polyline clip-path=\"url(#clip220)\" style=\"stroke:#000000; stroke-linecap:butt; stroke-linejoin:round; stroke-width:4; stroke-opacity:1; fill:none\" points=\"\n",
       "  247.59,1486.45 247.59,1467.55 \n",
       "  \"/>\n",
       "<polyline clip-path=\"url(#clip220)\" style=\"stroke:#000000; stroke-linecap:butt; stroke-linejoin:round; stroke-width:4; stroke-opacity:1; fill:none\" points=\"\n",
       "  656.36,1486.45 656.36,1467.55 \n",
       "  \"/>\n",
       "<polyline clip-path=\"url(#clip220)\" style=\"stroke:#000000; stroke-linecap:butt; stroke-linejoin:round; stroke-width:4; stroke-opacity:1; fill:none\" points=\"\n",
       "  1065.13,1486.45 1065.13,1467.55 \n",
       "  \"/>\n",
       "<polyline clip-path=\"url(#clip220)\" style=\"stroke:#000000; stroke-linecap:butt; stroke-linejoin:round; stroke-width:4; stroke-opacity:1; fill:none\" points=\"\n",
       "  1473.9,1486.45 1473.9,1467.55 \n",
       "  \"/>\n",
       "<polyline clip-path=\"url(#clip220)\" style=\"stroke:#000000; stroke-linecap:butt; stroke-linejoin:round; stroke-width:4; stroke-opacity:1; fill:none\" points=\"\n",
       "  1882.67,1486.45 1882.67,1467.55 \n",
       "  \"/>\n",
       "<polyline clip-path=\"url(#clip220)\" style=\"stroke:#000000; stroke-linecap:butt; stroke-linejoin:round; stroke-width:4; stroke-opacity:1; fill:none\" points=\"\n",
       "  2291.44,1486.45 2291.44,1467.55 \n",
       "  \"/>\n",
       "<path clip-path=\"url(#clip220)\" d=\"M200.159 1544.91 L207.798 1544.91 L207.798 1518.55 L199.488 1520.21 L199.488 1515.95 L207.752 1514.29 L212.428 1514.29 L212.428 1544.91 L220.067 1544.91 L220.067 1548.85 L200.159 1548.85 L200.159 1544.91 Z\" fill=\"#000000\" fill-rule=\"evenodd\" fill-opacity=\"1\" /><path clip-path=\"url(#clip220)\" d=\"M229.511 1542.97 L234.395 1542.97 L234.395 1548.85 L229.511 1548.85 L229.511 1542.97 Z\" fill=\"#000000\" fill-rule=\"evenodd\" fill-opacity=\"1\" /><path clip-path=\"url(#clip220)\" d=\"M248.608 1544.91 L264.927 1544.91 L264.927 1548.85 L242.983 1548.85 L242.983 1544.91 Q245.645 1542.16 250.228 1537.53 Q254.835 1532.88 256.015 1531.53 Q258.261 1529.01 259.14 1527.27 Q260.043 1525.51 260.043 1523.82 Q260.043 1521.07 258.099 1519.33 Q256.177 1517.6 253.076 1517.6 Q250.877 1517.6 248.423 1518.36 Q245.992 1519.13 243.215 1520.68 L243.215 1515.95 Q246.039 1514.82 248.492 1514.24 Q250.946 1513.66 252.983 1513.66 Q258.353 1513.66 261.548 1516.35 Q264.742 1519.03 264.742 1523.52 Q264.742 1525.65 263.932 1527.57 Q263.145 1529.47 261.039 1532.07 Q260.46 1532.74 257.358 1535.95 Q254.256 1539.15 248.608 1544.91 Z\" fill=\"#000000\" fill-rule=\"evenodd\" fill-opacity=\"1\" /><path clip-path=\"url(#clip220)\" d=\"M274.788 1514.29 L293.145 1514.29 L293.145 1518.22 L279.071 1518.22 L279.071 1526.7 Q280.089 1526.35 281.108 1526.19 Q282.126 1526 283.145 1526 Q288.932 1526 292.312 1529.17 Q295.691 1532.34 295.691 1537.76 Q295.691 1543.34 292.219 1546.44 Q288.747 1549.52 282.427 1549.52 Q280.251 1549.52 277.983 1549.15 Q275.738 1548.78 273.33 1548.04 L273.33 1543.34 Q275.413 1544.47 277.636 1545.03 Q279.858 1545.58 282.335 1545.58 Q286.339 1545.58 288.677 1543.48 Q291.015 1541.37 291.015 1537.76 Q291.015 1534.15 288.677 1532.04 Q286.339 1529.94 282.335 1529.94 Q280.46 1529.94 278.585 1530.35 Q276.733 1530.77 274.788 1531.65 L274.788 1514.29 Z\" fill=\"#000000\" fill-rule=\"evenodd\" fill-opacity=\"1\" /><path clip-path=\"url(#clip220)\" d=\"M608.432 1544.91 L616.071 1544.91 L616.071 1518.55 L607.76 1520.21 L607.76 1515.95 L616.024 1514.29 L620.7 1514.29 L620.7 1544.91 L628.339 1544.91 L628.339 1548.85 L608.432 1548.85 L608.432 1544.91 Z\" fill=\"#000000\" fill-rule=\"evenodd\" fill-opacity=\"1\" /><path clip-path=\"url(#clip220)\" d=\"M637.783 1542.97 L642.668 1542.97 L642.668 1548.85 L637.783 1548.85 L637.783 1542.97 Z\" fill=\"#000000\" fill-rule=\"evenodd\" fill-opacity=\"1\" /><path clip-path=\"url(#clip220)\" d=\"M667.019 1530.21 Q670.376 1530.93 672.251 1533.2 Q674.149 1535.47 674.149 1538.8 Q674.149 1543.92 670.63 1546.72 Q667.112 1549.52 660.631 1549.52 Q658.455 1549.52 656.14 1549.08 Q653.848 1548.66 651.394 1547.81 L651.394 1543.29 Q653.339 1544.43 655.654 1545.01 Q657.968 1545.58 660.492 1545.58 Q664.89 1545.58 667.181 1543.85 Q669.496 1542.11 669.496 1538.8 Q669.496 1535.75 667.343 1534.03 Q665.214 1532.3 661.394 1532.3 L657.367 1532.3 L657.367 1528.45 L661.58 1528.45 Q665.029 1528.45 666.857 1527.09 Q668.686 1525.7 668.686 1523.11 Q668.686 1520.45 666.788 1519.03 Q664.913 1517.6 661.394 1517.6 Q659.473 1517.6 657.274 1518.01 Q655.075 1518.43 652.436 1519.31 L652.436 1515.14 Q655.098 1514.4 657.413 1514.03 Q659.751 1513.66 661.811 1513.66 Q667.135 1513.66 670.237 1516.09 Q673.339 1518.5 673.339 1522.62 Q673.339 1525.49 671.695 1527.48 Q670.052 1529.45 667.019 1530.21 Z\" fill=\"#000000\" fill-rule=\"evenodd\" fill-opacity=\"1\" /><path clip-path=\"url(#clip220)\" d=\"M693.015 1517.37 Q689.404 1517.37 687.575 1520.93 Q685.769 1524.47 685.769 1531.6 Q685.769 1538.71 687.575 1542.27 Q689.404 1545.82 693.015 1545.82 Q696.649 1545.82 698.454 1542.27 Q700.283 1538.71 700.283 1531.6 Q700.283 1524.47 698.454 1520.93 Q696.649 1517.37 693.015 1517.37 M693.015 1513.66 Q698.825 1513.66 701.88 1518.27 Q704.959 1522.85 704.959 1531.6 Q704.959 1540.33 701.88 1544.94 Q698.825 1549.52 693.015 1549.52 Q687.204 1549.52 684.126 1544.94 Q681.07 1540.33 681.07 1531.6 Q681.07 1522.85 684.126 1518.27 Q687.204 1513.66 693.015 1513.66 Z\" fill=\"#000000\" fill-rule=\"evenodd\" fill-opacity=\"1\" /><path clip-path=\"url(#clip220)\" d=\"M1017.7 1544.91 L1025.34 1544.91 L1025.34 1518.55 L1017.03 1520.21 L1017.03 1515.95 L1025.29 1514.29 L1029.97 1514.29 L1029.97 1544.91 L1037.61 1544.91 L1037.61 1548.85 L1017.7 1548.85 L1017.7 1544.91 Z\" fill=\"#000000\" fill-rule=\"evenodd\" fill-opacity=\"1\" /><path clip-path=\"url(#clip220)\" d=\"M1047.05 1542.97 L1051.94 1542.97 L1051.94 1548.85 L1047.05 1548.85 L1047.05 1542.97 Z\" fill=\"#000000\" fill-rule=\"evenodd\" fill-opacity=\"1\" /><path clip-path=\"url(#clip220)\" d=\"M1076.29 1530.21 Q1079.64 1530.93 1081.52 1533.2 Q1083.42 1535.47 1083.42 1538.8 Q1083.42 1543.92 1079.9 1546.72 Q1076.38 1549.52 1069.9 1549.52 Q1067.72 1549.52 1065.41 1549.08 Q1063.12 1548.66 1060.66 1547.81 L1060.66 1543.29 Q1062.61 1544.43 1064.92 1545.01 Q1067.24 1545.58 1069.76 1545.58 Q1074.16 1545.58 1076.45 1543.85 Q1078.76 1542.11 1078.76 1538.8 Q1078.76 1535.75 1076.61 1534.03 Q1074.48 1532.3 1070.66 1532.3 L1066.63 1532.3 L1066.63 1528.45 L1070.85 1528.45 Q1074.3 1528.45 1076.13 1527.09 Q1077.95 1525.7 1077.95 1523.11 Q1077.95 1520.45 1076.06 1519.03 Q1074.18 1517.6 1070.66 1517.6 Q1068.74 1517.6 1066.54 1518.01 Q1064.34 1518.43 1061.7 1519.31 L1061.7 1515.14 Q1064.37 1514.4 1066.68 1514.03 Q1069.02 1513.66 1071.08 1513.66 Q1076.4 1513.66 1079.5 1516.09 Q1082.61 1518.5 1082.61 1522.62 Q1082.61 1525.49 1080.96 1527.48 Q1079.32 1529.45 1076.29 1530.21 Z\" fill=\"#000000\" fill-rule=\"evenodd\" fill-opacity=\"1\" /><path clip-path=\"url(#clip220)\" d=\"M1092.33 1514.29 L1110.69 1514.29 L1110.69 1518.22 L1096.61 1518.22 L1096.61 1526.7 Q1097.63 1526.35 1098.65 1526.19 Q1099.67 1526 1100.69 1526 Q1106.47 1526 1109.85 1529.17 Q1113.23 1532.34 1113.23 1537.76 Q1113.23 1543.34 1109.76 1546.44 Q1106.29 1549.52 1099.97 1549.52 Q1097.79 1549.52 1095.52 1549.15 Q1093.28 1548.78 1090.87 1548.04 L1090.87 1543.34 Q1092.95 1544.47 1095.18 1545.03 Q1097.4 1545.58 1099.88 1545.58 Q1103.88 1545.58 1106.22 1543.48 Q1108.56 1541.37 1108.56 1537.76 Q1108.56 1534.15 1106.22 1532.04 Q1103.88 1529.94 1099.88 1529.94 Q1098 1529.94 1096.13 1530.35 Q1094.27 1530.77 1092.33 1531.65 L1092.33 1514.29 Z\" fill=\"#000000\" fill-rule=\"evenodd\" fill-opacity=\"1\" /><path clip-path=\"url(#clip220)\" d=\"M1425.97 1544.91 L1433.61 1544.91 L1433.61 1518.55 L1425.3 1520.21 L1425.3 1515.95 L1433.56 1514.29 L1438.24 1514.29 L1438.24 1544.91 L1445.88 1544.91 L1445.88 1548.85 L1425.97 1548.85 L1425.97 1544.91 Z\" fill=\"#000000\" fill-rule=\"evenodd\" fill-opacity=\"1\" /><path clip-path=\"url(#clip220)\" d=\"M1455.32 1542.97 L1460.21 1542.97 L1460.21 1548.85 L1455.32 1548.85 L1455.32 1542.97 Z\" fill=\"#000000\" fill-rule=\"evenodd\" fill-opacity=\"1\" /><path clip-path=\"url(#clip220)\" d=\"M1483.24 1518.36 L1471.43 1536.81 L1483.24 1536.81 L1483.24 1518.36 M1482.01 1514.29 L1487.89 1514.29 L1487.89 1536.81 L1492.82 1536.81 L1492.82 1540.7 L1487.89 1540.7 L1487.89 1548.85 L1483.24 1548.85 L1483.24 1540.7 L1467.64 1540.7 L1467.64 1536.19 L1482.01 1514.29 Z\" fill=\"#000000\" fill-rule=\"evenodd\" fill-opacity=\"1\" /><path clip-path=\"url(#clip220)\" d=\"M1510.55 1517.37 Q1506.94 1517.37 1505.12 1520.93 Q1503.31 1524.47 1503.31 1531.6 Q1503.31 1538.71 1505.12 1542.27 Q1506.94 1545.82 1510.55 1545.82 Q1514.19 1545.82 1515.99 1542.27 Q1517.82 1538.71 1517.82 1531.6 Q1517.82 1524.47 1515.99 1520.93 Q1514.19 1517.37 1510.55 1517.37 M1510.55 1513.66 Q1516.37 1513.66 1519.42 1518.27 Q1522.5 1522.85 1522.5 1531.6 Q1522.5 1540.33 1519.42 1544.94 Q1516.37 1549.52 1510.55 1549.52 Q1504.74 1549.52 1501.67 1544.94 Q1498.61 1540.33 1498.61 1531.6 Q1498.61 1522.85 1501.67 1518.27 Q1504.74 1513.66 1510.55 1513.66 Z\" fill=\"#000000\" fill-rule=\"evenodd\" fill-opacity=\"1\" /><path clip-path=\"url(#clip220)\" d=\"M1835.24 1544.91 L1842.88 1544.91 L1842.88 1518.55 L1834.57 1520.21 L1834.57 1515.95 L1842.83 1514.29 L1847.51 1514.29 L1847.51 1544.91 L1855.15 1544.91 L1855.15 1548.85 L1835.24 1548.85 L1835.24 1544.91 Z\" fill=\"#000000\" fill-rule=\"evenodd\" fill-opacity=\"1\" /><path clip-path=\"url(#clip220)\" d=\"M1864.59 1542.97 L1869.48 1542.97 L1869.48 1548.85 L1864.59 1548.85 L1864.59 1542.97 Z\" fill=\"#000000\" fill-rule=\"evenodd\" fill-opacity=\"1\" /><path clip-path=\"url(#clip220)\" d=\"M1892.51 1518.36 L1880.7 1536.81 L1892.51 1536.81 L1892.51 1518.36 M1891.28 1514.29 L1897.16 1514.29 L1897.16 1536.81 L1902.09 1536.81 L1902.09 1540.7 L1897.16 1540.7 L1897.16 1548.85 L1892.51 1548.85 L1892.51 1540.7 L1876.91 1540.7 L1876.91 1536.19 L1891.28 1514.29 Z\" fill=\"#000000\" fill-rule=\"evenodd\" fill-opacity=\"1\" /><path clip-path=\"url(#clip220)\" d=\"M1909.87 1514.29 L1928.23 1514.29 L1928.23 1518.22 L1914.15 1518.22 L1914.15 1526.7 Q1915.17 1526.35 1916.19 1526.19 Q1917.21 1526 1918.23 1526 Q1924.01 1526 1927.39 1529.17 Q1930.77 1532.34 1930.77 1537.76 Q1930.77 1543.34 1927.3 1546.44 Q1923.83 1549.52 1917.51 1549.52 Q1915.33 1549.52 1913.06 1549.15 Q1910.82 1548.78 1908.41 1548.04 L1908.41 1543.34 Q1910.49 1544.47 1912.72 1545.03 Q1914.94 1545.58 1917.42 1545.58 Q1921.42 1545.58 1923.76 1543.48 Q1926.1 1541.37 1926.1 1537.76 Q1926.1 1534.15 1923.76 1532.04 Q1921.42 1529.94 1917.42 1529.94 Q1915.54 1529.94 1913.67 1530.35 Q1911.81 1530.77 1909.87 1531.65 L1909.87 1514.29 Z\" fill=\"#000000\" fill-rule=\"evenodd\" fill-opacity=\"1\" /><path clip-path=\"url(#clip220)\" d=\"M2243.51 1544.91 L2251.15 1544.91 L2251.15 1518.55 L2242.84 1520.21 L2242.84 1515.95 L2251.1 1514.29 L2255.78 1514.29 L2255.78 1544.91 L2263.42 1544.91 L2263.42 1548.85 L2243.51 1548.85 L2243.51 1544.91 Z\" fill=\"#000000\" fill-rule=\"evenodd\" fill-opacity=\"1\" /><path clip-path=\"url(#clip220)\" d=\"M2272.86 1542.97 L2277.75 1542.97 L2277.75 1548.85 L2272.86 1548.85 L2272.86 1542.97 Z\" fill=\"#000000\" fill-rule=\"evenodd\" fill-opacity=\"1\" /><path clip-path=\"url(#clip220)\" d=\"M2287.98 1514.29 L2306.34 1514.29 L2306.34 1518.22 L2292.26 1518.22 L2292.26 1526.7 Q2293.28 1526.35 2294.3 1526.19 Q2295.32 1526 2296.34 1526 Q2302.12 1526 2305.5 1529.17 Q2308.88 1532.34 2308.88 1537.76 Q2308.88 1543.34 2305.41 1546.44 Q2301.94 1549.52 2295.62 1549.52 Q2293.44 1549.52 2291.17 1549.15 Q2288.93 1548.78 2286.52 1548.04 L2286.52 1543.34 Q2288.6 1544.47 2290.83 1545.03 Q2293.05 1545.58 2295.53 1545.58 Q2299.53 1545.58 2301.87 1543.48 Q2304.21 1541.37 2304.21 1537.76 Q2304.21 1534.15 2301.87 1532.04 Q2299.53 1529.94 2295.53 1529.94 Q2293.65 1529.94 2291.78 1530.35 Q2289.92 1530.77 2287.98 1531.65 L2287.98 1514.29 Z\" fill=\"#000000\" fill-rule=\"evenodd\" fill-opacity=\"1\" /><path clip-path=\"url(#clip220)\" d=\"M2328.1 1517.37 Q2324.48 1517.37 2322.66 1520.93 Q2320.85 1524.47 2320.85 1531.6 Q2320.85 1538.71 2322.66 1542.27 Q2324.48 1545.82 2328.1 1545.82 Q2331.73 1545.82 2333.54 1542.27 Q2335.36 1538.71 2335.36 1531.6 Q2335.36 1524.47 2333.54 1520.93 Q2331.73 1517.37 2328.1 1517.37 M2328.1 1513.66 Q2333.91 1513.66 2336.96 1518.27 Q2340.04 1522.85 2340.04 1531.6 Q2340.04 1540.33 2336.96 1544.94 Q2333.91 1549.52 2328.1 1549.52 Q2322.29 1549.52 2319.21 1544.94 Q2316.15 1540.33 2316.15 1531.6 Q2316.15 1522.85 2319.21 1518.27 Q2322.29 1513.66 2328.1 1513.66 Z\" fill=\"#000000\" fill-rule=\"evenodd\" fill-opacity=\"1\" /><polyline clip-path=\"url(#clip222)\" style=\"stroke:#000000; stroke-linecap:butt; stroke-linejoin:round; stroke-width:2; stroke-opacity:0.1; fill:none\" points=\"\n",
       "  186.274,1445.95 2352.76,1445.95 \n",
       "  \"/>\n",
       "<polyline clip-path=\"url(#clip222)\" style=\"stroke:#000000; stroke-linecap:butt; stroke-linejoin:round; stroke-width:2; stroke-opacity:0.1; fill:none\" points=\"\n",
       "  186.274,1091.21 2352.76,1091.21 \n",
       "  \"/>\n",
       "<polyline clip-path=\"url(#clip222)\" style=\"stroke:#000000; stroke-linecap:butt; stroke-linejoin:round; stroke-width:2; stroke-opacity:0.1; fill:none\" points=\"\n",
       "  186.274,736.478 2352.76,736.478 \n",
       "  \"/>\n",
       "<polyline clip-path=\"url(#clip222)\" style=\"stroke:#000000; stroke-linecap:butt; stroke-linejoin:round; stroke-width:2; stroke-opacity:0.1; fill:none\" points=\"\n",
       "  186.274,381.742 2352.76,381.742 \n",
       "  \"/>\n",
       "<polyline clip-path=\"url(#clip220)\" style=\"stroke:#000000; stroke-linecap:butt; stroke-linejoin:round; stroke-width:4; stroke-opacity:1; fill:none\" points=\"\n",
       "  186.274,1486.45 186.274,47.2441 \n",
       "  \"/>\n",
       "<polyline clip-path=\"url(#clip220)\" style=\"stroke:#000000; stroke-linecap:butt; stroke-linejoin:round; stroke-width:4; stroke-opacity:1; fill:none\" points=\"\n",
       "  186.274,1445.95 205.172,1445.95 \n",
       "  \"/>\n",
       "<polyline clip-path=\"url(#clip220)\" style=\"stroke:#000000; stroke-linecap:butt; stroke-linejoin:round; stroke-width:4; stroke-opacity:1; fill:none\" points=\"\n",
       "  186.274,1091.21 205.172,1091.21 \n",
       "  \"/>\n",
       "<polyline clip-path=\"url(#clip220)\" style=\"stroke:#000000; stroke-linecap:butt; stroke-linejoin:round; stroke-width:4; stroke-opacity:1; fill:none\" points=\"\n",
       "  186.274,736.478 205.172,736.478 \n",
       "  \"/>\n",
       "<polyline clip-path=\"url(#clip220)\" style=\"stroke:#000000; stroke-linecap:butt; stroke-linejoin:round; stroke-width:4; stroke-opacity:1; fill:none\" points=\"\n",
       "  186.274,381.742 205.172,381.742 \n",
       "  \"/>\n",
       "<path clip-path=\"url(#clip220)\" d=\"M62.9365 1431.75 Q59.3254 1431.75 57.4967 1435.31 Q55.6912 1438.85 55.6912 1445.98 Q55.6912 1453.09 57.4967 1456.66 Q59.3254 1460.2 62.9365 1460.2 Q66.5707 1460.2 68.3763 1456.66 Q70.205 1453.09 70.205 1445.98 Q70.205 1438.85 68.3763 1435.31 Q66.5707 1431.75 62.9365 1431.75 M62.9365 1428.04 Q68.7467 1428.04 71.8022 1432.65 Q74.8809 1437.23 74.8809 1445.98 Q74.8809 1454.71 71.8022 1459.32 Q68.7467 1463.9 62.9365 1463.9 Q57.1264 1463.9 54.0477 1459.32 Q50.9921 1454.71 50.9921 1445.98 Q50.9921 1437.23 54.0477 1432.65 Q57.1264 1428.04 62.9365 1428.04 Z\" fill=\"#000000\" fill-rule=\"evenodd\" fill-opacity=\"1\" /><path clip-path=\"url(#clip220)\" d=\"M83.0984 1457.35 L87.9827 1457.35 L87.9827 1463.23 L83.0984 1463.23 L83.0984 1457.35 Z\" fill=\"#000000\" fill-rule=\"evenodd\" fill-opacity=\"1\" /><path clip-path=\"url(#clip220)\" d=\"M108.168 1431.75 Q104.557 1431.75 102.728 1435.31 Q100.922 1438.85 100.922 1445.98 Q100.922 1453.09 102.728 1456.66 Q104.557 1460.2 108.168 1460.2 Q111.802 1460.2 113.608 1456.66 Q115.436 1453.09 115.436 1445.98 Q115.436 1438.85 113.608 1435.31 Q111.802 1431.75 108.168 1431.75 M108.168 1428.04 Q113.978 1428.04 117.033 1432.65 Q120.112 1437.23 120.112 1445.98 Q120.112 1454.71 117.033 1459.32 Q113.978 1463.9 108.168 1463.9 Q102.358 1463.9 99.2789 1459.32 Q96.2234 1454.71 96.2234 1445.98 Q96.2234 1437.23 99.2789 1432.65 Q102.358 1428.04 108.168 1428.04 Z\" fill=\"#000000\" fill-rule=\"evenodd\" fill-opacity=\"1\" /><path clip-path=\"url(#clip220)\" d=\"M138.33 1431.75 Q134.719 1431.75 132.89 1435.31 Q131.084 1438.85 131.084 1445.98 Q131.084 1453.09 132.89 1456.66 Q134.719 1460.2 138.33 1460.2 Q141.964 1460.2 143.769 1456.66 Q145.598 1453.09 145.598 1445.98 Q145.598 1438.85 143.769 1435.31 Q141.964 1431.75 138.33 1431.75 M138.33 1428.04 Q144.14 1428.04 147.195 1432.65 Q150.274 1437.23 150.274 1445.98 Q150.274 1454.71 147.195 1459.32 Q144.14 1463.9 138.33 1463.9 Q132.519 1463.9 129.441 1459.32 Q126.385 1454.71 126.385 1445.98 Q126.385 1437.23 129.441 1432.65 Q132.519 1428.04 138.33 1428.04 Z\" fill=\"#000000\" fill-rule=\"evenodd\" fill-opacity=\"1\" /><path clip-path=\"url(#clip220)\" d=\"M63.9319 1077.01 Q60.3208 1077.01 58.4921 1080.58 Q56.6865 1084.12 56.6865 1091.25 Q56.6865 1098.35 58.4921 1101.92 Q60.3208 1105.46 63.9319 1105.46 Q67.5661 1105.46 69.3717 1101.92 Q71.2004 1098.35 71.2004 1091.25 Q71.2004 1084.12 69.3717 1080.58 Q67.5661 1077.01 63.9319 1077.01 M63.9319 1073.31 Q69.742 1073.31 72.7976 1077.91 Q75.8763 1082.5 75.8763 1091.25 Q75.8763 1099.97 72.7976 1104.58 Q69.742 1109.16 63.9319 1109.16 Q58.1217 1109.16 55.043 1104.58 Q51.9875 1099.97 51.9875 1091.25 Q51.9875 1082.5 55.043 1077.91 Q58.1217 1073.31 63.9319 1073.31 Z\" fill=\"#000000\" fill-rule=\"evenodd\" fill-opacity=\"1\" /><path clip-path=\"url(#clip220)\" d=\"M84.0938 1102.61 L88.978 1102.61 L88.978 1108.49 L84.0938 1108.49 L84.0938 1102.61 Z\" fill=\"#000000\" fill-rule=\"evenodd\" fill-opacity=\"1\" /><path clip-path=\"url(#clip220)\" d=\"M109.163 1077.01 Q105.552 1077.01 103.723 1080.58 Q101.918 1084.12 101.918 1091.25 Q101.918 1098.35 103.723 1101.92 Q105.552 1105.46 109.163 1105.46 Q112.797 1105.46 114.603 1101.92 Q116.432 1098.35 116.432 1091.25 Q116.432 1084.12 114.603 1080.58 Q112.797 1077.01 109.163 1077.01 M109.163 1073.31 Q114.973 1073.31 118.029 1077.91 Q121.107 1082.5 121.107 1091.25 Q121.107 1099.97 118.029 1104.58 Q114.973 1109.16 109.163 1109.16 Q103.353 1109.16 100.274 1104.58 Q97.2187 1099.97 97.2187 1091.25 Q97.2187 1082.5 100.274 1077.91 Q103.353 1073.31 109.163 1073.31 Z\" fill=\"#000000\" fill-rule=\"evenodd\" fill-opacity=\"1\" /><path clip-path=\"url(#clip220)\" d=\"M129.371 1073.93 L147.728 1073.93 L147.728 1077.87 L133.654 1077.87 L133.654 1086.34 Q134.672 1085.99 135.691 1085.83 Q136.709 1085.65 137.728 1085.65 Q143.515 1085.65 146.894 1088.82 Q150.274 1091.99 150.274 1097.41 Q150.274 1102.98 146.802 1106.09 Q143.33 1109.16 137.01 1109.16 Q134.834 1109.16 132.566 1108.79 Q130.32 1108.42 127.913 1107.68 L127.913 1102.98 Q129.996 1104.12 132.219 1104.67 Q134.441 1105.23 136.918 1105.23 Q140.922 1105.23 143.26 1103.12 Q145.598 1101.02 145.598 1097.41 Q145.598 1093.79 143.26 1091.69 Q140.922 1089.58 136.918 1089.58 Q135.043 1089.58 133.168 1090 Q131.316 1090.41 129.371 1091.29 L129.371 1073.93 Z\" fill=\"#000000\" fill-rule=\"evenodd\" fill-opacity=\"1\" /><path clip-path=\"url(#clip220)\" d=\"M62.9365 722.276 Q59.3254 722.276 57.4967 725.841 Q55.6912 729.383 55.6912 736.512 Q55.6912 743.619 57.4967 747.184 Q59.3254 750.725 62.9365 750.725 Q66.5707 750.725 68.3763 747.184 Q70.205 743.619 70.205 736.512 Q70.205 729.383 68.3763 725.841 Q66.5707 722.276 62.9365 722.276 M62.9365 718.573 Q68.7467 718.573 71.8022 723.179 Q74.8809 727.762 74.8809 736.512 Q74.8809 745.239 71.8022 749.846 Q68.7467 754.429 62.9365 754.429 Q57.1264 754.429 54.0477 749.846 Q50.9921 745.239 50.9921 736.512 Q50.9921 727.762 54.0477 723.179 Q57.1264 718.573 62.9365 718.573 Z\" fill=\"#000000\" fill-rule=\"evenodd\" fill-opacity=\"1\" /><path clip-path=\"url(#clip220)\" d=\"M83.0984 747.878 L87.9827 747.878 L87.9827 753.758 L83.0984 753.758 L83.0984 747.878 Z\" fill=\"#000000\" fill-rule=\"evenodd\" fill-opacity=\"1\" /><path clip-path=\"url(#clip220)\" d=\"M98.978 749.822 L106.617 749.822 L106.617 723.457 L98.3067 725.123 L98.3067 720.864 L106.571 719.198 L111.246 719.198 L111.246 749.822 L118.885 749.822 L118.885 753.758 L98.978 753.758 L98.978 749.822 Z\" fill=\"#000000\" fill-rule=\"evenodd\" fill-opacity=\"1\" /><path clip-path=\"url(#clip220)\" d=\"M138.33 722.276 Q134.719 722.276 132.89 725.841 Q131.084 729.383 131.084 736.512 Q131.084 743.619 132.89 747.184 Q134.719 750.725 138.33 750.725 Q141.964 750.725 143.769 747.184 Q145.598 743.619 145.598 736.512 Q145.598 729.383 143.769 725.841 Q141.964 722.276 138.33 722.276 M138.33 718.573 Q144.14 718.573 147.195 723.179 Q150.274 727.762 150.274 736.512 Q150.274 745.239 147.195 749.846 Q144.14 754.429 138.33 754.429 Q132.519 754.429 129.441 749.846 Q126.385 745.239 126.385 736.512 Q126.385 727.762 129.441 723.179 Q132.519 718.573 138.33 718.573 Z\" fill=\"#000000\" fill-rule=\"evenodd\" fill-opacity=\"1\" /><path clip-path=\"url(#clip220)\" d=\"M63.9319 367.541 Q60.3208 367.541 58.4921 371.105 Q56.6865 374.647 56.6865 381.777 Q56.6865 388.883 58.4921 392.448 Q60.3208 395.989 63.9319 395.989 Q67.5661 395.989 69.3717 392.448 Q71.2004 388.883 71.2004 381.777 Q71.2004 374.647 69.3717 371.105 Q67.5661 367.541 63.9319 367.541 M63.9319 363.837 Q69.742 363.837 72.7976 368.443 Q75.8763 373.027 75.8763 381.777 Q75.8763 390.503 72.7976 395.11 Q69.742 399.693 63.9319 399.693 Q58.1217 399.693 55.043 395.11 Q51.9875 390.503 51.9875 381.777 Q51.9875 373.027 55.043 368.443 Q58.1217 363.837 63.9319 363.837 Z\" fill=\"#000000\" fill-rule=\"evenodd\" fill-opacity=\"1\" /><path clip-path=\"url(#clip220)\" d=\"M84.0938 393.142 L88.978 393.142 L88.978 399.022 L84.0938 399.022 L84.0938 393.142 Z\" fill=\"#000000\" fill-rule=\"evenodd\" fill-opacity=\"1\" /><path clip-path=\"url(#clip220)\" d=\"M99.9733 395.087 L107.612 395.087 L107.612 368.721 L99.3021 370.388 L99.3021 366.128 L107.566 364.462 L112.242 364.462 L112.242 395.087 L119.881 395.087 L119.881 399.022 L99.9733 399.022 L99.9733 395.087 Z\" fill=\"#000000\" fill-rule=\"evenodd\" fill-opacity=\"1\" /><path clip-path=\"url(#clip220)\" d=\"M129.371 364.462 L147.728 364.462 L147.728 368.397 L133.654 368.397 L133.654 376.869 Q134.672 376.522 135.691 376.36 Q136.709 376.175 137.728 376.175 Q143.515 376.175 146.894 379.346 Q150.274 382.517 150.274 387.934 Q150.274 393.513 146.802 396.614 Q143.33 399.693 137.01 399.693 Q134.834 399.693 132.566 399.323 Q130.32 398.952 127.913 398.212 L127.913 393.513 Q129.996 394.647 132.219 395.202 Q134.441 395.758 136.918 395.758 Q140.922 395.758 143.26 393.651 Q145.598 391.545 145.598 387.934 Q145.598 384.323 143.26 382.216 Q140.922 380.11 136.918 380.11 Q135.043 380.11 133.168 380.527 Q131.316 380.943 129.371 381.823 L129.371 364.462 Z\" fill=\"#000000\" fill-rule=\"evenodd\" fill-opacity=\"1\" /><polyline clip-path=\"url(#clip222)\" style=\"stroke:#009af9; stroke-linecap:butt; stroke-linejoin:round; stroke-width:4; stroke-opacity:1; fill:none\" points=\"\n",
       "  247.59,87.9763 267.549,125.639 452.107,451.797 563.019,627.948 656.793,764.753 758.658,900.361 852.569,1013.02 953.251,1120.24 1069.9,1226.37 1173.57,1303.87 \n",
       "  1264.47,1358.42 1363.58,1403.23 1463.28,1432.44 1518.4,1441.61 1573.51,1445.72 1625.95,1444.85 1678.39,1439.28 1732.92,1428.41 1787.45,1412.31 1833.35,1394.64 \n",
       "  1879.25,1373.17 1935.28,1341.72 1991.32,1304.46 2044,1264.06 2096.68,1218.38 2181.07,1134.02 2265.46,1035.66 2278.45,1019.27 2291.44,1002.53 \n",
       "  \"/>\n",
       "<path clip-path=\"url(#clip220)\" d=\"\n",
       "M1987.39 198.898 L2280.54 198.898 L2280.54 95.2176 L1987.39 95.2176  Z\n",
       "  \" fill=\"#ffffff\" fill-rule=\"evenodd\" fill-opacity=\"1\"/>\n",
       "<polyline clip-path=\"url(#clip220)\" style=\"stroke:#000000; stroke-linecap:butt; stroke-linejoin:round; stroke-width:4; stroke-opacity:1; fill:none\" points=\"\n",
       "  1987.39,198.898 2280.54,198.898 2280.54,95.2176 1987.39,95.2176 1987.39,198.898 \n",
       "  \"/>\n",
       "<polyline clip-path=\"url(#clip220)\" style=\"stroke:#009af9; stroke-linecap:butt; stroke-linejoin:round; stroke-width:4; stroke-opacity:1; fill:none\" points=\"\n",
       "  2011.46,147.058 2155.89,147.058 \n",
       "  \"/>\n",
       "<path clip-path=\"url(#clip220)\" d=\"M2193.81 166.745 Q2192 171.375 2190.29 172.787 Q2188.58 174.199 2185.71 174.199 L2182.3 174.199 L2182.3 170.634 L2184.8 170.634 Q2186.56 170.634 2187.53 169.8 Q2188.51 168.967 2189.69 165.865 L2190.45 163.921 L2179.97 138.412 L2184.48 138.412 L2192.58 158.689 L2200.68 138.412 L2205.2 138.412 L2193.81 166.745 Z\" fill=\"#000000\" fill-rule=\"evenodd\" fill-opacity=\"1\" /><path clip-path=\"url(#clip220)\" d=\"M2212.49 160.402 L2220.13 160.402 L2220.13 134.037 L2211.82 135.703 L2211.82 131.444 L2220.08 129.778 L2224.76 129.778 L2224.76 160.402 L2232.4 160.402 L2232.4 164.338 L2212.49 164.338 L2212.49 160.402 Z\" fill=\"#000000\" fill-rule=\"evenodd\" fill-opacity=\"1\" /></svg>\n"
      ]
     },
     "metadata": {},
     "output_type": "display_data"
    }
   ],
   "source": [
    "# println(\"x = $(NewtonDownHillMethod(f3,df3,0,1e-6))\")\n",
    "# println(\"x = $(NewtonMethod(f3,df3,0,1e-6))\")\n",
    "f5(x) = x^4 - 4x^2 + 4\n",
    "df5(x) = 4x^3 - 8x\n",
    "# plot(f5, -2, -1)\n",
    "plot(f5, 1.25, 1.5)"
   ]
  },
  {
   "cell_type": "code",
   "execution_count": 50,
   "metadata": {},
   "outputs": [
    {
     "name": "stdout",
     "output_type": "stream",
     "text": [
      "iter\t           x_i+1\t             x_i\t               ϵ\t              ϵ0\t               λ\n",
      "   0\t  1.458333333333\t  1.500000000000\t  0.041666666667\t  0.000000000010\t  1.000000000000\n",
      "   1\t  1.436607142857\t  1.458333333333\t  0.021726190476\t  0.000000000010\t  1.000000000000\n",
      "   2\t  1.425497619418\t  1.436607142857\t  0.011109523440\t  0.000000000010\t  1.000000000000\n",
      "   3\t  1.419877921684\t  1.425497619418\t  0.005619697734\t  0.000000000010\t  1.000000000000\n",
      "   4\t  1.417051391276\t  1.419877921684\t  0.002826530408\t  0.000000000010\t  1.000000000000\n",
      "   5\t  1.415633897604\t  1.417051391276\t  0.001417493671\t  0.000000000010\t  1.000000000000\n",
      "   6\t  1.414924086252\t  1.415633897604\t  0.000709811353\t  0.000000000010\t  1.000000000000\n",
      "   7\t  1.414568913512\t  1.414924086252\t  0.000355172739\t  0.000000000010\t  1.000000000000\n",
      "   8\t  1.414391260260\t  1.414568913512\t  0.000177653253\t  0.000000000010\t  1.000000000000\n",
      "   9\t  1.414302416898\t  1.414391260260\t  0.000088843362\t  0.000000000010\t  1.000000000000\n",
      "  10\t  1.414257991031\t  1.414302416898\t  0.000044425867\t  0.000000000010\t  1.000000000000\n",
      "  11\t  1.414235777051\t  1.414257991031\t  0.000022213980\t  0.000000000010\t  1.000000000000\n",
      "  12\t  1.414224669799\t  1.414235777051\t  0.000011107252\t  0.000000000010\t  1.000000000000\n",
      "  13\t  1.414219116113\t  1.414224669799\t  0.000005553686\t  0.000000000010\t  1.000000000000\n",
      "  14\t  1.414216339253\t  1.414219116113\t  0.000002776860\t  0.000000000010\t  1.000000000000\n",
      "  15\t  1.414214950819\t  1.414216339253\t  0.000001388434\t  0.000000000010\t  1.000000000000\n",
      "  16\t  1.414214256593\t  1.414214950819\t  0.000000694225\t  0.000000000010\t  1.000000000000\n",
      "  17\t  1.414213909479\t  1.414214256593\t  0.000000347114\t  0.000000000010\t  1.000000000000\n",
      "  18\t  1.414213735800\t  1.414213909479\t  0.000000173679\t  0.000000000010\t  1.000000000000\n",
      "  19\t  1.414213648737\t  1.414213735800\t  0.000000087063\t  0.000000000010\t  1.000000000000\n",
      "  20\t  1.414213605030\t  1.414213648737\t  0.000000043707\t  0.000000000010\t  1.000000000000\n",
      "  21\t  1.414213584208\t  1.414213605030\t  0.000000020822\t  0.000000000010\t  1.000000000000\n",
      "  22\t  1.414213574039\t  1.414213584208\t  0.000000010169\t  0.000000000010\t  1.000000000000\n",
      "  23\t  1.414213564522\t  1.414213574039\t  0.000000009517\t  0.000000000010\t  1.000000000000\n",
      "  24\t  1.414213567751\t  1.414213564522\t  0.000000003229\t  0.000000000010\t  0.125000000000\n",
      "  25\t  1.414213567751\t  1.414213567751\t  0.000000000000\t  0.000000000010\t  0.000976562500\n",
      "x = 1.4142135677509307\n",
      "  0.023859 seconds (1.90 k allocations: 142.594 KiB, 92.53% compilation time)\n"
     ]
    }
   ],
   "source": [
    "@time println(\"x = $(NewtonDownHillMethod(f5,df5,1.5,1e-11))\")"
   ]
  },
  {
   "cell_type": "code",
   "execution_count": 51,
   "metadata": {},
   "outputs": [
    {
     "name": "stdout",
     "output_type": "stream",
     "text": [
      "iter\t           x_i+1\t             x_i\t               ϵ\t              ϵ0\n",
      "   0\t  1.458333333333\t  1.500000000000\t  0.041666666667\t  0.000000000010\n",
      "   1\t  1.436607142857\t  1.458333333333\t  0.021726190476\t  0.000000000010\n",
      "   2\t  1.425497619418\t  1.436607142857\t  0.011109523440\t  0.000000000010\n",
      "   3\t  1.419877921684\t  1.425497619418\t  0.005619697734\t  0.000000000010\n",
      "   4\t  1.417051391276\t  1.419877921684\t  0.002826530408\t  0.000000000010\n",
      "   5\t  1.415633897604\t  1.417051391276\t  0.001417493671\t  0.000000000010\n",
      "   6\t  1.414924086252\t  1.415633897604\t  0.000709811353\t  0.000000000010\n",
      "   7\t  1.414568913512\t  1.414924086252\t  0.000355172739\t  0.000000000010\n",
      "   8\t  1.414391260260\t  1.414568913512\t  0.000177653253\t  0.000000000010\n",
      "   9\t  1.414302416898\t  1.414391260260\t  0.000088843362\t  0.000000000010\n",
      "  10\t  1.414257991031\t  1.414302416898\t  0.000044425867\t  0.000000000010\n",
      "  11\t  1.414235777051\t  1.414257991031\t  0.000022213980\t  0.000000000010\n",
      "  12\t  1.414224669799\t  1.414235777051\t  0.000011107252\t  0.000000000010\n",
      "  13\t  1.414219116113\t  1.414224669799\t  0.000005553686\t  0.000000000010\n",
      "  14\t  1.414216339253\t  1.414219116113\t  0.000002776860\t  0.000000000010\n",
      "  15\t  1.414214950819\t  1.414216339253\t  0.000001388434\t  0.000000000010\n",
      "  16\t  1.414214256593\t  1.414214950819\t  0.000000694225\t  0.000000000010\n",
      "  17\t  1.414213909479\t  1.414214256593\t  0.000000347114\t  0.000000000010\n",
      "  18\t  1.414213735800\t  1.414213909479\t  0.000000173679\t  0.000000000010\n",
      "  19\t  1.414213648737\t  1.414213735800\t  0.000000087063\t  0.000000000010\n",
      "  20\t  1.414213605030\t  1.414213648737\t  0.000000043707\t  0.000000000010\n",
      "  21\t  1.414213584208\t  1.414213605030\t  0.000000020822\t  0.000000000010\n",
      "  22\t  1.414213574039\t  1.414213584208\t  0.000000010169\t  0.000000000010\n",
      "  23\t  1.414213564522\t  1.414213574039\t  0.000000009517\t  0.000000000010\n",
      "  24\t  1.414213590352\t  1.414213564522\t  0.000000025830\t  0.000000000010\n",
      "  25\t  1.414213574480\t  1.414213590352\t  0.000000015872\t  0.000000000010\n",
      "  26\t  1.414213569894\t  1.414213574480\t  0.000000004585\t  0.000000000010\n",
      "  27\t  1.414213569894\t  1.414213569894\t  0.000000000000\t  0.000000000010\n",
      "x = 1.4142135698944427\n",
      "  0.001236 seconds (683 allocations: 74.531 KiB)\n"
     ]
    }
   ],
   "source": [
    "@time println(\"x = $(NewtonMethod(f5,df5,1.5,1e-11))\")"
   ]
  },
  {
   "cell_type": "code",
   "execution_count": 52,
   "metadata": {},
   "outputs": [
    {
     "name": "stdout",
     "output_type": "stream",
     "text": [
      "iter\t           x_i+1\t             x_i\t               ϵ\t              ϵ0\n",
      "   0\t  1.416666666667\t  1.500000000000\t  0.083333333333\t  0.000000000010\n",
      "   1\t  1.414215686274\t  1.416666666667\t  0.002450980392\t  0.000000000010\n",
      "   2\t  1.414213562435\t  1.414215686274\t  0.000002123840\t  0.000000000010\n",
      "   3\t  1.414215360669\t  1.414213562435\t  0.000001798234\t  0.000000000010\n",
      "   4\t  1.414213562383\t  1.414215360669\t  0.000001798286\t  0.000000000010\n",
      "   5\t  1.414224726462\t  1.414213562383\t  0.000011164078\t  0.000000000010\n",
      "   6\t  1.414213562427\t  1.414224726462\t  0.000011164035\t  0.000000000010\n",
      "   7\t  1.414213562427\t  1.414213562427\t  0.000000000000\t  0.000000000010\n",
      "x = 1.4142135624269483\n",
      "  0.000652 seconds (218 allocations: 23.234 KiB)\n"
     ]
    }
   ],
   "source": [
    "@time println(\"x = $(NewtonMethod(f5,df5,1.5,1e-11,2))\")"
   ]
  },
  {
   "cell_type": "markdown",
   "metadata": {},
   "source": [
    "### 使用 Julia 包求非线性方程数值解\n",
    "\n",
    "> [Julia Discourse](https://discourse.julialang.org/)\n",
    ">\n",
    "> [How to solve two symbolic nonlinear equations in Julia?](https://discourse.julialang.org/t/how-to-solve-two-symbolic-nonlinear-equations-in-julia/11916)\n",
    ">\n",
    "> [How to learn how to solve equations in Julia 1.0?](https://discourse.julialang.org/t/how-to-learn-how-to-solve-equations-in-julia-1-0/15738)\n",
    ">\n",
    "> [Juliahub - Solvers](https://docs.juliahub.com/SymPy/KzewI/1.0.28/Tutorial/solvers/)\n",
    "\n",
    "#### 在给定范围求解含根区间\n"
   ]
  },
  {
   "cell_type": "markdown",
   "metadata": {},
   "source": [
    "## 第二章 线性方程组的数值解法"
   ]
  },
  {
   "cell_type": "markdown",
   "metadata": {},
   "source": [
    "### 一些用于线性代数的基本语法\n",
    "\n",
    "#### for loop"
   ]
  },
  {
   "cell_type": "code",
   "execution_count": 53,
   "metadata": {},
   "outputs": [
    {
     "name": "stdout",
     "output_type": "stream",
     "text": [
      "\n",
      "(1,10)\t(1,11)\t(1,12)\t(1,13)\t(1,14)\t(1,15)\t(1,16)\t(1,17)\t(1,18)\t(1,19)\t(1,20)\t\n",
      "(2,10)\t(2,11)\t(2,12)\t(2,13)\t(2,14)\t(2,15)\t(2,16)\t(2,17)\t(2,18)\t(2,19)\t(2,20)\t\n",
      "(3,10)\t(3,11)\t(3,12)\t(3,13)\t(3,14)\t(3,15)\t(3,16)\t(3,17)\t(3,18)\t(3,19)\t(3,20)\t\n",
      "(4,10)\t(4,11)\t(4,12)\t(4,13)\t(4,14)\t(4,15)\t(4,16)\t(4,17)\t(4,18)\t(4,19)\t(4,20)\t\n",
      "(5,10)\t(5,11)\t(5,12)\t(5,13)\t(5,14)\t(5,15)\t(5,16)\t(5,17)\t(5,18)\t(5,19)\t(5,20)\t\n",
      "(6,10)\t(6,11)\t(6,12)\t(6,13)\t(6,14)\t(6,15)\t(6,16)\t(6,17)\t(6,18)\t(6,19)\t(6,20)\t\n",
      "(7,10)\t(7,11)\t(7,12)\t(7,13)\t(7,14)\t(7,15)\t(7,16)\t(7,17)\t(7,18)\t(7,19)\t(7,20)\t\n",
      "(8,10)\t(8,11)\t(8,12)\t(8,13)\t(8,14)\t(8,15)\t(8,16)\t(8,17)\t(8,18)\t(8,19)\t(8,20)\t\n",
      "(9,10)\t(9,11)\t(9,12)\t(9,13)\t(9,14)\t(9,15)\t(9,16)\t(9,17)\t(9,18)\t(9,19)\t(9,20)\t"
     ]
    }
   ],
   "source": [
    "for i in 1:9, j in 10:20\n",
    "    if j == 10\n",
    "        println()\n",
    "    end\n",
    "    print(\"($i,$j)\\t\")\n",
    "end"
   ]
  },
  {
   "cell_type": "markdown",
   "metadata": {},
   "source": [
    "#### Arrays, Vectors and Matrices"
   ]
  },
  {
   "cell_type": "markdown",
   "metadata": {},
   "source": [
    "> [Julia Tutorial (matecdev)](https://www.matecdev.com/posts/julia-numerical-arrays.html)\n",
    "> \n",
    "> [Julia Tutorial (mit-julia)](https://github.com/mitmath/julia-mit/blob/master/Tutorial.ipynb)\n",
    "\n",
    "\n",
    "Note that, `Arrays` can have arbitrary number of dimensions, `Matrix` must have 2 dims with column and row, `Vector` must be column-wise.\n"
   ]
  }
 ],
 "metadata": {
  "kernelspec": {
   "display_name": "Julia 1.7.2",
   "language": "julia",
   "name": "julia-1.7"
  },
  "language_info": {
   "file_extension": ".jl",
   "mimetype": "application/julia",
   "name": "julia",
   "version": "1.7.2"
  }
 },
 "nbformat": 4,
 "nbformat_minor": 4
}
